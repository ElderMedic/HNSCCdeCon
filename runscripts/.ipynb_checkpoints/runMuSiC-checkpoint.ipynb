{
 "cells": [
  {
   "cell_type": "code",
   "execution_count": 1,
   "id": "977faf56",
   "metadata": {
    "collapsed": true
   },
   "outputs": [
    {
     "name": "stderr",
     "output_type": "stream",
     "text": [
      "Loading required package: nnls\n",
      "\n",
      "Loading required package: ggplot2\n",
      "\n",
      "Loading required package: BiocGenerics\n",
      "\n",
      "\n",
      "Attaching package: ‘BiocGenerics’\n",
      "\n",
      "\n",
      "The following objects are masked from ‘package:stats’:\n",
      "\n",
      "    IQR, mad, sd, var, xtabs\n",
      "\n",
      "\n",
      "The following objects are masked from ‘package:base’:\n",
      "\n",
      "    anyDuplicated, append, as.data.frame, basename, cbind, colnames,\n",
      "    dirname, do.call, duplicated, eval, evalq, Filter, Find, get, grep,\n",
      "    grepl, intersect, is.unsorted, lapply, Map, mapply, match, mget,\n",
      "    order, paste, pmax, pmax.int, pmin, pmin.int, Position, rank,\n",
      "    rbind, Reduce, rownames, sapply, setdiff, sort, table, tapply,\n",
      "    union, unique, unsplit, which.max, which.min\n",
      "\n",
      "\n",
      "Welcome to Bioconductor\n",
      "\n",
      "    Vignettes contain introductory material; view with\n",
      "    'browseVignettes()'. To cite Bioconductor, see\n",
      "    'citation(\"Biobase\")', and for packages 'citation(\"pkgname\")'.\n",
      "\n",
      "\n",
      "\n",
      "Attaching package: ‘dplyr’\n",
      "\n",
      "\n",
      "The following object is masked from ‘package:Biobase’:\n",
      "\n",
      "    combine\n",
      "\n",
      "\n",
      "The following objects are masked from ‘package:BiocGenerics’:\n",
      "\n",
      "    combine, intersect, setdiff, union\n",
      "\n",
      "\n",
      "The following objects are masked from ‘package:stats’:\n",
      "\n",
      "    filter, lag\n",
      "\n",
      "\n",
      "The following objects are masked from ‘package:base’:\n",
      "\n",
      "    intersect, setdiff, setequal, union\n",
      "\n",
      "\n",
      "\n",
      "Attaching package: ‘reshape’\n",
      "\n",
      "\n",
      "The following object is masked from ‘package:dplyr’:\n",
      "\n",
      "    rename\n",
      "\n",
      "\n",
      "corrplot 0.92 loaded\n",
      "\n",
      "\n",
      "Attaching package: ‘tidyr’\n",
      "\n",
      "\n",
      "The following objects are masked from ‘package:reshape’:\n",
      "\n",
      "    expand, smiths\n",
      "\n",
      "\n",
      "Loading required package: lattice\n",
      "\n",
      "\n",
      "Attaching package: ‘caret’\n",
      "\n",
      "\n",
      "The following object is masked from ‘package:survival’:\n",
      "\n",
      "    cluster\n",
      "\n",
      "\n"
     ]
    }
   ],
   "source": [
    "library(MuSiC)\n",
    "library(Biobase)\n",
    "library(ggplot2)\n",
    "library(dplyr)\n",
    "library(ggcorrplot)\n",
    "library(reshape)\n",
    "library(corrplot)\n",
    "library(tidyr)\n",
    "library(caret)"
   ]
  },
  {
   "cell_type": "code",
   "execution_count": 2,
   "id": "517edf6a",
   "metadata": {},
   "outputs": [
    {
     "name": "stdout",
     "output_type": "stream",
     "text": [
      "[1] \"running BayesPrism with following args:\"\n"
     ]
    }
   ],
   "source": [
    "args = commandArgs(trailingOnly=TRUE)\n",
    "print(\"running BayesPrism with following args:\")\n",
    "\n",
    "if (length(args)==0) {\n",
    "  stop(\"At least one argument must be supplied\", call.=FALSE)\n",
    "} else if (length(args)==6) {\n",
    "  # default subtype location\n",
    "  args[7] = args[3]\n",
    "}\n",
    "print(args)"
   ]
  },
  {
   "cell_type": "code",
   "execution_count": null,
   "id": "40ec670c",
   "metadata": {},
   "outputs": [],
   "source": [
    "path_scRNA <- args[1]\n",
    "path_bulk <- args[2]\n",
    "path_label <- args[3]\n",
    "path_marker <- args[4]\n",
    "FS_setup <- args[5]\n",
    "path_out <- args[6]\n",
    "path_label_subtype <- args[7]"
   ]
  },
  {
   "cell_type": "code",
   "execution_count": null,
   "id": "b4b66ced",
   "metadata": {},
   "outputs": [],
   "source": [
    "df_Puram <- read.table(path_scRNA,sep='\\t',header=TRUE,row.names = 1,check.names = FALSE)\n",
    "df_Puram = t(df_Puram)\n",
    "\n",
    "df_bulk <- read.table(path_bulk,sep='\\t',header=TRUE,row.names = 1,check.names = FALSE)\n",
    "df_bulk <- t(df_bulk)\n",
    "\n",
    "label <- read.table(paste0(path_label,\"cellcategory_simple.csv\"),sep=',',header=TRUE,row.names = 1)\n",
    "label_subtype <- read.table(paste0(path_label_subtype,\"cellcategory_subtype.csv\"),sep=',',header=TRUE,row.names = 1)\n",
    "\n",
    "label$subtype <- label_subtype$cell_category\n",
    "label$sampleID <- rownames(label)\n",
    "label <- subset(label, row.names(label) %in% row.names(df_Puram))\n",
    "label_subtype <- subset(label_subtype, row.names(label_subtype) %in% row.names(df_Puram))\n",
    "\n",
    "if (path_marker!='noFS') {\n",
    "    marker_genes <- scan(path_marker,character(),sep=',')\n",
    "    }"
   ]
  },
  {
   "cell_type": "code",
   "execution_count": null,
   "id": "48839ad2",
   "metadata": {},
   "outputs": [],
   "source": [
    "# generate expressionset object and run MuSiC main function, process result cell type fraction\n",
    "run_MuSiC <- function(df_Puram_filtered,df_bulk,label){\n",
    "    # prepare scRNA-seq ref data, as expressionset object\n",
    "    metadata <- data.frame(labelDescription= c(\"sampleID\",\"cell_category\", \"subtype\"), row.names=c(\"sampleID\",\"cell_category\", \"subtype\"))\n",
    "    Puram.eset = ExpressionSet(assayData = data.matrix(df_Puram_filtered), phenoData =  new(\"AnnotatedDataFrame\", data = label, varMetadata = metadata) )\n",
    "    bulk_raw.eset = ExpressionSet(assayData = data.matrix(df_bulk))\n",
    "    # Estimate cell type proportions\n",
    "    Est.prop.tcga_raw = music_prop(bulk.eset = bulk_raw.eset, sc.eset = Puram.eset, clusters = 'cell_category',samples = 'sampleID')\n",
    "    MuSiC_res <- data.matrix(Est.prop.tcga_raw$Est.prop.weighted)\n",
    "    colnames(MuSiC_res)[5] <- 'other'\n",
    "    MuSiC_res <- MuSiC_res[, order(colnames(MuSiC_res))]\n",
    "    colnames(MuSiC_res)[9] <- 'T-cell'\n",
    "    colnames(MuSiC_res)[1] <- 'B-cell'\n",
    "    return(MuSiC_res)\n",
    "}"
   ]
  },
  {
   "cell_type": "code",
   "execution_count": null,
   "id": "6f7b8990",
   "metadata": {},
   "outputs": [],
   "source": [
    "if (path_marker!='noFS'){\n",
    "    df_Puram_filtered <- df_Puram[,marker_genes]\n",
    "} else {\n",
    "    df_Puram_filtered <- df_Puram\n",
    "}\n",
    "\n",
    "MuSiC_res <- run_MuSiC(df_Puram_filtered,df_bulk,label)\n",
    "write.csv(MuSiC_res, paste0(path_out,\"_celltypefrac_MuSiC_\",FS_setup,\".csv\"))"
   ]
  },
  {
   "cell_type": "code",
   "execution_count": null,
   "id": "ee8fa21d",
   "metadata": {},
   "outputs": [],
   "source": []
  }
 ],
 "metadata": {
  "kernelspec": {
   "display_name": "R",
   "language": "R",
   "name": "ir"
  },
  "language_info": {
   "codemirror_mode": "r",
   "file_extension": ".r",
   "mimetype": "text/x-r-source",
   "name": "R",
   "pygments_lexer": "r",
   "version": "4.1.3"
  }
 },
 "nbformat": 4,
 "nbformat_minor": 5
}
