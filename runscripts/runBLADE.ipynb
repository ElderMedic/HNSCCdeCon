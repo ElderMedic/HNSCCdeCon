{
 "cells": [
  {
   "cell_type": "code",
   "execution_count": 1,
   "id": "673f9bc8",
   "metadata": {},
   "outputs": [],
   "source": [
    "import sys, os\n",
    "import argparse\n",
    "\n",
    "from Deconvolution.BLADE import Framework\n",
    "import numpy as np\n",
    "from numpy import transpose as t\n",
    "import itertools\n",
    "import pickle\n",
    "from scipy.optimize import nnls\n",
    "from sklearn.svm import SVR\n",
    "from sklearn.svm import NuSVR\n",
    "\n",
    "from sklearn.metrics import mean_squared_error as mse\n",
    "import pandas as pd\n",
    "from tqdm import trange,tqdm\n",
    "# modules for visualization\n",
    "import qgrid\n",
    "from matplotlib import pyplot as plt\n",
    "import seaborn as sns\n",
    "\n",
    "from sklearn.model_selection import LeaveOneOut"
   ]
  },
  {
   "cell_type": "markdown",
   "id": "80147fe0",
   "metadata": {},
   "source": [
    "## BLADE runsrcipt \n",
    "input:\n",
    "output:\n",
    "options:"
   ]
  },
  {
   "cell_type": "code",
   "execution_count": 2,
   "id": "52b95139",
   "metadata": {},
   "outputs": [],
   "source": [
    "def run_BLADE(marker_genes, df_Puram_std, df_Puram_mean, df_bulk,celltype=10):\n",
    "    if marker_genes is not None:\n",
    "        marker_genes = marker_genes.drop_duplicates()\n",
    "        df_Puram_std_filtered = df_Puram_std.loc[marker_genes,:]\n",
    "        df_Puram_mean_filtered = df_Puram_mean.loc[marker_genes,:]\n",
    "\n",
    "        merge_genes_mean = pd.merge(df_Puram_mean_filtered,df_bulk,left_index=True,right_index=True,how='inner')\n",
    "        merge_genes_std = pd.merge(df_Puram_std_filtered,df_bulk,left_index=True,right_index=True,how='inner')\n",
    "    else:\n",
    "        merge_genes_mean = pd.merge(df_Puram_mean,df_bulk,left_index=True,right_index=True,how='inner')\n",
    "        merge_genes_std = pd.merge(df_Puram_std,df_bulk,left_index=True,right_index=True,how='inner')\n",
    "\n",
    "    print(\"Get mean and std exp!\")\n",
    "\n",
    "    #simple tumor cell type setup, there are 10 annotated cell types\n",
    "    df_TCGA_shared = merge_genes_mean.iloc[:,celltype:]\n",
    "    df_shared_mean = merge_genes_mean.iloc[:,:celltype]\n",
    "    df_shared_std = merge_genes_std.iloc[:,:celltype]\n",
    "\n",
    "    print(\"Get common genes! \",df_shared_mean.shape[0])\n",
    "    print(\"cell types: \",df_shared_mean.shape[1])\n",
    "    print(\"bulk samples: \",df_TCGA_shared.shape[1])\n",
    "    return df_TCGA_shared, df_shared_mean, df_shared_std"
   ]
  },
  {
   "cell_type": "code",
   "execution_count": 3,
   "id": "d75fd83f",
   "metadata": {},
   "outputs": [],
   "source": [
    "def getloclist(wd,keyword=[\"top\",\"marker\",\"DEG\"]):\n",
    "    loc_list = []\n",
    "    for root, dirs, files in os.walk(wd):\n",
    "        for file in files:\n",
    "            for key in keyword:\n",
    "                if key in file:\n",
    "                    loc = os.path.join(root, file)\n",
    "                    loc_list.append(loc) #get file location\n",
    "                    break\n",
    "    return loc_list"
   ]
  },
  {
   "cell_type": "code",
   "execution_count": 15,
   "id": "82dfc24c",
   "metadata": {},
   "outputs": [],
   "source": [
    "def get_result(final_obj, df_bulk_shared, df_shared_mean ,path_out, name, FS_setup=\"noFS\"):\n",
    "    obj = final_obj\n",
    "    outcomes = {\n",
    "        'BLADE': {\n",
    "            'Fraction': t(obj.ExpF(obj.Beta)), \n",
    "            'Signature': np.mean(obj.Nu, 0), #group mode purification\n",
    "            'HighRes': obj.Nu                #highresolution mode purification\n",
    "        }}\n",
    "    filtered_celltypefrac_BLADE = pd.DataFrame(outcomes['BLADE']['Fraction'])\n",
    "    filtered_celltypefrac_BLADE.columns = df_bulk_shared.columns\n",
    "    filtered_celltypefrac_BLADE.index = df_shared_mean.columns\n",
    "    outfile = path_out+name+\"_celltypefrac_BLADEout_\"+FS_setup+'.csv'\n",
    "    filtered_celltypefrac_BLADE.T.to_csv(outfile)\n",
    "    return filtered_celltypefrac_BLADE"
   ]
  },
  {
   "cell_type": "code",
   "execution_count": 5,
   "id": "d30fb8bc",
   "metadata": {},
   "outputs": [],
   "source": [
    "def main(path_std,path_mean,path_bulk,path_out,folder_marker=False,name=\"unnamed_job\",keyword=[\"top\",\"marker\",\"DEG\"]):\n",
    "    df_Puram_std = pd.read_csv(path_std,sep='\\t',index_col=0)\n",
    "    df_Puram_mean = pd.read_csv(path_mean,sep='\\t',index_col=0)\n",
    "    df_bulk = pd.read_csv(path_bulk,sep='\\t',index_col=0).T\n",
    "    \n",
    "    hyperpars = {\n",
    "        'Alpha': [1, 10],\n",
    "        'Alpha0': [0.1, 1, 5],\n",
    "        'Kappa0': [1, 0.5, 0.1],\n",
    "        'SY': [1,0.3,0.5],\n",
    "    }\n",
    "\n",
    "    Nrep=3\n",
    "    Nrepfinal=10\n",
    "    Njob=10\n",
    "    \n",
    "    if folder_marker:\n",
    "        list_markers = getloclist(folder_marker,keyword)\n",
    "        dict_FS = {}\n",
    "        for marker_file in list_markers:\n",
    "            marker_genes =  pd.read_csv(marker_file,header=None).iloc[0,:]\n",
    "            dict_FS[os.path.split(marker_file)[1].split(\"_\")[0]] = marker_genes\n",
    "\n",
    "        for FS_setup, marker_genes in dict_FS.items():\n",
    "            print(\"now with feature selection setup: \",FS_setup)\n",
    "            df_bulk_shared, df_shared_mean, df_shared_std = run_BLADE(marker_genes, df_Puram_std, df_Puram_mean, df_bulk)\n",
    "            print(\"start BLADE!\")\n",
    "            Y = df_bulk_shared.to_numpy()\n",
    "            mean = df_shared_mean.to_numpy() \n",
    "            sd = df_shared_std.to_numpy() \n",
    "            outfile = path_out+name+\"_BLADEout_\"+FS_setup+'.pickle'\n",
    "            final_obj, best_obj, best_set, outs = Framework(\n",
    "                mean, sd, Y,\n",
    "                Alphas=hyperpars['Alpha'], Alpha0s=hyperpars['Alpha0'], \n",
    "                Kappa0s=hyperpars['Kappa0'], SYs=hyperpars['SY'],\n",
    "                Nrep=Nrep, Njob=Njob, Nrepfinal=Nrepfinal)\n",
    "            pickle.dump(\n",
    "                {\n",
    "                    'final_obj': final_obj,\n",
    "                    'best_obj': best_obj,\n",
    "                    'best_set': best_set,\n",
    "                    'outs' : outs\n",
    "                }, open(outfile, 'wb')\n",
    "                )\n",
    "            print(\"export to: \",outfile)\n",
    "            filtered_celltypefrac_BLADE = get_result(final_obj,df_bulk_shared, df_shared_mean,path_out,name,FS_setup=FS_setup)    \n",
    "            \n",
    "    else:\n",
    "        print(\"no feature selection on BLADE, be advised: You might be waiting for the end of the world!\")\n",
    "        df_bulk_shared, df_shared_mean, df_shared_std = run_BLADE(None, df_Puram_std, df_Puram_mean, df_bulk)\n",
    "        print(\"start BLADE!\")\n",
    "        Y = df_bulk_shared.to_numpy()\n",
    "        mean = df_shared_mean.to_numpy() \n",
    "        sd = df_shared_std.to_numpy() \n",
    "        outfile = path_out+name+\"_BLADEout_\"+\"noFS\"+'.pickle'\n",
    "        final_obj, best_obj, best_set, outs = Framework(\n",
    "            mean, sd, Y,\n",
    "            Alphas=hyperpars['Alpha'], Alpha0s=hyperpars['Alpha0'], \n",
    "            Kappa0s=hyperpars['Kappa0'], SYs=hyperpars['SY'],\n",
    "            Nrep=Nrep, Njob=Njob, Nrepfinal=Nrepfinal)\n",
    "        pickle.dump(\n",
    "            {\n",
    "                'final_obj': final_obj,\n",
    "                'best_obj': best_obj,\n",
    "                'best_set': best_set,\n",
    "                'outs' : outs\n",
    "            }, open(outfile, 'wb')\n",
    "            )\n",
    "        print(\"export to: \",outfile)\n",
    "        filtered_celltypefrac_BLADE = get_result(final_obj, df_bulk_shared, df_shared_mean,path_out,name)\n",
    "        "
   ]
  },
  {
   "cell_type": "code",
   "execution_count": 6,
   "id": "93811f04",
   "metadata": {},
   "outputs": [],
   "source": [
    "def parse_args():\n",
    "    \"\"\"\n",
    "        Parses inputs from the commandline.\n",
    "        :return: inputs as a Namespace object\n",
    "    \"\"\"\n",
    "    parser = argparse.ArgumentParser(description='Generates pipeline')\n",
    "    # Arguments\n",
    "    parser.add_argument('path_std', help='variability signature directory')\n",
    "    parser.add_argument('path_mean', help='mean signature directory')\n",
    "    parser.add_argument('path_bulk', help='bulk rnaseq data directory')\n",
    "    parser.add_argument('path_out', help='output cell type fractions directory')\n",
    "    parser.add_argument('--folder_marker', help='the folder where markers is stored')\n",
    "    parser.add_argument('--name', help='give this job a name to help remember')\n",
    "    return parser.parse_args()"
   ]
  },
  {
   "cell_type": "code",
   "execution_count": null,
   "id": "ae9b2cac",
   "metadata": {},
   "outputs": [],
   "source": [
    "if __name__ == '__main__':\n",
    "    args = parse_args()\n",
    "    path_std = args.path_std\n",
    "    path_mean = args.path_mean\n",
    "    path_bulk = args.path_bulk\n",
    "    path_out = args.path_out\n",
    "    folder_marker = args.folder_marker\n",
    "    name = args.name\n",
    "    main(path_std,path_mean,path_bulk,path_out,folder_marker,name,keyword=[\"top\",\"marker\",\"DEG\"])"
   ]
  },
  {
   "cell_type": "code",
   "execution_count": null,
   "id": "ccbc6d27",
   "metadata": {},
   "outputs": [],
   "source": [
    "# generate celltypefrac file from pickles, fixing bugs wihtout rerun whole script"
   ]
  },
  {
   "cell_type": "code",
   "execution_count": 43,
   "id": "f2d6ddd5",
   "metadata": {},
   "outputs": [],
   "source": [
    "LOT = '16'\n",
    "BLADE_out = pickle.load(\n",
    "    open(\"/home/cke/PseudoBulk/Results/BLADE/fullpipeline_Jul29_noFS_pseudobulk__LOT\"+LOT+\"_noFS_BLADEout_noFS.pickle\", 'rb'))\n",
    "obj = BLADE_out['final_obj']"
   ]
  },
  {
   "cell_type": "code",
   "execution_count": 44,
   "id": "ba5035aa",
   "metadata": {},
   "outputs": [
    {
     "name": "stdout",
     "output_type": "stream",
     "text": [
      "Get mean and std exp!\n",
      "Get common genes!  21196\n",
      "cell types:  10\n",
      "bulk samples:  1\n"
     ]
    }
   ],
   "source": [
    "path_std = '/home/cke/PseudoBulk/InputToWrapper/pseudobulk_LOT'+LOT+'_std.tsv'\n",
    "path_mean = '/home/cke/PseudoBulk/InputToWrapper/pseudobulk_LOT'+LOT+'_mean.tsv'\n",
    "path_bulk = '/home/cke/PseudoBulk/InputToWrapper/pseudobulk_LOT'+LOT+'_test.tsv'\n",
    "df_Puram_std = pd.read_csv(path_std,sep='\\t',index_col=0)\n",
    "df_Puram_mean = pd.read_csv(path_mean,sep='\\t',index_col=0)\n",
    "df_bulk = pd.read_csv(path_bulk,sep='\\t',index_col=0).T\n",
    "df_bulk_shared, df_shared_mean, df_shared_std = run_BLADE(None, df_Puram_std, df_Puram_mean, df_bulk)"
   ]
  },
  {
   "cell_type": "code",
   "execution_count": 45,
   "id": "14aa94cd",
   "metadata": {},
   "outputs": [],
   "source": [
    "path_out = '/home/cke/PseudoBulk/Results/BLADE/'\n",
    "name = 'fullpipeline_Jul29_noFS_pseudobulk_LOT'+LOT+'_noFS'\n",
    "filtered_celltypefrac_BLADE = get_result(obj, df_bulk_shared, df_shared_mean, path_out, name)"
   ]
  },
  {
   "cell_type": "code",
   "execution_count": null,
   "id": "cb0bed09",
   "metadata": {},
   "outputs": [],
   "source": []
  }
 ],
 "metadata": {
  "kernelspec": {
   "display_name": "Python 3 (ipykernel)",
   "language": "python",
   "name": "python3"
  },
  "language_info": {
   "codemirror_mode": {
    "name": "ipython",
    "version": 3
   },
   "file_extension": ".py",
   "mimetype": "text/x-python",
   "name": "python",
   "nbconvert_exporter": "python",
   "pygments_lexer": "ipython3",
   "version": "3.10.4"
  }
 },
 "nbformat": 4,
 "nbformat_minor": 5
}
