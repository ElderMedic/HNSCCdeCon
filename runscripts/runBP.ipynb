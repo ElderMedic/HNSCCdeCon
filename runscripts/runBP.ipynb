{
 "cells": [
  {
   "cell_type": "code",
   "execution_count": 1,
   "id": "c21558c3",
   "metadata": {
    "collapsed": true
   },
   "outputs": [
    {
     "name": "stderr",
     "output_type": "stream",
     "text": [
      "Loading required package: snowfall\n",
      "\n",
      "Loading required package: snow\n",
      "\n",
      "Warning message:\n",
      "“replacing previous import ‘gplots::lowess’ by ‘stats::lowess’ when loading ‘TED’”\n"
     ]
    }
   ],
   "source": [
    "#!/usr/bin/Rscript\n",
    "library(TED)"
   ]
  },
  {
   "cell_type": "code",
   "execution_count": 11,
   "id": "8722445a",
   "metadata": {},
   "outputs": [
    {
     "name": "stdout",
     "output_type": "stream",
     "text": [
      "[1] \"/home/cke/.local/share/jupyter/runtime/kernel-b852919d-ce81-437c-bf3c-3c6f0b7f7ca1.json\"\n"
     ]
    }
   ],
   "source": [
    "args = commandArgs(trailingOnly=TRUE)\n",
    "print(\"running BayesPrism with following args:\")\n",
    "print(args)"
   ]
  },
  {
   "cell_type": "code",
   "execution_count": 10,
   "id": "e1b5ec6e",
   "metadata": {},
   "outputs": [],
   "source": [
    "if (length(args)==0) {\n",
    "  stop(\"At least one argument must be supplied\", call.=FALSE)\n",
    "} else if (length(args)==7) {\n",
    "  # default subtype location\n",
    "  args[8] = args[3]\n",
    "}\n",
    "path_scRNA <- args[1]\n",
    "path_bulk <- args[2]\n",
    "path_label <- args[3]\n",
    "path_marker <- args[4]\n",
    "FS_setup <- args[5]\n",
    "path_out <- args[6]\n",
    "path_signature_out <- args[7]\n",
    "path_label_subtype <- args[8]"
   ]
  },
  {
   "cell_type": "code",
   "execution_count": null,
   "id": "6264a12f",
   "metadata": {},
   "outputs": [],
   "source": []
  },
  {
   "cell_type": "code",
   "execution_count": null,
   "id": "bc65f4c0",
   "metadata": {},
   "outputs": [],
   "source": [
    "df_Puram <- read.table(path_scRNA,sep='\\t',header=TRUE,row.names = 1,check.names = FALSE)\n",
    "\n",
    "df_bulk <- read.table(path_bulk,sep='\\t',header=TRUE,row.names = 1,check.names = FALSE)\n",
    "df_bulk = data.matrix(df_bulk)\n",
    "\n",
    "label <- read.table(paste0(path_label,\"cellcategory_simple.csv\"),sep=',',header=TRUE,row.names = 1)\n",
    "label_subtype <- read.table(paste0(path_label_subtype,\"cellcategory_subtype.csv\"),sep=',',header=TRUE,row.names = 1)\n",
    "\n",
    "label <- subset(label, row.names(label) %in% row.names(df_Puram))\n",
    "label_subtype <- subset(label_subtype, row.names(label_subtype) %in% row.names(df_Puram))\n",
    "\n",
    "if (path_marker!='noFS') {\n",
    "    marker_genes <- scan(path_marker,character(),sep=',')\n",
    "    }"
   ]
  },
  {
   "cell_type": "code",
   "execution_count": null,
   "id": "11797ad0",
   "metadata": {},
   "outputs": [],
   "source": [
    "Get_filtered_df <- function(marker_genes,df_Puram,FS_setup,path_signature_out){\n",
    "    df_Puram_filtered = df_Puram[,marker_genes]\n",
    "    #writing signature for CIBERSORTx\n",
    "    write.csv(t(df_Puram_filtered),paste0(path_signature_out,FS_setup,\"_signature.tsv\"))\n",
    "    return(df_Puram_filtered)\n",
    "}\n",
    "\n",
    "run_BP <- function(df_Puram_filtered,df_bulk,label,label_subtype){\n",
    "    ref.data.filtered <- cleanup.genes(ref.dat=data.matrix(df_Puram_filtered), gene.type=c(\"RB\",\"chrM\",\"chrX\",\"chrY\"), species=\"hs\", input.type=\"scRNA\",exp.cells=5)\n",
    "    #run BayesPrism main func\n",
    "    res <- run.Ted(ref.dat=ref.data.filtered, X=df_bulk,cell.type.labels=label$cell_category,cell.subtype.labels=label_subtype$cell_category,\n",
    "        tum.key='tumor',input.type=\"scRNA\",n.cores=10)\n",
    "    return(res)\n",
    "}\n",
    "\n",
    "get_BP_res <- function(res){\n",
    "    BP_res <- data.frame(res$res$final.gibbs.thet)\n",
    "    colnames(BP_res)[8] <- 'T-cell'\n",
    "    colnames(BP_res)[3] <- 'B-cell'\n",
    "    colnames(BP_res)[5] <- 'other'\n",
    "    BP_res <- BP_res[, order(names(BP_res))]\n",
    "    return(BP_res)\n",
    "}"
   ]
  },
  {
   "cell_type": "code",
   "execution_count": null,
   "id": "6db10646",
   "metadata": {},
   "outputs": [],
   "source": [
    "if (path_marker!='noFS'){\n",
    "    df_Puram_filtered <- Get_filtered_df(marker_genes,df_Puram,FS_setup,path_signature_out)\n",
    "} else {\n",
    "    df_Puram_filtered <- df_Puram\n",
    "}\n",
    "res <- run_BP(df_Puram_filtered,df_bulk,label,label_subtype)\n",
    "BP_res <- get_BP_res(res)"
   ]
  },
  {
   "cell_type": "code",
   "execution_count": null,
   "id": "4dc6312d",
   "metadata": {},
   "outputs": [],
   "source": [
    "# ?run.Ted\n",
    "saveRDS(res,paste0(path_out,FS_setup,\"_BP_res.rds\"))\n",
    "write.csv(BP_res, paste0(path_out,\"_celltypefrac_BP_\",FS_setup,\".csv\"))"
   ]
  }
 ],
 "metadata": {
  "kernelspec": {
   "display_name": "R",
   "language": "R",
   "name": "ir"
  },
  "language_info": {
   "codemirror_mode": "r",
   "file_extension": ".r",
   "mimetype": "text/x-r-source",
   "name": "R",
   "pygments_lexer": "r",
   "version": "4.1.3"
  }
 },
 "nbformat": 4,
 "nbformat_minor": 5
}
