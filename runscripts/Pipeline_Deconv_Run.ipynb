{
 "cells": [
  {
   "cell_type": "code",
   "execution_count": 1,
   "id": "d5bf891d",
   "metadata": {},
   "outputs": [],
   "source": [
    "import sys, os\n",
    "import argparse\n",
    "import time\n",
    "from Deconvolution.BLADE import Framework\n",
    "import numpy as np\n",
    "from numpy import transpose as t\n",
    "import itertools\n",
    "import pickle\n",
    "from scipy.optimize import nnls\n",
    "from scipy.stats import gaussian_kde\n",
    "from matplotlib.colors import LogNorm\n",
    "from sklearn.svm import SVR\n",
    "from sklearn.svm import NuSVR\n",
    "\n",
    "from sklearn.metrics import mean_squared_error as mse\n",
    "import pandas as pd\n",
    "from tqdm import trange,tqdm\n",
    "# modules for visualization\n",
    "import qgrid\n",
    "from matplotlib import pyplot as plt\n",
    "import seaborn as sns\n",
    "import anndata as ad\n",
    "import scanpy as sc\n",
    "import scanorama\n",
    "from sklearn.model_selection import LeaveOneOut,StratifiedKFold,KFold\n",
    "import cycler\n",
    "\n",
    "import warnings\n",
    "warnings.filterwarnings('ignore')"
   ]
  },
  {
   "cell_type": "code",
   "execution_count": 2,
   "id": "8d5aa6ee",
   "metadata": {},
   "outputs": [
    {
     "name": "stdout",
     "output_type": "stream",
     "text": [
      "scanpy==1.9.1 anndata==0.8.0 umap==0.5.3 numpy==1.21.5 scipy==1.8.0 pandas==1.4.3 scikit-learn==1.0.2 statsmodels==0.13.2 python-igraph==0.9.9 louvain==0.7.1 pynndescent==0.5.7\n"
     ]
    }
   ],
   "source": [
    "sc.settings.verbosity = 3             # verbosity: errors (0), warnings (1), info (2), hints (3)\n",
    "sc.logging.print_header()\n",
    "sc.settings.set_figure_params(dpi=100, facecolor='white')"
   ]
  },
  {
   "cell_type": "code",
   "execution_count": 3,
   "id": "7331a235",
   "metadata": {},
   "outputs": [],
   "source": [
    "def getloclist(wd,keyword=[\"top\",\"marker\",\"DEG\"]):\n",
    "    loc_list = []\n",
    "    for root, dirs, files in os.walk(wd):\n",
    "        for file in files:\n",
    "            for key in keyword:\n",
    "                if key in file:\n",
    "                    loc = os.path.join(root, file)\n",
    "                    loc_list.append(loc) #get file location\n",
    "                    break\n",
    "    return loc_list"
   ]
  },
  {
   "cell_type": "code",
   "execution_count": 4,
   "id": "e80990d2",
   "metadata": {},
   "outputs": [],
   "source": [
    "def record_time():\n",
    "    t = time.localtime()\n",
    "    current_time = time.strftime(\"%Y-%m-%d %H:%M:%S\", t)\n",
    "    print(current_time)"
   ]
  },
  {
   "cell_type": "code",
   "execution_count": 5,
   "id": "091a334d",
   "metadata": {},
   "outputs": [
    {
     "name": "stdout",
     "output_type": "stream",
     "text": [
      "2022-07-28 16:09:17\n"
     ]
    }
   ],
   "source": [
    "record_time()"
   ]
  },
  {
   "cell_type": "markdown",
   "id": "cccae12b",
   "metadata": {},
   "source": [
    "### DEPRECATED BLOCK\n",
    "### Prepare scRNA signature file for CIBERSORTx input\n",
    "Run BayesPrism first to get signature.csv file in place"
   ]
  },
  {
   "cell_type": "code",
   "execution_count": 7,
   "id": "76e4bcfb",
   "metadata": {},
   "outputs": [],
   "source": [
    "def prepare_CIBERSORTx(path_label,path_signature):\n",
    "def prepare_CIBERSORTx(path_label,path_signature):\n",
    "    labels = pd.read_csv(path_label+\"cellcategory_simple.csv\",index_col=0)\n",
    "    dict_label = labels.to_dict()['cell_category']\n",
    "    scRNAref =  pd.read_csv(path_signature,index_col=0)\n",
    "    scRNAref.columns = scRNAref.columns.map(dict_label)\n",
    "    scRNAref.to_csv(path_signature.split(\".\")[0]+\"_toCIBERSORTx.tsv\",sep='\\t')\n",
    "    print(\"upload file:\",path_signature.split(\".\")[0]+\"_toCIBERSORTx.tsv\",\"to CIBERSORTx as input\")\n",
    "    # see preapare_BLADE for test set, signature file from runBP "
   ]
  },
  {
   "cell_type": "code",
   "execution_count": 146,
   "id": "1895d8f1",
   "metadata": {
    "collapsed": true
   },
   "outputs": [
    {
     "name": "stdout",
     "output_type": "stream",
     "text": [
      "upload file: /home/cke/Real/TCGAResults/fullpipeline_real_Jul28_real_top100markers_signature_toCIBERSORTx.tsv to CIBERSORTx as input\n",
      "upload file: /home/cke/Real/TCGAResults/fullpipeline_real_Jul28_real_top50DEGs_signature_toCIBERSORTx.tsv to CIBERSORTx as input\n",
      "upload file: /home/cke/Real/TCGAResults/fullpipeline_real_Jul28_real_top50markers_signature_toCIBERSORTx.tsv to CIBERSORTx as input\n",
      "upload file: /home/cke/Real/TCGAResults/fullpipeline_real_Jul28_real_top100DEGs_signature_toCIBERSORTx.tsv to CIBERSORTx as input\n",
      "upload file: /home/cke/Real/TCGAResults/fullpipeline_real_Jul28_real_top20markers_signature_toCIBERSORTx.tsv to CIBERSORTx as input\n",
      "upload file: /home/cke/Real/TCGAResults/archive/test_fullpipeline_real_Jul21_real_top20markers_signature_toCIBERSORTx.tsv to CIBERSORTx as input\n",
      "upload file: /home/cke/Real/TCGAResults/archive/test_fullpipeline_real_Jul21_real_top50markers_signature_toCIBERSORTx.tsv to CIBERSORTx as input\n",
      "upload file: /home/cke/Real/TCGAResults/archive/test_fullpipeline_real_Jul21_real_top100DEGs_signature_toCIBERSORTx.tsv to CIBERSORTx as input\n",
      "upload file: /home/cke/Real/TCGAResults/archive/test_fullpipeline_real_Jul22_50DEGs_real_top50DEGs_signature_toCIBERSORTx.tsv to CIBERSORTx as input\n",
      "upload file: /home/cke/Real/TCGAResults/archive/test_fullpipeline_real_Jul21_real_top100markers_signature_toCIBERSORTx.tsv to CIBERSORTx as input\n"
     ]
    },
    {
     "name": "stderr",
     "output_type": "stream",
     "text": [
      "/home/cke/miniconda3/envs/BLADE/lib/python3.10/site-packages/Deconvolution/BLADE.py:809: RuntimeWarning: divide by zero encountered in log\n",
      "  return -self.Nsample*np.sum(np.log(Omega))\n",
      "/home/cke/miniconda3/envs/BLADE/lib/python3.10/site-packages/Deconvolution/BLADE.py:863: RuntimeWarning: invalid value encountered in double_scalars\n",
      "  return PX+PY+PF-QX-QF\n",
      "[Parallel(n_jobs=10)]: Done  12 tasks      | elapsed: 19.9min\n",
      "/home/cke/miniconda3/envs/BLADE/lib/python3.10/site-packages/Deconvolution/BLADE.py:809: RuntimeWarning: divide by zero encountered in log\n",
      "  return -self.Nsample*np.sum(np.log(Omega))\n",
      "/home/cke/miniconda3/envs/BLADE/lib/python3.10/site-packages/Deconvolution/BLADE.py:863: RuntimeWarning: invalid value encountered in double_scalars\n",
      "  return PX+PY+PF-QX-QF\n",
      "/home/cke/miniconda3/envs/BLADE/lib/python3.10/site-packages/Deconvolution/BLADE.py:809: RuntimeWarning: divide by zero encountered in log\n",
      "  return -self.Nsample*np.sum(np.log(Omega))\n",
      "/home/cke/miniconda3/envs/BLADE/lib/python3.10/site-packages/Deconvolution/BLADE.py:863: RuntimeWarning: invalid value encountered in double_scalars\n",
      "  return PX+PY+PF-QX-QF\n",
      "/home/cke/miniconda3/envs/BLADE/lib/python3.10/site-packages/Deconvolution/BLADE.py:809: RuntimeWarning: divide by zero encountered in log\n",
      "  return -self.Nsample*np.sum(np.log(Omega))\n",
      "/home/cke/miniconda3/envs/BLADE/lib/python3.10/site-packages/Deconvolution/BLADE.py:863: RuntimeWarning: invalid value encountered in double_scalars\n",
      "  return PX+PY+PF-QX-QF\n",
      "/home/cke/miniconda3/envs/BLADE/lib/python3.10/site-packages/Deconvolution/BLADE.py:589: NumbaPerformanceWarning: \u001b[1m\u001b[1m\u001b[1m\u001b[1mnp.dot() is faster on contiguous arrays, called on (array(float64, 1d, C), array(float64, 2d, A))\u001b[0m\u001b[0m\u001b[0m\u001b[0m\n",
      "  g_Exp = g_Exp_Beta(Nu, Omega, Beta, B0, Ngene, Ncell, Nsample)\n",
      "/home/cke/miniconda3/envs/BLADE/lib/python3.10/site-packages/Deconvolution/BLADE.py:809: RuntimeWarning: divide by zero encountered in log\n",
      "  return -self.Nsample*np.sum(np.log(Omega))\n",
      "/home/cke/miniconda3/envs/BLADE/lib/python3.10/site-packages/Deconvolution/BLADE.py:863: RuntimeWarning: invalid value encountered in double_scalars\n",
      "  return PX+PY+PF-QX-QF\n",
      "/home/cke/miniconda3/envs/BLADE/lib/python3.10/site-packages/Deconvolution/BLADE.py:809: RuntimeWarning: divide by zero encountered in log\n",
      "  return -self.Nsample*np.sum(np.log(Omega))\n",
      "/home/cke/miniconda3/envs/BLADE/lib/python3.10/site-packages/Deconvolution/BLADE.py:863: RuntimeWarning: invalid value encountered in double_scalars\n",
      "  return PX+PY+PF-QX-QF\n",
      "/home/cke/miniconda3/envs/BLADE/lib/python3.10/site-packages/Deconvolution/BLADE.py:809: RuntimeWarning: divide by zero encountered in log\n",
      "  return -self.Nsample*np.sum(np.log(Omega))\n",
      "/home/cke/miniconda3/envs/BLADE/lib/python3.10/site-packages/Deconvolution/BLADE.py:863: RuntimeWarning: invalid value encountered in double_scalars\n",
      "  return PX+PY+PF-QX-QF\n",
      "/home/cke/miniconda3/envs/BLADE/lib/python3.10/site-packages/Deconvolution/BLADE.py:589: NumbaPerformanceWarning: \u001b[1m\u001b[1m\u001b[1m\u001b[1mnp.dot() is faster on contiguous arrays, called on (array(float64, 1d, C), array(float64, 2d, A))\u001b[0m\u001b[0m\u001b[0m\u001b[0m\n",
      "  g_Exp = g_Exp_Beta(Nu, Omega, Beta, B0, Ngene, Ncell, Nsample)\n",
      "/home/cke/miniconda3/envs/BLADE/lib/python3.10/site-packages/Deconvolution/BLADE.py:589: NumbaPerformanceWarning: \u001b[1m\u001b[1m\u001b[1m\u001b[1mnp.dot() is faster on contiguous arrays, called on (array(float64, 1d, C), array(float64, 2d, A))\u001b[0m\u001b[0m\u001b[0m\u001b[0m\n",
      "  g_Exp = g_Exp_Beta(Nu, Omega, Beta, B0, Ngene, Ncell, Nsample)\n",
      "/home/cke/miniconda3/envs/BLADE/lib/python3.10/site-packages/Deconvolution/BLADE.py:809: RuntimeWarning: divide by zero encountered in log\n",
      "  return -self.Nsample*np.sum(np.log(Omega))\n",
      "/home/cke/miniconda3/envs/BLADE/lib/python3.10/site-packages/Deconvolution/BLADE.py:863: RuntimeWarning: invalid value encountered in double_scalars\n",
      "  return PX+PY+PF-QX-QF\n",
      "/home/cke/miniconda3/envs/BLADE/lib/python3.10/site-packages/Deconvolution/BLADE.py:809: RuntimeWarning: divide by zero encountered in log\n",
      "  return -self.Nsample*np.sum(np.log(Omega))\n",
      "/home/cke/miniconda3/envs/BLADE/lib/python3.10/site-packages/Deconvolution/BLADE.py:863: RuntimeWarning: invalid value encountered in double_scalars\n",
      "  return PX+PY+PF-QX-QF\n",
      "/home/cke/miniconda3/envs/BLADE/lib/python3.10/site-packages/Deconvolution/BLADE.py:809: RuntimeWarning: divide by zero encountered in log\n",
      "  return -self.Nsample*np.sum(np.log(Omega))\n",
      "/home/cke/miniconda3/envs/BLADE/lib/python3.10/site-packages/Deconvolution/BLADE.py:863: RuntimeWarning: invalid value encountered in double_scalars\n",
      "  return PX+PY+PF-QX-QF\n",
      "/home/cke/miniconda3/envs/BLADE/lib/python3.10/site-packages/Deconvolution/BLADE.py:589: NumbaPerformanceWarning: \u001b[1m\u001b[1m\u001b[1m\u001b[1mnp.dot() is faster on contiguous arrays, called on (array(float64, 1d, C), array(float64, 2d, A))\u001b[0m\u001b[0m\u001b[0m\u001b[0m\n",
      "  g_Exp = g_Exp_Beta(Nu, Omega, Beta, B0, Ngene, Ncell, Nsample)\n",
      "/home/cke/miniconda3/envs/BLADE/lib/python3.10/site-packages/Deconvolution/BLADE.py:809: RuntimeWarning: divide by zero encountered in log\n",
      "  return -self.Nsample*np.sum(np.log(Omega))\n",
      "/home/cke/miniconda3/envs/BLADE/lib/python3.10/site-packages/Deconvolution/BLADE.py:863: RuntimeWarning: invalid value encountered in double_scalars\n",
      "  return PX+PY+PF-QX-QF\n",
      "/home/cke/miniconda3/envs/BLADE/lib/python3.10/site-packages/Deconvolution/BLADE.py:809: RuntimeWarning: divide by zero encountered in log\n",
      "  return -self.Nsample*np.sum(np.log(Omega))\n",
      "/home/cke/miniconda3/envs/BLADE/lib/python3.10/site-packages/Deconvolution/BLADE.py:863: RuntimeWarning: invalid value encountered in double_scalars\n",
      "  return PX+PY+PF-QX-QF\n",
      "[Parallel(n_jobs=10)]: Done  21 tasks      | elapsed: 32.2min\n",
      "/home/cke/miniconda3/envs/BLADE/lib/python3.10/site-packages/Deconvolution/BLADE.py:809: RuntimeWarning: divide by zero encountered in log\n",
      "  return -self.Nsample*np.sum(np.log(Omega))\n",
      "/home/cke/miniconda3/envs/BLADE/lib/python3.10/site-packages/Deconvolution/BLADE.py:863: RuntimeWarning: invalid value encountered in double_scalars\n",
      "  return PX+PY+PF-QX-QF\n",
      "/home/cke/miniconda3/envs/BLADE/lib/python3.10/site-packages/Deconvolution/BLADE.py:809: RuntimeWarning: divide by zero encountered in log\n",
      "  return -self.Nsample*np.sum(np.log(Omega))\n",
      "/home/cke/miniconda3/envs/BLADE/lib/python3.10/site-packages/Deconvolution/BLADE.py:863: RuntimeWarning: invalid value encountered in double_scalars\n",
      "  return PX+PY+PF-QX-QF\n"
     ]
    }
   ],
   "source": [
    "# CAUTIONS! this is not part of the script but you need to run it in notebook after the pipeline script finishes\n",
    "# list_CIBERSORTx_signature = getloclist(\"/home/cke/PseudoBulk/Results/\",keyword=[\"_signature.tsv\"])\n",
    "list_CIBERSORTx_signature = getloclist(\"/home/cke/Real/TCGAResults/\",keyword=[\"_signature.tsv\"])\n",
    "\n",
    "for i in list_CIBERSORTx_signature:\n",
    "    prepare_CIBERSORTx(\"/home/cke/Puram/scRNAlabels/\",i)"
   ]
  },
  {
   "cell_type": "markdown",
   "id": "eb50bfe6",
   "metadata": {},
   "source": [
    "## File preparation\n",
    "### Pseudobulk: Cross-validation of dataset"
   ]
  },
  {
   "cell_type": "code",
   "execution_count": 34,
   "id": "936060b8",
   "metadata": {
    "scrolled": false
   },
   "outputs": [],
   "source": [
    "def prepare_BLADE(final_adata_mean,final_adata,mode,out):\n",
    "    # Leave-one-out CV\n",
    "#prepare var and mean signature matrix for BLADE\n",
    "    merge_celltype = pd.merge(final_adata_mean.to_df(),final_adata.obs,left_index=True,right_index=True)\n",
    "    if mode == 'real':\n",
    "        counts_Puram_mean = merge_celltype.groupby(['Cell_type']).aggregate(np.mean).fillna(0)[final_adata_mean.to_df().columns]\n",
    "        counts_Puram_std = merge_celltype.groupby(['Cell_type']).aggregate(np.std).fillna(0)[final_adata_mean.to_df().columns]\n",
    "        counts_Puram_mean.T.to_csv(out+mode+\"_mean.tsv\",sep='\\t')\n",
    "        #save signature matrices for TCGA deconv\n",
    "        counts_Puram_std.T.to_csv(out+mode+\"_std.tsv\",sep='\\t')\n",
    "        list_LOT = []\n",
    "\n",
    "    elif mode == 'pseudobulk':\n",
    "        merge_celltype_pseudobulk = merge_celltype.groupby(['batch']).sum()\n",
    "        sample = merge_celltype_pseudobulk.index.tolist()\n",
    "        list_LOT = []\n",
    "        for train_index, test_index in LeaveOneOut().split(sample):\n",
    "            print(\"LOT TRAIN:\", train_index, \"TEST:\", test_index)\n",
    "            train_sample = merge_celltype_pseudobulk.iloc[train_index,].index.tolist()\n",
    "            train = merge_celltype[merge_celltype['batch'].isin(train_sample)]\n",
    "            test_sample = merge_celltype_pseudobulk.iloc[test_index,].index.tolist()\n",
    "            list_LOT.append(\"\".join(str(i) for i in test_sample))\n",
    "            print(\"Leaving out: \",\"\".join(str(i) for i in test_sample))\n",
    "            test = merge_celltype_pseudobulk[merge_celltype_pseudobulk.index.isin(test_sample)]\n",
    "            counts_Puram_mean = train.groupby(['Cell_type']).aggregate(np.mean).fillna(0)[final_adata_mean.to_df().columns]\n",
    "            counts_Puram_std = train.groupby(['Cell_type']).aggregate(np.std).fillna(0)[final_adata_mean.to_df().columns]\n",
    "            counts_Puram_mean.T.to_csv(out+mode+\"_LOT\"+\"\".join(str(i) for i in test_sample)+\"_mean.tsv\",sep='\\t')\n",
    "            counts_Puram_std.T.to_csv(out+mode+\"_LOT\"+\"\".join(str(i) for i in test_sample)+\"_std.tsv\",sep='\\t')\n",
    "            # save the leftout testset for all methods\n",
    "            test.iloc[:,:final_adata.to_df().shape[1]].to_csv(out+mode+\"_LOT\"+\"\".join(str(i) for i in test_sample)+\"_test.tsv\",sep='\\t')\n",
    "            # for CIBERSORTx\n",
    "            test.iloc[:,:final_adata.to_df().shape[1]].T.to_csv(out+mode+\"_LOT\"+\"\".join(str(i) for i in test_sample)+\"_test_transpose.tsv\",sep='\\t')\n",
    "    return list_LOT"
   ]
  },
  {
   "cell_type": "code",
   "execution_count": 35,
   "id": "cf1c84dc",
   "metadata": {},
   "outputs": [],
   "source": [
    "def prepare_BLADE_kfoldCV(final_adata_mean,final_adata,mode,out,n_splits=5):\n",
    "    #stratified n-fold CV\n",
    "#prepare var and mean signature matrix for BLADE\n",
    "    merge_celltype = pd.merge(final_adata_mean.to_df(),final_adata.obs,left_index=True,right_index=True)\n",
    "    if mode == 'real':\n",
    "        counts_Puram_mean = merge_celltype.groupby(['Cell_type']).aggregate(np.mean).fillna(0)[final_adata_mean.to_df().columns]\n",
    "        counts_Puram_std = merge_celltype.groupby(['Cell_type']).aggregate(np.std).fillna(0)[final_adata_mean.to_df().columns]\n",
    "        counts_Puram_mean.T.to_csv(out+mode+\"_mean.tsv\",sep='\\t')\n",
    "        #save signature matrices for TCGA deconv\n",
    "        counts_Puram_std.T.to_csv(out+mode+\"_std.tsv\",sep='\\t')\n",
    "        list_CV = []\n",
    "\n",
    "    elif mode == 'pseudobulk':\n",
    "        singlecells = merge_celltype.index.tolist()\n",
    "        batch = merge_celltype['batch'].tolist()\n",
    "        list_CV = []\n",
    "        count = 1\n",
    "        for train_index, test_index in StratifiedKFold(n_splits=n_splits).split(singlecells,batch):\n",
    "            print(\"CV TRAIN:\",count , len(train_index), \"TEST:\", len(test_index))\n",
    "            train_sc = merge_celltype.iloc[train_index,].index.tolist()\n",
    "            train = merge_celltype.loc[train_sc,]\n",
    "            test_sc = merge_celltype.iloc[test_index,].index.tolist()\n",
    "            list_CV.append(str(count))\n",
    "            test = merge_celltype.loc[test_sc,].groupby(['batch']).sum()\n",
    "            counts_Puram_mean = train.groupby(['Cell_type']).aggregate(np.mean).fillna(0)[final_adata_mean.to_df().columns]\n",
    "            counts_Puram_std = train.groupby(['Cell_type']).aggregate(np.std).fillna(0)[final_adata_mean.to_df().columns]\n",
    "            counts_Puram_mean.T.to_csv(out+mode+\"_CV\"+str(count)+\"_mean.tsv\",sep='\\t')\n",
    "            counts_Puram_std.T.to_csv(out+mode+\"_CV\"+str(count)+\"_std.tsv\",sep='\\t')\n",
    "            # save the leftout testset for all methods\n",
    "            test.iloc[:,:final_adata.to_df().shape[1]].to_csv(out+mode+\"_CV\"+str(count)+\"_test.tsv\",sep='\\t')\n",
    "            # for CIBERSORTx\n",
    "            test.iloc[:,:final_adata.to_df().shape[1]].T.to_csv(out+mode+\"_CV\"+str(count)+\"_test_transpose.tsv\",sep='\\t')\n",
    "            count+=1\n",
    "    return list_CV"
   ]
  },
  {
   "cell_type": "code",
   "execution_count": 56,
   "id": "462d77bc",
   "metadata": {
    "scrolled": true
   },
   "outputs": [
    {
     "name": "stdout",
     "output_type": "stream",
     "text": [
      "CV TRAIN: 1 3587 TEST: 897\n",
      "CV TRAIN: 2 3587 TEST: 897\n",
      "CV TRAIN: 3 3587 TEST: 897\n",
      "CV TRAIN: 4 3587 TEST: 897\n",
      "CV TRAIN: 5 3588 TEST: 896\n"
     ]
    }
   ],
   "source": [
    "list_CV = prepare_BLADE_kfoldCV(final_adata_mean,final_adata,'pseudobulk',\"/home/cke/PseudoBulk/InputToWrapper/\")"
   ]
  },
  {
   "cell_type": "code",
   "execution_count": 153,
   "id": "c9fa72ae",
   "metadata": {},
   "outputs": [
    {
     "name": "stdout",
     "output_type": "stream",
     "text": [
      "LOT TRAIN: [1 2 3 4 5 6 7 8] TEST: [0]\n",
      "Leaving out:  6\n",
      "LOT TRAIN: [0 2 3 4 5 6 7 8] TEST: [1]\n",
      "Leaving out:  16\n",
      "LOT TRAIN: [0 1 3 4 5 6 7 8] TEST: [2]\n",
      "Leaving out:  17\n",
      "LOT TRAIN: [0 1 2 4 5 6 7 8] TEST: [3]\n",
      "Leaving out:  18\n",
      "LOT TRAIN: [0 1 2 3 5 6 7 8] TEST: [4]\n",
      "Leaving out:  20\n",
      "LOT TRAIN: [0 1 2 3 4 6 7 8] TEST: [5]\n",
      "Leaving out:  22\n",
      "LOT TRAIN: [0 1 2 3 4 5 7 8] TEST: [6]\n",
      "Leaving out:  25\n",
      "LOT TRAIN: [0 1 2 3 4 5 6 8] TEST: [7]\n",
      "Leaving out:  26\n",
      "LOT TRAIN: [0 1 2 3 4 5 6 7] TEST: [8]\n",
      "Leaving out:  28\n"
     ]
    }
   ],
   "source": [
    "list_CV = prepare_BLADE(final_adata_mean,final_adata,'pseudobulk',\"/home/cke/PseudoBulk/InputToWrapper/\") "
   ]
  },
  {
   "cell_type": "code",
   "execution_count": 123,
   "id": "9475190d",
   "metadata": {},
   "outputs": [],
   "source": [
    "list_CV = prepare_BLADE(final_adata_mean,final_adata,'real',\"/home/cke/Real/InputToWrapper/\") "
   ]
  },
  {
   "cell_type": "code",
   "execution_count": 36,
   "id": "437053ad",
   "metadata": {},
   "outputs": [],
   "source": [
    "def prepare_Rdeconv(final_adata,mode,out):\n",
    "    merge_sample = pd.merge(final_adata.to_df(),final_adata.obs,left_index=True,right_index=True)\n",
    "    if mode == 'real':\n",
    "        scRNA_input = final_adata.to_df().loc[:,final_adata.to_df().columns]\n",
    "        scRNA_input.to_csv(out+mode+\"_scRNAref.tsv\",sep='\\t')\n",
    "        list_LOT = []\n",
    "        \n",
    "    elif mode == 'pseudobulk':\n",
    "        merge_sample_pseudobulk = merge_sample.groupby(['batch']).sum()\n",
    "        sample = merge_sample_pseudobulk.index.tolist()\n",
    "        list_LOT = []\n",
    "        for train_index, test_index in LeaveOneOut().split(sample):\n",
    "            print(\"LOT TRAIN:\", train_index, \"TEST:\", test_index)\n",
    "            train_sample = merge_sample_pseudobulk.iloc[train_index,].index.tolist()\n",
    "            train = merge_sample[merge_sample['batch'].isin(train_sample)]\n",
    "            test_sample = merge_sample_pseudobulk.iloc[test_index,].index.tolist()\n",
    "            list_LOT.append(\"\".join(str(i) for i in test_sample))\n",
    "            print(\"Leaving out: \",\"\".join(str(i) for i in test_sample))\n",
    "            test = merge_sample_pseudobulk[merge_sample_pseudobulk.index.isin(test_sample)]\n",
    "            train.iloc[:,:final_adata.to_df().shape[1]].to_csv(out+mode+\"_LOT\"+\"\".join(str(i) for i in test_sample)+\"_scRNAtrain.tsv\",sep='\\t')\n",
    "            test.iloc[:,:final_adata.to_df().shape[1]].to_csv(out+mode+\"_LOT\"+\"\".join(str(i) for i in test_sample)+\"_test.tsv\",sep='\\t')\n",
    "            # for CIBERSORTx\n",
    "            test.iloc[:,:final_adata.to_df().shape[1]].T.to_csv(out+mode+\"_LOT\"+\"\".join(str(i) for i in test_sample)+\"_test_transpose.tsv\",sep='\\t')\n",
    "    return list_LOT"
   ]
  },
  {
   "cell_type": "code",
   "execution_count": 37,
   "id": "bcdcd14e",
   "metadata": {},
   "outputs": [],
   "source": [
    "def prepare_Rdeconv_kfoldCV(final_adata,mode,out,n_splits=5):\n",
    "    merge_sample = pd.merge(final_adata.to_df(),final_adata.obs,left_index=True,right_index=True)\n",
    "    if mode == 'real':\n",
    "        scRNA_input = final_adata.to_df().loc[:,final_adata.to_df().columns]\n",
    "        scRNA_input.to_csv(out+mode+\"_scRNAref.tsv\",sep='\\t')\n",
    "        list_CV = []\n",
    "        \n",
    "    elif mode == 'pseudobulk':\n",
    "        singlecells = merge_celltype.index.tolist()\n",
    "        batch = merge_celltype['batch'].tolist()\n",
    "        list_CV = []\n",
    "        count = 1\n",
    "        for train_index, test_index in StratifiedKFold(n_splits=n_splits).split(singlecells,batch):\n",
    "            print(\"CV TRAIN:\",count , len(train_index), \"TEST:\", len(test_index))\n",
    "            train_sc = merge_celltype.iloc[train_index,].index.tolist()\n",
    "            train = merge_celltype.loc[train_sc,]\n",
    "            test_sc = merge_celltype.iloc[test_index,].index.tolist()\n",
    "            list_CV.append(str(count))\n",
    "            test = merge_celltype.loc[test_sc,].groupby(['batch']).sum()\n",
    "            train.iloc[:,:final_adata.to_df().shape[1]].to_csv(out+mode+\"_CV\"+str(count)+\"_scRNAtrain.tsv\",sep='\\t')\n",
    "            test.iloc[:,:final_adata.to_df().shape[1]].to_csv(out+mode+\"_CV\"+str(count)+\"_test.tsv\",sep='\\t')\n",
    "            # for CIBERSORTx\n",
    "            test.iloc[:,:final_adata.to_df().shape[1]].T.to_csv(out+mode+\"_CV\"+str(count)+\"_test_transpose.tsv\",sep='\\t')\n",
    "            count+=1\n",
    "    return list_CV"
   ]
  },
  {
   "cell_type": "code",
   "execution_count": 52,
   "id": "0d82b995",
   "metadata": {},
   "outputs": [
    {
     "name": "stdout",
     "output_type": "stream",
     "text": [
      "CV TRAIN: 1 3587 TEST: 897\n",
      "CV TRAIN: 2 3587 TEST: 897\n",
      "CV TRAIN: 3 3587 TEST: 897\n",
      "CV TRAIN: 4 3587 TEST: 897\n",
      "CV TRAIN: 5 3588 TEST: 896\n"
     ]
    }
   ],
   "source": [
    "list_CV = prepare_Rdeconv_kfoldCV(final_adata,'pseudobulk',\"/home/cke/PseudoBulk/InputToWrapper/\")"
   ]
  },
  {
   "cell_type": "code",
   "execution_count": 124,
   "id": "21e90e3a",
   "metadata": {},
   "outputs": [
    {
     "name": "stdout",
     "output_type": "stream",
     "text": [
      "LOT TRAIN: [1 2 3 4 5 6 7 8] TEST: [0]\n",
      "Leaving out:  [6]\n",
      "LOT TRAIN: [0 2 3 4 5 6 7 8] TEST: [1]\n",
      "Leaving out:  [16]\n",
      "LOT TRAIN: [0 1 3 4 5 6 7 8] TEST: [2]\n",
      "Leaving out:  [17]\n",
      "LOT TRAIN: [0 1 2 4 5 6 7 8] TEST: [3]\n",
      "Leaving out:  [18]\n",
      "LOT TRAIN: [0 1 2 3 5 6 7 8] TEST: [4]\n",
      "Leaving out:  [20]\n",
      "LOT TRAIN: [0 1 2 3 4 6 7 8] TEST: [5]\n",
      "Leaving out:  [22]\n",
      "LOT TRAIN: [0 1 2 3 4 5 7 8] TEST: [6]\n",
      "Leaving out:  [25]\n",
      "LOT TRAIN: [0 1 2 3 4 5 6 8] TEST: [7]\n",
      "Leaving out:  [26]\n",
      "LOT TRAIN: [0 1 2 3 4 5 6 7] TEST: [8]\n",
      "Leaving out:  [28]\n"
     ]
    }
   ],
   "source": [
    "list_CV = prepare_Rdeconv(final_adata,'pseudobulk',\"/home/cke/PseudoBulk/InputToWrapper/\")"
   ]
  },
  {
   "cell_type": "code",
   "execution_count": 125,
   "id": "0088ebe9",
   "metadata": {},
   "outputs": [],
   "source": [
    "list_CV = prepare_Rdeconv(final_adata,'real',\"/home/cke/Real/InputToWrapper/\")"
   ]
  },
  {
   "cell_type": "markdown",
   "id": "afaa6bc1",
   "metadata": {},
   "source": [
    "### Running each method in cmd"
   ]
  },
  {
   "cell_type": "code",
   "execution_count": 38,
   "id": "943d4ba2",
   "metadata": {},
   "outputs": [],
   "source": [
    "def run_cmd(mode,out,out_res,dict_FS,folder_marker,methods,\n",
    "            test_sample=False,path_label=\"home/cke/Puram/scRNAlabels/\",\n",
    "            path_bulk=False,name=\"unnamed_job\"):\n",
    "    # \"out\" is folder where input files prepared in last steps\n",
    "    if mode == 'real':\n",
    "        for FS_setup, marker_file in tqdm(dict_FS.items()):\n",
    "            time.sleep(30)\n",
    "            print(mode,\"mode: now with feature selection setup: \\r\",FS_setup)\n",
    "            record_time()\n",
    "            if 'MuSiC' in methods:\n",
    "                cmd_MuSiC = \"\".join([\"Rscript /home/cke/runscripts/runMuSiC.r \", \n",
    "                                 out,mode,\"_scRNAref.tsv \", # scRNA signature matrix\n",
    "                                path_bulk,\" \", # real bulk RNAseq matrix\n",
    "                                 path_label,\" \", \n",
    "                              marker_file,\" \",\n",
    "                               name+\"_\"+mode+\"_\"+FS_setup+\" \", # job name FS_setup\n",
    "                              out_res+\"MuSiC/\",\" &\", # output frac folder\n",
    "                                ])\n",
    "                print(\"now running in cmd: \\r\",cmd_MuSiC)\n",
    "                os.system(cmd_MuSiC)\n",
    "            if 'BP' in methods:\n",
    "                cmd_BP = \"\".join([\"Rscript /home/cke/runscripts/runBP.r \", \n",
    "                                 out,mode,\"_scRNAref.tsv \", # signature matrix\n",
    "                                path_bulk,\" \", # testset pseudobulk matrix\n",
    "                                 path_label,\" \",\n",
    "                              marker_file,\" \",\n",
    "                               name+\"_\"+mode+\"_\"+FS_setup+\" \", # job name FS_setup\n",
    "                              out_res+\"BayesPrism/\",\" \", # output frac folder\n",
    "                              out_res,\" &\" # output CIBERSORTx prelim signature\n",
    "                                ])\n",
    "                print(\"now running in cmd: \\r\",cmd_BP)\n",
    "                os.system(cmd_BP)\n",
    "        # for BLADE, feature selection is done within wrapper\n",
    "        # R is lame, plz use python to develop new tool :)\n",
    "        if 'BLADE' in methods:\n",
    "            cmd_BLADE = \"\".join([\"python /home/cke/runscripts/runBLADE.py \", \n",
    "                             out,mode,\"_std.tsv \", # std signature matrix\n",
    "                             out,mode,\"_mean.tsv \", # mean signature matrix\n",
    "                            path_bulk,\" \", # testset pseudobulk matrix\n",
    "                             out_res+\"BLADE/\",\" \", # output folder\n",
    "                             \"--folder_marker \",folder_marker,\" \", # marker folder\n",
    "                             \"--name \",name+\"_\"+mode,\" &\" # job name, background run\n",
    "                            ])\n",
    "            print(\"now running in cmd: \\r\",cmd_BLADE)\n",
    "            os.system(cmd_BLADE)\n",
    "    elif mode == \"pseudobulk\":\n",
    "        for FS_setup, marker_file in tqdm(dict_FS.items()):\n",
    "            time.sleep(30)\n",
    "            record_time()\n",
    "            print(mode,\"mode: now with feature selection setup: \\r\",FS_setup)\n",
    "            if 'MuSiC' in methods:\n",
    "                cmd_MuSiC = \"\".join([\"Rscript /home/cke/runscripts/runMuSiC.r \", \n",
    "                                 out,mode,\"_LOT\",str(test_sample),\"_scRNAtrain.tsv \", # signature matrix\n",
    "                                out,mode,\"_LOT\",str(test_sample),\"_test.tsv \", # testset pseudobulk matrix\n",
    "                                 path_label,\" \",\n",
    "                              marker_file,\" \",\n",
    "                               name+\"_\"+mode+\"_\"+FS_setup+\"_\"+str(test_sample)+\"LOT \", # job name, FS_setup\n",
    "                              out_res+\"MuSiC/\",\" &\", # output frac folder\n",
    "                                ])\n",
    "                print(\"now running in cmd: \\r\",cmd_MuSiC)\n",
    "                os.system(cmd_MuSiC)\n",
    "            if 'BP' in methods:   \n",
    "                cmd_BP = \"\".join([\"Rscript /home/cke/runscripts/runBP.r \", \n",
    "                                 out,mode,\"_LOT\",str(test_sample),\"_scRNAtrain.tsv \", # signature matrix\n",
    "                                out,mode,\"_LOT\",str(test_sample),\"_test.tsv \", # testset pseudobulk matrix\n",
    "                                 path_label,\" \",\n",
    "                              marker_file,\" \",\n",
    "                               name+\"_\"+mode+\"_\"+FS_setup+\"_\"+str(test_sample)+\"LOT \", # job name, FS_setup\n",
    "                              out_res+\"BayesPrism/\",\" \", # output frac folder\n",
    "                              out_res,\" &\" # output CIBERSORTx prelim signature\n",
    "                                ])\n",
    "                print(\"now running in cmd: \\r\",cmd_BP)\n",
    "                os.system(cmd_BP)\n",
    "        # for BLADE, feature selection is done within wrapper\n",
    "        # R is lame, plz use python to develop new tool :)\n",
    "        if 'BLADE' in methods:\n",
    "            cmd_BLADE = \"\".join([\"python /home/cke/runscripts/runBLADE.py \", \n",
    "                             out,mode,\"_LOT\",str(test_sample),\"_std.tsv \", # std signature matrix\n",
    "                             out,mode,\"_LOT\"+str(test_sample),\"_mean.tsv \", # mean signature matrix\n",
    "                            out,mode,\"_LOT\",str(test_sample),\"_test.tsv \", # testset pseudobulk matrix\n",
    "                             out_res+\"BLADE/\",\" \", # output folder\n",
    "                             \"--folder_marker \",folder_marker,\" \", # marker folder\n",
    "                             \"--name \",name+\"_\"+mode+\"_\"+\"LOT\"+str(test_sample),\" &\" # job name, background run\n",
    "                            ])\n",
    "            print(\"now running in cmd: \\r\",cmd_BLADE)\n",
    "            os.system(cmd_BLADE)"
   ]
  },
  {
   "cell_type": "code",
   "execution_count": 39,
   "id": "c52738df",
   "metadata": {},
   "outputs": [],
   "source": [
    "def run_cmd_noFS(mode,out,out_res,methods,test_sample=False,\n",
    "                 path_label=\"home/cke/Puram/scRNAlabels/\",\n",
    "                 path_bulk=False,name=\"unnamed_noFS_job\"):\n",
    "    # \"out\" is folder where input files prepared in last steps\n",
    "    marker_file = \"noFS\"\n",
    "    if mode == 'real':\n",
    "        print(mode,\"mode: no feature selection\\r\")\n",
    "        record_time()\n",
    "        if 'MuSiC' in methods:\n",
    "            cmd_MuSiC = \"\".join([\"Rscript /home/cke/runscripts/runMuSiC.r \", \n",
    "                             out,mode,\"_scRNAref.tsv \", # scRNA signature matrix\n",
    "                            path_bulk,\" \", # real bulk RNAseq matrix\n",
    "                             path_label,\" \", \n",
    "                          marker_file,\" \",\n",
    "                           name+\"_\"+mode+\"_\"+\"noFS\"+\" \", # job name, FS_setup\n",
    "                          out_res+\"MuSiC/\",\" &\", # output frac folder\n",
    "                            ])\n",
    "            print(\"now running in cmd: \\r\",cmd_MuSiC)\n",
    "            os.system(cmd_MuSiC)\n",
    "        if 'BP' in methods: \n",
    "            cmd_BP = \"\".join([\"Rscript /home/cke/runscripts/runBP.r \", \n",
    "                             out,mode,\"_scRNAref.tsv \", # signature matrix\n",
    "                            path_bulk,\" \", # testset pseudobulk matrix\n",
    "                             path_label,\" \",\n",
    "                          marker_file,\" \",\n",
    "                           name+\"_\"+mode+\"_\"+\"noFS\"+\" \", # job name FS_setup\n",
    "                          out_res+\"BayesPrism/\",\" \", # output frac folder\n",
    "                          out_res,\" &\" # output CIBERSORTx prelim signature\n",
    "                            ])\n",
    "            print(\"now running in cmd: \\r\",cmd_BP)\n",
    "            os.system(cmd_BP)\n",
    "        # for BLADE, feature selection is done within wrapper\n",
    "        # R is lame, plz use python to develop new tool :)\n",
    "        if 'BLADE' in methods:\n",
    "            cmd_BLADE = \"\".join([\"python /home/cke/runscripts/runBLADE.py \", \n",
    "                             out,mode,\"_std.tsv \", # std signature matrix\n",
    "                             out,mode,\"_mean.tsv \", # mean signature matrix\n",
    "                            path_bulk,\" \", # testset pseudobulk matrix\n",
    "                             out_res+\"BLADE/\",\" \", # output folder\n",
    "                             \"--name \",name+\"_\"+mode,\"_noFS &\" # job name, background run\n",
    "                            ])\n",
    "            print(\"now running in cmd: \\r\",cmd_BLADE)\n",
    "            os.system(cmd_BLADE)\n",
    "    elif mode == \"pseudobulk\":\n",
    "        print(mode,\"mode: no feature selection\\r\")\n",
    "        record_time()\n",
    "        if 'MuSiC' in methods:\n",
    "            cmd_MuSiC = \"\".join([\"Rscript /home/cke/runscripts/runMuSiC.r \", \n",
    "                             out,mode,\"_LOT\",str(test_sample),\"_scRNAtrain.tsv \", # signature matrix\n",
    "                            out,mode,\"_LOT\",str(test_sample),\"_test.tsv \", # testset pseudobulk matrix\n",
    "                             path_label,\" \",\n",
    "                          marker_file,\" \",\n",
    "                           name+\"_\"+mode+\"_\"+\"noFS\"+\"_\"+str(test_sample)+\"_LOT \", # job name, FS_setup\n",
    "                          out_res+\"MuSiC/\",\" &\", # output frac folder\n",
    "                            ])\n",
    "            print(\"now running in cmd: \\r\",cmd_MuSiC)\n",
    "            os.system(cmd_MuSiC)\n",
    "        if 'BP' in methods: \n",
    "            cmd_BP = \"\".join([\"Rscript /home/cke/runscripts/runBP.r \", \n",
    "                             out,mode,\"_LOT\",str(test_sample),\"_scRNAtrain.tsv \", # signature matrix\n",
    "                            out,mode,\"_LOT\",str(test_sample),\"_test.tsv \", # testset pseudobulk matrix\n",
    "                             path_label,\" \",\n",
    "                          marker_file,\" \",\n",
    "                           name+\"_\"+mode+\"_\"+\"noFS\"+\"_\"+str(test_sample)+\"_LOT \", # job name, FS_setup\n",
    "                          out_res+\"BayesPrism/\",\" \", # output frac folder\n",
    "                          out_res,\" &\" # output CIBERSORTx prelim signature\n",
    "                            ])\n",
    "            print(\"now running in cmd: \\r\",cmd_BP)\n",
    "            os.system(cmd_BP)\n",
    "        # for BLADE, feature selection is done within wrapper\n",
    "        # R is lame, plz use python to develop new tool :)\n",
    "        if 'BLADE' in methods:\n",
    "            cmd_BLADE = \"\".join([\"python /home/cke/runscripts/runBLADE.py \", \n",
    "                             out,mode,\"_LOT\",str(test_sample),\"_std.tsv \", # std signature matrix\n",
    "                             out,mode,\"_LOT\"+str(test_sample),\"_mean.tsv \", # mean signature matrix\n",
    "                            out,mode,\"_LOT\",str(test_sample),\"_test.tsv \", # testset pseudobulk matrix\n",
    "                             out_res+\"BLADE/\",\" \", # output folder\n",
    "                             \"--name \",name+\"_\"+mode+\"_\"+\"LOT\"+str(test_sample)+\"_noFS\",\" &\" # job name, background run\n",
    "                            ])\n",
    "            print(\"now running in cmd: \\r\",cmd_BLADE)\n",
    "            os.system(cmd_BLADE)"
   ]
  },
  {
   "cell_type": "code",
   "execution_count": 40,
   "id": "fd95001d",
   "metadata": {},
   "outputs": [],
   "source": [
    "def main(path_adata,mode,out,out_res,path_label,path_bulk=False,folder_marker=False,\n",
    "         name=\"unnamed_job\",methods=['MuSiC','BP','BLADE'],keyword=[\"top\",\"marker\",\"DEG\"]):\n",
    "    # \"out\" is folder where input files prepared in last steps\n",
    "#     print(folder_marker)\n",
    "    record_time()\n",
    "    final_adata = sc.read_h5ad(path_adata)\n",
    "    final_adata.uns['log1p'][\"base\"] = None\n",
    "    final_adata_mean = final_adata.copy()\n",
    "    sc.pp.log1p(final_adata_mean)\n",
    "    if folder_marker:\n",
    "        print(\"running Feature selection!\\r\")\n",
    "        list_markers = getloclist(folder_marker,keyword)\n",
    "        dict_FS = {}\n",
    "        for marker_file in list_markers:\n",
    "#             marker_genes =  pd.read_csv(marker_file,header=None).iloc[0,:]\n",
    "            dict_FS[os.path.split(marker_file)[1].split(\"_\")[0]] = marker_file\n",
    "            \n",
    "        if mode == 'real':\n",
    "            list_CV = prepare_BLADE(final_adata_mean,final_adata,mode,out)\n",
    "            list_CV = prepare_Rdeconv(final_adata,mode,out)\n",
    "            run_cmd(mode,out,out_res,dict_FS,folder_marker,methods,\n",
    "                    path_label=path_label,path_bulk=path_bulk,name=name)\n",
    "            \n",
    "        elif mode == 'pseudobulk':\n",
    "            list_CV = prepare_BLADE(final_adata_mean,final_adata,mode,out)\n",
    "            list_CV = prepare_Rdeconv(final_adata,mode,out)\n",
    "            for test_sample in tqdm(list_CV):\n",
    "                time.sleep(30)\n",
    "                run_cmd(mode,out,out_res,dict_FS,folder_marker,methods,\n",
    "                        test_sample=test_sample,path_label=path_label,name=name)\n",
    "#                 if True: \n",
    "#                     prepare_CIBERSORTx(path_label,path_signature)\n",
    "    else:\n",
    "        print(\"no Feature selection!\\r\")\n",
    "        if mode == 'real':\n",
    "            list_CV = prepare_BLADE(final_adata_mean,final_adata,mode,out)\n",
    "            list_CV = prepare_Rdeconv(final_adata,mode,out)\n",
    "            run_cmd_noFS(mode,out,out_res,methods,\n",
    "                    path_label=path_label,path_bulk=path_bulk,name=name)\n",
    "        elif mode == 'pseudobulk':\n",
    "            list_CV = prepare_BLADE(final_adata_mean,final_adata,mode,out)\n",
    "            list_CV = prepare_Rdeconv(final_adata,mode,out)\n",
    "            for test_sample in tqdm(list_CV):\n",
    "                time.sleep(60)\n",
    "                run_cmd_noFS(mode,out,out_res,methods,\n",
    "                        test_sample=test_sample,path_label=path_label,name=name)"
   ]
  },
  {
   "cell_type": "code",
   "execution_count": 41,
   "id": "e239c12f",
   "metadata": {},
   "outputs": [],
   "source": [
    "def parse_args():\n",
    "    \"\"\"\n",
    "        Parses inputs from the commandline.\n",
    "        :return: inputs as a Namespace object\n",
    "    \"\"\"\n",
    "    parser = argparse.ArgumentParser(description='Generates pipeline')\n",
    "    # Arguments\n",
    "    parser.add_argument('path_adata', help='directory of preprocessed raw scRNA anndata object')\n",
    "    parser.add_argument('mode', help='scheme for data processing', choices=['pseudobulk','real'])\n",
    "    parser.add_argument('out', help='output CV input directory')\n",
    "    parser.add_argument('out_res', help='output of decon methods directory')\n",
    "    parser.add_argument('path_label', help='labels of single-cell type identity directory')\n",
    "    parser.add_argument('--path_bulk', help='bulk rnaseq data directory',default=False)\n",
    "    parser.add_argument('--folder_marker', help='the folder where markers is stored',default=False)\n",
    "    parser.add_argument('--name', help='give this job a name to help remember',default='unnamed_job')\n",
    "    parser.add_argument('--methods', help='which methods you want to use',default=['MuSiC','BP','BLADE'])\n",
    "    parser.add_argument('--keyword', help='keyword in marker file name to identify them',default=[\"top\",\"marker\",\"DEG\"])\n",
    "    return parser.parse_args()"
   ]
  },
  {
   "cell_type": "code",
   "execution_count": null,
   "id": "ec6a9ab1",
   "metadata": {},
   "outputs": [],
   "source": [
    "if __name__ == \"__main__\":\n",
    "    args = parse_args()\n",
    "    path_adata = args.path_adata\n",
    "    mode = args.mode\n",
    "    out = args.out\n",
    "    out_res = args.out_res\n",
    "    path_label = args.path_label\n",
    "    path_bulk = args.path_bulk\n",
    "    name = args.name\n",
    "    folder_marker = args.folder_marker\n",
    "    methods = args.methods\n",
    "    keyword = args.keyword\n",
    "    if name == \"unnamed_job\":\n",
    "        print(\"You did not name this job!\\r\")\n",
    "    else:\n",
    "        print(name,\" - pipeline initiated! Welcome, contact author for support: kechanglin1998@hotmail.com\\r\")\n",
    "\n",
    "    if mode == \"real\":\n",
    "        if path_bulk == False:\n",
    "            raise ValueError(\"no bulk RNAseq data input! LOAD UP YOUR AMMO!\\r\")\n",
    "        main(path_adata,mode,out,out_res,path_label,path_bulk=path_bulk,folder_marker=folder_marker,\n",
    "         name=name,methods=methods,keyword=keyword)\n",
    "    elif mode == 'pseudobulk':\n",
    "        main(path_adata,mode,out,out_res,path_label,path_bulk=path_bulk,folder_marker=folder_marker,\n",
    "         name=name,methods=methods,keyword=keyword)\n",
    "    print(\"job finished! details of arguments used in this run: \",args)\n"
   ]
  },
  {
   "cell_type": "code",
   "execution_count": null,
   "id": "51155ec9",
   "metadata": {},
   "outputs": [],
   "source": []
  },
  {
   "cell_type": "markdown",
   "id": "a8dff2c4",
   "metadata": {},
   "source": [
    "## Testing code"
   ]
  },
  {
   "cell_type": "code",
   "execution_count": 48,
   "id": "cca6ea5a",
   "metadata": {},
   "outputs": [],
   "source": [
    "# testing code block\n",
    "# real\n",
    "path_adata = \"/home/cke/Puram/Puram_scanpy.h5ad\"\n",
    "mode = \"real\"\n",
    "out = \"/home/cke/Real/InputToWrapper/\"\n",
    "out_res = \"/home/cke/Real/TCGAResults/\"\n",
    "path_label = \"/home/cke/Puram/scRNAlabels/\"\n",
    "path_bulk = \"/home/cke/TCGA-HNSC.htseq_counts_exp2_symbol_samplexgene.tsv\"\n",
    "name = \"fullpipeline_real_Jul28\"\n",
    "folder_marker = \"/home/cke/Puram/markers/\" \n",
    "methods = ['BLADE']\n",
    "keyword = [\"top\",\"marker\",\"DEG\"]"
   ]
  },
  {
   "cell_type": "code",
   "execution_count": 49,
   "id": "99df82fb",
   "metadata": {
    "scrolled": true
   },
   "outputs": [
    {
     "name": "stdout",
     "output_type": "stream",
     "text": [
      "fullpipeline_real_Jul28  - pipeline initiated! Welcome, contact author for support: kechanglin1998@hotmail.com\n",
      "2022-07-28 20:04:24\n",
      "WARNING: adata.X seems to be already log-transformed.\n",
      "running Feature selection!\n"
     ]
    },
    {
     "name": "stderr",
     "output_type": "stream",
     "text": [
      " 20%|██████████████████▏                                                                        | 1/5 [00:30<02:00, 30.03s/it]"
     ]
    },
    {
     "name": "stdout",
     "output_type": "stream",
     "text": [
      "real mode: now with feature selection setup: \r",
      " top50DEGs\n",
      "2022-07-28 20:06:05\n"
     ]
    },
    {
     "name": "stderr",
     "output_type": "stream",
     "text": [
      "\r",
      " 40%|████████████████████████████████████▍                                                      | 2/5 [01:00<01:30, 30.03s/it]"
     ]
    },
    {
     "name": "stdout",
     "output_type": "stream",
     "text": [
      "real mode: now with feature selection setup: \r",
      " top100markers\n",
      "2022-07-28 20:06:35\n"
     ]
    },
    {
     "name": "stderr",
     "output_type": "stream",
     "text": [
      "\r",
      " 60%|██████████████████████████████████████████████████████▌                                    | 3/5 [01:30<01:00, 30.03s/it]"
     ]
    },
    {
     "name": "stdout",
     "output_type": "stream",
     "text": [
      "real mode: now with feature selection setup: \r",
      " top20markers\n",
      "2022-07-28 20:07:05\n"
     ]
    },
    {
     "name": "stderr",
     "output_type": "stream",
     "text": [
      "\r",
      " 80%|████████████████████████████████████████████████████████████████████████▊                  | 4/5 [02:00<00:30, 30.03s/it]"
     ]
    },
    {
     "name": "stdout",
     "output_type": "stream",
     "text": [
      "real mode: now with feature selection setup: \r",
      " top100DEGs\n",
      "2022-07-28 20:07:35\n"
     ]
    },
    {
     "name": "stderr",
     "output_type": "stream",
     "text": [
      "100%|███████████████████████████████████████████████████████████████████████████████████████████| 5/5 [02:30<00:00, 30.03s/it]"
     ]
    },
    {
     "name": "stdout",
     "output_type": "stream",
     "text": [
      "real mode: now with feature selection setup: \r",
      " top50markers\n",
      "2022-07-28 20:08:05\n",
      "now running in cmd: \r",
      " python /home/cke/runscripts/runBLADE.py /home/cke/Real/InputToWrapper/real_std.tsv /home/cke/Real/InputToWrapper/real_mean.tsv /home/cke/TCGA-HNSC.htseq_counts_exp2_symbol_samplexgene.tsv /home/cke/Real/TCGAResults/BLADE/ --folder_marker /home/cke/Puram/markers/ --name fullpipeline_real_Jul28_real &\n"
     ]
    },
    {
     "name": "stderr",
     "output_type": "stream",
     "text": [
      "\n",
      "  0%|          | 0/5 [00:00<?, ?it/s][Parallel(n_jobs=10)]: Using backend LokyBackend with 10 concurrent workers.\n"
     ]
    },
    {
     "name": "stdout",
     "output_type": "stream",
     "text": [
      "now with feature selection setup:  top50DEGs\n",
      "Get mean and std exp!\n",
      "Get common genes!  435\n",
      "cell types:  10\n",
      "bulk samples:  546\n",
      "start BLADE!\n",
      "all of 435 genes are used for optimization.\n",
      "All samples are used during the optimization.\n",
      "Initialization with Support vector regression\n"
     ]
    },
    {
     "name": "stderr",
     "output_type": "stream",
     "text": [
      "[Parallel(n_jobs=10)]: Done   5 tasks      | elapsed:    6.2s\n",
      "[Parallel(n_jobs=10)]: Done  12 tasks      | elapsed:   15.3s\n",
      "[Parallel(n_jobs=10)]: Done  21 tasks      | elapsed:   26.1s\n",
      "[Parallel(n_jobs=10)]: Done  30 tasks      | elapsed:   41.2s\n",
      "[Parallel(n_jobs=10)]: Done  41 tasks      | elapsed:  1.2min\n",
      "[Parallel(n_jobs=10)]: Done  52 tasks      | elapsed:  1.6min\n",
      "[Parallel(n_jobs=10)]: Done  65 tasks      | elapsed:  2.2min\n",
      "[Parallel(n_jobs=10)]: Done  78 tasks      | elapsed:  2.6min\n",
      "[Parallel(n_jobs=10)]: Done  93 tasks      | elapsed:  2.9min\n",
      "[Parallel(n_jobs=10)]: Done 108 tasks      | elapsed:  3.3min\n",
      "[Parallel(n_jobs=10)]: Done 125 tasks      | elapsed:  3.7min\n",
      "[Parallel(n_jobs=10)]: Done 142 tasks      | elapsed:  4.2min\n",
      "[Parallel(n_jobs=10)]: Done 161 tasks      | elapsed:  4.6min\n",
      "[Parallel(n_jobs=10)]: Done 180 tasks      | elapsed:  4.9min\n",
      "[Parallel(n_jobs=10)]: Done 201 tasks      | elapsed:  5.6min\n",
      "[Parallel(n_jobs=10)]: Done 222 tasks      | elapsed:  6.2min\n",
      "[Parallel(n_jobs=10)]: Done 245 tasks      | elapsed:  6.8min\n",
      "[Parallel(n_jobs=10)]: Done 268 tasks      | elapsed:  7.5min\n",
      "[Parallel(n_jobs=10)]: Done 293 tasks      | elapsed:  8.4min\n",
      "[Parallel(n_jobs=10)]: Done 318 tasks      | elapsed:  9.0min\n",
      "[Parallel(n_jobs=10)]: Done 345 tasks      | elapsed:  9.8min\n",
      "[Parallel(n_jobs=10)]: Done 372 tasks      | elapsed: 11.1min\n",
      "[Parallel(n_jobs=10)]: Done 401 tasks      | elapsed: 12.3min\n",
      "[Parallel(n_jobs=10)]: Done 430 tasks      | elapsed: 13.3min\n",
      "[Parallel(n_jobs=10)]: Done 461 tasks      | elapsed: 14.0min\n",
      "[Parallel(n_jobs=10)]: Done 492 tasks      | elapsed: 14.9min\n",
      "[Parallel(n_jobs=10)]: Done 525 tasks      | elapsed: 15.5min\n",
      "[Parallel(n_jobs=10)]: Done 546 out of 546 | elapsed: 17.8min finished\n",
      "[Parallel(n_jobs=10)]: Using backend LokyBackend with 10 concurrent workers.\n",
      "/home/cke/miniconda3/envs/BLADE/lib/python3.10/site-packages/Deconvolution/BLADE.py:809: RuntimeWarning: divide by zero encountered in log\n",
      "  return -self.Nsample*np.sum(np.log(Omega))\n",
      "/home/cke/miniconda3/envs/BLADE/lib/python3.10/site-packages/Deconvolution/BLADE.py:863: RuntimeWarning: invalid value encountered in double_scalars\n",
      "  return PX+PY+PF-QX-QF\n",
      "/home/cke/miniconda3/envs/BLADE/lib/python3.10/site-packages/Deconvolution/BLADE.py:809: RuntimeWarning: divide by zero encountered in log\n",
      "  return -self.Nsample*np.sum(np.log(Omega))\n",
      "/home/cke/miniconda3/envs/BLADE/lib/python3.10/site-packages/Deconvolution/BLADE.py:863: RuntimeWarning: invalid value encountered in double_scalars\n",
      "  return PX+PY+PF-QX-QF\n",
      "/home/cke/miniconda3/envs/BLADE/lib/python3.10/site-packages/Deconvolution/BLADE.py:809: RuntimeWarning: divide by zero encountered in log\n",
      "  return -self.Nsample*np.sum(np.log(Omega))\n",
      "/home/cke/miniconda3/envs/BLADE/lib/python3.10/site-packages/Deconvolution/BLADE.py:863: RuntimeWarning: invalid value encountered in double_scalars\n",
      "  return PX+PY+PF-QX-QF\n",
      "/home/cke/miniconda3/envs/BLADE/lib/python3.10/site-packages/Deconvolution/BLADE.py:809: RuntimeWarning: divide by zero encountered in log\n",
      "  return -self.Nsample*np.sum(np.log(Omega))\n",
      "/home/cke/miniconda3/envs/BLADE/lib/python3.10/site-packages/Deconvolution/BLADE.py:863: RuntimeWarning: invalid value encountered in double_scalars\n",
      "  return PX+PY+PF-QX-QF\n",
      "/home/cke/miniconda3/envs/BLADE/lib/python3.10/site-packages/Deconvolution/BLADE.py:809: RuntimeWarning: divide by zero encountered in log\n",
      "  return -self.Nsample*np.sum(np.log(Omega))\n",
      "/home/cke/miniconda3/envs/BLADE/lib/python3.10/site-packages/Deconvolution/BLADE.py:863: RuntimeWarning: invalid value encountered in double_scalars\n",
      "  return PX+PY+PF-QX-QF\n",
      "/home/cke/miniconda3/envs/BLADE/lib/python3.10/site-packages/Deconvolution/BLADE.py:809: RuntimeWarning: divide by zero encountered in log\n",
      "  return -self.Nsample*np.sum(np.log(Omega))\n",
      "/home/cke/miniconda3/envs/BLADE/lib/python3.10/site-packages/Deconvolution/BLADE.py:863: RuntimeWarning: invalid value encountered in double_scalars\n",
      "  return PX+PY+PF-QX-QF\n",
      "/home/cke/miniconda3/envs/BLADE/lib/python3.10/site-packages/Deconvolution/BLADE.py:809: RuntimeWarning: divide by zero encountered in log\n",
      "  return -self.Nsample*np.sum(np.log(Omega))\n",
      "/home/cke/miniconda3/envs/BLADE/lib/python3.10/site-packages/Deconvolution/BLADE.py:863: RuntimeWarning: invalid value encountered in double_scalars\n",
      "  return PX+PY+PF-QX-QF\n",
      "/home/cke/miniconda3/envs/BLADE/lib/python3.10/site-packages/Deconvolution/BLADE.py:809: RuntimeWarning: divide by zero encountered in log\n",
      "  return -self.Nsample*np.sum(np.log(Omega))\n",
      "/home/cke/miniconda3/envs/BLADE/lib/python3.10/site-packages/Deconvolution/BLADE.py:863: RuntimeWarning: invalid value encountered in double_scalars\n",
      "  return PX+PY+PF-QX-QF\n",
      "/home/cke/miniconda3/envs/BLADE/lib/python3.10/site-packages/Deconvolution/BLADE.py:809: RuntimeWarning: divide by zero encountered in log\n",
      "  return -self.Nsample*np.sum(np.log(Omega))\n",
      "/home/cke/miniconda3/envs/BLADE/lib/python3.10/site-packages/Deconvolution/BLADE.py:863: RuntimeWarning: invalid value encountered in double_scalars\n",
      "  return PX+PY+PF-QX-QF\n",
      "/home/cke/miniconda3/envs/BLADE/lib/python3.10/site-packages/Deconvolution/BLADE.py:809: RuntimeWarning: divide by zero encountered in log\n",
      "  return -self.Nsample*np.sum(np.log(Omega))\n",
      "/home/cke/miniconda3/envs/BLADE/lib/python3.10/site-packages/Deconvolution/BLADE.py:863: RuntimeWarning: invalid value encountered in double_scalars\n",
      "  return PX+PY+PF-QX-QF\n",
      "/home/cke/miniconda3/envs/BLADE/lib/python3.10/site-packages/Deconvolution/BLADE.py:589: NumbaPerformanceWarning: \u001b[1m\u001b[1m\u001b[1m\u001b[1mnp.dot() is faster on contiguous arrays, called on (array(float64, 1d, C), array(float64, 2d, A))\u001b[0m\u001b[0m\u001b[0m\u001b[0m\n",
      "  g_Exp = g_Exp_Beta(Nu, Omega, Beta, B0, Ngene, Ncell, Nsample)\n",
      "/home/cke/miniconda3/envs/BLADE/lib/python3.10/site-packages/Deconvolution/BLADE.py:589: NumbaPerformanceWarning: \u001b[1m\u001b[1m\u001b[1m\u001b[1mnp.dot() is faster on contiguous arrays, called on (array(float64, 1d, C), array(float64, 2d, A))\u001b[0m\u001b[0m\u001b[0m\u001b[0m\n",
      "  g_Exp = g_Exp_Beta(Nu, Omega, Beta, B0, Ngene, Ncell, Nsample)\n",
      "/home/cke/miniconda3/envs/BLADE/lib/python3.10/site-packages/Deconvolution/BLADE.py:589: NumbaPerformanceWarning: \u001b[1m\u001b[1m\u001b[1m\u001b[1mnp.dot() is faster on contiguous arrays, called on (array(float64, 1d, C), array(float64, 2d, A))\u001b[0m\u001b[0m\u001b[0m\u001b[0m\n",
      "  g_Exp = g_Exp_Beta(Nu, Omega, Beta, B0, Ngene, Ncell, Nsample)\n",
      "/home/cke/miniconda3/envs/BLADE/lib/python3.10/site-packages/Deconvolution/BLADE.py:589: NumbaPerformanceWarning: \u001b[1m\u001b[1m\u001b[1m\u001b[1mnp.dot() is faster on contiguous arrays, called on (array(float64, 1d, C), array(float64, 2d, A))\u001b[0m\u001b[0m\u001b[0m\u001b[0m\n",
      "  g_Exp = g_Exp_Beta(Nu, Omega, Beta, B0, Ngene, Ncell, Nsample)\n",
      "/home/cke/miniconda3/envs/BLADE/lib/python3.10/site-packages/Deconvolution/BLADE.py:589: NumbaPerformanceWarning: \u001b[1m\u001b[1m\u001b[1m\u001b[1mnp.dot() is faster on contiguous arrays, called on (array(float64, 1d, C), array(float64, 2d, A))\u001b[0m\u001b[0m\u001b[0m\u001b[0m\n",
      "  g_Exp = g_Exp_Beta(Nu, Omega, Beta, B0, Ngene, Ncell, Nsample)\n",
      "/home/cke/miniconda3/envs/BLADE/lib/python3.10/site-packages/Deconvolution/BLADE.py:589: NumbaPerformanceWarning: \u001b[1m\u001b[1m\u001b[1m\u001b[1mnp.dot() is faster on contiguous arrays, called on (array(float64, 1d, C), array(float64, 2d, A))\u001b[0m\u001b[0m\u001b[0m\u001b[0m\n",
      "  g_Exp = g_Exp_Beta(Nu, Omega, Beta, B0, Ngene, Ncell, Nsample)\n",
      "/home/cke/miniconda3/envs/BLADE/lib/python3.10/site-packages/Deconvolution/BLADE.py:589: NumbaPerformanceWarning: \u001b[1m\u001b[1m\u001b[1m\u001b[1mnp.dot() is faster on contiguous arrays, called on (array(float64, 1d, C), array(float64, 2d, A))\u001b[0m\u001b[0m\u001b[0m\u001b[0m\n",
      "  g_Exp = g_Exp_Beta(Nu, Omega, Beta, B0, Ngene, Ncell, Nsample)\n",
      "/home/cke/miniconda3/envs/BLADE/lib/python3.10/site-packages/Deconvolution/BLADE.py:589: NumbaPerformanceWarning: \u001b[1m\u001b[1m\u001b[1m\u001b[1mnp.dot() is faster on contiguous arrays, called on (array(float64, 1d, C), array(float64, 2d, A))\u001b[0m\u001b[0m\u001b[0m\u001b[0m\n",
      "  g_Exp = g_Exp_Beta(Nu, Omega, Beta, B0, Ngene, Ncell, Nsample)\n",
      "/home/cke/miniconda3/envs/BLADE/lib/python3.10/site-packages/Deconvolution/BLADE.py:589: NumbaPerformanceWarning: \u001b[1m\u001b[1m\u001b[1m\u001b[1mnp.dot() is faster on contiguous arrays, called on (array(float64, 1d, C), array(float64, 2d, A))\u001b[0m\u001b[0m\u001b[0m\u001b[0m\n",
      "  g_Exp = g_Exp_Beta(Nu, Omega, Beta, B0, Ngene, Ncell, Nsample)\n",
      "/home/cke/miniconda3/envs/BLADE/lib/python3.10/site-packages/Deconvolution/BLADE.py:589: NumbaPerformanceWarning: \u001b[1m\u001b[1m\u001b[1m\u001b[1mnp.dot() is faster on contiguous arrays, called on (array(float64, 1d, C), array(float64, 2d, A))\u001b[0m\u001b[0m\u001b[0m\u001b[0m\n",
      "  g_Exp = g_Exp_Beta(Nu, Omega, Beta, B0, Ngene, Ncell, Nsample)\n"
     ]
    },
    {
     "name": "stderr",
     "output_type": "stream",
     "text": [
      "/home/cke/miniconda3/envs/BLADE/lib/python3.10/site-packages/Deconvolution/BLADE.py:809: RuntimeWarning: divide by zero encountered in log\n",
      "  return -self.Nsample*np.sum(np.log(Omega))\n",
      "/home/cke/miniconda3/envs/BLADE/lib/python3.10/site-packages/Deconvolution/BLADE.py:863: RuntimeWarning: invalid value encountered in double_scalars\n",
      "  return PX+PY+PF-QX-QF\n",
      "/home/cke/miniconda3/envs/BLADE/lib/python3.10/site-packages/Deconvolution/BLADE.py:809: RuntimeWarning: divide by zero encountered in log\n",
      "  return -self.Nsample*np.sum(np.log(Omega))\n",
      "/home/cke/miniconda3/envs/BLADE/lib/python3.10/site-packages/Deconvolution/BLADE.py:863: RuntimeWarning: invalid value encountered in double_scalars\n",
      "  return PX+PY+PF-QX-QF\n",
      "/home/cke/miniconda3/envs/BLADE/lib/python3.10/site-packages/Deconvolution/BLADE.py:809: RuntimeWarning: divide by zero encountered in log\n",
      "  return -self.Nsample*np.sum(np.log(Omega))\n",
      "/home/cke/miniconda3/envs/BLADE/lib/python3.10/site-packages/Deconvolution/BLADE.py:863: RuntimeWarning: invalid value encountered in double_scalars\n",
      "  return PX+PY+PF-QX-QF\n",
      "/home/cke/miniconda3/envs/BLADE/lib/python3.10/site-packages/Deconvolution/BLADE.py:809: RuntimeWarning: divide by zero encountered in log\n",
      "  return -self.Nsample*np.sum(np.log(Omega))\n",
      "/home/cke/miniconda3/envs/BLADE/lib/python3.10/site-packages/Deconvolution/BLADE.py:863: RuntimeWarning: invalid value encountered in double_scalars\n",
      "  return PX+PY+PF-QX-QF\n",
      "/home/cke/miniconda3/envs/BLADE/lib/python3.10/site-packages/Deconvolution/BLADE.py:809: RuntimeWarning: divide by zero encountered in log\n",
      "  return -self.Nsample*np.sum(np.log(Omega))\n",
      "/home/cke/miniconda3/envs/BLADE/lib/python3.10/site-packages/Deconvolution/BLADE.py:863: RuntimeWarning: invalid value encountered in double_scalars\n",
      "  return PX+PY+PF-QX-QF\n",
      "/home/cke/miniconda3/envs/BLADE/lib/python3.10/site-packages/Deconvolution/BLADE.py:809: RuntimeWarning: divide by zero encountered in log\n",
      "  return -self.Nsample*np.sum(np.log(Omega))\n",
      "/home/cke/miniconda3/envs/BLADE/lib/python3.10/site-packages/Deconvolution/BLADE.py:863: RuntimeWarning: invalid value encountered in double_scalars\n",
      "  return PX+PY+PF-QX-QF\n",
      "/home/cke/miniconda3/envs/BLADE/lib/python3.10/site-packages/Deconvolution/BLADE.py:809: RuntimeWarning: divide by zero encountered in log\n",
      "  return -self.Nsample*np.sum(np.log(Omega))\n",
      "/home/cke/miniconda3/envs/BLADE/lib/python3.10/site-packages/Deconvolution/BLADE.py:863: RuntimeWarning: invalid value encountered in double_scalars\n",
      "  return PX+PY+PF-QX-QF\n",
      "/home/cke/miniconda3/envs/BLADE/lib/python3.10/site-packages/Deconvolution/BLADE.py:809: RuntimeWarning: divide by zero encountered in log\n",
      "  return -self.Nsample*np.sum(np.log(Omega))\n",
      "/home/cke/miniconda3/envs/BLADE/lib/python3.10/site-packages/Deconvolution/BLADE.py:863: RuntimeWarning: invalid value encountered in double_scalars\n",
      "  return PX+PY+PF-QX-QF\n",
      "/home/cke/miniconda3/envs/BLADE/lib/python3.10/site-packages/Deconvolution/BLADE.py:809: RuntimeWarning: divide by zero encountered in log\n",
      "  return -self.Nsample*np.sum(np.log(Omega))\n",
      "/home/cke/miniconda3/envs/BLADE/lib/python3.10/site-packages/Deconvolution/BLADE.py:863: RuntimeWarning: invalid value encountered in double_scalars\n",
      "  return PX+PY+PF-QX-QF\n",
      "/home/cke/miniconda3/envs/BLADE/lib/python3.10/site-packages/Deconvolution/BLADE.py:809: RuntimeWarning: divide by zero encountered in log\n",
      "  return -self.Nsample*np.sum(np.log(Omega))\n",
      "/home/cke/miniconda3/envs/BLADE/lib/python3.10/site-packages/Deconvolution/BLADE.py:863: RuntimeWarning: invalid value encountered in double_scalars\n",
      "  return PX+PY+PF-QX-QF\n",
      "/home/cke/miniconda3/envs/BLADE/lib/python3.10/site-packages/joblib/externals/loky/process_executor.py:702: UserWarning: A worker stopped while some jobs were given to the executor. This can be caused by a too short worker timeout or by a memory leak.\n",
      "  warnings.warn(\n"
     ]
    },
    {
     "name": "stdout",
     "output_type": "stream",
     "text": [
      "No feature filtering is done (fsel = 0)\n"
     ]
    },
    {
     "name": "stderr",
     "output_type": "stream",
     "text": [
      "/home/cke/miniconda3/envs/BLADE/lib/python3.10/site-packages/Deconvolution/BLADE.py:809: RuntimeWarning: divide by zero encountered in log\n",
      "  return -self.Nsample*np.sum(np.log(Omega))\n",
      "/home/cke/miniconda3/envs/BLADE/lib/python3.10/site-packages/Deconvolution/BLADE.py:863: RuntimeWarning: invalid value encountered in double_scalars\n",
      "  return PX+PY+PF-QX-QF\n",
      "/home/cke/miniconda3/envs/BLADE/lib/python3.10/site-packages/Deconvolution/BLADE.py:809: RuntimeWarning: divide by zero encountered in log\n",
      "  return -self.Nsample*np.sum(np.log(Omega))\n",
      "/home/cke/miniconda3/envs/BLADE/lib/python3.10/site-packages/Deconvolution/BLADE.py:863: RuntimeWarning: invalid value encountered in double_scalars\n",
      "  return PX+PY+PF-QX-QF\n",
      "/home/cke/miniconda3/envs/BLADE/lib/python3.10/site-packages/Deconvolution/BLADE.py:809: RuntimeWarning: divide by zero encountered in log\n",
      "  return -self.Nsample*np.sum(np.log(Omega))\n",
      "/home/cke/miniconda3/envs/BLADE/lib/python3.10/site-packages/Deconvolution/BLADE.py:863: RuntimeWarning: invalid value encountered in double_scalars\n",
      "  return PX+PY+PF-QX-QF\n",
      "/home/cke/miniconda3/envs/BLADE/lib/python3.10/site-packages/Deconvolution/BLADE.py:589: NumbaPerformanceWarning: \u001b[1m\u001b[1m\u001b[1m\u001b[1mnp.dot() is faster on contiguous arrays, called on (array(float64, 1d, C), array(float64, 2d, A))\u001b[0m\u001b[0m\u001b[0m\u001b[0m\n",
      "  g_Exp = g_Exp_Beta(Nu, Omega, Beta, B0, Ngene, Ncell, Nsample)\n",
      "/home/cke/miniconda3/envs/BLADE/lib/python3.10/site-packages/Deconvolution/BLADE.py:589: NumbaPerformanceWarning: \u001b[1m\u001b[1m\u001b[1m\u001b[1mnp.dot() is faster on contiguous arrays, called on (array(float64, 1d, C), array(float64, 2d, A))\u001b[0m\u001b[0m\u001b[0m\u001b[0m\n",
      "  g_Exp = g_Exp_Beta(Nu, Omega, Beta, B0, Ngene, Ncell, Nsample)\n",
      "/home/cke/miniconda3/envs/BLADE/lib/python3.10/site-packages/Deconvolution/BLADE.py:589: NumbaPerformanceWarning: \u001b[1m\u001b[1m\u001b[1m\u001b[1mnp.dot() is faster on contiguous arrays, called on (array(float64, 1d, C), array(float64, 2d, A))\u001b[0m\u001b[0m\u001b[0m\u001b[0m\n",
      "  g_Exp = g_Exp_Beta(Nu, Omega, Beta, B0, Ngene, Ncell, Nsample)\n",
      "[Parallel(n_jobs=10)]: Done   5 tasks      | elapsed:  5.0min\n",
      "/home/cke/miniconda3/envs/BLADE/lib/python3.10/site-packages/Deconvolution/BLADE.py:809: RuntimeWarning: divide by zero encountered in log\n",
      "  return -self.Nsample*np.sum(np.log(Omega))\n",
      "/home/cke/miniconda3/envs/BLADE/lib/python3.10/site-packages/Deconvolution/BLADE.py:863: RuntimeWarning: invalid value encountered in double_scalars\n",
      "  return PX+PY+PF-QX-QF\n",
      "/home/cke/miniconda3/envs/BLADE/lib/python3.10/site-packages/Deconvolution/BLADE.py:809: RuntimeWarning: divide by zero encountered in log\n",
      "  return -self.Nsample*np.sum(np.log(Omega))\n",
      "/home/cke/miniconda3/envs/BLADE/lib/python3.10/site-packages/Deconvolution/BLADE.py:863: RuntimeWarning: invalid value encountered in double_scalars\n",
      "  return PX+PY+PF-QX-QF\n",
      "/home/cke/miniconda3/envs/BLADE/lib/python3.10/site-packages/Deconvolution/BLADE.py:809: RuntimeWarning: divide by zero encountered in log\n",
      "  return -self.Nsample*np.sum(np.log(Omega))\n",
      "/home/cke/miniconda3/envs/BLADE/lib/python3.10/site-packages/Deconvolution/BLADE.py:863: RuntimeWarning: invalid value encountered in double_scalars\n",
      "  return PX+PY+PF-QX-QF\n",
      "/home/cke/miniconda3/envs/BLADE/lib/python3.10/site-packages/Deconvolution/BLADE.py:809: RuntimeWarning: divide by zero encountered in log\n",
      "  return -self.Nsample*np.sum(np.log(Omega))\n",
      "/home/cke/miniconda3/envs/BLADE/lib/python3.10/site-packages/Deconvolution/BLADE.py:863: RuntimeWarning: invalid value encountered in double_scalars\n",
      "  return PX+PY+PF-QX-QF\n",
      "/home/cke/miniconda3/envs/BLADE/lib/python3.10/site-packages/Deconvolution/BLADE.py:809: RuntimeWarning: divide by zero encountered in log\n",
      "  return -self.Nsample*np.sum(np.log(Omega))\n",
      "/home/cke/miniconda3/envs/BLADE/lib/python3.10/site-packages/Deconvolution/BLADE.py:863: RuntimeWarning: invalid value encountered in double_scalars\n",
      "  return PX+PY+PF-QX-QF\n",
      "/home/cke/miniconda3/envs/BLADE/lib/python3.10/site-packages/Deconvolution/BLADE.py:589: NumbaPerformanceWarning: \u001b[1m\u001b[1m\u001b[1m\u001b[1mnp.dot() is faster on contiguous arrays, called on (array(float64, 1d, C), array(float64, 2d, A))\u001b[0m\u001b[0m\u001b[0m\u001b[0m\n",
      "  g_Exp = g_Exp_Beta(Nu, Omega, Beta, B0, Ngene, Ncell, Nsample)\n",
      "/home/cke/miniconda3/envs/BLADE/lib/python3.10/site-packages/Deconvolution/BLADE.py:589: NumbaPerformanceWarning: \u001b[1m\u001b[1m\u001b[1m\u001b[1mnp.dot() is faster on contiguous arrays, called on (array(float64, 1d, C), array(float64, 2d, A))\u001b[0m\u001b[0m\u001b[0m\u001b[0m\n",
      "  g_Exp = g_Exp_Beta(Nu, Omega, Beta, B0, Ngene, Ncell, Nsample)\n",
      "/home/cke/miniconda3/envs/BLADE/lib/python3.10/site-packages/Deconvolution/BLADE.py:809: RuntimeWarning: divide by zero encountered in log\n",
      "  return -self.Nsample*np.sum(np.log(Omega))\n",
      "/home/cke/miniconda3/envs/BLADE/lib/python3.10/site-packages/Deconvolution/BLADE.py:863: RuntimeWarning: invalid value encountered in double_scalars\n",
      "  return PX+PY+PF-QX-QF\n",
      "/home/cke/miniconda3/envs/BLADE/lib/python3.10/site-packages/Deconvolution/BLADE.py:809: RuntimeWarning: divide by zero encountered in log\n",
      "  return -self.Nsample*np.sum(np.log(Omega))\n",
      "/home/cke/miniconda3/envs/BLADE/lib/python3.10/site-packages/Deconvolution/BLADE.py:863: RuntimeWarning: invalid value encountered in double_scalars\n",
      "  return PX+PY+PF-QX-QF\n",
      "/home/cke/miniconda3/envs/BLADE/lib/python3.10/site-packages/Deconvolution/BLADE.py:809: RuntimeWarning: divide by zero encountered in log\n",
      "  return -self.Nsample*np.sum(np.log(Omega))\n",
      "/home/cke/miniconda3/envs/BLADE/lib/python3.10/site-packages/Deconvolution/BLADE.py:863: RuntimeWarning: invalid value encountered in double_scalars\n",
      "  return PX+PY+PF-QX-QF\n",
      "/home/cke/miniconda3/envs/BLADE/lib/python3.10/site-packages/Deconvolution/BLADE.py:809: RuntimeWarning: divide by zero encountered in log\n",
      "  return -self.Nsample*np.sum(np.log(Omega))\n",
      "/home/cke/miniconda3/envs/BLADE/lib/python3.10/site-packages/Deconvolution/BLADE.py:863: RuntimeWarning: invalid value encountered in double_scalars\n",
      "  return PX+PY+PF-QX-QF\n",
      "/home/cke/miniconda3/envs/BLADE/lib/python3.10/site-packages/Deconvolution/BLADE.py:589: NumbaPerformanceWarning: \u001b[1m\u001b[1m\u001b[1m\u001b[1mnp.dot() is faster on contiguous arrays, called on (array(float64, 1d, C), array(float64, 2d, A))\u001b[0m\u001b[0m\u001b[0m\u001b[0m\n",
      "  g_Exp = g_Exp_Beta(Nu, Omega, Beta, B0, Ngene, Ncell, Nsample)\n",
      "/home/cke/miniconda3/envs/BLADE/lib/python3.10/site-packages/Deconvolution/BLADE.py:809: RuntimeWarning: divide by zero encountered in log\n",
      "  return -self.Nsample*np.sum(np.log(Omega))\n",
      "/home/cke/miniconda3/envs/BLADE/lib/python3.10/site-packages/Deconvolution/BLADE.py:863: RuntimeWarning: invalid value encountered in double_scalars\n",
      "  return PX+PY+PF-QX-QF\n",
      "/home/cke/miniconda3/envs/BLADE/lib/python3.10/site-packages/Deconvolution/BLADE.py:809: RuntimeWarning: divide by zero encountered in log\n",
      "  return -self.Nsample*np.sum(np.log(Omega))\n",
      "/home/cke/miniconda3/envs/BLADE/lib/python3.10/site-packages/Deconvolution/BLADE.py:863: RuntimeWarning: invalid value encountered in double_scalars\n",
      "  return PX+PY+PF-QX-QF\n",
      "/home/cke/miniconda3/envs/BLADE/lib/python3.10/site-packages/Deconvolution/BLADE.py:809: RuntimeWarning: divide by zero encountered in log\n",
      "  return -self.Nsample*np.sum(np.log(Omega))\n",
      "/home/cke/miniconda3/envs/BLADE/lib/python3.10/site-packages/Deconvolution/BLADE.py:863: RuntimeWarning: invalid value encountered in double_scalars\n",
      "  return PX+PY+PF-QX-QF\n",
      "/home/cke/miniconda3/envs/BLADE/lib/python3.10/site-packages/Deconvolution/BLADE.py:589: NumbaPerformanceWarning: \u001b[1m\u001b[1m\u001b[1m\u001b[1mnp.dot() is faster on contiguous arrays, called on (array(float64, 1d, C), array(float64, 2d, A))\u001b[0m\u001b[0m\u001b[0m\u001b[0m\n",
      "  g_Exp = g_Exp_Beta(Nu, Omega, Beta, B0, Ngene, Ncell, Nsample)\n",
      "/home/cke/miniconda3/envs/BLADE/lib/python3.10/site-packages/Deconvolution/BLADE.py:589: NumbaPerformanceWarning: \u001b[1m\u001b[1m\u001b[1m\u001b[1mnp.dot() is faster on contiguous arrays, called on (array(float64, 1d, C), array(float64, 2d, A))\u001b[0m\u001b[0m\u001b[0m\u001b[0m\n",
      "  g_Exp = g_Exp_Beta(Nu, Omega, Beta, B0, Ngene, Ncell, Nsample)\n",
      "/home/cke/miniconda3/envs/BLADE/lib/python3.10/site-packages/Deconvolution/BLADE.py:809: RuntimeWarning: divide by zero encountered in log\n",
      "  return -self.Nsample*np.sum(np.log(Omega))\n",
      "/home/cke/miniconda3/envs/BLADE/lib/python3.10/site-packages/Deconvolution/BLADE.py:863: RuntimeWarning: invalid value encountered in double_scalars\n",
      "  return PX+PY+PF-QX-QF\n"
     ]
    },
    {
     "name": "stderr",
     "output_type": "stream",
     "text": [
      "/home/cke/miniconda3/envs/BLADE/lib/python3.10/site-packages/Deconvolution/BLADE.py:809: RuntimeWarning: divide by zero encountered in log\n",
      "  return -self.Nsample*np.sum(np.log(Omega))\n",
      "/home/cke/miniconda3/envs/BLADE/lib/python3.10/site-packages/Deconvolution/BLADE.py:863: RuntimeWarning: invalid value encountered in double_scalars\n",
      "  return PX+PY+PF-QX-QF\n",
      "/home/cke/miniconda3/envs/BLADE/lib/python3.10/site-packages/Deconvolution/BLADE.py:809: RuntimeWarning: divide by zero encountered in log\n",
      "  return -self.Nsample*np.sum(np.log(Omega))\n",
      "/home/cke/miniconda3/envs/BLADE/lib/python3.10/site-packages/Deconvolution/BLADE.py:863: RuntimeWarning: invalid value encountered in double_scalars\n",
      "  return PX+PY+PF-QX-QF\n",
      "[Parallel(n_jobs=10)]: Done  12 tasks      | elapsed: 19.3min\n",
      "/home/cke/miniconda3/envs/BLADE/lib/python3.10/site-packages/Deconvolution/BLADE.py:589: NumbaPerformanceWarning: \u001b[1m\u001b[1m\u001b[1m\u001b[1mnp.dot() is faster on contiguous arrays, called on (array(float64, 1d, C), array(float64, 2d, A))\u001b[0m\u001b[0m\u001b[0m\u001b[0m\n",
      "  g_Exp = g_Exp_Beta(Nu, Omega, Beta, B0, Ngene, Ncell, Nsample)\n",
      "/home/cke/miniconda3/envs/BLADE/lib/python3.10/site-packages/Deconvolution/BLADE.py:809: RuntimeWarning: divide by zero encountered in log\n",
      "  return -self.Nsample*np.sum(np.log(Omega))\n",
      "/home/cke/miniconda3/envs/BLADE/lib/python3.10/site-packages/Deconvolution/BLADE.py:863: RuntimeWarning: invalid value encountered in double_scalars\n",
      "  return PX+PY+PF-QX-QF\n",
      "/home/cke/miniconda3/envs/BLADE/lib/python3.10/site-packages/Deconvolution/BLADE.py:809: RuntimeWarning: divide by zero encountered in log\n",
      "  return -self.Nsample*np.sum(np.log(Omega))\n",
      "/home/cke/miniconda3/envs/BLADE/lib/python3.10/site-packages/Deconvolution/BLADE.py:863: RuntimeWarning: invalid value encountered in double_scalars\n",
      "  return PX+PY+PF-QX-QF\n",
      "/home/cke/miniconda3/envs/BLADE/lib/python3.10/site-packages/Deconvolution/BLADE.py:809: RuntimeWarning: divide by zero encountered in log\n",
      "  return -self.Nsample*np.sum(np.log(Omega))\n",
      "/home/cke/miniconda3/envs/BLADE/lib/python3.10/site-packages/Deconvolution/BLADE.py:863: RuntimeWarning: invalid value encountered in double_scalars\n",
      "  return PX+PY+PF-QX-QF\n",
      "/home/cke/miniconda3/envs/BLADE/lib/python3.10/site-packages/Deconvolution/BLADE.py:809: RuntimeWarning: divide by zero encountered in log\n",
      "  return -self.Nsample*np.sum(np.log(Omega))\n",
      "/home/cke/miniconda3/envs/BLADE/lib/python3.10/site-packages/Deconvolution/BLADE.py:863: RuntimeWarning: invalid value encountered in double_scalars\n",
      "  return PX+PY+PF-QX-QF\n",
      "/home/cke/miniconda3/envs/BLADE/lib/python3.10/site-packages/Deconvolution/BLADE.py:809: RuntimeWarning: divide by zero encountered in log\n",
      "  return -self.Nsample*np.sum(np.log(Omega))\n",
      "/home/cke/miniconda3/envs/BLADE/lib/python3.10/site-packages/Deconvolution/BLADE.py:863: RuntimeWarning: invalid value encountered in double_scalars\n",
      "  return PX+PY+PF-QX-QF\n",
      "/home/cke/miniconda3/envs/BLADE/lib/python3.10/site-packages/Deconvolution/BLADE.py:809: RuntimeWarning: divide by zero encountered in log\n",
      "  return -self.Nsample*np.sum(np.log(Omega))\n",
      "/home/cke/miniconda3/envs/BLADE/lib/python3.10/site-packages/Deconvolution/BLADE.py:863: RuntimeWarning: invalid value encountered in double_scalars\n",
      "  return PX+PY+PF-QX-QF\n",
      "[Parallel(n_jobs=10)]: Done  21 tasks      | elapsed: 30.3min\n",
      "/home/cke/miniconda3/envs/BLADE/lib/python3.10/site-packages/Deconvolution/BLADE.py:809: RuntimeWarning: divide by zero encountered in log\n",
      "  return -self.Nsample*np.sum(np.log(Omega))\n",
      "/home/cke/miniconda3/envs/BLADE/lib/python3.10/site-packages/Deconvolution/BLADE.py:863: RuntimeWarning: invalid value encountered in double_scalars\n",
      "  return PX+PY+PF-QX-QF\n",
      "/home/cke/miniconda3/envs/BLADE/lib/python3.10/site-packages/Deconvolution/BLADE.py:809: RuntimeWarning: divide by zero encountered in log\n",
      "  return -self.Nsample*np.sum(np.log(Omega))\n",
      "/home/cke/miniconda3/envs/BLADE/lib/python3.10/site-packages/Deconvolution/BLADE.py:863: RuntimeWarning: invalid value encountered in double_scalars\n",
      "  return PX+PY+PF-QX-QF\n",
      "[Parallel(n_jobs=10)]: Done  30 tasks      | elapsed: 49.4min\n",
      "/home/cke/miniconda3/envs/BLADE/lib/python3.10/site-packages/Deconvolution/BLADE.py:809: RuntimeWarning: divide by zero encountered in log\n",
      "  return -self.Nsample*np.sum(np.log(Omega))\n",
      "/home/cke/miniconda3/envs/BLADE/lib/python3.10/site-packages/Deconvolution/BLADE.py:863: RuntimeWarning: invalid value encountered in double_scalars\n",
      "  return PX+PY+PF-QX-QF\n",
      "[Parallel(n_jobs=10)]: Done  41 tasks      | elapsed: 71.7min\n",
      "[Parallel(n_jobs=10)]: Done  52 tasks      | elapsed: 87.1min\n",
      "/home/cke/miniconda3/envs/BLADE/lib/python3.10/site-packages/Deconvolution/BLADE.py:809: RuntimeWarning: divide by zero encountered in log\n",
      "  return -self.Nsample*np.sum(np.log(Omega))\n",
      "/home/cke/miniconda3/envs/BLADE/lib/python3.10/site-packages/Deconvolution/BLADE.py:863: RuntimeWarning: invalid value encountered in double_scalars\n",
      "  return PX+PY+PF-QX-QF\n",
      "/home/cke/miniconda3/envs/BLADE/lib/python3.10/site-packages/Deconvolution/BLADE.py:589: NumbaPerformanceWarning: \u001b[1m\u001b[1m\u001b[1m\u001b[1mnp.dot() is faster on contiguous arrays, called on (array(float64, 1d, C), array(float64, 2d, A))\u001b[0m\u001b[0m\u001b[0m\u001b[0m\n",
      "  g_Exp = g_Exp_Beta(Nu, Omega, Beta, B0, Ngene, Ncell, Nsample)\n",
      "/home/cke/miniconda3/envs/BLADE/lib/python3.10/site-packages/Deconvolution/BLADE.py:809: RuntimeWarning: divide by zero encountered in log\n",
      "  return -self.Nsample*np.sum(np.log(Omega))\n",
      "/home/cke/miniconda3/envs/BLADE/lib/python3.10/site-packages/Deconvolution/BLADE.py:863: RuntimeWarning: invalid value encountered in double_scalars\n",
      "  return PX+PY+PF-QX-QF\n",
      "/home/cke/miniconda3/envs/BLADE/lib/python3.10/site-packages/Deconvolution/BLADE.py:809: RuntimeWarning: divide by zero encountered in log\n",
      "  return -self.Nsample*np.sum(np.log(Omega))\n",
      "/home/cke/miniconda3/envs/BLADE/lib/python3.10/site-packages/Deconvolution/BLADE.py:863: RuntimeWarning: invalid value encountered in double_scalars\n",
      "  return PX+PY+PF-QX-QF\n",
      "[Parallel(n_jobs=10)]: Done  65 tasks      | elapsed: 117.6min\n",
      "[Parallel(n_jobs=10)]: Done  78 tasks      | elapsed: 134.2min\n",
      "[Parallel(n_jobs=10)]: Done  93 tasks      | elapsed: 144.6min\n",
      "[Parallel(n_jobs=10)]: Done 108 tasks      | elapsed: 164.9min\n",
      "[Parallel(n_jobs=10)]: Done 125 tasks      | elapsed: 186.0min\n",
      "[Parallel(n_jobs=10)]: Done 142 tasks      | elapsed: 214.6min\n",
      "[Parallel(n_jobs=10)]: Done 160 out of 162 | elapsed: 239.8min remaining:  3.0min\n",
      "[Parallel(n_jobs=10)]: Done 162 out of 162 | elapsed: 264.3min finished\n",
      " 20%|██        | 1/5 [4:46:23<19:05:32, 17183.13s/it][Parallel(n_jobs=10)]: Using backend LokyBackend with 10 concurrent workers.\n"
     ]
    },
    {
     "name": "stdout",
     "output_type": "stream",
     "text": [
      "Done optimization, elapsed time (min): 268.43551086187364\n",
      "export to:  /home/cke/Real/TCGAResults/BLADE/fullpipeline_real_Jul28_real_BLADEout_top50DEGs.pickle\n",
      "now with feature selection setup:  top100markers\n",
      "Get mean and std exp!\n",
      "Get common genes!  830\n",
      "cell types:  10\n",
      "bulk samples:  546\n",
      "start BLADE!\n",
      "all of 830 genes are used for optimization.\n",
      "All samples are used during the optimization.\n",
      "Initialization with Support vector regression\n"
     ]
    },
    {
     "name": "stderr",
     "output_type": "stream",
     "text": [
      "[Parallel(n_jobs=10)]: Done   5 tasks      | elapsed:   12.8s\n",
      "[Parallel(n_jobs=10)]: Done  12 tasks      | elapsed:   22.7s\n",
      "[Parallel(n_jobs=10)]: Done  21 tasks      | elapsed:   33.1s\n",
      "[Parallel(n_jobs=10)]: Done  30 tasks      | elapsed:   45.9s\n",
      "[Parallel(n_jobs=10)]: Done  41 tasks      | elapsed:  1.2min\n",
      "[Parallel(n_jobs=10)]: Done  52 tasks      | elapsed:  1.7min\n",
      "[Parallel(n_jobs=10)]: Done  65 tasks      | elapsed:  2.0min\n",
      "[Parallel(n_jobs=10)]: Done  78 tasks      | elapsed:  2.4min\n",
      "[Parallel(n_jobs=10)]: Done  93 tasks      | elapsed:  2.7min\n",
      "[Parallel(n_jobs=10)]: Done 108 tasks      | elapsed:  3.3min\n",
      "[Parallel(n_jobs=10)]: Done 125 tasks      | elapsed:  3.8min\n",
      "[Parallel(n_jobs=10)]: Done 142 tasks      | elapsed:  4.4min\n",
      "[Parallel(n_jobs=10)]: Done 161 tasks      | elapsed:  5.1min\n",
      "[Parallel(n_jobs=10)]: Done 180 tasks      | elapsed:  5.6min\n",
      "[Parallel(n_jobs=10)]: Done 201 tasks      | elapsed:  7.0min\n",
      "[Parallel(n_jobs=10)]: Done 222 tasks      | elapsed:  9.4min\n",
      "[Parallel(n_jobs=10)]: Done 245 tasks      | elapsed: 16.6min\n",
      "[Parallel(n_jobs=10)]: Done 268 tasks      | elapsed: 24.7min\n",
      "[Parallel(n_jobs=10)]: Done 293 tasks      | elapsed: 34.6min\n",
      "[Parallel(n_jobs=10)]: Done 318 tasks      | elapsed: 47.5min\n",
      "[Parallel(n_jobs=10)]: Done 345 tasks      | elapsed: 68.0min\n",
      "[Parallel(n_jobs=10)]: Done 372 tasks      | elapsed: 88.0min\n",
      "[Parallel(n_jobs=10)]: Done 401 tasks      | elapsed: 97.6min\n",
      "[Parallel(n_jobs=10)]: Done 430 tasks      | elapsed: 106.3min\n",
      "[Parallel(n_jobs=10)]: Done 461 tasks      | elapsed: 113.4min\n",
      "[Parallel(n_jobs=10)]: Done 492 tasks      | elapsed: 119.0min\n",
      "[Parallel(n_jobs=10)]: Done 525 tasks      | elapsed: 123.0min\n",
      "[Parallel(n_jobs=10)]: Done 546 out of 546 | elapsed: 131.3min finished\n",
      "[Parallel(n_jobs=10)]: Using backend LokyBackend with 10 concurrent workers.\n"
     ]
    },
    {
     "name": "stdout",
     "output_type": "stream",
     "text": [
      "No feature filtering is done (fsel = 0)\n"
     ]
    },
    {
     "name": "stderr",
     "output_type": "stream",
     "text": [
      "/home/cke/miniconda3/envs/BLADE/lib/python3.10/site-packages/Deconvolution/BLADE.py:809: RuntimeWarning: divide by zero encountered in log\n",
      "  return -self.Nsample*np.sum(np.log(Omega))\n",
      "/home/cke/miniconda3/envs/BLADE/lib/python3.10/site-packages/Deconvolution/BLADE.py:863: RuntimeWarning: invalid value encountered in double_scalars\n",
      "  return PX+PY+PF-QX-QF\n",
      "/home/cke/miniconda3/envs/BLADE/lib/python3.10/site-packages/Deconvolution/BLADE.py:809: RuntimeWarning: divide by zero encountered in log\n",
      "  return -self.Nsample*np.sum(np.log(Omega))\n",
      "/home/cke/miniconda3/envs/BLADE/lib/python3.10/site-packages/Deconvolution/BLADE.py:863: RuntimeWarning: invalid value encountered in double_scalars\n",
      "  return PX+PY+PF-QX-QF\n",
      "/home/cke/miniconda3/envs/BLADE/lib/python3.10/site-packages/Deconvolution/BLADE.py:809: RuntimeWarning: divide by zero encountered in log\n",
      "  return -self.Nsample*np.sum(np.log(Omega))\n",
      "/home/cke/miniconda3/envs/BLADE/lib/python3.10/site-packages/Deconvolution/BLADE.py:863: RuntimeWarning: invalid value encountered in double_scalars\n",
      "  return PX+PY+PF-QX-QF\n",
      "/home/cke/miniconda3/envs/BLADE/lib/python3.10/site-packages/Deconvolution/BLADE.py:809: RuntimeWarning: divide by zero encountered in log\n",
      "  return -self.Nsample*np.sum(np.log(Omega))\n",
      "/home/cke/miniconda3/envs/BLADE/lib/python3.10/site-packages/Deconvolution/BLADE.py:863: RuntimeWarning: invalid value encountered in double_scalars\n",
      "  return PX+PY+PF-QX-QF\n",
      "/home/cke/miniconda3/envs/BLADE/lib/python3.10/site-packages/Deconvolution/BLADE.py:809: RuntimeWarning: divide by zero encountered in log\n",
      "  return -self.Nsample*np.sum(np.log(Omega))\n",
      "/home/cke/miniconda3/envs/BLADE/lib/python3.10/site-packages/Deconvolution/BLADE.py:863: RuntimeWarning: invalid value encountered in double_scalars\n",
      "  return PX+PY+PF-QX-QF\n",
      "/home/cke/miniconda3/envs/BLADE/lib/python3.10/site-packages/Deconvolution/BLADE.py:809: RuntimeWarning: divide by zero encountered in log\n",
      "  return -self.Nsample*np.sum(np.log(Omega))\n",
      "/home/cke/miniconda3/envs/BLADE/lib/python3.10/site-packages/Deconvolution/BLADE.py:863: RuntimeWarning: invalid value encountered in double_scalars\n",
      "  return PX+PY+PF-QX-QF\n",
      "/home/cke/miniconda3/envs/BLADE/lib/python3.10/site-packages/Deconvolution/BLADE.py:809: RuntimeWarning: divide by zero encountered in log\n",
      "  return -self.Nsample*np.sum(np.log(Omega))\n",
      "/home/cke/miniconda3/envs/BLADE/lib/python3.10/site-packages/Deconvolution/BLADE.py:863: RuntimeWarning: invalid value encountered in double_scalars\n",
      "  return PX+PY+PF-QX-QF\n",
      "/home/cke/miniconda3/envs/BLADE/lib/python3.10/site-packages/Deconvolution/BLADE.py:809: RuntimeWarning: divide by zero encountered in log\n",
      "  return -self.Nsample*np.sum(np.log(Omega))\n",
      "/home/cke/miniconda3/envs/BLADE/lib/python3.10/site-packages/Deconvolution/BLADE.py:863: RuntimeWarning: invalid value encountered in double_scalars\n",
      "  return PX+PY+PF-QX-QF\n",
      "/home/cke/miniconda3/envs/BLADE/lib/python3.10/site-packages/Deconvolution/BLADE.py:809: RuntimeWarning: divide by zero encountered in log\n",
      "  return -self.Nsample*np.sum(np.log(Omega))\n",
      "/home/cke/miniconda3/envs/BLADE/lib/python3.10/site-packages/Deconvolution/BLADE.py:863: RuntimeWarning: invalid value encountered in double_scalars\n",
      "  return PX+PY+PF-QX-QF\n",
      "/home/cke/miniconda3/envs/BLADE/lib/python3.10/site-packages/Deconvolution/BLADE.py:809: RuntimeWarning: divide by zero encountered in log\n",
      "  return -self.Nsample*np.sum(np.log(Omega))\n",
      "/home/cke/miniconda3/envs/BLADE/lib/python3.10/site-packages/Deconvolution/BLADE.py:863: RuntimeWarning: invalid value encountered in double_scalars\n",
      "  return PX+PY+PF-QX-QF\n",
      "/home/cke/miniconda3/envs/BLADE/lib/python3.10/site-packages/Deconvolution/BLADE.py:589: NumbaPerformanceWarning: \u001b[1m\u001b[1m\u001b[1m\u001b[1mnp.dot() is faster on contiguous arrays, called on (array(float64, 1d, C), array(float64, 2d, A))\u001b[0m\u001b[0m\u001b[0m\u001b[0m\n",
      "  g_Exp = g_Exp_Beta(Nu, Omega, Beta, B0, Ngene, Ncell, Nsample)\n",
      "/home/cke/miniconda3/envs/BLADE/lib/python3.10/site-packages/Deconvolution/BLADE.py:589: NumbaPerformanceWarning: \u001b[1m\u001b[1m\u001b[1m\u001b[1mnp.dot() is faster on contiguous arrays, called on (array(float64, 1d, C), array(float64, 2d, A))\u001b[0m\u001b[0m\u001b[0m\u001b[0m\n",
      "  g_Exp = g_Exp_Beta(Nu, Omega, Beta, B0, Ngene, Ncell, Nsample)\n",
      "/home/cke/miniconda3/envs/BLADE/lib/python3.10/site-packages/Deconvolution/BLADE.py:589: NumbaPerformanceWarning: \u001b[1m\u001b[1m\u001b[1m\u001b[1mnp.dot() is faster on contiguous arrays, called on (array(float64, 1d, C), array(float64, 2d, A))\u001b[0m\u001b[0m\u001b[0m\u001b[0m\n",
      "  g_Exp = g_Exp_Beta(Nu, Omega, Beta, B0, Ngene, Ncell, Nsample)\n",
      "/home/cke/miniconda3/envs/BLADE/lib/python3.10/site-packages/Deconvolution/BLADE.py:589: NumbaPerformanceWarning: \u001b[1m\u001b[1m\u001b[1m\u001b[1mnp.dot() is faster on contiguous arrays, called on (array(float64, 1d, C), array(float64, 2d, A))\u001b[0m\u001b[0m\u001b[0m\u001b[0m\n",
      "  g_Exp = g_Exp_Beta(Nu, Omega, Beta, B0, Ngene, Ncell, Nsample)\n",
      "/home/cke/miniconda3/envs/BLADE/lib/python3.10/site-packages/Deconvolution/BLADE.py:589: NumbaPerformanceWarning: \u001b[1m\u001b[1m\u001b[1m\u001b[1mnp.dot() is faster on contiguous arrays, called on (array(float64, 1d, C), array(float64, 2d, A))\u001b[0m\u001b[0m\u001b[0m\u001b[0m\n",
      "  g_Exp = g_Exp_Beta(Nu, Omega, Beta, B0, Ngene, Ncell, Nsample)\n",
      "/home/cke/miniconda3/envs/BLADE/lib/python3.10/site-packages/Deconvolution/BLADE.py:589: NumbaPerformanceWarning: \u001b[1m\u001b[1m\u001b[1m\u001b[1mnp.dot() is faster on contiguous arrays, called on (array(float64, 1d, C), array(float64, 2d, A))\u001b[0m\u001b[0m\u001b[0m\u001b[0m\n",
      "  g_Exp = g_Exp_Beta(Nu, Omega, Beta, B0, Ngene, Ncell, Nsample)\n",
      "/home/cke/miniconda3/envs/BLADE/lib/python3.10/site-packages/Deconvolution/BLADE.py:589: NumbaPerformanceWarning: \u001b[1m\u001b[1m\u001b[1m\u001b[1mnp.dot() is faster on contiguous arrays, called on (array(float64, 1d, C), array(float64, 2d, A))\u001b[0m\u001b[0m\u001b[0m\u001b[0m\n",
      "  g_Exp = g_Exp_Beta(Nu, Omega, Beta, B0, Ngene, Ncell, Nsample)\n",
      "/home/cke/miniconda3/envs/BLADE/lib/python3.10/site-packages/Deconvolution/BLADE.py:589: NumbaPerformanceWarning: \u001b[1m\u001b[1m\u001b[1m\u001b[1mnp.dot() is faster on contiguous arrays, called on (array(float64, 1d, C), array(float64, 2d, A))\u001b[0m\u001b[0m\u001b[0m\u001b[0m\n",
      "  g_Exp = g_Exp_Beta(Nu, Omega, Beta, B0, Ngene, Ncell, Nsample)\n",
      "/home/cke/miniconda3/envs/BLADE/lib/python3.10/site-packages/Deconvolution/BLADE.py:589: NumbaPerformanceWarning: \u001b[1m\u001b[1m\u001b[1m\u001b[1mnp.dot() is faster on contiguous arrays, called on (array(float64, 1d, C), array(float64, 2d, A))\u001b[0m\u001b[0m\u001b[0m\u001b[0m\n",
      "  g_Exp = g_Exp_Beta(Nu, Omega, Beta, B0, Ngene, Ncell, Nsample)\n",
      "/home/cke/miniconda3/envs/BLADE/lib/python3.10/site-packages/Deconvolution/BLADE.py:809: RuntimeWarning: divide by zero encountered in log\n",
      "  return -self.Nsample*np.sum(np.log(Omega))\n",
      "/home/cke/miniconda3/envs/BLADE/lib/python3.10/site-packages/Deconvolution/BLADE.py:863: RuntimeWarning: invalid value encountered in double_scalars\n",
      "  return PX+PY+PF-QX-QF\n",
      "/home/cke/miniconda3/envs/BLADE/lib/python3.10/site-packages/Deconvolution/BLADE.py:809: RuntimeWarning: divide by zero encountered in log\n",
      "  return -self.Nsample*np.sum(np.log(Omega))\n",
      "/home/cke/miniconda3/envs/BLADE/lib/python3.10/site-packages/Deconvolution/BLADE.py:863: RuntimeWarning: invalid value encountered in double_scalars\n",
      "  return PX+PY+PF-QX-QF\n",
      "/home/cke/miniconda3/envs/BLADE/lib/python3.10/site-packages/Deconvolution/BLADE.py:809: RuntimeWarning: divide by zero encountered in log\n",
      "  return -self.Nsample*np.sum(np.log(Omega))\n",
      "/home/cke/miniconda3/envs/BLADE/lib/python3.10/site-packages/Deconvolution/BLADE.py:863: RuntimeWarning: invalid value encountered in double_scalars\n",
      "  return PX+PY+PF-QX-QF\n",
      "/home/cke/miniconda3/envs/BLADE/lib/python3.10/site-packages/Deconvolution/BLADE.py:809: RuntimeWarning: divide by zero encountered in log\n",
      "  return -self.Nsample*np.sum(np.log(Omega))\n",
      "/home/cke/miniconda3/envs/BLADE/lib/python3.10/site-packages/Deconvolution/BLADE.py:863: RuntimeWarning: invalid value encountered in double_scalars\n",
      "  return PX+PY+PF-QX-QF\n",
      "/home/cke/miniconda3/envs/BLADE/lib/python3.10/site-packages/Deconvolution/BLADE.py:809: RuntimeWarning: divide by zero encountered in log\n",
      "  return -self.Nsample*np.sum(np.log(Omega))\n",
      "/home/cke/miniconda3/envs/BLADE/lib/python3.10/site-packages/Deconvolution/BLADE.py:863: RuntimeWarning: invalid value encountered in double_scalars\n",
      "  return PX+PY+PF-QX-QF\n",
      "/home/cke/miniconda3/envs/BLADE/lib/python3.10/site-packages/Deconvolution/BLADE.py:809: RuntimeWarning: divide by zero encountered in log\n",
      "  return -self.Nsample*np.sum(np.log(Omega))\n",
      "/home/cke/miniconda3/envs/BLADE/lib/python3.10/site-packages/Deconvolution/BLADE.py:863: RuntimeWarning: invalid value encountered in double_scalars\n",
      "  return PX+PY+PF-QX-QF\n",
      "/home/cke/miniconda3/envs/BLADE/lib/python3.10/site-packages/Deconvolution/BLADE.py:809: RuntimeWarning: divide by zero encountered in log\n",
      "  return -self.Nsample*np.sum(np.log(Omega))\n",
      "/home/cke/miniconda3/envs/BLADE/lib/python3.10/site-packages/Deconvolution/BLADE.py:863: RuntimeWarning: invalid value encountered in double_scalars\n",
      "  return PX+PY+PF-QX-QF\n"
     ]
    },
    {
     "name": "stderr",
     "output_type": "stream",
     "text": [
      "/home/cke/miniconda3/envs/BLADE/lib/python3.10/site-packages/Deconvolution/BLADE.py:809: RuntimeWarning: divide by zero encountered in log\n",
      "  return -self.Nsample*np.sum(np.log(Omega))\n",
      "/home/cke/miniconda3/envs/BLADE/lib/python3.10/site-packages/Deconvolution/BLADE.py:863: RuntimeWarning: invalid value encountered in double_scalars\n",
      "  return PX+PY+PF-QX-QF\n",
      "/home/cke/miniconda3/envs/BLADE/lib/python3.10/site-packages/Deconvolution/BLADE.py:809: RuntimeWarning: divide by zero encountered in log\n",
      "  return -self.Nsample*np.sum(np.log(Omega))\n",
      "/home/cke/miniconda3/envs/BLADE/lib/python3.10/site-packages/Deconvolution/BLADE.py:863: RuntimeWarning: invalid value encountered in double_scalars\n",
      "  return PX+PY+PF-QX-QF\n",
      "/home/cke/miniconda3/envs/BLADE/lib/python3.10/site-packages/Deconvolution/BLADE.py:809: RuntimeWarning: divide by zero encountered in log\n",
      "  return -self.Nsample*np.sum(np.log(Omega))\n",
      "/home/cke/miniconda3/envs/BLADE/lib/python3.10/site-packages/Deconvolution/BLADE.py:863: RuntimeWarning: invalid value encountered in double_scalars\n",
      "  return PX+PY+PF-QX-QF\n",
      "/home/cke/miniconda3/envs/BLADE/lib/python3.10/site-packages/Deconvolution/BLADE.py:809: RuntimeWarning: divide by zero encountered in log\n",
      "  return -self.Nsample*np.sum(np.log(Omega))\n",
      "/home/cke/miniconda3/envs/BLADE/lib/python3.10/site-packages/Deconvolution/BLADE.py:863: RuntimeWarning: invalid value encountered in double_scalars\n",
      "  return PX+PY+PF-QX-QF\n",
      "/home/cke/miniconda3/envs/BLADE/lib/python3.10/site-packages/Deconvolution/BLADE.py:809: RuntimeWarning: divide by zero encountered in log\n",
      "  return -self.Nsample*np.sum(np.log(Omega))\n",
      "/home/cke/miniconda3/envs/BLADE/lib/python3.10/site-packages/Deconvolution/BLADE.py:863: RuntimeWarning: invalid value encountered in double_scalars\n",
      "  return PX+PY+PF-QX-QF\n",
      "/home/cke/miniconda3/envs/BLADE/lib/python3.10/site-packages/Deconvolution/BLADE.py:809: RuntimeWarning: divide by zero encountered in log\n",
      "  return -self.Nsample*np.sum(np.log(Omega))\n",
      "/home/cke/miniconda3/envs/BLADE/lib/python3.10/site-packages/Deconvolution/BLADE.py:863: RuntimeWarning: invalid value encountered in double_scalars\n",
      "  return PX+PY+PF-QX-QF\n",
      "[Parallel(n_jobs=10)]: Done   5 tasks      | elapsed: 19.1min\n",
      "/home/cke/miniconda3/envs/BLADE/lib/python3.10/site-packages/Deconvolution/BLADE.py:809: RuntimeWarning: divide by zero encountered in log\n",
      "  return -self.Nsample*np.sum(np.log(Omega))\n",
      "/home/cke/miniconda3/envs/BLADE/lib/python3.10/site-packages/Deconvolution/BLADE.py:863: RuntimeWarning: invalid value encountered in double_scalars\n",
      "  return PX+PY+PF-QX-QF\n",
      "/home/cke/miniconda3/envs/BLADE/lib/python3.10/site-packages/Deconvolution/BLADE.py:809: RuntimeWarning: divide by zero encountered in log\n",
      "  return -self.Nsample*np.sum(np.log(Omega))\n",
      "/home/cke/miniconda3/envs/BLADE/lib/python3.10/site-packages/Deconvolution/BLADE.py:863: RuntimeWarning: invalid value encountered in double_scalars\n",
      "  return PX+PY+PF-QX-QF\n",
      "/home/cke/miniconda3/envs/BLADE/lib/python3.10/site-packages/Deconvolution/BLADE.py:809: RuntimeWarning: divide by zero encountered in log\n",
      "  return -self.Nsample*np.sum(np.log(Omega))\n",
      "/home/cke/miniconda3/envs/BLADE/lib/python3.10/site-packages/Deconvolution/BLADE.py:863: RuntimeWarning: invalid value encountered in double_scalars\n",
      "  return PX+PY+PF-QX-QF\n",
      "[Parallel(n_jobs=10)]: Done  12 tasks      | elapsed: 34.4min\n",
      "[Parallel(n_jobs=10)]: Done  21 tasks      | elapsed: 58.3min\n",
      "/home/cke/miniconda3/envs/BLADE/lib/python3.10/site-packages/Deconvolution/BLADE.py:809: RuntimeWarning: divide by zero encountered in log\n",
      "  return -self.Nsample*np.sum(np.log(Omega))\n",
      "/home/cke/miniconda3/envs/BLADE/lib/python3.10/site-packages/Deconvolution/BLADE.py:863: RuntimeWarning: invalid value encountered in double_scalars\n",
      "  return PX+PY+PF-QX-QF\n",
      "/home/cke/miniconda3/envs/BLADE/lib/python3.10/site-packages/Deconvolution/BLADE.py:809: RuntimeWarning: divide by zero encountered in log\n",
      "  return -self.Nsample*np.sum(np.log(Omega))\n",
      "/home/cke/miniconda3/envs/BLADE/lib/python3.10/site-packages/Deconvolution/BLADE.py:863: RuntimeWarning: invalid value encountered in double_scalars\n",
      "  return PX+PY+PF-QX-QF\n",
      "[Parallel(n_jobs=10)]: Done  30 tasks      | elapsed: 93.6min\n",
      "[Parallel(n_jobs=10)]: Done  41 tasks      | elapsed: 121.2min\n",
      "[Parallel(n_jobs=10)]: Done  52 tasks      | elapsed: 158.2min\n",
      "[Parallel(n_jobs=10)]: Done  65 tasks      | elapsed: 206.8min\n"
     ]
    }
   ],
   "source": [
    "# testing code block\n",
    "\n",
    "if name == \"unnamed_job\":\n",
    "    print(\"You did not name this job!\\r\")\n",
    "else:\n",
    "    print(name,\" - pipeline initiated! Welcome, contact author for support: kechanglin1998@hotmail.com\\r\")\n",
    "\n",
    "if mode == \"real\":\n",
    "    if path_bulk == False:\n",
    "        raise ValueError(\"no bulk RNAseq data input! LOAD UP YOUR AMMO!\\r\")\n",
    "    main(path_adata,mode,out,out_res,path_label,path_bulk=path_bulk,folder_marker=folder_marker,\n",
    "     name=name,methods=methods,keyword=keyword)\n",
    "elif mode == 'pseudobulk':\n",
    "    main(path_adata,mode,out,out_res,path_label,path_bulk=path_bulk,folder_marker=folder_marker,\n",
    "     name=name,methods=methods,keyword=keyword)\n",
    "# print(\"job submitted! details of arguments used in this run: \",args)\n"
   ]
  },
  {
   "cell_type": "code",
   "execution_count": 44,
   "id": "09cebbe9",
   "metadata": {},
   "outputs": [],
   "source": [
    "# testing code block\n",
    "# pseudobulk\n",
    "path_adata = \"/home/cke/Puram/Puram_scanpy.h5ad\"\n",
    "mode = \"pseudobulk\"\n",
    "out = \"/home/cke/PseudoBulk/InputToWrapper/\"\n",
    "out_res = \"/home/cke/PseudoBulk/Results/\"\n",
    "path_label = \"/home/cke/Puram/scRNAlabels/\"\n",
    "path_bulk = False\n",
    "name = \"fullpipeline_pseudobulk_Jul28_LOT\"\n",
    "folder_marker = \"/home/cke/Puram/markers/\" \n",
    "methods = ['BP']\n",
    "keyword = [\"top\",\"marker\",\"DEG\"]"
   ]
  },
  {
   "cell_type": "code",
   "execution_count": 45,
   "id": "17610b78",
   "metadata": {
    "collapsed": true
   },
   "outputs": [
    {
     "name": "stdout",
     "output_type": "stream",
     "text": [
      "fullpipeline_pseudobulk_Jul28_LOT  - pipeline initiated! Welcome, contact author for support: kechanglin1998@hotmail.com\n",
      "2022-07-28 18:26:45\n",
      "WARNING: adata.X seems to be already log-transformed.\n",
      "running Feature selection!\n",
      "LOT TRAIN: [1 2 3 4 5 6 7 8] TEST: [0]\n",
      "Leaving out:  6\n",
      "LOT TRAIN: [0 2 3 4 5 6 7 8] TEST: [1]\n",
      "Leaving out:  16\n",
      "LOT TRAIN: [0 1 3 4 5 6 7 8] TEST: [2]\n",
      "Leaving out:  17\n",
      "LOT TRAIN: [0 1 2 4 5 6 7 8] TEST: [3]\n",
      "Leaving out:  18\n",
      "LOT TRAIN: [0 1 2 3 5 6 7 8] TEST: [4]\n",
      "Leaving out:  20\n",
      "LOT TRAIN: [0 1 2 3 4 6 7 8] TEST: [5]\n",
      "Leaving out:  22\n",
      "LOT TRAIN: [0 1 2 3 4 5 7 8] TEST: [6]\n",
      "Leaving out:  25\n",
      "LOT TRAIN: [0 1 2 3 4 5 6 8] TEST: [7]\n",
      "Leaving out:  26\n",
      "LOT TRAIN: [0 1 2 3 4 5 6 7] TEST: [8]\n",
      "Leaving out:  28\n",
      "LOT TRAIN: [1 2 3 4 5 6 7 8] TEST: [0]\n",
      "Leaving out:  6\n",
      "LOT TRAIN: [0 2 3 4 5 6 7 8] TEST: [1]\n",
      "Leaving out:  16\n",
      "LOT TRAIN: [0 1 3 4 5 6 7 8] TEST: [2]\n",
      "Leaving out:  17\n",
      "LOT TRAIN: [0 1 2 4 5 6 7 8] TEST: [3]\n",
      "Leaving out:  18\n",
      "LOT TRAIN: [0 1 2 3 5 6 7 8] TEST: [4]\n",
      "Leaving out:  20\n",
      "LOT TRAIN: [0 1 2 3 4 6 7 8] TEST: [5]\n",
      "Leaving out:  22\n",
      "LOT TRAIN: [0 1 2 3 4 5 7 8] TEST: [6]\n",
      "Leaving out:  25\n",
      "LOT TRAIN: [0 1 2 3 4 5 6 8] TEST: [7]\n",
      "Leaving out:  26\n",
      "LOT TRAIN: [0 1 2 3 4 5 6 7] TEST: [8]\n",
      "Leaving out:  28\n"
     ]
    },
    {
     "name": "stderr",
     "output_type": "stream",
     "text": [
      "  0%|                                                                                                          | 0/9 [00:00<?, ?it/s]\n",
      "  0%|                                                                                                          | 0/5 [00:00<?, ?it/s]\u001b[A\n",
      " 20%|███████████████████▌                                                                              | 1/5 [00:30<02:00, 30.05s/it]\u001b[A"
     ]
    },
    {
     "name": "stdout",
     "output_type": "stream",
     "text": [
      "2022-07-28 18:39:11\n",
      "pseudobulk mode: now with feature selection setup: \r",
      " top50DEGs\n",
      "now running in cmd: \r",
      " Rscript /home/cke/runscripts/runBP.r /home/cke/PseudoBulk/InputToWrapper/pseudobulk_LOT6_scRNAtrain.tsv /home/cke/PseudoBulk/InputToWrapper/pseudobulk_LOT6_test.tsv /home/cke/Puram/scRNAlabels/ /home/cke/Puram/markers/top50DEGs_pseudobulk.txt fullpipeline_pseudobulk_Jul28_LOT_pseudobulk_top50DEGs_6LOT /home/cke/PseudoBulk/Results/BayesPrism/ /home/cke/PseudoBulk/Results/ &\n"
     ]
    },
    {
     "name": "stderr",
     "output_type": "stream",
     "text": [
      "Warning message:\n",
      "replacing previous import ‘gplots::lowess’ by ‘stats::lowess’ when loading ‘TED’ \n"
     ]
    },
    {
     "name": "stdout",
     "output_type": "stream",
     "text": [
      "[1] \"running BayesPrism with following args:\"\n",
      "[1] \"/home/cke/PseudoBulk/InputToWrapper/pseudobulk_LOT6_scRNAtrain.tsv\"\n",
      "[2] \"/home/cke/PseudoBulk/InputToWrapper/pseudobulk_LOT6_test.tsv\"      \n",
      "[3] \"/home/cke/Puram/scRNAlabels/\"                                      \n",
      "[4] \"/home/cke/Puram/markers/top50DEGs_pseudobulk.txt\"                  \n",
      "[5] \"fullpipeline_pseudobulk_Jul28_LOT_pseudobulk_top50DEGs_6LOT\"       \n",
      "[6] \"/home/cke/PseudoBulk/Results/BayesPrism/\"                          \n",
      "[7] \"/home/cke/PseudoBulk/Results/\"                                     \n",
      "[8] \"/home/cke/Puram/scRNAlabels/\"                                      \n"
     ]
    },
    {
     "name": "stderr",
     "output_type": "stream",
     "text": [
      "\n",
      " 40%|███████████████████████████████████████▏                                                          | 2/5 [01:00<01:30, 30.05s/it]\u001b[A"
     ]
    },
    {
     "name": "stdout",
     "output_type": "stream",
     "text": [
      "2022-07-28 18:39:41\n",
      "pseudobulk mode: now with feature selection setup: \r",
      " top100markers\n",
      "now running in cmd: \r",
      " Rscript /home/cke/runscripts/runBP.r /home/cke/PseudoBulk/InputToWrapper/pseudobulk_LOT6_scRNAtrain.tsv /home/cke/PseudoBulk/InputToWrapper/pseudobulk_LOT6_test.tsv /home/cke/Puram/scRNAlabels/ /home/cke/Puram/markers/top100markers_de_cor_symbol.txt fullpipeline_pseudobulk_Jul28_LOT_pseudobulk_top100markers_6LOT /home/cke/PseudoBulk/Results/BayesPrism/ /home/cke/PseudoBulk/Results/ &\n"
     ]
    },
    {
     "name": "stderr",
     "output_type": "stream",
     "text": [
      "Warning message:\n",
      "replacing previous import ‘gplots::lowess’ by ‘stats::lowess’ when loading ‘TED’ \n"
     ]
    },
    {
     "name": "stdout",
     "output_type": "stream",
     "text": [
      "[1] \"running BayesPrism with following args:\"\n",
      "[1] \"/home/cke/PseudoBulk/InputToWrapper/pseudobulk_LOT6_scRNAtrain.tsv\"\n",
      "[2] \"/home/cke/PseudoBulk/InputToWrapper/pseudobulk_LOT6_test.tsv\"      \n",
      "[3] \"/home/cke/Puram/scRNAlabels/\"                                      \n",
      "[4] \"/home/cke/Puram/markers/top100markers_de_cor_symbol.txt\"           \n",
      "[5] \"fullpipeline_pseudobulk_Jul28_LOT_pseudobulk_top100markers_6LOT\"   \n",
      "[6] \"/home/cke/PseudoBulk/Results/BayesPrism/\"                          \n",
      "[7] \"/home/cke/PseudoBulk/Results/\"                                     \n",
      "[8] \"/home/cke/Puram/scRNAlabels/\"                                      \n"
     ]
    },
    {
     "name": "stderr",
     "output_type": "stream",
     "text": [
      "Read 458 items\n"
     ]
    },
    {
     "name": "stdout",
     "output_type": "stream",
     "text": [
      "[1] \"Gene symbols detected. Cleaning up genes based on gene symbols. Recommend to use EMSEMBLE IDs for more unique mapping.\"\n",
      "A total of  18  genes from RB chrM chrX chrY  have been excluded \n",
      "A total of  0  lowly expressed genes have been excluded \n",
      "[1] \"removing non-numeric genes...\"\n",
      "[1] \"removing outlier genes...\"\n",
      "Number of outlier genes filtered= 2 \n",
      "[1] \"aligning reference and mixture...\"\n",
      "[1] \"run first sampling\"\n",
      "Start run... This may take a while \n",
      "R Version:  R version 4.1.3 (2022-03-10) \n",
      "\n"
     ]
    },
    {
     "name": "stderr",
     "output_type": "stream",
     "text": [
      "snowfall 1.84-6.2 initialized (using snow 0.4-4): parallel execution on 10 CPUs.\n",
      "\n",
      "\n",
      " 60%|██████████████████████████████████████████████████████████▊                                       | 3/5 [01:30<01:00, 30.05s/it]\u001b[A"
     ]
    },
    {
     "name": "stdout",
     "output_type": "stream",
     "text": [
      "2022-07-28 18:40:11\n",
      "pseudobulk mode: now with feature selection setup: \r",
      " top20markers\n",
      "now running in cmd: \r",
      " Rscript /home/cke/runscripts/runBP.r /home/cke/PseudoBulk/InputToWrapper/pseudobulk_LOT6_scRNAtrain.tsv /home/cke/PseudoBulk/InputToWrapper/pseudobulk_LOT6_test.tsv /home/cke/Puram/scRNAlabels/ /home/cke/Puram/markers/top20markers_de_cor_symbol.txt fullpipeline_pseudobulk_Jul28_LOT_pseudobulk_top20markers_6LOT /home/cke/PseudoBulk/Results/BayesPrism/ /home/cke/PseudoBulk/Results/ &\n"
     ]
    },
    {
     "name": "stderr",
     "output_type": "stream",
     "text": [
      "\n",
      "Stopping cluster\n",
      "\n"
     ]
    },
    {
     "name": "stdout",
     "output_type": "stream",
     "text": [
      "[1] \"merge subtypes\"\n",
      "        Fibroblast tumor B cell myocyte other Macrophage Endothelial T cell\n",
      "Min.         0.354 0.342  0.048       0 0.058      0.014       0.173  0.003\n",
      "1st Qu.      0.354 0.342  0.048       0 0.058      0.014       0.173  0.003\n",
      "Median       0.354 0.342  0.048       0 0.058      0.014       0.173  0.003\n",
      "Mean         0.354 0.342  0.048       0 0.058      0.014       0.173  0.003\n",
      "3rd Qu.      0.354 0.342  0.048       0 0.058      0.014       0.173  0.003\n",
      "Max.         0.354 0.342  0.048       0 0.058      0.014       0.173  0.003\n",
      "        Dendritic  Mast\n",
      "Min.            0 0.007\n",
      "1st Qu.         0 0.007\n",
      "Median          0 0.007\n",
      "Mean            0 0.007\n",
      "3rd Qu.         0 0.007\n",
      "Max.            0 0.007\n",
      "[1] \"pooling information across samples\"\n",
      "Start optimization... This may take a while \n"
     ]
    },
    {
     "name": "stderr",
     "output_type": "stream",
     "text": [
      "Warning message:\n",
      "replacing previous import ‘gplots::lowess’ by ‘stats::lowess’ when loading ‘TED’ \n"
     ]
    },
    {
     "name": "stdout",
     "output_type": "stream",
     "text": [
      "[1] \"running BayesPrism with following args:\"\n",
      "[1] \"/home/cke/PseudoBulk/InputToWrapper/pseudobulk_LOT6_scRNAtrain.tsv\"\n",
      "[2] \"/home/cke/PseudoBulk/InputToWrapper/pseudobulk_LOT6_test.tsv\"      \n",
      "[3] \"/home/cke/Puram/scRNAlabels/\"                                      \n",
      "[4] \"/home/cke/Puram/markers/top20markers_de_cor_symbol.txt\"            \n",
      "[5] \"fullpipeline_pseudobulk_Jul28_LOT_pseudobulk_top20markers_6LOT\"    \n",
      "[6] \"/home/cke/PseudoBulk/Results/BayesPrism/\"                          \n",
      "[7] \"/home/cke/PseudoBulk/Results/\"                                     \n",
      "[8] \"/home/cke/Puram/scRNAlabels/\"                                      \n"
     ]
    },
    {
     "name": "stderr",
     "output_type": "stream",
     "text": [
      "snowfall 1.84-6.2 initialized (using snow 0.4-4): parallel execution on 10 CPUs.\n",
      "\n",
      "Read 898 items\n",
      "\n",
      "Stopping cluster\n",
      "\n"
     ]
    },
    {
     "name": "stdout",
     "output_type": "stream",
     "text": [
      "[1] \"run final sampling\"\n",
      "Start run... This may take a while \n",
      "[1] \"Gene symbols detected. Cleaning up genes based on gene symbols. Recommend to use EMSEMBLE IDs for more unique mapping.\"\n",
      "A total of  40  genes from RB chrM chrX chrY  have been excluded \n",
      "A total of  19  lowly expressed genes have been excluded \n",
      "[1] \"removing non-numeric genes...\"\n",
      "[1] \"removing outlier genes...\"\n",
      "Number of outlier genes filtered= 2 \n",
      "[1] \"aligning reference and mixture...\"\n",
      "[1] \"run first sampling\"\n",
      "Start run... This may take a while \n"
     ]
    },
    {
     "name": "stderr",
     "output_type": "stream",
     "text": [
      "snowfall 1.84-6.2 initialized (using snow 0.4-4): parallel execution on 10 CPUs.\n",
      "\n",
      "\n",
      " 80%|██████████████████████████████████████████████████████████████████████████████▍                   | 4/5 [02:00<00:30, 30.05s/it]\u001b[A"
     ]
    },
    {
     "name": "stdout",
     "output_type": "stream",
     "text": [
      "2022-07-28 18:40:41\n",
      " top100DEGsmode: now with feature selection setup: \n",
      " Rscript /home/cke/runscripts/runBP.r /home/cke/PseudoBulk/InputToWrapper/pseudobulk_LOT6_scRNAtrain.tsv /home/cke/PseudoBulk/InputToWrapper/pseudobulk_LOT6_test.tsv /home/cke/Puram/scRNAlabels/ /home/cke/Puram/markers/top100DEGs_pseudobulk.txt fullpipeline_pseudobulk_Jul28_LOT_pseudobulk_top100DEGs_6LOT /home/cke/PseudoBulk/Results/BayesPrism/ /home/cke/PseudoBulk/Results/ &\n",
      "R Version:  R version 4.1.3 (2022-03-10) \n",
      "\n"
     ]
    },
    {
     "name": "stderr",
     "output_type": "stream",
     "text": [
      "snowfall 1.84-6.2 initialized (using snow 0.4-4): parallel execution on 10 CPUs.\n",
      "\n",
      "Warning message:\n",
      "replacing previous import ‘gplots::lowess’ by ‘stats::lowess’ when loading ‘TED’ \n"
     ]
    },
    {
     "name": "stdout",
     "output_type": "stream",
     "text": [
      "[1] \"running BayesPrism with following args:\"\n",
      "[1] \"/home/cke/PseudoBulk/InputToWrapper/pseudobulk_LOT6_scRNAtrain.tsv\"\n",
      "[2] \"/home/cke/PseudoBulk/InputToWrapper/pseudobulk_LOT6_test.tsv\"      \n",
      "[3] \"/home/cke/Puram/scRNAlabels/\"                                      \n",
      "[4] \"/home/cke/Puram/markers/top100DEGs_pseudobulk.txt\"                 \n",
      "[5] \"fullpipeline_pseudobulk_Jul28_LOT_pseudobulk_top100DEGs_6LOT\"      \n",
      "[6] \"/home/cke/PseudoBulk/Results/BayesPrism/\"                          \n",
      "[7] \"/home/cke/PseudoBulk/Results/\"                                     \n",
      "[8] \"/home/cke/Puram/scRNAlabels/\"                                      \n"
     ]
    },
    {
     "name": "stderr",
     "output_type": "stream",
     "text": [
      "\n",
      "Stopping cluster\n",
      "\n",
      "Warning messages:\n",
      "1: In searchCommandline(parallel, cpus = cpus, type = type, socketHosts = socketHosts,  :\n",
      "  Unknown option on commandline: --file\n",
      "2: In searchCommandline(parallel, cpus = cpus, type = type, socketHosts = socketHosts,  :\n",
      "  Unknown option on commandline: --file\n",
      "3: In searchCommandline(parallel, cpus = cpus, type = type, socketHosts = socketHosts,  :\n",
      "  Unknown option on commandline: --file\n"
     ]
    },
    {
     "name": "stdout",
     "output_type": "stream",
     "text": [
      "        tumor Fibroblast B cell myocyte other Macrophage Endothelial T cell\n",
      "Min.    0.342      0.354  0.048       0 0.058      0.014       0.173  0.003\n",
      "1st Qu. 0.342      0.354  0.048       0 0.058      0.014       0.173  0.003\n",
      "Median  0.342      0.354  0.048       0 0.058      0.014       0.173  0.003\n",
      "Mean    0.342      0.354  0.048       0 0.058      0.014       0.173  0.003\n",
      "3rd Qu. 0.342      0.354  0.048       0 0.058      0.014       0.173  0.003\n",
      "Max.    0.342      0.354  0.048       0 0.058      0.014       0.173  0.003\n",
      "        Dendritic  Mast\n",
      "Min.            0 0.007\n",
      "1st Qu.         0 0.007\n",
      "Median          0 0.007\n",
      "Mean            0 0.007\n",
      "3rd Qu.         0 0.007\n",
      "Max.            0 0.007\n",
      "[1] \"only one mixture sample. vst transformation is NOT feasible\"\n"
     ]
    },
    {
     "name": "stderr",
     "output_type": "stream",
     "text": [
      "\n",
      "Stopping cluster\n",
      "\n"
     ]
    },
    {
     "name": "stdout",
     "output_type": "stream",
     "text": [
      "[1] \"merge subtypes\"\n",
      "        Fibroblast tumor B cell myocyte other Macrophage Endothelial T cell\n",
      "Min.         0.342 0.425  0.033       0 0.027      0.015       0.151  0.001\n",
      "1st Qu.      0.342 0.425  0.033       0 0.027      0.015       0.151  0.001\n",
      "Median       0.342 0.425  0.033       0 0.027      0.015       0.151  0.001\n",
      "Mean         0.342 0.425  0.033       0 0.027      0.015       0.151  0.001\n",
      "3rd Qu.      0.342 0.425  0.033       0 0.027      0.015       0.151  0.001\n",
      "Max.         0.342 0.425  0.033       0 0.027      0.015       0.151  0.001\n",
      "        Dendritic  Mast\n",
      "Min.            0 0.007\n",
      "1st Qu.         0 0.007\n",
      "Median          0 0.007\n",
      "Mean            0 0.007\n",
      "3rd Qu.         0 0.007\n",
      "Max.            0 0.007\n",
      "[1] \"pooling information across samples\"\n",
      "Start optimization... This may take a while \n"
     ]
    },
    {
     "name": "stderr",
     "output_type": "stream",
     "text": [
      "snowfall 1.84-6.2 initialized (using snow 0.4-4): parallel execution on 10 CPUs.\n",
      "\n",
      "\n",
      "100%|██████████████████████████████████████████████████████████████████████████████████████████████████| 5/5 [02:30<00:00, 30.05s/it]\u001b[A\n",
      " 11%|██████████▊                                                                                      | 1/9 [04:30<36:02, 270.36s/it]"
     ]
    },
    {
     "name": "stdout",
     "output_type": "stream",
     "text": [
      "2022-07-28 18:41:11\n",
      "pseudobulk mode: now with feature selection setup: \r",
      " top50markers\n",
      "now running in cmd: \r",
      " Rscript /home/cke/runscripts/runBP.r /home/cke/PseudoBulk/InputToWrapper/pseudobulk_LOT6_scRNAtrain.tsv /home/cke/PseudoBulk/InputToWrapper/pseudobulk_LOT6_test.tsv /home/cke/Puram/scRNAlabels/ /home/cke/Puram/markers/top50markers_de_cor_symbol.txt fullpipeline_pseudobulk_Jul28_LOT_pseudobulk_top50markers_6LOT /home/cke/PseudoBulk/Results/BayesPrism/ /home/cke/PseudoBulk/Results/ &\n"
     ]
    },
    {
     "name": "stderr",
     "output_type": "stream",
     "text": [
      "Read 198 items\n"
     ]
    },
    {
     "name": "stdout",
     "output_type": "stream",
     "text": [
      "[1] \"Gene symbols detected. Cleaning up genes based on gene symbols. Recommend to use EMSEMBLE IDs for more unique mapping.\"\n",
      "A total of  8  genes from RB chrM chrX chrY  have been excluded \n",
      "A total of  3  lowly expressed genes have been excluded \n",
      "[1] \"removing non-numeric genes...\"\n",
      "[1] \"removing outlier genes...\"\n",
      "Number of outlier genes filtered= 2 \n",
      "[1] \"aligning reference and mixture...\"\n",
      "[1] \"run first sampling\"\n",
      "Start run... This may take a while \n"
     ]
    },
    {
     "name": "stderr",
     "output_type": "stream",
     "text": [
      "Warning message:\n",
      "replacing previous import ‘gplots::lowess’ by ‘stats::lowess’ when loading ‘TED’ \n"
     ]
    },
    {
     "name": "stdout",
     "output_type": "stream",
     "text": [
      "[1] \"running BayesPrism with following args:\"\n",
      "[1] \"/home/cke/PseudoBulk/InputToWrapper/pseudobulk_LOT6_scRNAtrain.tsv\"\n",
      "[2] \"/home/cke/PseudoBulk/InputToWrapper/pseudobulk_LOT6_test.tsv\"      \n",
      "[3] \"/home/cke/Puram/scRNAlabels/\"                                      \n",
      "[4] \"/home/cke/Puram/markers/top50markers_de_cor_symbol.txt\"            \n",
      "[5] \"fullpipeline_pseudobulk_Jul28_LOT_pseudobulk_top50markers_6LOT\"    \n",
      "[6] \"/home/cke/PseudoBulk/Results/BayesPrism/\"                          \n",
      "[7] \"/home/cke/PseudoBulk/Results/\"                                     \n",
      "[8] \"/home/cke/Puram/scRNAlabels/\"                                      \n"
     ]
    },
    {
     "name": "stderr",
     "output_type": "stream",
     "text": [
      "\n",
      "Stopping cluster\n",
      "\n"
     ]
    },
    {
     "name": "stdout",
     "output_type": "stream",
     "text": [
      "[1] \"run final sampling\"\n",
      "Start run... This may take a while \n",
      "R Version:  R version 4.1.3 (2022-03-10) \n",
      "\n"
     ]
    },
    {
     "name": "stderr",
     "output_type": "stream",
     "text": [
      "snowfall 1.84-6.2 initialized (using snow 0.4-4): parallel execution on 10 CPUs.\n",
      "\n",
      "snowfall 1.84-6.2 initialized (using snow 0.4-4): parallel execution on 10 CPUs.\n",
      "\n",
      "\n",
      "Stopping cluster\n",
      "\n"
     ]
    },
    {
     "name": "stdout",
     "output_type": "stream",
     "text": [
      "[1] \"merge subtypes\"\n",
      "        Fibroblast tumor B cell myocyte other Macrophage Endothelial T cell\n",
      "Min.         0.372   0.3  0.076       0 0.055      0.033       0.146      0\n",
      "1st Qu.      0.372   0.3  0.076       0 0.055      0.033       0.146      0\n",
      "Median       0.372   0.3  0.076       0 0.055      0.033       0.146      0\n",
      "Mean         0.372   0.3  0.076       0 0.055      0.033       0.146      0\n",
      "3rd Qu.      0.372   0.3  0.076       0 0.055      0.033       0.146      0\n",
      "Max.         0.372   0.3  0.076       0 0.055      0.033       0.146      0\n",
      "        Dendritic  Mast\n",
      "Min.            0 0.019\n",
      "1st Qu.         0 0.019\n",
      "Median          0 0.019\n",
      "Mean            0 0.019\n",
      "3rd Qu.         0 0.019\n",
      "Max.            0 0.019\n",
      "[1] \"pooling information across samples\"\n",
      "Start optimization... This may take a while \n"
     ]
    },
    {
     "name": "stderr",
     "output_type": "stream",
     "text": [
      "snowfall 1.84-6.2 initialized (using snow 0.4-4): parallel execution on 10 CPUs.\n",
      "\n",
      "\n",
      "Stopping cluster\n",
      "\n",
      "Warning messages:\n",
      "1: In searchCommandline(parallel, cpus = cpus, type = type, socketHosts = socketHosts,  :\n",
      "  Unknown option on commandline: --file\n",
      "2: In searchCommandline(parallel, cpus = cpus, type = type, socketHosts = socketHosts,  :\n",
      "  Unknown option on commandline: --file\n",
      "3: In searchCommandline(parallel, cpus = cpus, type = type, socketHosts = socketHosts,  :\n",
      "  Unknown option on commandline: --file\n"
     ]
    },
    {
     "name": "stdout",
     "output_type": "stream",
     "text": [
      "        tumor Fibroblast B cell myocyte other Macrophage Endothelial T cell\n",
      "Min.    0.425      0.342  0.033       0 0.026      0.015       0.151      0\n",
      "1st Qu. 0.425      0.342  0.033       0 0.026      0.015       0.151      0\n",
      "Median  0.425      0.342  0.033       0 0.026      0.015       0.151      0\n",
      "Mean    0.425      0.342  0.033       0 0.026      0.015       0.151      0\n",
      "3rd Qu. 0.425      0.342  0.033       0 0.026      0.015       0.151      0\n",
      "Max.    0.425      0.342  0.033       0 0.026      0.015       0.151      0\n",
      "        Dendritic  Mast\n",
      "Min.            0 0.007\n",
      "1st Qu.         0 0.007\n",
      "Median          0 0.007\n",
      "Mean            0 0.007\n",
      "3rd Qu.         0 0.007\n",
      "Max.            0 0.007\n",
      "[1] \"only one mixture sample. vst transformation is NOT feasible\"\n"
     ]
    },
    {
     "name": "stderr",
     "output_type": "stream",
     "text": [
      "\n",
      "Stopping cluster\n",
      "\n"
     ]
    },
    {
     "name": "stdout",
     "output_type": "stream",
     "text": [
      "[1] \"run final sampling\"\n",
      "Start run... This may take a while \n"
     ]
    },
    {
     "name": "stderr",
     "output_type": "stream",
     "text": [
      "Read 876 items\n",
      "snowfall 1.84-6.2 initialized (using snow 0.4-4): parallel execution on 10 CPUs.\n",
      "\n"
     ]
    },
    {
     "name": "stdout",
     "output_type": "stream",
     "text": [
      "[1] \"Gene symbols detected. Cleaning up genes based on gene symbols. Recommend to use EMSEMBLE IDs for more unique mapping.\"\n",
      "A total of  33  genes from RB chrM chrX chrY  have been excluded \n",
      "A total of  0  lowly expressed genes have been excluded \n",
      "[1] \"removing non-numeric genes...\"\n",
      "[1] \"removing outlier genes...\"\n",
      "Number of outlier genes filtered= 2 \n",
      "[1] \"aligning reference and mixture...\"\n",
      "[1] \"run first sampling\"\n",
      "Start run... This may take a while \n",
      "R Version:  R version 4.1.3 (2022-03-10) \n",
      "\n"
     ]
    },
    {
     "name": "stderr",
     "output_type": "stream",
     "text": [
      "snowfall 1.84-6.2 initialized (using snow 0.4-4): parallel execution on 10 CPUs.\n",
      "\n",
      "\n",
      "Stopping cluster\n",
      "\n",
      "Warning messages:\n",
      "1: In searchCommandline(parallel, cpus = cpus, type = type, socketHosts = socketHosts,  :\n",
      "  Unknown option on commandline: --file\n",
      "2: In searchCommandline(parallel, cpus = cpus, type = type, socketHosts = socketHosts,  :\n",
      "  Unknown option on commandline: --file\n",
      "3: In searchCommandline(parallel, cpus = cpus, type = type, socketHosts = socketHosts,  :\n",
      "  Unknown option on commandline: --file\n"
     ]
    },
    {
     "name": "stdout",
     "output_type": "stream",
     "text": [
      "        tumor Fibroblast B cell myocyte other Macrophage Endothelial T cell\n",
      "Min.      0.3      0.372  0.076       0 0.055      0.033       0.146      0\n",
      "1st Qu.   0.3      0.372  0.076       0 0.055      0.033       0.146      0\n",
      "Median    0.3      0.372  0.076       0 0.055      0.033       0.146      0\n",
      "Mean      0.3      0.372  0.076       0 0.055      0.033       0.146      0\n",
      "3rd Qu.   0.3      0.372  0.076       0 0.055      0.033       0.146      0\n",
      "Max.      0.3      0.372  0.076       0 0.055      0.033       0.146      0\n",
      "        Dendritic  Mast\n",
      "Min.            0 0.019\n",
      "1st Qu.         0 0.019\n",
      "Median          0 0.019\n",
      "Mean            0 0.019\n",
      "3rd Qu.         0 0.019\n",
      "Max.            0 0.019\n",
      "[1] \"only one mixture sample. vst transformation is NOT feasible\"\n"
     ]
    },
    {
     "name": "stderr",
     "output_type": "stream",
     "text": [
      "\n",
      "Stopping cluster\n",
      "\n"
     ]
    },
    {
     "name": "stdout",
     "output_type": "stream",
     "text": [
      "[1] \"merge subtypes\"\n",
      "        Fibroblast tumor B cell myocyte other Macrophage Endothelial T cell\n",
      "Min.         0.374 0.334  0.039       0 0.044      0.017       0.184  0.001\n",
      "1st Qu.      0.374 0.334  0.039       0 0.044      0.017       0.184  0.001\n",
      "Median       0.374 0.334  0.039       0 0.044      0.017       0.184  0.001\n",
      "Mean         0.374 0.334  0.039       0 0.044      0.017       0.184  0.001\n",
      "3rd Qu.      0.374 0.334  0.039       0 0.044      0.017       0.184  0.001\n",
      "Max.         0.374 0.334  0.039       0 0.044      0.017       0.184  0.001\n",
      "        Dendritic  Mast\n",
      "Min.        0.001 0.006\n",
      "1st Qu.     0.001 0.006\n",
      "Median      0.001 0.006\n",
      "Mean        0.001 0.006\n",
      "3rd Qu.     0.001 0.006\n",
      "Max.        0.001 0.006\n",
      "[1] \"pooling information across samples\"\n",
      "Start optimization... This may take a while \n"
     ]
    },
    {
     "name": "stderr",
     "output_type": "stream",
     "text": [
      "snowfall 1.84-6.2 initialized (using snow 0.4-4): parallel execution on 10 CPUs.\n",
      "\n",
      "Read 467 items\n"
     ]
    },
    {
     "name": "stdout",
     "output_type": "stream",
     "text": [
      "[1] \"Gene symbols detected. Cleaning up genes based on gene symbols. Recommend to use EMSEMBLE IDs for more unique mapping.\"\n",
      "A total of  20  genes from RB chrM chrX chrY  have been excluded \n",
      "A total of  9  lowly expressed genes have been excluded \n",
      "[1] \"removing non-numeric genes...\"\n",
      "[1] \"removing outlier genes...\"\n",
      "Number of outlier genes filtered= 2 \n",
      "[1] \"aligning reference and mixture...\"\n",
      "[1] \"run first sampling\"\n",
      "Start run... This may take a while \n",
      "R Version:  R version 4.1.3 (2022-03-10) \n",
      "\n"
     ]
    },
    {
     "name": "stderr",
     "output_type": "stream",
     "text": [
      "snowfall 1.84-6.2 initialized (using snow 0.4-4): parallel execution on 10 CPUs.\n",
      "\n",
      "\n",
      "Stopping cluster\n",
      "\n"
     ]
    },
    {
     "name": "stdout",
     "output_type": "stream",
     "text": [
      "[1] \"run final sampling\"\n",
      "Start run... This may take a while \n"
     ]
    },
    {
     "name": "stderr",
     "output_type": "stream",
     "text": [
      "snowfall 1.84-6.2 initialized (using snow 0.4-4): parallel execution on 10 CPUs.\n",
      "\n",
      "\n",
      "Stopping cluster\n",
      "\n"
     ]
    },
    {
     "name": "stdout",
     "output_type": "stream",
     "text": [
      "[1] \"merge subtypes\"\n",
      "        Fibroblast tumor B cell myocyte other Macrophage Endothelial T cell\n",
      "Min.         0.347 0.411  0.041       0 0.018      0.012       0.161      0\n",
      "1st Qu.      0.347 0.411  0.041       0 0.018      0.012       0.161      0\n",
      "Median       0.347 0.411  0.041       0 0.018      0.012       0.161      0\n",
      "Mean         0.347 0.411  0.041       0 0.018      0.012       0.161      0\n",
      "3rd Qu.      0.347 0.411  0.041       0 0.018      0.012       0.161      0\n",
      "Max.         0.347 0.411  0.041       0 0.018      0.012       0.161      0\n",
      "        Dendritic Mast\n",
      "Min.            0 0.01\n",
      "1st Qu.         0 0.01\n",
      "Median          0 0.01\n",
      "Mean            0 0.01\n",
      "3rd Qu.         0 0.01\n",
      "Max.            0 0.01\n",
      "[1] \"pooling information across samples\"\n",
      "Start optimization... This may take a while \n"
     ]
    },
    {
     "name": "stderr",
     "output_type": "stream",
     "text": [
      "snowfall 1.84-6.2 initialized (using snow 0.4-4): parallel execution on 10 CPUs.\n",
      "\n",
      "\n",
      "Stopping cluster\n",
      "\n",
      "Warning messages:\n",
      "1: In searchCommandline(parallel, cpus = cpus, type = type, socketHosts = socketHosts,  :\n",
      "  Unknown option on commandline: --file\n",
      "2: In searchCommandline(parallel, cpus = cpus, type = type, socketHosts = socketHosts,  :\n",
      "  Unknown option on commandline: --file\n",
      "3: In searchCommandline(parallel, cpus = cpus, type = type, socketHosts = socketHosts,  :\n",
      "  Unknown option on commandline: --file\n"
     ]
    },
    {
     "name": "stdout",
     "output_type": "stream",
     "text": [
      "        tumor Fibroblast B cell myocyte other Macrophage Endothelial T cell\n",
      "Min.    0.334      0.374  0.039       0 0.044      0.017       0.184  0.001\n",
      "1st Qu. 0.334      0.374  0.039       0 0.044      0.017       0.184  0.001\n",
      "Median  0.334      0.374  0.039       0 0.044      0.017       0.184  0.001\n",
      "Mean    0.334      0.374  0.039       0 0.044      0.017       0.184  0.001\n",
      "3rd Qu. 0.334      0.374  0.039       0 0.044      0.017       0.184  0.001\n",
      "Max.    0.334      0.374  0.039       0 0.044      0.017       0.184  0.001\n",
      "        Dendritic  Mast\n",
      "Min.        0.001 0.006\n",
      "1st Qu.     0.001 0.006\n",
      "Median      0.001 0.006\n",
      "Mean        0.001 0.006\n",
      "3rd Qu.     0.001 0.006\n",
      "Max.        0.001 0.006\n",
      "[1] \"only one mixture sample. vst transformation is NOT feasible\"\n"
     ]
    },
    {
     "name": "stderr",
     "output_type": "stream",
     "text": [
      "\n",
      "Stopping cluster\n",
      "\n"
     ]
    },
    {
     "name": "stdout",
     "output_type": "stream",
     "text": [
      "[1] \"run final sampling\"\n",
      "Start run... This may take a while \n"
     ]
    },
    {
     "name": "stderr",
     "output_type": "stream",
     "text": [
      "snowfall 1.84-6.2 initialized (using snow 0.4-4): parallel execution on 10 CPUs.\n",
      "\n",
      "\n",
      "Stopping cluster\n",
      "\n",
      "Warning messages:\n",
      "1: In searchCommandline(parallel, cpus = cpus, type = type, socketHosts = socketHosts,  :\n",
      "  Unknown option on commandline: --file\n",
      "2: In searchCommandline(parallel, cpus = cpus, type = type, socketHosts = socketHosts,  :\n",
      "  Unknown option on commandline: --file\n",
      "3: In searchCommandline(parallel, cpus = cpus, type = type, socketHosts = socketHosts,  :\n",
      "  Unknown option on commandline: --file\n"
     ]
    },
    {
     "name": "stdout",
     "output_type": "stream",
     "text": [
      "        tumor Fibroblast B cell myocyte other Macrophage Endothelial T cell\n",
      "Min.    0.411      0.347  0.041       0 0.018      0.012       0.161      0\n",
      "1st Qu. 0.411      0.347  0.041       0 0.018      0.012       0.161      0\n",
      "Median  0.411      0.347  0.041       0 0.018      0.012       0.161      0\n",
      "Mean    0.411      0.347  0.041       0 0.018      0.012       0.161      0\n",
      "3rd Qu. 0.411      0.347  0.041       0 0.018      0.012       0.161      0\n",
      "Max.    0.411      0.347  0.041       0 0.018      0.012       0.161      0\n",
      "        Dendritic Mast\n",
      "Min.            0 0.01\n",
      "1st Qu.         0 0.01\n",
      "Median          0 0.01\n",
      "Mean            0 0.01\n",
      "3rd Qu.         0 0.01\n",
      "Max.            0 0.01\n",
      "[1] \"only one mixture sample. vst transformation is NOT feasible\"\n"
     ]
    },
    {
     "name": "stderr",
     "output_type": "stream",
     "text": [
      "\n",
      "  0%|                                                                                                          | 0/5 [00:00<?, ?it/s]\u001b[A\n",
      " 20%|███████████████████▌                                                                              | 1/5 [00:30<02:00, 30.05s/it]\u001b[A"
     ]
    },
    {
     "name": "stdout",
     "output_type": "stream",
     "text": [
      "2022-07-28 18:43:41\n",
      "pseudobulk mode: now with feature selection setup: \r",
      " top50DEGs\n",
      "now running in cmd: \r",
      " Rscript /home/cke/runscripts/runBP.r /home/cke/PseudoBulk/InputToWrapper/pseudobulk_LOT16_scRNAtrain.tsv /home/cke/PseudoBulk/InputToWrapper/pseudobulk_LOT16_test.tsv /home/cke/Puram/scRNAlabels/ /home/cke/Puram/markers/top50DEGs_pseudobulk.txt fullpipeline_pseudobulk_Jul28_LOT_pseudobulk_top50DEGs_16LOT /home/cke/PseudoBulk/Results/BayesPrism/ /home/cke/PseudoBulk/Results/ &\n"
     ]
    },
    {
     "name": "stderr",
     "output_type": "stream",
     "text": [
      "Warning message:\n",
      "replacing previous import ‘gplots::lowess’ by ‘stats::lowess’ when loading ‘TED’ \n"
     ]
    },
    {
     "name": "stdout",
     "output_type": "stream",
     "text": [
      "[1] \"running BayesPrism with following args:\"\n",
      "[1] \"/home/cke/PseudoBulk/InputToWrapper/pseudobulk_LOT16_scRNAtrain.tsv\"\n",
      "[2] \"/home/cke/PseudoBulk/InputToWrapper/pseudobulk_LOT16_test.tsv\"      \n",
      "[3] \"/home/cke/Puram/scRNAlabels/\"                                       \n",
      "[4] \"/home/cke/Puram/markers/top50DEGs_pseudobulk.txt\"                   \n",
      "[5] \"fullpipeline_pseudobulk_Jul28_LOT_pseudobulk_top50DEGs_16LOT\"       \n",
      "[6] \"/home/cke/PseudoBulk/Results/BayesPrism/\"                           \n",
      "[7] \"/home/cke/PseudoBulk/Results/\"                                      \n",
      "[8] \"/home/cke/Puram/scRNAlabels/\"                                       \n"
     ]
    },
    {
     "name": "stderr",
     "output_type": "stream",
     "text": [
      "\n",
      " 40%|███████████████████████████████████████▏                                                          | 2/5 [01:00<01:30, 30.05s/it]\u001b[A"
     ]
    },
    {
     "name": "stdout",
     "output_type": "stream",
     "text": [
      "2022-07-28 18:44:11\n",
      "pseudobulk mode: now with feature selection setup: \r",
      " top100markers\n",
      "now running in cmd: \r",
      " Rscript /home/cke/runscripts/runBP.r /home/cke/PseudoBulk/InputToWrapper/pseudobulk_LOT16_scRNAtrain.tsv /home/cke/PseudoBulk/InputToWrapper/pseudobulk_LOT16_test.tsv /home/cke/Puram/scRNAlabels/ /home/cke/Puram/markers/top100markers_de_cor_symbol.txt fullpipeline_pseudobulk_Jul28_LOT_pseudobulk_top100markers_16LOT /home/cke/PseudoBulk/Results/BayesPrism/ /home/cke/PseudoBulk/Results/ &\n"
     ]
    },
    {
     "name": "stderr",
     "output_type": "stream",
     "text": [
      "Warning message:\n",
      "replacing previous import ‘gplots::lowess’ by ‘stats::lowess’ when loading ‘TED’ \n"
     ]
    },
    {
     "name": "stdout",
     "output_type": "stream",
     "text": [
      "[1] \"running BayesPrism with following args:\"\n",
      "[1] \"/home/cke/PseudoBulk/InputToWrapper/pseudobulk_LOT16_scRNAtrain.tsv\"\n",
      "[2] \"/home/cke/PseudoBulk/InputToWrapper/pseudobulk_LOT16_test.tsv\"      \n",
      "[3] \"/home/cke/Puram/scRNAlabels/\"                                       \n",
      "[4] \"/home/cke/Puram/markers/top100markers_de_cor_symbol.txt\"            \n",
      "[5] \"fullpipeline_pseudobulk_Jul28_LOT_pseudobulk_top100markers_16LOT\"   \n",
      "[6] \"/home/cke/PseudoBulk/Results/BayesPrism/\"                           \n",
      "[7] \"/home/cke/PseudoBulk/Results/\"                                      \n",
      "[8] \"/home/cke/Puram/scRNAlabels/\"                                       \n"
     ]
    },
    {
     "name": "stderr",
     "output_type": "stream",
     "text": [
      "Read 458 items\n"
     ]
    },
    {
     "name": "stdout",
     "output_type": "stream",
     "text": [
      "[1] \"Gene symbols detected. Cleaning up genes based on gene symbols. Recommend to use EMSEMBLE IDs for more unique mapping.\"\n",
      "A total of  18  genes from RB chrM chrX chrY  have been excluded \n",
      "A total of  0  lowly expressed genes have been excluded \n",
      "[1] \"removing non-numeric genes...\"\n",
      "[1] \"removing outlier genes...\"\n",
      "Number of outlier genes filtered= 3 \n",
      "[1] \"aligning reference and mixture...\"\n",
      "[1] \"run first sampling\"\n",
      "Start run... This may take a while \n",
      "R Version:  R version 4.1.3 (2022-03-10) \n",
      "\n"
     ]
    },
    {
     "name": "stderr",
     "output_type": "stream",
     "text": [
      "snowfall 1.84-6.2 initialized (using snow 0.4-4): parallel execution on 10 CPUs.\n",
      "\n",
      "\n",
      " 60%|██████████████████████████████████████████████████████████▊                                       | 3/5 [01:30<01:00, 30.05s/it]\u001b[A"
     ]
    },
    {
     "name": "stdout",
     "output_type": "stream",
     "text": [
      "2022-07-28 18:44:41\n",
      "pseudobulk mode: now with feature selection setup: \r",
      " top20markers\n",
      "now running in cmd: \r",
      " Rscript /home/cke/runscripts/runBP.r /home/cke/PseudoBulk/InputToWrapper/pseudobulk_LOT16_scRNAtrain.tsv /home/cke/PseudoBulk/InputToWrapper/pseudobulk_LOT16_test.tsv /home/cke/Puram/scRNAlabels/ /home/cke/Puram/markers/top20markers_de_cor_symbol.txt fullpipeline_pseudobulk_Jul28_LOT_pseudobulk_top20markers_16LOT /home/cke/PseudoBulk/Results/BayesPrism/ /home/cke/PseudoBulk/Results/ &\n"
     ]
    },
    {
     "name": "stderr",
     "output_type": "stream",
     "text": [
      "\n",
      "Stopping cluster\n",
      "\n"
     ]
    },
    {
     "name": "stdout",
     "output_type": "stream",
     "text": [
      "[1] \"merge subtypes\"\n",
      "        Fibroblast tumor B cell myocyte other Macrophage Endothelial T cell\n",
      "Min.         0.256 0.119      0   0.004     0      0.004       0.111   0.42\n",
      "1st Qu.      0.256 0.119      0   0.004     0      0.004       0.111   0.42\n",
      "Median       0.256 0.119      0   0.004     0      0.004       0.111   0.42\n",
      "Mean         0.256 0.119      0   0.004     0      0.004       0.111   0.42\n",
      "3rd Qu.      0.256 0.119      0   0.004     0      0.004       0.111   0.42\n",
      "Max.         0.256 0.119      0   0.004     0      0.004       0.111   0.42\n",
      "        Dendritic  Mast\n",
      "Min.        0.014 0.071\n",
      "1st Qu.     0.014 0.071\n",
      "Median      0.014 0.071\n",
      "Mean        0.014 0.071\n",
      "3rd Qu.     0.014 0.071\n",
      "Max.        0.014 0.071\n",
      "[1] \"pooling information across samples\"\n",
      "Start optimization... This may take a while \n"
     ]
    },
    {
     "name": "stderr",
     "output_type": "stream",
     "text": [
      "snowfall 1.84-6.2 initialized (using snow 0.4-4): parallel execution on 10 CPUs.\n",
      "\n",
      "Warning message:\n",
      "replacing previous import ‘gplots::lowess’ by ‘stats::lowess’ when loading ‘TED’ \n"
     ]
    },
    {
     "name": "stdout",
     "output_type": "stream",
     "text": [
      "[1] \"running BayesPrism with following args:\"\n",
      "[1] \"/home/cke/PseudoBulk/InputToWrapper/pseudobulk_LOT16_scRNAtrain.tsv\"\n",
      "[2] \"/home/cke/PseudoBulk/InputToWrapper/pseudobulk_LOT16_test.tsv\"      \n",
      "[3] \"/home/cke/Puram/scRNAlabels/\"                                       \n",
      "[4] \"/home/cke/Puram/markers/top20markers_de_cor_symbol.txt\"             \n",
      "[5] \"fullpipeline_pseudobulk_Jul28_LOT_pseudobulk_top20markers_16LOT\"    \n",
      "[6] \"/home/cke/PseudoBulk/Results/BayesPrism/\"                           \n",
      "[7] \"/home/cke/PseudoBulk/Results/\"                                      \n",
      "[8] \"/home/cke/Puram/scRNAlabels/\"                                       \n"
     ]
    },
    {
     "name": "stderr",
     "output_type": "stream",
     "text": [
      "Read 898 items\n",
      "\n",
      "Stopping cluster\n",
      "\n"
     ]
    },
    {
     "name": "stdout",
     "output_type": "stream",
     "text": [
      "[1] \"run final sampling\"\n",
      "Start run... This may take a while \n",
      "[1] \"Gene symbols detected. Cleaning up genes based on gene symbols. Recommend to use EMSEMBLE IDs for more unique mapping.\"\n",
      "A total of  40  genes from RB chrM chrX chrY  have been excluded \n",
      "A total of  19  lowly expressed genes have been excluded \n",
      "[1] \"removing non-numeric genes...\"\n",
      "[1] \"removing outlier genes...\"\n",
      "Number of outlier genes filtered= 3 \n",
      "[1] \"aligning reference and mixture...\"\n",
      "[1] \"run first sampling\"\n",
      "Start run... This may take a while \n"
     ]
    },
    {
     "name": "stderr",
     "output_type": "stream",
     "text": [
      "snowfall 1.84-6.2 initialized (using snow 0.4-4): parallel execution on 10 CPUs.\n",
      "\n"
     ]
    },
    {
     "name": "stdout",
     "output_type": "stream",
     "text": [
      "R Version:  R version 4.1.3 (2022-03-10) \n",
      "\n"
     ]
    },
    {
     "name": "stderr",
     "output_type": "stream",
     "text": [
      "snowfall 1.84-6.2 initialized (using snow 0.4-4): parallel execution on 10 CPUs.\n",
      "\n",
      "\n",
      " 80%|██████████████████████████████████████████████████████████████████████████████▍                   | 4/5 [02:00<00:30, 30.05s/it]\u001b[A"
     ]
    },
    {
     "name": "stdout",
     "output_type": "stream",
     "text": [
      "2022-07-28 18:45:11\n",
      "pseudobulk mode: now with feature selection setup: \r",
      " top100DEGs\n",
      "now running in cmd: \r",
      " Rscript /home/cke/runscripts/runBP.r /home/cke/PseudoBulk/InputToWrapper/pseudobulk_LOT16_scRNAtrain.tsv /home/cke/PseudoBulk/InputToWrapper/pseudobulk_LOT16_test.tsv /home/cke/Puram/scRNAlabels/ /home/cke/Puram/markers/top100DEGs_pseudobulk.txt fullpipeline_pseudobulk_Jul28_LOT_pseudobulk_top100DEGs_16LOT /home/cke/PseudoBulk/Results/BayesPrism/ /home/cke/PseudoBulk/Results/ &\n"
     ]
    },
    {
     "name": "stderr",
     "output_type": "stream",
     "text": [
      "\n",
      "Stopping cluster\n",
      "\n",
      "Warning messages:\n",
      "1: In searchCommandline(parallel, cpus = cpus, type = type, socketHosts = socketHosts,  :\n",
      "  Unknown option on commandline: --file\n",
      "2: In searchCommandline(parallel, cpus = cpus, type = type, socketHosts = socketHosts,  :\n",
      "  Unknown option on commandline: --file\n",
      "3: In searchCommandline(parallel, cpus = cpus, type = type, socketHosts = socketHosts,  :\n",
      "  Unknown option on commandline: --file\n"
     ]
    },
    {
     "name": "stdout",
     "output_type": "stream",
     "text": [
      "        tumor Fibroblast B cell myocyte other Macrophage Endothelial T cell\n",
      "Min.    0.119      0.256      0   0.004     0      0.004       0.111   0.42\n",
      "1st Qu. 0.119      0.256      0   0.004     0      0.004       0.111   0.42\n",
      "Median  0.119      0.256      0   0.004     0      0.004       0.111   0.42\n",
      "Mean    0.119      0.256      0   0.004     0      0.004       0.111   0.42\n",
      "3rd Qu. 0.119      0.256      0   0.004     0      0.004       0.111   0.42\n",
      "Max.    0.119      0.256      0   0.004     0      0.004       0.111   0.42\n",
      "        Dendritic  Mast\n",
      "Min.        0.014 0.071\n",
      "1st Qu.     0.014 0.071\n",
      "Median      0.014 0.071\n",
      "Mean        0.014 0.071\n",
      "3rd Qu.     0.014 0.071\n",
      "Max.        0.014 0.071\n",
      "[1] \"only one mixture sample. vst transformation is NOT feasible\"\n"
     ]
    },
    {
     "name": "stderr",
     "output_type": "stream",
     "text": [
      "Warning message:\n",
      "replacing previous import ‘gplots::lowess’ by ‘stats::lowess’ when loading ‘TED’ \n"
     ]
    },
    {
     "name": "stdout",
     "output_type": "stream",
     "text": [
      "[1] \"running BayesPrism with following args:\"\n",
      "[1] \"/home/cke/PseudoBulk/InputToWrapper/pseudobulk_LOT16_scRNAtrain.tsv\"\n",
      "[2] \"/home/cke/PseudoBulk/InputToWrapper/pseudobulk_LOT16_test.tsv\"      \n",
      "[3] \"/home/cke/Puram/scRNAlabels/\"                                       \n",
      "[4] \"/home/cke/Puram/markers/top100DEGs_pseudobulk.txt\"                  \n",
      "[5] \"fullpipeline_pseudobulk_Jul28_LOT_pseudobulk_top100DEGs_16LOT\"      \n",
      "[6] \"/home/cke/PseudoBulk/Results/BayesPrism/\"                           \n",
      "[7] \"/home/cke/PseudoBulk/Results/\"                                      \n",
      "[8] \"/home/cke/Puram/scRNAlabels/\"                                       \n"
     ]
    },
    {
     "name": "stderr",
     "output_type": "stream",
     "text": [
      "\n",
      "Stopping cluster\n",
      "\n"
     ]
    },
    {
     "name": "stdout",
     "output_type": "stream",
     "text": [
      "[1] \"merge subtypes\"\n",
      "        Fibroblast tumor B cell myocyte other Macrophage Endothelial T cell\n",
      "Min.          0.29 0.147      0   0.004     0      0.005       0.111  0.352\n",
      "1st Qu.       0.29 0.147      0   0.004     0      0.005       0.111  0.352\n",
      "Median        0.29 0.147      0   0.004     0      0.005       0.111  0.352\n",
      "Mean          0.29 0.147      0   0.004     0      0.005       0.111  0.352\n",
      "3rd Qu.       0.29 0.147      0   0.004     0      0.005       0.111  0.352\n",
      "Max.          0.29 0.147      0   0.004     0      0.005       0.111  0.352\n",
      "        Dendritic  Mast\n",
      "Min.        0.015 0.075\n",
      "1st Qu.     0.015 0.075\n",
      "Median      0.015 0.075\n",
      "Mean        0.015 0.075\n",
      "3rd Qu.     0.015 0.075\n",
      "Max.        0.015 0.075\n",
      "[1] \"pooling information across samples\"\n",
      "Start optimization... This may take a while \n"
     ]
    },
    {
     "name": "stderr",
     "output_type": "stream",
     "text": [
      "snowfall 1.84-6.2 initialized (using snow 0.4-4): parallel execution on 10 CPUs.\n",
      "\n",
      "Read 198 items\n"
     ]
    },
    {
     "name": "stdout",
     "output_type": "stream",
     "text": [
      "[1] \"Gene symbols detected. Cleaning up genes based on gene symbols. Recommend to use EMSEMBLE IDs for more unique mapping.\"\n",
      "A total of  8  genes from RB chrM chrX chrY  have been excluded \n",
      "A total of  6  lowly expressed genes have been excluded \n",
      "[1] \"removing non-numeric genes...\"\n",
      "[1] \"removing outlier genes...\"\n",
      "Number of outlier genes filtered= 3 \n",
      "[1] \"aligning reference and mixture...\"\n"
     ]
    },
    {
     "name": "stderr",
     "output_type": "stream",
     "text": [
      "\n",
      "100%|██████████████████████████████████████████████████████████████████████████████████████████████████| 5/5 [02:30<00:00, 30.05s/it]\u001b[A\n",
      " 22%|█████████████████████▌                                                                           | 2/9 [09:00<31:32, 270.33s/it]"
     ]
    },
    {
     "name": "stdout",
     "output_type": "stream",
     "text": [
      "2022-07-28 18:45:42\n",
      " top50markersde: now with feature selection setup: \n",
      " Rscript /home/cke/runscripts/runBP.r /home/cke/PseudoBulk/InputToWrapper/pseudobulk_LOT16_scRNAtrain.tsv /home/cke/PseudoBulk/InputToWrapper/pseudobulk_LOT16_test.tsv /home/cke/Puram/scRNAlabels/ /home/cke/Puram/markers/top50markers_de_cor_symbol.txt fullpipeline_pseudobulk_Jul28_LOT_pseudobulk_top50markers_16LOT /home/cke/PseudoBulk/Results/BayesPrism/ /home/cke/PseudoBulk/Results/ &\n",
      "[1] \"run first sampling\"\n",
      "Start run... This may take a while \n",
      "R Version:  R version 4.1.3 (2022-03-10) \n",
      "\n"
     ]
    },
    {
     "name": "stderr",
     "output_type": "stream",
     "text": [
      "snowfall 1.84-6.2 initialized (using snow 0.4-4): parallel execution on 10 CPUs.\n",
      "\n",
      "\n",
      "Stopping cluster\n",
      "\n"
     ]
    },
    {
     "name": "stdout",
     "output_type": "stream",
     "text": [
      "[1] \"run final sampling\"\n",
      "Start run... This may take a while \n"
     ]
    },
    {
     "name": "stderr",
     "output_type": "stream",
     "text": [
      "Warning message:\n",
      "replacing previous import ‘gplots::lowess’ by ‘stats::lowess’ when loading ‘TED’ \n"
     ]
    },
    {
     "name": "stdout",
     "output_type": "stream",
     "text": [
      "[1] \"running BayesPrism with following args:\"\n",
      "[1] \"/home/cke/PseudoBulk/InputToWrapper/pseudobulk_LOT16_scRNAtrain.tsv\"\n",
      "[2] \"/home/cke/PseudoBulk/InputToWrapper/pseudobulk_LOT16_test.tsv\"      \n",
      "[3] \"/home/cke/Puram/scRNAlabels/\"                                       \n",
      "[4] \"/home/cke/Puram/markers/top50markers_de_cor_symbol.txt\"             \n",
      "[5] \"fullpipeline_pseudobulk_Jul28_LOT_pseudobulk_top50markers_16LOT\"    \n",
      "[6] \"/home/cke/PseudoBulk/Results/BayesPrism/\"                           \n",
      "[7] \"/home/cke/PseudoBulk/Results/\"                                      \n",
      "[8] \"/home/cke/Puram/scRNAlabels/\"                                       \n"
     ]
    },
    {
     "name": "stderr",
     "output_type": "stream",
     "text": [
      "snowfall 1.84-6.2 initialized (using snow 0.4-4): parallel execution on 10 CPUs.\n",
      "\n",
      "\n",
      "Stopping cluster\n",
      "\n"
     ]
    },
    {
     "name": "stdout",
     "output_type": "stream",
     "text": [
      "[1] \"merge subtypes\"\n",
      "        Fibroblast tumor B cell myocyte other Macrophage Endothelial T cell\n",
      "Min.         0.189  0.08      0   0.005 0.005          0       0.088   0.47\n",
      "1st Qu.      0.189  0.08      0   0.005 0.005          0       0.088   0.47\n",
      "Median       0.189  0.08      0   0.005 0.005          0       0.088   0.47\n",
      "Mean         0.189  0.08      0   0.005 0.005          0       0.088   0.47\n",
      "3rd Qu.      0.189  0.08      0   0.005 0.005          0       0.088   0.47\n",
      "Max.         0.189  0.08      0   0.005 0.005          0       0.088   0.47\n",
      "        Dendritic  Mast\n",
      "Min.        0.001 0.161\n",
      "1st Qu.     0.001 0.161\n",
      "Median      0.001 0.161\n",
      "Mean        0.001 0.161\n",
      "3rd Qu.     0.001 0.161\n",
      "Max.        0.001 0.161\n",
      "[1] \"pooling information across samples\"\n",
      "Start optimization... This may take a while \n"
     ]
    },
    {
     "name": "stderr",
     "output_type": "stream",
     "text": [
      "snowfall 1.84-6.2 initialized (using snow 0.4-4): parallel execution on 10 CPUs.\n",
      "\n",
      "\n",
      "Stopping cluster\n",
      "\n",
      "Warning messages:\n",
      "1: In searchCommandline(parallel, cpus = cpus, type = type, socketHosts = socketHosts,  :\n",
      "  Unknown option on commandline: --file\n",
      "2: In searchCommandline(parallel, cpus = cpus, type = type, socketHosts = socketHosts,  :\n",
      "  Unknown option on commandline: --file\n",
      "3: In searchCommandline(parallel, cpus = cpus, type = type, socketHosts = socketHosts,  :\n",
      "  Unknown option on commandline: --file\n"
     ]
    },
    {
     "name": "stdout",
     "output_type": "stream",
     "text": [
      "        tumor Fibroblast B cell myocyte other Macrophage Endothelial T cell\n",
      "Min.    0.147       0.29      0   0.004     0      0.005       0.111  0.352\n",
      "1st Qu. 0.147       0.29      0   0.004     0      0.005       0.111  0.352\n",
      "Median  0.147       0.29      0   0.004     0      0.005       0.111  0.352\n",
      "Mean    0.147       0.29      0   0.004     0      0.005       0.111  0.352\n",
      "3rd Qu. 0.147       0.29      0   0.004     0      0.005       0.111  0.352\n",
      "Max.    0.147       0.29      0   0.004     0      0.005       0.111  0.352\n",
      "        Dendritic  Mast\n",
      "Min.        0.015 0.075\n",
      "1st Qu.     0.015 0.075\n",
      "Median      0.015 0.075\n",
      "Mean        0.015 0.075\n",
      "3rd Qu.     0.015 0.075\n",
      "Max.        0.015 0.075\n",
      "[1] \"only one mixture sample. vst transformation is NOT feasible\"\n"
     ]
    },
    {
     "name": "stderr",
     "output_type": "stream",
     "text": [
      "Read 876 items\n",
      "\n",
      "Stopping cluster\n",
      "\n"
     ]
    },
    {
     "name": "stdout",
     "output_type": "stream",
     "text": [
      "[1] \"run final sampling\"\n",
      "Start run... This may take a while \n",
      "[1] \"Gene symbols detected. Cleaning up genes based on gene symbols. Recommend to use EMSEMBLE IDs for more unique mapping.\"\n",
      "A total of  33  genes from RB chrM chrX chrY  have been excluded \n"
     ]
    },
    {
     "name": "stderr",
     "output_type": "stream",
     "text": [
      "snowfall 1.84-6.2 initialized (using snow 0.4-4): parallel execution on 10 CPUs.\n",
      "\n"
     ]
    },
    {
     "name": "stdout",
     "output_type": "stream",
     "text": [
      "A total of  0  lowly expressed genes have been excluded \n",
      "[1] \"removing non-numeric genes...\"\n",
      "[1] \"removing outlier genes...\"\n",
      "Number of outlier genes filtered= 3 \n",
      "[1] \"aligning reference and mixture...\"\n",
      "[1] \"run first sampling\"\n",
      "Start run... This may take a while \n",
      "R Version:  R version 4.1.3 (2022-03-10) \n",
      "\n"
     ]
    },
    {
     "name": "stderr",
     "output_type": "stream",
     "text": [
      "snowfall 1.84-6.2 initialized (using snow 0.4-4): parallel execution on 10 CPUs.\n",
      "\n",
      "\n",
      "Stopping cluster\n",
      "\n",
      "Warning messages:\n",
      "1: In searchCommandline(parallel, cpus = cpus, type = type, socketHosts = socketHosts,  :\n",
      "  Unknown option on commandline: --file\n",
      "2: In searchCommandline(parallel, cpus = cpus, type = type, socketHosts = socketHosts,  :\n",
      "  Unknown option on commandline: --file\n",
      "3: In searchCommandline(parallel, cpus = cpus, type = type, socketHosts = socketHosts,  :\n",
      "  Unknown option on commandline: --file\n"
     ]
    },
    {
     "name": "stdout",
     "output_type": "stream",
     "text": [
      "        tumor Fibroblast B cell myocyte other Macrophage Endothelial T cell\n",
      "Min.     0.08      0.189      0   0.005 0.005          0       0.088   0.47\n",
      "1st Qu.  0.08      0.189      0   0.005 0.005          0       0.088   0.47\n",
      "Median   0.08      0.189      0   0.005 0.005          0       0.088   0.47\n",
      "Mean     0.08      0.189      0   0.005 0.005          0       0.088   0.47\n",
      "3rd Qu.  0.08      0.189      0   0.005 0.005          0       0.088   0.47\n",
      "Max.     0.08      0.189      0   0.005 0.005          0       0.088   0.47\n",
      "        Dendritic  Mast\n",
      "Min.        0.001 0.161\n",
      "1st Qu.     0.001 0.161\n",
      "Median      0.001 0.161\n",
      "Mean        0.001 0.161\n",
      "3rd Qu.     0.001 0.161\n",
      "Max.        0.001 0.161\n",
      "[1] \"only one mixture sample. vst transformation is NOT feasible\"\n"
     ]
    },
    {
     "name": "stderr",
     "output_type": "stream",
     "text": [
      "\n",
      "Stopping cluster\n",
      "\n"
     ]
    },
    {
     "name": "stdout",
     "output_type": "stream",
     "text": [
      "[1] \"merge subtypes\"\n",
      "        Fibroblast tumor B cell myocyte other Macrophage Endothelial T cell\n",
      "Min.         0.231 0.115      0   0.004     0      0.007       0.112  0.471\n",
      "1st Qu.      0.231 0.115      0   0.004     0      0.007       0.112  0.471\n",
      "Median       0.231 0.115      0   0.004     0      0.007       0.112  0.471\n",
      "Mean         0.231 0.115      0   0.004     0      0.007       0.112  0.471\n",
      "3rd Qu.      0.231 0.115      0   0.004     0      0.007       0.112  0.471\n",
      "Max.         0.231 0.115      0   0.004     0      0.007       0.112  0.471\n",
      "        Dendritic  Mast\n",
      "Min.        0.001 0.059\n",
      "1st Qu.     0.001 0.059\n",
      "Median      0.001 0.059\n",
      "Mean        0.001 0.059\n",
      "3rd Qu.     0.001 0.059\n",
      "Max.        0.001 0.059\n",
      "[1] \"pooling information across samples\"\n",
      "Start optimization... This may take a while \n"
     ]
    },
    {
     "name": "stderr",
     "output_type": "stream",
     "text": [
      "Read 467 items\n",
      "snowfall 1.84-6.2 initialized (using snow 0.4-4): parallel execution on 10 CPUs.\n",
      "\n"
     ]
    },
    {
     "name": "stdout",
     "output_type": "stream",
     "text": [
      "[1] \"Gene symbols detected. Cleaning up genes based on gene symbols. Recommend to use EMSEMBLE IDs for more unique mapping.\"\n",
      "A total of  20  genes from RB chrM chrX chrY  have been excluded \n",
      "A total of  11  lowly expressed genes have been excluded \n",
      "[1] \"removing non-numeric genes...\"\n",
      "[1] \"removing outlier genes...\"\n",
      "Number of outlier genes filtered= 3 \n",
      "[1] \"aligning reference and mixture...\"\n",
      "[1] \"run first sampling\"\n",
      "Start run... This may take a while \n",
      "R Version:  R version 4.1.3 (2022-03-10) \n",
      "\n"
     ]
    },
    {
     "name": "stderr",
     "output_type": "stream",
     "text": [
      "snowfall 1.84-6.2 initialized (using snow 0.4-4): parallel execution on 10 CPUs.\n",
      "\n",
      "\n",
      "Stopping cluster\n",
      "\n"
     ]
    },
    {
     "name": "stdout",
     "output_type": "stream",
     "text": [
      "[1] \"merge subtypes\"\n",
      "        Fibroblast tumor B cell myocyte other Macrophage Endothelial T cell\n",
      "Min.         0.249 0.136      0   0.004     0          0       0.131  0.383\n",
      "1st Qu.      0.249 0.136      0   0.004     0          0       0.131  0.383\n",
      "Median       0.249 0.136      0   0.004     0          0       0.131  0.383\n",
      "Mean         0.249 0.136      0   0.004     0          0       0.131  0.383\n",
      "3rd Qu.      0.249 0.136      0   0.004     0          0       0.131  0.383\n",
      "Max.         0.249 0.136      0   0.004     0          0       0.131  0.383\n",
      "        Dendritic  Mast\n",
      "Min.        0.002 0.095\n",
      "1st Qu.     0.002 0.095\n",
      "Median      0.002 0.095\n",
      "Mean        0.002 0.095\n",
      "3rd Qu.     0.002 0.095\n",
      "Max.        0.002 0.095\n",
      "[1] \"pooling information across samples\"\n",
      "Start optimization... This may take a while \n"
     ]
    },
    {
     "name": "stderr",
     "output_type": "stream",
     "text": [
      "\n",
      "Stopping cluster\n",
      "\n"
     ]
    },
    {
     "name": "stdout",
     "output_type": "stream",
     "text": [
      "[1] \"run final sampling\"\n",
      "Start run... This may take a while \n"
     ]
    },
    {
     "name": "stderr",
     "output_type": "stream",
     "text": [
      "snowfall 1.84-6.2 initialized (using snow 0.4-4): parallel execution on 10 CPUs.\n",
      "\n",
      "snowfall 1.84-6.2 initialized (using snow 0.4-4): parallel execution on 10 CPUs.\n",
      "\n",
      "\n",
      "Stopping cluster\n",
      "\n",
      "Warning messages:\n",
      "1: In searchCommandline(parallel, cpus = cpus, type = type, socketHosts = socketHosts,  :\n",
      "  Unknown option on commandline: --file\n",
      "2: In searchCommandline(parallel, cpus = cpus, type = type, socketHosts = socketHosts,  :\n",
      "  Unknown option on commandline: --file\n",
      "3: In searchCommandline(parallel, cpus = cpus, type = type, socketHosts = socketHosts,  :\n",
      "  Unknown option on commandline: --file\n"
     ]
    },
    {
     "name": "stdout",
     "output_type": "stream",
     "text": [
      "        tumor Fibroblast B cell myocyte other Macrophage Endothelial T cell\n",
      "Min.    0.115      0.231      0   0.004     0      0.007       0.112  0.471\n",
      "1st Qu. 0.115      0.231      0   0.004     0      0.007       0.112  0.471\n",
      "Median  0.115      0.231      0   0.004     0      0.007       0.112  0.471\n",
      "Mean    0.115      0.231      0   0.004     0      0.007       0.112  0.471\n",
      "3rd Qu. 0.115      0.231      0   0.004     0      0.007       0.112  0.471\n",
      "Max.    0.115      0.231      0   0.004     0      0.007       0.112  0.471\n",
      "        Dendritic  Mast\n",
      "Min.        0.001 0.059\n",
      "1st Qu.     0.001 0.059\n",
      "Median      0.001 0.059\n",
      "Mean        0.001 0.059\n",
      "3rd Qu.     0.001 0.059\n",
      "Max.        0.001 0.059\n",
      "[1] \"only one mixture sample. vst transformation is NOT feasible\"\n"
     ]
    },
    {
     "name": "stderr",
     "output_type": "stream",
     "text": [
      "\n",
      "Stopping cluster\n",
      "\n"
     ]
    },
    {
     "name": "stdout",
     "output_type": "stream",
     "text": [
      "[1] \"run final sampling\"\n",
      "Start run... This may take a while \n"
     ]
    },
    {
     "name": "stderr",
     "output_type": "stream",
     "text": [
      "snowfall 1.84-6.2 initialized (using snow 0.4-4): parallel execution on 10 CPUs.\n",
      "\n",
      "\n",
      "Stopping cluster\n",
      "\n",
      "Warning messages:\n",
      "1: In searchCommandline(parallel, cpus = cpus, type = type, socketHosts = socketHosts,  :\n",
      "  Unknown option on commandline: --file\n",
      "2: In searchCommandline(parallel, cpus = cpus, type = type, socketHosts = socketHosts,  :\n",
      "  Unknown option on commandline: --file\n",
      "3: In searchCommandline(parallel, cpus = cpus, type = type, socketHosts = socketHosts,  :\n",
      "  Unknown option on commandline: --file\n"
     ]
    },
    {
     "name": "stdout",
     "output_type": "stream",
     "text": [
      "        tumor Fibroblast B cell myocyte other Macrophage Endothelial T cell\n",
      "Min.    0.136      0.249      0   0.004     0          0       0.131  0.383\n",
      "1st Qu. 0.136      0.249      0   0.004     0          0       0.131  0.383\n",
      "Median  0.136      0.249      0   0.004     0          0       0.131  0.383\n",
      "Mean    0.136      0.249      0   0.004     0          0       0.131  0.383\n",
      "3rd Qu. 0.136      0.249      0   0.004     0          0       0.131  0.383\n",
      "Max.    0.136      0.249      0   0.004     0          0       0.131  0.383\n",
      "        Dendritic  Mast\n",
      "Min.        0.002 0.095\n",
      "1st Qu.     0.002 0.095\n",
      "Median      0.002 0.095\n",
      "Mean        0.002 0.095\n",
      "3rd Qu.     0.002 0.095\n",
      "Max.        0.002 0.095\n",
      "[1] \"only one mixture sample. vst transformation is NOT feasible\"\n"
     ]
    },
    {
     "name": "stderr",
     "output_type": "stream",
     "text": [
      "\n",
      "  0%|                                                                                                          | 0/5 [00:00<?, ?it/s]\u001b[A\n",
      " 20%|███████████████████▌                                                                              | 1/5 [00:30<02:00, 30.03s/it]\u001b[A"
     ]
    },
    {
     "name": "stdout",
     "output_type": "stream",
     "text": [
      "2022-07-28 18:48:12\n",
      "pseudobulk mode: now with feature selection setup: \r",
      " top50DEGs\n",
      "now running in cmd: \r",
      " Rscript /home/cke/runscripts/runBP.r /home/cke/PseudoBulk/InputToWrapper/pseudobulk_LOT17_scRNAtrain.tsv /home/cke/PseudoBulk/InputToWrapper/pseudobulk_LOT17_test.tsv /home/cke/Puram/scRNAlabels/ /home/cke/Puram/markers/top50DEGs_pseudobulk.txt fullpipeline_pseudobulk_Jul28_LOT_pseudobulk_top50DEGs_17LOT /home/cke/PseudoBulk/Results/BayesPrism/ /home/cke/PseudoBulk/Results/ &\n"
     ]
    },
    {
     "name": "stderr",
     "output_type": "stream",
     "text": [
      "Warning message:\n",
      "replacing previous import ‘gplots::lowess’ by ‘stats::lowess’ when loading ‘TED’ \n"
     ]
    },
    {
     "name": "stdout",
     "output_type": "stream",
     "text": [
      "[1] \"running BayesPrism with following args:\"\n",
      "[1] \"/home/cke/PseudoBulk/InputToWrapper/pseudobulk_LOT17_scRNAtrain.tsv\"\n",
      "[2] \"/home/cke/PseudoBulk/InputToWrapper/pseudobulk_LOT17_test.tsv\"      \n",
      "[3] \"/home/cke/Puram/scRNAlabels/\"                                       \n",
      "[4] \"/home/cke/Puram/markers/top50DEGs_pseudobulk.txt\"                   \n",
      "[5] \"fullpipeline_pseudobulk_Jul28_LOT_pseudobulk_top50DEGs_17LOT\"       \n",
      "[6] \"/home/cke/PseudoBulk/Results/BayesPrism/\"                           \n",
      "[7] \"/home/cke/PseudoBulk/Results/\"                                      \n",
      "[8] \"/home/cke/Puram/scRNAlabels/\"                                       \n"
     ]
    },
    {
     "name": "stderr",
     "output_type": "stream",
     "text": [
      "\n",
      " 40%|███████████████████████████████████████▏                                                          | 2/5 [01:00<01:30, 30.04s/it]\u001b[A"
     ]
    },
    {
     "name": "stdout",
     "output_type": "stream",
     "text": [
      "2022-07-28 18:48:42\n",
      "pseudobulk mode: now with feature selection setup: \r",
      " top100markers\n",
      "now running in cmd: \r",
      " Rscript /home/cke/runscripts/runBP.r /home/cke/PseudoBulk/InputToWrapper/pseudobulk_LOT17_scRNAtrain.tsv /home/cke/PseudoBulk/InputToWrapper/pseudobulk_LOT17_test.tsv /home/cke/Puram/scRNAlabels/ /home/cke/Puram/markers/top100markers_de_cor_symbol.txt fullpipeline_pseudobulk_Jul28_LOT_pseudobulk_top100markers_17LOT /home/cke/PseudoBulk/Results/BayesPrism/ /home/cke/PseudoBulk/Results/ &\n"
     ]
    },
    {
     "name": "stderr",
     "output_type": "stream",
     "text": [
      "Warning message:\n",
      "replacing previous import ‘gplots::lowess’ by ‘stats::lowess’ when loading ‘TED’ \n"
     ]
    },
    {
     "name": "stdout",
     "output_type": "stream",
     "text": [
      "[1] \"running BayesPrism with following args:\"\n",
      "[1] \"/home/cke/PseudoBulk/InputToWrapper/pseudobulk_LOT17_scRNAtrain.tsv\"\n",
      "[2] \"/home/cke/PseudoBulk/InputToWrapper/pseudobulk_LOT17_test.tsv\"      \n",
      "[3] \"/home/cke/Puram/scRNAlabels/\"                                       \n",
      "[4] \"/home/cke/Puram/markers/top100markers_de_cor_symbol.txt\"            \n",
      "[5] \"fullpipeline_pseudobulk_Jul28_LOT_pseudobulk_top100markers_17LOT\"   \n",
      "[6] \"/home/cke/PseudoBulk/Results/BayesPrism/\"                           \n",
      "[7] \"/home/cke/PseudoBulk/Results/\"                                      \n",
      "[8] \"/home/cke/Puram/scRNAlabels/\"                                       \n"
     ]
    },
    {
     "name": "stderr",
     "output_type": "stream",
     "text": [
      "Read 458 items\n"
     ]
    },
    {
     "name": "stdout",
     "output_type": "stream",
     "text": [
      "[1] \"Gene symbols detected. Cleaning up genes based on gene symbols. Recommend to use EMSEMBLE IDs for more unique mapping.\"\n",
      "A total of  18  genes from RB chrM chrX chrY  have been excluded \n",
      "A total of  0  lowly expressed genes have been excluded \n",
      "[1] \"removing non-numeric genes...\"\n",
      "[1] \"removing outlier genes...\"\n",
      "Number of outlier genes filtered= 4 \n",
      "[1] \"aligning reference and mixture...\"\n",
      "[1] \"run first sampling\"\n",
      "Start run... This may take a while \n",
      "R Version:  R version 4.1.3 (2022-03-10) \n",
      "\n"
     ]
    },
    {
     "name": "stderr",
     "output_type": "stream",
     "text": [
      "snowfall 1.84-6.2 initialized (using snow 0.4-4): parallel execution on 10 CPUs.\n",
      "\n",
      "\n",
      " 60%|██████████████████████████████████████████████████████████▊                                       | 3/5 [01:30<01:00, 30.04s/it]\u001b[A"
     ]
    },
    {
     "name": "stdout",
     "output_type": "stream",
     "text": [
      "2022-07-28 18:49:12\n",
      "pseudobulk mode: now with feature selection setup: \r",
      " top20markers\n",
      "now running in cmd: \r",
      " Rscript /home/cke/runscripts/runBP.r /home/cke/PseudoBulk/InputToWrapper/pseudobulk_LOT17_scRNAtrain.tsv /home/cke/PseudoBulk/InputToWrapper/pseudobulk_LOT17_test.tsv /home/cke/Puram/scRNAlabels/ /home/cke/Puram/markers/top20markers_de_cor_symbol.txt fullpipeline_pseudobulk_Jul28_LOT_pseudobulk_top20markers_17LOT /home/cke/PseudoBulk/Results/BayesPrism/ /home/cke/PseudoBulk/Results/ &\n"
     ]
    },
    {
     "name": "stderr",
     "output_type": "stream",
     "text": [
      "\n",
      "Stopping cluster\n",
      "\n"
     ]
    },
    {
     "name": "stdout",
     "output_type": "stream",
     "text": [
      "[1] \"merge subtypes\"\n",
      "        Fibroblast tumor B cell myocyte other Macrophage Endothelial T cell\n",
      "Min.         0.083 0.716  0.019       0 0.006      0.001       0.013  0.133\n",
      "1st Qu.      0.083 0.716  0.019       0 0.006      0.001       0.013  0.133\n",
      "Median       0.083 0.716  0.019       0 0.006      0.001       0.013  0.133\n",
      "Mean         0.083 0.716  0.019       0 0.006      0.001       0.013  0.133\n",
      "3rd Qu.      0.083 0.716  0.019       0 0.006      0.001       0.013  0.133\n",
      "Max.         0.083 0.716  0.019       0 0.006      0.001       0.013  0.133\n",
      "        Dendritic  Mast\n",
      "Min.            0 0.028\n",
      "1st Qu.         0 0.028\n",
      "Median          0 0.028\n",
      "Mean            0 0.028\n",
      "3rd Qu.         0 0.028\n",
      "Max.            0 0.028\n",
      "[1] \"pooling information across samples\"\n",
      "Start optimization... This may take a while \n"
     ]
    },
    {
     "name": "stderr",
     "output_type": "stream",
     "text": [
      "Warning message:\n",
      "replacing previous import ‘gplots::lowess’ by ‘stats::lowess’ when loading ‘TED’ \n"
     ]
    },
    {
     "name": "stdout",
     "output_type": "stream",
     "text": [
      "[1] \"running BayesPrism with following args:\"\n",
      "[1] \"/home/cke/PseudoBulk/InputToWrapper/pseudobulk_LOT17_scRNAtrain.tsv\"\n",
      "[2] \"/home/cke/PseudoBulk/InputToWrapper/pseudobulk_LOT17_test.tsv\"      \n",
      "[3] \"/home/cke/Puram/scRNAlabels/\"                                       \n",
      "[4] \"/home/cke/Puram/markers/top20markers_de_cor_symbol.txt\"             \n",
      "[5] \"fullpipeline_pseudobulk_Jul28_LOT_pseudobulk_top20markers_17LOT\"    \n",
      "[6] \"/home/cke/PseudoBulk/Results/BayesPrism/\"                           \n",
      "[7] \"/home/cke/PseudoBulk/Results/\"                                      \n",
      "[8] \"/home/cke/Puram/scRNAlabels/\"                                       \n"
     ]
    },
    {
     "name": "stderr",
     "output_type": "stream",
     "text": [
      "snowfall 1.84-6.2 initialized (using snow 0.4-4): parallel execution on 10 CPUs.\n",
      "\n",
      "Read 898 items\n",
      "\n",
      "Stopping cluster\n",
      "\n"
     ]
    },
    {
     "name": "stdout",
     "output_type": "stream",
     "text": [
      "[1] \"run final sampling\"\n",
      "Start run... This may take a while \n",
      "[1] \"Gene symbols detected. Cleaning up genes based on gene symbols. Recommend to use EMSEMBLE IDs for more unique mapping.\"\n",
      "A total of  40  genes from RB chrM chrX chrY  have been excluded \n",
      "A total of  12  lowly expressed genes have been excluded \n",
      "[1] \"removing non-numeric genes...\"\n",
      "[1] \"removing outlier genes...\"\n",
      "Number of outlier genes filtered= 4 \n",
      "[1] \"aligning reference and mixture...\"\n",
      "[1] \"run first sampling\"\n",
      "Start run... This may take a while \n"
     ]
    },
    {
     "name": "stderr",
     "output_type": "stream",
     "text": [
      "snowfall 1.84-6.2 initialized (using snow 0.4-4): parallel execution on 10 CPUs.\n",
      "\n",
      "\n",
      " 80%|██████████████████████████████████████████████████████████████████████████████▍                   | 4/5 [02:00<00:30, 30.05s/it]\u001b[A"
     ]
    },
    {
     "name": "stdout",
     "output_type": "stream",
     "text": [
      "2022-07-28 18:49:42\n",
      " top100DEGsmode: now with feature selection setup: \n",
      " Rscript /home/cke/runscripts/runBP.r /home/cke/PseudoBulk/InputToWrapper/pseudobulk_LOT17_scRNAtrain.tsv /home/cke/PseudoBulk/InputToWrapper/pseudobulk_LOT17_test.tsv /home/cke/Puram/scRNAlabels/ /home/cke/Puram/markers/top100DEGs_pseudobulk.txt fullpipeline_pseudobulk_Jul28_LOT_pseudobulk_top100DEGs_17LOT /home/cke/PseudoBulk/Results/BayesPrism/ /home/cke/PseudoBulk/Results/ &\n",
      "R Version:  R version 4.1.3 (2022-03-10) \n",
      "\n"
     ]
    },
    {
     "name": "stderr",
     "output_type": "stream",
     "text": [
      "snowfall 1.84-6.2 initialized (using snow 0.4-4): parallel execution on 10 CPUs.\n",
      "\n",
      "Warning message:\n",
      "replacing previous import ‘gplots::lowess’ by ‘stats::lowess’ when loading ‘TED’ \n"
     ]
    },
    {
     "name": "stdout",
     "output_type": "stream",
     "text": [
      "[1] \"running BayesPrism with following args:\"\n",
      "[1] \"/home/cke/PseudoBulk/InputToWrapper/pseudobulk_LOT17_scRNAtrain.tsv\"\n",
      "[2] \"/home/cke/PseudoBulk/InputToWrapper/pseudobulk_LOT17_test.tsv\"      \n",
      "[3] \"/home/cke/Puram/scRNAlabels/\"                                       \n",
      "[4] \"/home/cke/Puram/markers/top100DEGs_pseudobulk.txt\"                  \n",
      "[5] \"fullpipeline_pseudobulk_Jul28_LOT_pseudobulk_top100DEGs_17LOT\"      \n",
      "[6] \"/home/cke/PseudoBulk/Results/BayesPrism/\"                           \n",
      "[7] \"/home/cke/PseudoBulk/Results/\"                                      \n",
      "[8] \"/home/cke/Puram/scRNAlabels/\"                                       \n"
     ]
    },
    {
     "name": "stderr",
     "output_type": "stream",
     "text": [
      "\n",
      "Stopping cluster\n",
      "\n",
      "Warning messages:\n",
      "1: In searchCommandline(parallel, cpus = cpus, type = type, socketHosts = socketHosts,  :\n",
      "  Unknown option on commandline: --file\n",
      "2: In searchCommandline(parallel, cpus = cpus, type = type, socketHosts = socketHosts,  :\n",
      "  Unknown option on commandline: --file\n",
      "3: In searchCommandline(parallel, cpus = cpus, type = type, socketHosts = socketHosts,  :\n",
      "  Unknown option on commandline: --file\n"
     ]
    },
    {
     "name": "stdout",
     "output_type": "stream",
     "text": [
      "        tumor Fibroblast B cell myocyte other Macrophage Endothelial T cell\n",
      "Min.    0.716      0.083  0.019       0 0.006      0.001       0.013  0.133\n",
      "1st Qu. 0.716      0.083  0.019       0 0.006      0.001       0.013  0.133\n",
      "Median  0.716      0.083  0.019       0 0.006      0.001       0.013  0.133\n",
      "Mean    0.716      0.083  0.019       0 0.006      0.001       0.013  0.133\n",
      "3rd Qu. 0.716      0.083  0.019       0 0.006      0.001       0.013  0.133\n",
      "Max.    0.716      0.083  0.019       0 0.006      0.001       0.013  0.133\n",
      "        Dendritic  Mast\n",
      "Min.            0 0.028\n",
      "1st Qu.         0 0.028\n",
      "Median          0 0.028\n",
      "Mean            0 0.028\n",
      "3rd Qu.         0 0.028\n",
      "Max.            0 0.028\n",
      "[1] \"only one mixture sample. vst transformation is NOT feasible\"\n"
     ]
    },
    {
     "name": "stderr",
     "output_type": "stream",
     "text": [
      "\n",
      "Stopping cluster\n",
      "\n"
     ]
    },
    {
     "name": "stdout",
     "output_type": "stream",
     "text": [
      "[1] \"merge subtypes\"\n",
      "        Fibroblast tumor B cell myocyte other Macrophage Endothelial T cell\n",
      "Min.         0.091 0.757   0.02       0     0          0       0.015  0.088\n",
      "1st Qu.      0.091 0.757   0.02       0     0          0       0.015  0.088\n",
      "Median       0.091 0.757   0.02       0     0          0       0.015  0.088\n",
      "Mean         0.091 0.757   0.02       0     0          0       0.015  0.088\n",
      "3rd Qu.      0.091 0.757   0.02       0     0          0       0.015  0.088\n",
      "Max.         0.091 0.757   0.02       0     0          0       0.015  0.088\n",
      "        Dendritic  Mast\n",
      "Min.            0 0.027\n",
      "1st Qu.         0 0.027\n",
      "Median          0 0.027\n",
      "Mean            0 0.027\n",
      "3rd Qu.         0 0.027\n",
      "Max.            0 0.027\n",
      "[1] \"pooling information across samples\"\n",
      "Start optimization... This may take a while \n"
     ]
    },
    {
     "name": "stderr",
     "output_type": "stream",
     "text": [
      "snowfall 1.84-6.2 initialized (using snow 0.4-4): parallel execution on 10 CPUs.\n",
      "\n",
      "\n",
      "100%|██████████████████████████████████████████████████████████████████████████████████████████████████| 5/5 [02:30<00:00, 30.05s/it]\u001b[A\n",
      " 33%|████████████████████████████████▎                                                                | 3/9 [13:30<27:01, 270.32s/it]"
     ]
    },
    {
     "name": "stdout",
     "output_type": "stream",
     "text": [
      "2022-07-28 18:50:12\n",
      "pseudobulk mode: now with feature selection setup: \r",
      " top50markers\n",
      "now running in cmd: \r",
      " Rscript /home/cke/runscripts/runBP.r /home/cke/PseudoBulk/InputToWrapper/pseudobulk_LOT17_scRNAtrain.tsv /home/cke/PseudoBulk/InputToWrapper/pseudobulk_LOT17_test.tsv /home/cke/Puram/scRNAlabels/ /home/cke/Puram/markers/top50markers_de_cor_symbol.txt fullpipeline_pseudobulk_Jul28_LOT_pseudobulk_top50markers_17LOT /home/cke/PseudoBulk/Results/BayesPrism/ /home/cke/PseudoBulk/Results/ &\n"
     ]
    },
    {
     "name": "stderr",
     "output_type": "stream",
     "text": [
      "Read 198 items\n"
     ]
    },
    {
     "name": "stdout",
     "output_type": "stream",
     "text": [
      "[1] \"Gene symbols detected. Cleaning up genes based on gene symbols. Recommend to use EMSEMBLE IDs for more unique mapping.\"\n",
      "A total of  8  genes from RB chrM chrX chrY  have been excluded \n",
      "A total of  3  lowly expressed genes have been excluded \n",
      "[1] \"removing non-numeric genes...\"\n",
      "[1] \"removing outlier genes...\"\n",
      "Number of outlier genes filtered= 4 \n",
      "[1] \"aligning reference and mixture...\"\n",
      "[1] \"run first sampling\"\n",
      "Start run... This may take a while \n"
     ]
    },
    {
     "name": "stderr",
     "output_type": "stream",
     "text": [
      "\n",
      "Stopping cluster\n",
      "\n"
     ]
    },
    {
     "name": "stdout",
     "output_type": "stream",
     "text": [
      "[1] \"run final sampling\"\n",
      "Start run... This may take a while \n",
      "R Version:  R version 4.1.3 (2022-03-10) \n",
      "\n"
     ]
    },
    {
     "name": "stderr",
     "output_type": "stream",
     "text": [
      "snowfall 1.84-6.2 initialized (using snow 0.4-4): parallel execution on 10 CPUs.\n",
      "\n",
      "snowfall 1.84-6.2 initialized (using snow 0.4-4): parallel execution on 10 CPUs.\n",
      "\n",
      "Warning message:\n",
      "replacing previous import ‘gplots::lowess’ by ‘stats::lowess’ when loading ‘TED’ \n"
     ]
    },
    {
     "name": "stdout",
     "output_type": "stream",
     "text": [
      "[1] \"running BayesPrism with following args:\"\n",
      "[1] \"/home/cke/PseudoBulk/InputToWrapper/pseudobulk_LOT17_scRNAtrain.tsv\"\n",
      "[2] \"/home/cke/PseudoBulk/InputToWrapper/pseudobulk_LOT17_test.tsv\"      \n",
      "[3] \"/home/cke/Puram/scRNAlabels/\"                                       \n",
      "[4] \"/home/cke/Puram/markers/top50markers_de_cor_symbol.txt\"             \n",
      "[5] \"fullpipeline_pseudobulk_Jul28_LOT_pseudobulk_top50markers_17LOT\"    \n",
      "[6] \"/home/cke/PseudoBulk/Results/BayesPrism/\"                           \n",
      "[7] \"/home/cke/PseudoBulk/Results/\"                                      \n",
      "[8] \"/home/cke/Puram/scRNAlabels/\"                                       \n"
     ]
    },
    {
     "name": "stderr",
     "output_type": "stream",
     "text": [
      "\n",
      "Stopping cluster\n",
      "\n"
     ]
    },
    {
     "name": "stdout",
     "output_type": "stream",
     "text": [
      "[1] \"merge subtypes\"\n",
      "        Fibroblast tumor B cell myocyte other Macrophage Endothelial T cell\n",
      "Min.         0.044 0.594  0.011       0 0.021          0       0.017  0.232\n",
      "1st Qu.      0.044 0.594  0.011       0 0.021          0       0.017  0.232\n",
      "Median       0.044 0.594  0.011       0 0.021          0       0.017  0.232\n",
      "Mean         0.044 0.594  0.011       0 0.021          0       0.017  0.232\n",
      "3rd Qu.      0.044 0.594  0.011       0 0.021          0       0.017  0.232\n",
      "Max.         0.044 0.594  0.011       0 0.021          0       0.017  0.232\n",
      "        Dendritic Mast\n",
      "Min.            0 0.08\n",
      "1st Qu.         0 0.08\n",
      "Median          0 0.08\n",
      "Mean            0 0.08\n",
      "3rd Qu.         0 0.08\n",
      "Max.            0 0.08\n",
      "[1] \"pooling information across samples\"\n",
      "Start optimization... This may take a while \n"
     ]
    },
    {
     "name": "stderr",
     "output_type": "stream",
     "text": [
      "snowfall 1.84-6.2 initialized (using snow 0.4-4): parallel execution on 10 CPUs.\n",
      "\n",
      "\n",
      "Stopping cluster\n",
      "\n",
      "Warning messages:\n",
      "1: In searchCommandline(parallel, cpus = cpus, type = type, socketHosts = socketHosts,  :\n",
      "  Unknown option on commandline: --file\n",
      "2: In searchCommandline(parallel, cpus = cpus, type = type, socketHosts = socketHosts,  :\n",
      "  Unknown option on commandline: --file\n",
      "3: In searchCommandline(parallel, cpus = cpus, type = type, socketHosts = socketHosts,  :\n",
      "  Unknown option on commandline: --file\n"
     ]
    },
    {
     "name": "stdout",
     "output_type": "stream",
     "text": [
      "        tumor Fibroblast B cell myocyte other Macrophage Endothelial T cell\n",
      "Min.    0.757      0.091   0.02       0     0          0       0.015  0.088\n",
      "1st Qu. 0.757      0.091   0.02       0     0          0       0.015  0.088\n",
      "Median  0.757      0.091   0.02       0     0          0       0.015  0.088\n",
      "Mean    0.757      0.091   0.02       0     0          0       0.015  0.088\n",
      "3rd Qu. 0.757      0.091   0.02       0     0          0       0.015  0.088\n",
      "Max.    0.757      0.091   0.02       0     0          0       0.015  0.088\n",
      "        Dendritic  Mast\n",
      "Min.            0 0.027\n",
      "1st Qu.         0 0.027\n",
      "Median          0 0.027\n",
      "Mean            0 0.027\n",
      "3rd Qu.         0 0.027\n",
      "Max.            0 0.027\n",
      "[1] \"only one mixture sample. vst transformation is NOT feasible\"\n"
     ]
    },
    {
     "name": "stderr",
     "output_type": "stream",
     "text": [
      "\n",
      "Stopping cluster\n",
      "\n"
     ]
    },
    {
     "name": "stdout",
     "output_type": "stream",
     "text": [
      "[1] \"run final sampling\"\n",
      "Start run... This may take a while \n"
     ]
    },
    {
     "name": "stderr",
     "output_type": "stream",
     "text": [
      "snowfall 1.84-6.2 initialized (using snow 0.4-4): parallel execution on 10 CPUs.\n",
      "\n",
      "Read 876 items\n"
     ]
    },
    {
     "name": "stdout",
     "output_type": "stream",
     "text": [
      "[1] \"Gene symbols detected. Cleaning up genes based on gene symbols. Recommend to use EMSEMBLE IDs for more unique mapping.\"\n",
      "A total of  33  genes from RB chrM chrX chrY  have been excluded \n",
      "A total of  0  lowly expressed genes have been excluded \n",
      "[1] \"removing non-numeric genes...\"\n",
      "[1] \"removing outlier genes...\"\n",
      "Number of outlier genes filtered= 4 \n",
      "[1] \"aligning reference and mixture...\"\n",
      "[1] \"run first sampling\"\n",
      "Start run... This may take a while \n"
     ]
    },
    {
     "name": "stderr",
     "output_type": "stream",
     "text": [
      "\n",
      "Stopping cluster\n",
      "\n",
      "Warning messages:\n",
      "1: In searchCommandline(parallel, cpus = cpus, type = type, socketHosts = socketHosts,  :\n",
      "  Unknown option on commandline: --file\n",
      "2: In searchCommandline(parallel, cpus = cpus, type = type, socketHosts = socketHosts,  :\n",
      "  Unknown option on commandline: --file\n",
      "3: In searchCommandline(parallel, cpus = cpus, type = type, socketHosts = socketHosts,  :\n",
      "  Unknown option on commandline: --file\n"
     ]
    },
    {
     "name": "stdout",
     "output_type": "stream",
     "text": [
      "        tumor Fibroblast B cell myocyte other Macrophage Endothelial T cell\n",
      "Min.    0.594      0.044  0.011       0 0.021          0       0.017  0.232\n",
      "1st Qu. 0.594      0.044  0.011       0 0.021          0       0.017  0.232\n",
      "Median  0.594      0.044  0.011       0 0.021          0       0.017  0.232\n",
      "Mean    0.594      0.044  0.011       0 0.021          0       0.017  0.232\n",
      "3rd Qu. 0.594      0.044  0.011       0 0.021          0       0.017  0.232\n",
      "Max.    0.594      0.044  0.011       0 0.021          0       0.017  0.232\n",
      "        Dendritic Mast\n",
      "Min.            0 0.08\n",
      "1st Qu.         0 0.08\n",
      "Median          0 0.08\n",
      "Mean            0 0.08\n",
      "3rd Qu.         0 0.08\n",
      "Max.            0 0.08\n",
      "[1] \"only one mixture sample. vst transformation is NOT feasible\"\n",
      "R Version:  R version 4.1.3 (2022-03-10) \n",
      "\n"
     ]
    },
    {
     "name": "stderr",
     "output_type": "stream",
     "text": [
      "snowfall 1.84-6.2 initialized (using snow 0.4-4): parallel execution on 10 CPUs.\n",
      "\n",
      "\n",
      "Stopping cluster\n",
      "\n"
     ]
    },
    {
     "name": "stdout",
     "output_type": "stream",
     "text": [
      "[1] \"merge subtypes\"\n",
      "        Fibroblast tumor B cell myocyte other Macrophage Endothelial T cell\n",
      "Min.         0.073 0.744  0.014       0     0      0.001       0.014  0.132\n",
      "1st Qu.      0.073 0.744  0.014       0     0      0.001       0.014  0.132\n",
      "Median       0.073 0.744  0.014       0     0      0.001       0.014  0.132\n",
      "Mean         0.073 0.744  0.014       0     0      0.001       0.014  0.132\n",
      "3rd Qu.      0.073 0.744  0.014       0     0      0.001       0.014  0.132\n",
      "Max.         0.073 0.744  0.014       0     0      0.001       0.014  0.132\n",
      "        Dendritic  Mast\n",
      "Min.            0 0.023\n",
      "1st Qu.         0 0.023\n",
      "Median          0 0.023\n",
      "Mean            0 0.023\n",
      "3rd Qu.         0 0.023\n",
      "Max.            0 0.023\n",
      "[1] \"pooling information across samples\"\n",
      "Start optimization... This may take a while \n"
     ]
    },
    {
     "name": "stderr",
     "output_type": "stream",
     "text": [
      "Read 467 items\n"
     ]
    },
    {
     "name": "stdout",
     "output_type": "stream",
     "text": [
      "[1] \"Gene symbols detected. Cleaning up genes based on gene symbols. Recommend to use EMSEMBLE IDs for more unique mapping.\"\n",
      "A total of  20  genes from RB chrM chrX chrY  have been excluded \n",
      "A total of  6  lowly expressed genes have been excluded \n",
      "[1] \"removing non-numeric genes...\"\n",
      "[1] \"removing outlier genes...\"\n",
      "Number of outlier genes filtered= 4 \n",
      "[1] \"aligning reference and mixture...\"\n"
     ]
    },
    {
     "name": "stderr",
     "output_type": "stream",
     "text": [
      "snowfall 1.84-6.2 initialized (using snow 0.4-4): parallel execution on 10 CPUs.\n",
      "\n"
     ]
    },
    {
     "name": "stdout",
     "output_type": "stream",
     "text": [
      "[1] \"run first sampling\"\n",
      "Start run... This may take a while \n"
     ]
    },
    {
     "name": "stderr",
     "output_type": "stream",
     "text": [
      "Error in socketConnection(port = port, server = TRUE, blocking = TRUE,  : \n",
      "  cannot open the connection\n",
      "In addition: Warning messages:\n",
      "1: In searchCommandline(parallel, cpus = cpus, type = type, socketHosts = socketHosts,  :\n",
      "  Unknown option on commandline: --file\n",
      "2: In socketConnection(port = port, server = TRUE, blocking = TRUE,  :\n",
      "  port 11832 cannot be opened\n",
      "Error in sfInit(parallel = TRUE, cpus = n.cores, type = \"SOCK\") : \n",
      "  Starting of snow cluster failed! Error in socketConnection(port = port, server = TRUE, blocking = TRUE,  : \n",
      "  cannot open the connection\n",
      " Error in socketConnection(port = port, server = TRUE, blocking = TRUE,  : \n",
      "  cannot open the connection\n",
      "Calls: run_BP ... run.Ted.main -> run.gibbs -> draw.sample.gibbs -> sfInit\n",
      "Execution halted\n"
     ]
    },
    {
     "name": "stdout",
     "output_type": "stream",
     "text": [
      "R Version:  R version 4.1.3 (2022-03-10) \n",
      "\n"
     ]
    },
    {
     "name": "stderr",
     "output_type": "stream",
     "text": [
      "snowfall 1.84-6.2 initialized (using snow 0.4-4): parallel execution on 10 CPUs.\n",
      "\n",
      "\n",
      "Stopping cluster\n",
      "\n"
     ]
    },
    {
     "name": "stdout",
     "output_type": "stream",
     "text": [
      "[1] \"run final sampling\"\n",
      "Start run... This may take a while \n"
     ]
    },
    {
     "name": "stderr",
     "output_type": "stream",
     "text": [
      "\n",
      "Stopping cluster\n",
      "\n"
     ]
    },
    {
     "name": "stdout",
     "output_type": "stream",
     "text": [
      "[1] \"merge subtypes\"\n",
      "        tumor Fibroblast B cell myocyte other Macrophage T cell Dendritic  Mast\n",
      "Min.     0.27      0.585  0.067   0.037     0      0.013      0         0 0.005\n",
      "1st Qu.  0.27      0.585  0.067   0.037     0      0.013      0         0 0.005\n",
      "Median   0.27      0.585  0.067   0.037     0      0.013      0         0 0.005\n",
      "Mean     0.27      0.585  0.067   0.037     0      0.013      0         0 0.005\n",
      "3rd Qu.  0.27      0.585  0.067   0.037     0      0.013      0         0 0.005\n",
      "Max.     0.27      0.585  0.067   0.037     0      0.013      0         0 0.005\n",
      "        Endothelial\n",
      "Min.          0.024\n",
      "1st Qu.       0.024\n",
      "Median        0.024\n",
      "Mean          0.024\n",
      "3rd Qu.       0.024\n",
      "Max.          0.024\n",
      "[1] \"pooling information across samples\"\n",
      "Start optimization... This may take a while \n"
     ]
    },
    {
     "name": "stderr",
     "output_type": "stream",
     "text": [
      "snowfall 1.84-6.2 initialized (using snow 0.4-4): parallel execution on 10 CPUs.\n",
      "\n",
      "snowfall 1.84-6.2 initialized (using snow 0.4-4): parallel execution on 10 CPUs.\n",
      "\n",
      "\n",
      "Stopping cluster\n",
      "\n",
      "Warning messages:\n",
      "1: In searchCommandline(parallel, cpus = cpus, type = type, socketHosts = socketHosts,  :\n",
      "  Unknown option on commandline: --file\n",
      "2: In searchCommandline(parallel, cpus = cpus, type = type, socketHosts = socketHosts,  :\n",
      "  Unknown option on commandline: --file\n",
      "3: In searchCommandline(parallel, cpus = cpus, type = type, socketHosts = socketHosts,  :\n",
      "  Unknown option on commandline: --file\n"
     ]
    },
    {
     "name": "stdout",
     "output_type": "stream",
     "text": [
      "        tumor Fibroblast B cell myocyte other Macrophage Endothelial T cell\n",
      "Min.    0.744      0.073  0.014       0     0      0.001       0.014  0.132\n",
      "1st Qu. 0.744      0.073  0.014       0     0      0.001       0.014  0.132\n",
      "Median  0.744      0.073  0.014       0     0      0.001       0.014  0.132\n",
      "Mean    0.744      0.073  0.014       0     0      0.001       0.014  0.132\n",
      "3rd Qu. 0.744      0.073  0.014       0     0      0.001       0.014  0.132\n",
      "Max.    0.744      0.073  0.014       0     0      0.001       0.014  0.132\n",
      "        Dendritic  Mast\n",
      "Min.            0 0.023\n",
      "1st Qu.         0 0.023\n",
      "Median          0 0.023\n",
      "Mean            0 0.023\n",
      "3rd Qu.         0 0.023\n",
      "Max.            0 0.023\n",
      "[1] \"only one mixture sample. vst transformation is NOT feasible\"\n"
     ]
    },
    {
     "name": "stderr",
     "output_type": "stream",
     "text": [
      "\n",
      "Stopping cluster\n",
      "\n"
     ]
    },
    {
     "name": "stdout",
     "output_type": "stream",
     "text": [
      "[1] \"run final sampling\"\n",
      "Start run... This may take a while \n"
     ]
    },
    {
     "name": "stderr",
     "output_type": "stream",
     "text": [
      "snowfall 1.84-6.2 initialized (using snow 0.4-4): parallel execution on 10 CPUs.\n",
      "\n",
      "\n",
      "Stopping cluster\n",
      "\n",
      "Warning messages:\n",
      "1: In searchCommandline(parallel, cpus = cpus, type = type, socketHosts = socketHosts,  :\n",
      "  Unknown option on commandline: --file\n",
      "2: In system(cmd, wait = FALSE) :\n",
      "  system call failed: Cannot allocate memory\n",
      "3: In system(cmd, wait = FALSE) : error in running command\n",
      "4: In searchCommandline(parallel, cpus = cpus, type = type, socketHosts = socketHosts,  :\n",
      "  Unknown option on commandline: --file\n",
      "5: In searchCommandline(parallel, cpus = cpus, type = type, socketHosts = socketHosts,  :\n",
      "  Unknown option on commandline: --file\n"
     ]
    },
    {
     "name": "stdout",
     "output_type": "stream",
     "text": [
      "        tumor Fibroblast B cell myocyte other Macrophage T cell Dendritic  Mast\n",
      "Min.     0.27      0.585  0.067   0.037     0      0.013      0         0 0.005\n",
      "1st Qu.  0.27      0.585  0.067   0.037     0      0.013      0         0 0.005\n",
      "Median   0.27      0.585  0.067   0.037     0      0.013      0         0 0.005\n",
      "Mean     0.27      0.585  0.067   0.037     0      0.013      0         0 0.005\n",
      "3rd Qu.  0.27      0.585  0.067   0.037     0      0.013      0         0 0.005\n",
      "Max.     0.27      0.585  0.067   0.037     0      0.013      0         0 0.005\n",
      "        Endothelial\n",
      "Min.          0.024\n",
      "1st Qu.       0.024\n",
      "Median        0.024\n",
      "Mean          0.024\n",
      "3rd Qu.       0.024\n",
      "Max.          0.024\n",
      "[1] \"only one mixture sample. vst transformation is NOT feasible\"\n"
     ]
    },
    {
     "name": "stderr",
     "output_type": "stream",
     "text": [
      "\n",
      "  0%|                                                                                                          | 0/5 [00:00<?, ?it/s]\u001b[A\n",
      " 20%|███████████████████▌                                                                              | 1/5 [00:30<02:00, 30.02s/it]\u001b[A"
     ]
    },
    {
     "name": "stdout",
     "output_type": "stream",
     "text": [
      "2022-07-28 18:52:42\n",
      "pseudobulk mode: now with feature selection setup: \r",
      " top50DEGs\n",
      "now running in cmd: \r",
      " Rscript /home/cke/runscripts/runBP.r /home/cke/PseudoBulk/InputToWrapper/pseudobulk_LOT18_scRNAtrain.tsv /home/cke/PseudoBulk/InputToWrapper/pseudobulk_LOT18_test.tsv /home/cke/Puram/scRNAlabels/ /home/cke/Puram/markers/top50DEGs_pseudobulk.txt fullpipeline_pseudobulk_Jul28_LOT_pseudobulk_top50DEGs_18LOT /home/cke/PseudoBulk/Results/BayesPrism/ /home/cke/PseudoBulk/Results/ &\n"
     ]
    },
    {
     "name": "stderr",
     "output_type": "stream",
     "text": [
      "Warning message:\n",
      "replacing previous import ‘gplots::lowess’ by ‘stats::lowess’ when loading ‘TED’ \n"
     ]
    },
    {
     "name": "stdout",
     "output_type": "stream",
     "text": [
      "[1] \"running BayesPrism with following args:\"\n",
      "[1] \"/home/cke/PseudoBulk/InputToWrapper/pseudobulk_LOT18_scRNAtrain.tsv\"\n",
      "[2] \"/home/cke/PseudoBulk/InputToWrapper/pseudobulk_LOT18_test.tsv\"      \n",
      "[3] \"/home/cke/Puram/scRNAlabels/\"                                       \n",
      "[4] \"/home/cke/Puram/markers/top50DEGs_pseudobulk.txt\"                   \n",
      "[5] \"fullpipeline_pseudobulk_Jul28_LOT_pseudobulk_top50DEGs_18LOT\"       \n",
      "[6] \"/home/cke/PseudoBulk/Results/BayesPrism/\"                           \n",
      "[7] \"/home/cke/PseudoBulk/Results/\"                                      \n",
      "[8] \"/home/cke/Puram/scRNAlabels/\"                                       \n"
     ]
    },
    {
     "name": "stderr",
     "output_type": "stream",
     "text": [
      "\n",
      " 40%|███████████████████████████████████████▏                                                          | 2/5 [01:00<01:30, 30.03s/it]\u001b[A"
     ]
    },
    {
     "name": "stdout",
     "output_type": "stream",
     "text": [
      "2022-07-28 18:53:12\n",
      "pseudobulk mode: now with feature selection setup: \r",
      " top100markers\n",
      "now running in cmd: \r",
      " Rscript /home/cke/runscripts/runBP.r /home/cke/PseudoBulk/InputToWrapper/pseudobulk_LOT18_scRNAtrain.tsv /home/cke/PseudoBulk/InputToWrapper/pseudobulk_LOT18_test.tsv /home/cke/Puram/scRNAlabels/ /home/cke/Puram/markers/top100markers_de_cor_symbol.txt fullpipeline_pseudobulk_Jul28_LOT_pseudobulk_top100markers_18LOT /home/cke/PseudoBulk/Results/BayesPrism/ /home/cke/PseudoBulk/Results/ &\n"
     ]
    },
    {
     "name": "stderr",
     "output_type": "stream",
     "text": [
      "Warning message:\n",
      "replacing previous import ‘gplots::lowess’ by ‘stats::lowess’ when loading ‘TED’ \n"
     ]
    },
    {
     "name": "stdout",
     "output_type": "stream",
     "text": [
      "[1] \"running BayesPrism with following args:\"\n",
      "[1] \"/home/cke/PseudoBulk/InputToWrapper/pseudobulk_LOT18_scRNAtrain.tsv\"\n",
      "[2] \"/home/cke/PseudoBulk/InputToWrapper/pseudobulk_LOT18_test.tsv\"      \n",
      "[3] \"/home/cke/Puram/scRNAlabels/\"                                       \n",
      "[4] \"/home/cke/Puram/markers/top100markers_de_cor_symbol.txt\"            \n",
      "[5] \"fullpipeline_pseudobulk_Jul28_LOT_pseudobulk_top100markers_18LOT\"   \n",
      "[6] \"/home/cke/PseudoBulk/Results/BayesPrism/\"                           \n",
      "[7] \"/home/cke/PseudoBulk/Results/\"                                      \n",
      "[8] \"/home/cke/Puram/scRNAlabels/\"                                       \n"
     ]
    },
    {
     "name": "stderr",
     "output_type": "stream",
     "text": [
      "Read 458 items\n"
     ]
    },
    {
     "name": "stdout",
     "output_type": "stream",
     "text": [
      "[1] \"Gene symbols detected. Cleaning up genes based on gene symbols. Recommend to use EMSEMBLE IDs for more unique mapping.\"\n",
      "A total of  18  genes from RB chrM chrX chrY  have been excluded \n",
      "A total of  0  lowly expressed genes have been excluded \n",
      "[1] \"removing non-numeric genes...\"\n",
      "[1] \"removing outlier genes...\"\n",
      "Number of outlier genes filtered= 4 \n",
      "[1] \"aligning reference and mixture...\"\n",
      "[1] \"run first sampling\"\n",
      "Start run... This may take a while \n",
      "R Version:  R version 4.1.3 (2022-03-10) \n",
      "\n"
     ]
    },
    {
     "name": "stderr",
     "output_type": "stream",
     "text": [
      "snowfall 1.84-6.2 initialized (using snow 0.4-4): parallel execution on 10 CPUs.\n",
      "\n",
      "\n",
      " 60%|██████████████████████████████████████████████████████████▊                                       | 3/5 [01:30<01:00, 30.03s/it]\u001b[A"
     ]
    },
    {
     "name": "stdout",
     "output_type": "stream",
     "text": [
      "2022-07-28 18:53:42\n",
      "pseudobulk mode: now with feature selection setup: \r",
      " top20markers\n",
      "now running in cmd: \r",
      " Rscript /home/cke/runscripts/runBP.r /home/cke/PseudoBulk/InputToWrapper/pseudobulk_LOT18_scRNAtrain.tsv /home/cke/PseudoBulk/InputToWrapper/pseudobulk_LOT18_test.tsv /home/cke/Puram/scRNAlabels/ /home/cke/Puram/markers/top20markers_de_cor_symbol.txt fullpipeline_pseudobulk_Jul28_LOT_pseudobulk_top20markers_18LOT /home/cke/PseudoBulk/Results/BayesPrism/ /home/cke/PseudoBulk/Results/ &\n"
     ]
    },
    {
     "name": "stderr",
     "output_type": "stream",
     "text": [
      "\n",
      "Stopping cluster\n",
      "\n"
     ]
    },
    {
     "name": "stdout",
     "output_type": "stream",
     "text": [
      "[1] \"merge subtypes\"\n",
      "        Fibroblast tumor B cell myocyte other Macrophage Endothelial T cell\n",
      "Min.         0.081 0.175   0.04   0.001 0.235       0.06       0.041  0.314\n",
      "1st Qu.      0.081 0.175   0.04   0.001 0.235       0.06       0.041  0.314\n",
      "Median       0.081 0.175   0.04   0.001 0.235       0.06       0.041  0.314\n",
      "Mean         0.081 0.175   0.04   0.001 0.235       0.06       0.041  0.314\n",
      "3rd Qu.      0.081 0.175   0.04   0.001 0.235       0.06       0.041  0.314\n",
      "Max.         0.081 0.175   0.04   0.001 0.235       0.06       0.041  0.314\n",
      "        Dendritic  Mast\n",
      "Min.            0 0.053\n",
      "1st Qu.         0 0.053\n",
      "Median          0 0.053\n",
      "Mean            0 0.053\n",
      "3rd Qu.         0 0.053\n",
      "Max.            0 0.053\n",
      "[1] \"pooling information across samples\"\n",
      "Start optimization... This may take a while \n"
     ]
    },
    {
     "name": "stderr",
     "output_type": "stream",
     "text": [
      "snowfall 1.84-6.2 initialized (using snow 0.4-4): parallel execution on 10 CPUs.\n",
      "\n",
      "Warning message:\n",
      "replacing previous import ‘gplots::lowess’ by ‘stats::lowess’ when loading ‘TED’ \n"
     ]
    },
    {
     "name": "stdout",
     "output_type": "stream",
     "text": [
      "[1] \"running BayesPrism with following args:\"\n",
      "[1] \"/home/cke/PseudoBulk/InputToWrapper/pseudobulk_LOT18_scRNAtrain.tsv\"\n",
      "[2] \"/home/cke/PseudoBulk/InputToWrapper/pseudobulk_LOT18_test.tsv\"      \n",
      "[3] \"/home/cke/Puram/scRNAlabels/\"                                       \n",
      "[4] \"/home/cke/Puram/markers/top20markers_de_cor_symbol.txt\"             \n",
      "[5] \"fullpipeline_pseudobulk_Jul28_LOT_pseudobulk_top20markers_18LOT\"    \n",
      "[6] \"/home/cke/PseudoBulk/Results/BayesPrism/\"                           \n",
      "[7] \"/home/cke/PseudoBulk/Results/\"                                      \n",
      "[8] \"/home/cke/Puram/scRNAlabels/\"                                       \n"
     ]
    },
    {
     "name": "stderr",
     "output_type": "stream",
     "text": [
      "Read 898 items\n",
      "\n",
      "Stopping cluster\n",
      "\n"
     ]
    },
    {
     "name": "stdout",
     "output_type": "stream",
     "text": [
      "[1] \"run final sampling\"\n",
      "Start run... This may take a while \n",
      "[1] \"Gene symbols detected. Cleaning up genes based on gene symbols. Recommend to use EMSEMBLE IDs for more unique mapping.\"\n",
      "A total of  40  genes from RB chrM chrX chrY  have been excluded \n",
      "A total of  16  lowly expressed genes have been excluded \n",
      "[1] \"removing non-numeric genes...\"\n",
      "[1] \"removing outlier genes...\"\n",
      "Number of outlier genes filtered= 4 \n",
      "[1] \"aligning reference and mixture...\"\n",
      "[1] \"run first sampling\"\n",
      "Start run... This may take a while \n"
     ]
    },
    {
     "name": "stderr",
     "output_type": "stream",
     "text": [
      "snowfall 1.84-6.2 initialized (using snow 0.4-4): parallel execution on 10 CPUs.\n",
      "\n"
     ]
    },
    {
     "name": "stdout",
     "output_type": "stream",
     "text": [
      "R Version:  R version 4.1.3 (2022-03-10) \n",
      "\n"
     ]
    },
    {
     "name": "stderr",
     "output_type": "stream",
     "text": [
      "snowfall 1.84-6.2 initialized (using snow 0.4-4): parallel execution on 10 CPUs.\n",
      "\n",
      "\n",
      " 80%|██████████████████████████████████████████████████████████████████████████████▍                   | 4/5 [02:00<00:30, 30.04s/it]\u001b[A"
     ]
    },
    {
     "name": "stdout",
     "output_type": "stream",
     "text": [
      "2022-07-28 18:54:12\n",
      "pseudobulk mode: now with feature selection setup: \r",
      " top100DEGs\n",
      "now running in cmd: \r",
      " Rscript /home/cke/runscripts/runBP.r /home/cke/PseudoBulk/InputToWrapper/pseudobulk_LOT18_scRNAtrain.tsv /home/cke/PseudoBulk/InputToWrapper/pseudobulk_LOT18_test.tsv /home/cke/Puram/scRNAlabels/ /home/cke/Puram/markers/top100DEGs_pseudobulk.txt fullpipeline_pseudobulk_Jul28_LOT_pseudobulk_top100DEGs_18LOT /home/cke/PseudoBulk/Results/BayesPrism/ /home/cke/PseudoBulk/Results/ &\n"
     ]
    },
    {
     "name": "stderr",
     "output_type": "stream",
     "text": [
      "\n",
      "Stopping cluster\n",
      "\n",
      "Warning messages:\n",
      "1: In searchCommandline(parallel, cpus = cpus, type = type, socketHosts = socketHosts,  :\n",
      "  Unknown option on commandline: --file\n",
      "2: In searchCommandline(parallel, cpus = cpus, type = type, socketHosts = socketHosts,  :\n",
      "  Unknown option on commandline: --file\n",
      "3: In searchCommandline(parallel, cpus = cpus, type = type, socketHosts = socketHosts,  :\n",
      "  Unknown option on commandline: --file\n"
     ]
    },
    {
     "name": "stdout",
     "output_type": "stream",
     "text": [
      "        tumor Fibroblast B cell myocyte other Macrophage Endothelial T cell\n",
      "Min.    0.175      0.081   0.04   0.001 0.235       0.06       0.041  0.314\n",
      "1st Qu. 0.175      0.081   0.04   0.001 0.235       0.06       0.041  0.314\n",
      "Median  0.175      0.081   0.04   0.001 0.235       0.06       0.041  0.314\n",
      "Mean    0.175      0.081   0.04   0.001 0.235       0.06       0.041  0.314\n",
      "3rd Qu. 0.175      0.081   0.04   0.001 0.235       0.06       0.041  0.314\n",
      "Max.    0.175      0.081   0.04   0.001 0.235       0.06       0.041  0.314\n",
      "        Dendritic  Mast\n",
      "Min.            0 0.053\n",
      "1st Qu.         0 0.053\n",
      "Median          0 0.053\n",
      "Mean            0 0.053\n",
      "3rd Qu.         0 0.053\n",
      "Max.            0 0.053\n",
      "[1] \"only one mixture sample. vst transformation is NOT feasible\"\n"
     ]
    },
    {
     "name": "stderr",
     "output_type": "stream",
     "text": [
      "Warning message:\n",
      "replacing previous import ‘gplots::lowess’ by ‘stats::lowess’ when loading ‘TED’ \n"
     ]
    },
    {
     "name": "stdout",
     "output_type": "stream",
     "text": [
      "[1] \"running BayesPrism with following args:\"\n",
      "[1] \"/home/cke/PseudoBulk/InputToWrapper/pseudobulk_LOT18_scRNAtrain.tsv\"\n",
      "[2] \"/home/cke/PseudoBulk/InputToWrapper/pseudobulk_LOT18_test.tsv\"      \n",
      "[3] \"/home/cke/Puram/scRNAlabels/\"                                       \n",
      "[4] \"/home/cke/Puram/markers/top100DEGs_pseudobulk.txt\"                  \n",
      "[5] \"fullpipeline_pseudobulk_Jul28_LOT_pseudobulk_top100DEGs_18LOT\"      \n",
      "[6] \"/home/cke/PseudoBulk/Results/BayesPrism/\"                           \n",
      "[7] \"/home/cke/PseudoBulk/Results/\"                                      \n",
      "[8] \"/home/cke/Puram/scRNAlabels/\"                                       \n"
     ]
    },
    {
     "name": "stderr",
     "output_type": "stream",
     "text": [
      "\n",
      "Stopping cluster\n",
      "\n"
     ]
    },
    {
     "name": "stdout",
     "output_type": "stream",
     "text": [
      "[1] \"merge subtypes\"\n",
      "        Fibroblast tumor B cell myocyte other Macrophage Endothelial T cell\n",
      "Min.         0.099 0.193  0.038   0.001 0.274      0.008       0.044  0.292\n",
      "1st Qu.      0.099 0.193  0.038   0.001 0.274      0.008       0.044  0.292\n",
      "Median       0.099 0.193  0.038   0.001 0.274      0.008       0.044  0.292\n",
      "Mean         0.099 0.193  0.038   0.001 0.274      0.008       0.044  0.292\n",
      "3rd Qu.      0.099 0.193  0.038   0.001 0.274      0.008       0.044  0.292\n",
      "Max.         0.099 0.193  0.038   0.001 0.274      0.008       0.044  0.292\n",
      "        Dendritic  Mast\n",
      "Min.            0 0.052\n",
      "1st Qu.         0 0.052\n",
      "Median          0 0.052\n",
      "Mean            0 0.052\n",
      "3rd Qu.         0 0.052\n",
      "Max.            0 0.052\n",
      "[1] \"pooling information across samples\"\n",
      "Start optimization... This may take a while \n"
     ]
    },
    {
     "name": "stderr",
     "output_type": "stream",
     "text": [
      "snowfall 1.84-6.2 initialized (using snow 0.4-4): parallel execution on 10 CPUs.\n",
      "\n",
      "Read 198 items\n"
     ]
    },
    {
     "name": "stdout",
     "output_type": "stream",
     "text": [
      "[1] \"Gene symbols detected. Cleaning up genes based on gene symbols. Recommend to use EMSEMBLE IDs for more unique mapping.\"\n",
      "A total of  8  genes from RB chrM chrX chrY  have been excluded \n",
      "A total of  5  lowly expressed genes have been excluded \n",
      "[1] \"removing non-numeric genes...\"\n",
      "[1] \"removing outlier genes...\"\n",
      "Number of outlier genes filtered= 4 \n",
      "[1] \"aligning reference and mixture...\"\n",
      "[1] \"run first sampling\"\n",
      "Start run... This may take a while \n"
     ]
    },
    {
     "name": "stderr",
     "output_type": "stream",
     "text": [
      "\n",
      "100%|██████████████████████████████████████████████████████████████████████████████████████████████████| 5/5 [02:30<00:00, 30.04s/it]\u001b[A\n",
      " 44%|███████████████████████████████████████████                                                      | 4/9 [18:01<22:31, 270.32s/it]"
     ]
    },
    {
     "name": "stdout",
     "output_type": "stream",
     "text": [
      "2022-07-28 18:54:42\n",
      " top50markersde: now with feature selection setup: \n",
      " Rscript /home/cke/runscripts/runBP.r /home/cke/PseudoBulk/InputToWrapper/pseudobulk_LOT18_scRNAtrain.tsv /home/cke/PseudoBulk/InputToWrapper/pseudobulk_LOT18_test.tsv /home/cke/Puram/scRNAlabels/ /home/cke/Puram/markers/top50markers_de_cor_symbol.txt fullpipeline_pseudobulk_Jul28_LOT_pseudobulk_top50markers_18LOT /home/cke/PseudoBulk/Results/BayesPrism/ /home/cke/PseudoBulk/Results/ &\n",
      "R Version:  R version 4.1.3 (2022-03-10) \n",
      "\n"
     ]
    },
    {
     "name": "stderr",
     "output_type": "stream",
     "text": [
      "snowfall 1.84-6.2 initialized (using snow 0.4-4): parallel execution on 10 CPUs.\n",
      "\n",
      "\n",
      "Stopping cluster\n",
      "\n"
     ]
    },
    {
     "name": "stdout",
     "output_type": "stream",
     "text": [
      "[1] \"run final sampling\"\n",
      "Start run... This may take a while \n"
     ]
    },
    {
     "name": "stderr",
     "output_type": "stream",
     "text": [
      "Warning message:\n",
      "replacing previous import ‘gplots::lowess’ by ‘stats::lowess’ when loading ‘TED’ \n"
     ]
    },
    {
     "name": "stdout",
     "output_type": "stream",
     "text": [
      "[1] \"running BayesPrism with following args:\"\n",
      "[1] \"/home/cke/PseudoBulk/InputToWrapper/pseudobulk_LOT18_scRNAtrain.tsv\"\n",
      "[2] \"/home/cke/PseudoBulk/InputToWrapper/pseudobulk_LOT18_test.tsv\"      \n",
      "[3] \"/home/cke/Puram/scRNAlabels/\"                                       \n",
      "[4] \"/home/cke/Puram/markers/top50markers_de_cor_symbol.txt\"             \n",
      "[5] \"fullpipeline_pseudobulk_Jul28_LOT_pseudobulk_top50markers_18LOT\"    \n",
      "[6] \"/home/cke/PseudoBulk/Results/BayesPrism/\"                           \n",
      "[7] \"/home/cke/PseudoBulk/Results/\"                                      \n",
      "[8] \"/home/cke/Puram/scRNAlabels/\"                                       \n"
     ]
    },
    {
     "name": "stderr",
     "output_type": "stream",
     "text": [
      "snowfall 1.84-6.2 initialized (using snow 0.4-4): parallel execution on 10 CPUs.\n",
      "\n",
      "\n",
      "Stopping cluster\n",
      "\n"
     ]
    },
    {
     "name": "stdout",
     "output_type": "stream",
     "text": [
      "[1] \"merge subtypes\"\n",
      "        Fibroblast tumor B cell myocyte other Macrophage Endothelial T cell\n",
      "Min.          0.03 0.094  0.059   0.001 0.202      0.093       0.045   0.36\n",
      "1st Qu.       0.03 0.094  0.059   0.001 0.202      0.093       0.045   0.36\n",
      "Median        0.03 0.094  0.059   0.001 0.202      0.093       0.045   0.36\n",
      "Mean          0.03 0.094  0.059   0.001 0.202      0.093       0.045   0.36\n",
      "3rd Qu.       0.03 0.094  0.059   0.001 0.202      0.093       0.045   0.36\n",
      "Max.          0.03 0.094  0.059   0.001 0.202      0.093       0.045   0.36\n",
      "        Dendritic  Mast\n",
      "Min.            0 0.115\n",
      "1st Qu.         0 0.115\n",
      "Median          0 0.115\n",
      "Mean            0 0.115\n",
      "3rd Qu.         0 0.115\n",
      "Max.            0 0.115\n",
      "[1] \"pooling information across samples\"\n",
      "Start optimization... This may take a while \n"
     ]
    },
    {
     "name": "stderr",
     "output_type": "stream",
     "text": [
      "snowfall 1.84-6.2 initialized (using snow 0.4-4): parallel execution on 10 CPUs.\n",
      "\n",
      "\n",
      "Stopping cluster\n",
      "\n",
      "Warning messages:\n",
      "1: In searchCommandline(parallel, cpus = cpus, type = type, socketHosts = socketHosts,  :\n",
      "  Unknown option on commandline: --file\n",
      "2: In searchCommandline(parallel, cpus = cpus, type = type, socketHosts = socketHosts,  :\n",
      "  Unknown option on commandline: --file\n",
      "3: In searchCommandline(parallel, cpus = cpus, type = type, socketHosts = socketHosts,  :\n",
      "  Unknown option on commandline: --file\n"
     ]
    },
    {
     "name": "stdout",
     "output_type": "stream",
     "text": [
      "        tumor Fibroblast B cell myocyte other Macrophage Endothelial T cell\n",
      "Min.    0.193      0.099  0.038   0.001 0.274      0.008       0.044  0.292\n",
      "1st Qu. 0.193      0.099  0.038   0.001 0.274      0.008       0.044  0.292\n",
      "Median  0.193      0.099  0.038   0.001 0.274      0.008       0.044  0.292\n",
      "Mean    0.193      0.099  0.038   0.001 0.274      0.008       0.044  0.292\n",
      "3rd Qu. 0.193      0.099  0.038   0.001 0.274      0.008       0.044  0.292\n",
      "Max.    0.193      0.099  0.038   0.001 0.274      0.008       0.044  0.292\n",
      "        Dendritic  Mast\n",
      "Min.            0 0.052\n",
      "1st Qu.         0 0.052\n",
      "Median          0 0.052\n",
      "Mean            0 0.052\n",
      "3rd Qu.         0 0.052\n",
      "Max.            0 0.052\n",
      "[1] \"only one mixture sample. vst transformation is NOT feasible\"\n"
     ]
    },
    {
     "name": "stderr",
     "output_type": "stream",
     "text": [
      "Read 876 items\n",
      "\n",
      "Stopping cluster\n",
      "\n"
     ]
    },
    {
     "name": "stdout",
     "output_type": "stream",
     "text": [
      "[1] \"run final sampling\"\n",
      "Start run... This may take a while \n",
      "[1] \"Gene symbols detected. Cleaning up genes based on gene symbols. Recommend to use EMSEMBLE IDs for more unique mapping.\"\n",
      "A total of  33  genes from RB chrM chrX chrY  have been excluded \n",
      "A total of  0  lowly expressed genes have been excluded \n",
      "[1] \"removing non-numeric genes...\"\n",
      "[1] \"removing outlier genes...\"\n",
      "Number of outlier genes filtered= 4 \n",
      "[1] \"aligning reference and mixture...\"\n",
      "[1] \"run first sampling\"\n",
      "Start run... This may take a while \n"
     ]
    },
    {
     "name": "stderr",
     "output_type": "stream",
     "text": [
      "snowfall 1.84-6.2 initialized (using snow 0.4-4): parallel execution on 10 CPUs.\n",
      "\n"
     ]
    },
    {
     "name": "stdout",
     "output_type": "stream",
     "text": [
      "R Version:  R version 4.1.3 (2022-03-10) \n",
      "\n"
     ]
    },
    {
     "name": "stderr",
     "output_type": "stream",
     "text": [
      "snowfall 1.84-6.2 initialized (using snow 0.4-4): parallel execution on 10 CPUs.\n",
      "\n",
      "\n",
      "Stopping cluster\n",
      "\n",
      "Warning messages:\n",
      "1: In searchCommandline(parallel, cpus = cpus, type = type, socketHosts = socketHosts,  :\n",
      "  Unknown option on commandline: --file\n",
      "2: In searchCommandline(parallel, cpus = cpus, type = type, socketHosts = socketHosts,  :\n",
      "  Unknown option on commandline: --file\n",
      "3: In searchCommandline(parallel, cpus = cpus, type = type, socketHosts = socketHosts,  :\n",
      "  Unknown option on commandline: --file\n"
     ]
    },
    {
     "name": "stdout",
     "output_type": "stream",
     "text": [
      "        tumor Fibroblast B cell myocyte other Macrophage Endothelial T cell\n",
      "Min.    0.094       0.03  0.059   0.001 0.202      0.093       0.045   0.36\n",
      "1st Qu. 0.094       0.03  0.059   0.001 0.202      0.093       0.045   0.36\n",
      "Median  0.094       0.03  0.059   0.001 0.202      0.093       0.045   0.36\n",
      "Mean    0.094       0.03  0.059   0.001 0.202      0.093       0.045   0.36\n",
      "3rd Qu. 0.094       0.03  0.059   0.001 0.202      0.093       0.045   0.36\n",
      "Max.    0.094       0.03  0.059   0.001 0.202      0.093       0.045   0.36\n",
      "        Dendritic  Mast\n",
      "Min.            0 0.115\n",
      "1st Qu.         0 0.115\n",
      "Median          0 0.115\n",
      "Mean            0 0.115\n",
      "3rd Qu.         0 0.115\n",
      "Max.            0 0.115\n",
      "[1] \"only one mixture sample. vst transformation is NOT feasible\"\n"
     ]
    },
    {
     "name": "stderr",
     "output_type": "stream",
     "text": [
      "\n",
      "Stopping cluster\n",
      "\n"
     ]
    },
    {
     "name": "stdout",
     "output_type": "stream",
     "text": [
      "[1] \"merge subtypes\"\n",
      "        Fibroblast tumor B cell myocyte other Macrophage Endothelial T cell\n",
      "Min.         0.095 0.206  0.031   0.001 0.164      0.062       0.052  0.344\n",
      "1st Qu.      0.095 0.206  0.031   0.001 0.164      0.062       0.052  0.344\n",
      "Median       0.095 0.206  0.031   0.001 0.164      0.062       0.052  0.344\n",
      "Mean         0.095 0.206  0.031   0.001 0.164      0.062       0.052  0.344\n",
      "3rd Qu.      0.095 0.206  0.031   0.001 0.164      0.062       0.052  0.344\n",
      "Max.         0.095 0.206  0.031   0.001 0.164      0.062       0.052  0.344\n",
      "        Dendritic  Mast\n",
      "Min.            0 0.045\n",
      "1st Qu.         0 0.045\n",
      "Median          0 0.045\n",
      "Mean            0 0.045\n",
      "3rd Qu.         0 0.045\n",
      "Max.            0 0.045\n",
      "[1] \"pooling information across samples\"\n",
      "Start optimization... This may take a while \n"
     ]
    },
    {
     "name": "stderr",
     "output_type": "stream",
     "text": [
      "snowfall 1.84-6.2 initialized (using snow 0.4-4): parallel execution on 10 CPUs.\n",
      "\n",
      "Read 467 items\n"
     ]
    },
    {
     "name": "stdout",
     "output_type": "stream",
     "text": [
      "[1] \"Gene symbols detected. Cleaning up genes based on gene symbols. Recommend to use EMSEMBLE IDs for more unique mapping.\"\n",
      "A total of  20  genes from RB chrM chrX chrY  have been excluded \n",
      "A total of  9  lowly expressed genes have been excluded \n",
      "[1] \"removing non-numeric genes...\"\n",
      "[1] \"removing outlier genes...\"\n",
      "Number of outlier genes filtered= 4 \n",
      "[1] \"aligning reference and mixture...\"\n",
      "[1] \"run first sampling\"\n",
      "Start run... This may take a while \n",
      "R Version:  R version 4.1.3 (2022-03-10) \n",
      "\n"
     ]
    },
    {
     "name": "stderr",
     "output_type": "stream",
     "text": [
      "snowfall 1.84-6.2 initialized (using snow 0.4-4): parallel execution on 10 CPUs.\n",
      "\n",
      "\n",
      "Stopping cluster\n",
      "\n"
     ]
    },
    {
     "name": "stdout",
     "output_type": "stream",
     "text": [
      "[1] \"run final sampling\"\n",
      "Start run... This may take a while \n"
     ]
    },
    {
     "name": "stderr",
     "output_type": "stream",
     "text": [
      "snowfall 1.84-6.2 initialized (using snow 0.4-4): parallel execution on 10 CPUs.\n",
      "\n",
      "\n",
      "Stopping cluster\n",
      "\n"
     ]
    },
    {
     "name": "stdout",
     "output_type": "stream",
     "text": [
      "[1] \"merge subtypes\"\n",
      "        Fibroblast tumor B cell myocyte other Macrophage Endothelial T cell\n",
      "Min.         0.077 0.183  0.046   0.001 0.283          0       0.044  0.296\n",
      "1st Qu.      0.077 0.183  0.046   0.001 0.283          0       0.044  0.296\n",
      "Median       0.077 0.183  0.046   0.001 0.283          0       0.044  0.296\n",
      "Mean         0.077 0.183  0.046   0.001 0.283          0       0.044  0.296\n",
      "3rd Qu.      0.077 0.183  0.046   0.001 0.283          0       0.044  0.296\n",
      "Max.         0.077 0.183  0.046   0.001 0.283          0       0.044  0.296\n",
      "        Dendritic Mast\n",
      "Min.            0 0.07\n",
      "1st Qu.         0 0.07\n",
      "Median          0 0.07\n",
      "Mean            0 0.07\n",
      "3rd Qu.         0 0.07\n",
      "Max.            0 0.07\n",
      "[1] \"pooling information across samples\"\n",
      "Start optimization... This may take a while \n"
     ]
    },
    {
     "name": "stderr",
     "output_type": "stream",
     "text": [
      "snowfall 1.84-6.2 initialized (using snow 0.4-4): parallel execution on 10 CPUs.\n",
      "\n",
      "\n",
      "Stopping cluster\n",
      "\n",
      "Warning messages:\n",
      "1: In searchCommandline(parallel, cpus = cpus, type = type, socketHosts = socketHosts,  :\n",
      "  Unknown option on commandline: --file\n",
      "2: In searchCommandline(parallel, cpus = cpus, type = type, socketHosts = socketHosts,  :\n",
      "  Unknown option on commandline: --file\n",
      "3: In searchCommandline(parallel, cpus = cpus, type = type, socketHosts = socketHosts,  :\n",
      "  Unknown option on commandline: --file\n"
     ]
    },
    {
     "name": "stdout",
     "output_type": "stream",
     "text": [
      "        tumor Fibroblast B cell myocyte other Macrophage Endothelial T cell\n",
      "Min.    0.206      0.095  0.031   0.001 0.164      0.062       0.052  0.344\n",
      "1st Qu. 0.206      0.095  0.031   0.001 0.164      0.062       0.052  0.344\n",
      "Median  0.206      0.095  0.031   0.001 0.164      0.062       0.052  0.344\n",
      "Mean    0.206      0.095  0.031   0.001 0.164      0.062       0.052  0.344\n",
      "3rd Qu. 0.206      0.095  0.031   0.001 0.164      0.062       0.052  0.344\n",
      "Max.    0.206      0.095  0.031   0.001 0.164      0.062       0.052  0.344\n",
      "        Dendritic  Mast\n",
      "Min.            0 0.045\n",
      "1st Qu.         0 0.045\n",
      "Median          0 0.045\n",
      "Mean            0 0.045\n",
      "3rd Qu.         0 0.045\n",
      "Max.            0 0.045\n",
      "[1] \"only one mixture sample. vst transformation is NOT feasible\"\n"
     ]
    },
    {
     "name": "stderr",
     "output_type": "stream",
     "text": [
      "\n",
      "Stopping cluster\n",
      "\n"
     ]
    },
    {
     "name": "stdout",
     "output_type": "stream",
     "text": [
      "[1] \"run final sampling\"\n",
      "Start run... This may take a while \n"
     ]
    },
    {
     "name": "stderr",
     "output_type": "stream",
     "text": [
      "snowfall 1.84-6.2 initialized (using snow 0.4-4): parallel execution on 10 CPUs.\n",
      "\n",
      "\n",
      "Stopping cluster\n",
      "\n",
      "Warning messages:\n",
      "1: In searchCommandline(parallel, cpus = cpus, type = type, socketHosts = socketHosts,  :\n",
      "  Unknown option on commandline: --file\n",
      "2: In searchCommandline(parallel, cpus = cpus, type = type, socketHosts = socketHosts,  :\n",
      "  Unknown option on commandline: --file\n",
      "3: In searchCommandline(parallel, cpus = cpus, type = type, socketHosts = socketHosts,  :\n",
      "  Unknown option on commandline: --file\n"
     ]
    },
    {
     "name": "stdout",
     "output_type": "stream",
     "text": [
      "        tumor Fibroblast B cell myocyte other Macrophage Endothelial T cell\n",
      "Min.    0.183      0.077  0.046   0.001 0.283          0       0.044  0.296\n",
      "1st Qu. 0.183      0.077  0.046   0.001 0.283          0       0.044  0.296\n",
      "Median  0.183      0.077  0.046   0.001 0.283          0       0.044  0.296\n",
      "Mean    0.183      0.077  0.046   0.001 0.283          0       0.044  0.296\n",
      "3rd Qu. 0.183      0.077  0.046   0.001 0.283          0       0.044  0.296\n",
      "Max.    0.183      0.077  0.046   0.001 0.283          0       0.044  0.296\n",
      "        Dendritic Mast\n",
      "Min.            0 0.07\n",
      "1st Qu.         0 0.07\n",
      "Median          0 0.07\n",
      "Mean            0 0.07\n",
      "3rd Qu.         0 0.07\n",
      "Max.            0 0.07\n",
      "[1] \"only one mixture sample. vst transformation is NOT feasible\"\n"
     ]
    },
    {
     "name": "stderr",
     "output_type": "stream",
     "text": [
      "\n",
      "  0%|                                                                                                          | 0/5 [00:00<?, ?it/s]\u001b[A\n",
      " 20%|███████████████████▌                                                                              | 1/5 [00:30<02:00, 30.03s/it]\u001b[A"
     ]
    },
    {
     "name": "stdout",
     "output_type": "stream",
     "text": [
      "2022-07-28 18:57:12\n",
      "pseudobulk mode: now with feature selection setup: \r",
      " top50DEGs\n",
      "now running in cmd: \r",
      " Rscript /home/cke/runscripts/runBP.r /home/cke/PseudoBulk/InputToWrapper/pseudobulk_LOT20_scRNAtrain.tsv /home/cke/PseudoBulk/InputToWrapper/pseudobulk_LOT20_test.tsv /home/cke/Puram/scRNAlabels/ /home/cke/Puram/markers/top50DEGs_pseudobulk.txt fullpipeline_pseudobulk_Jul28_LOT_pseudobulk_top50DEGs_20LOT /home/cke/PseudoBulk/Results/BayesPrism/ /home/cke/PseudoBulk/Results/ &\n"
     ]
    },
    {
     "name": "stderr",
     "output_type": "stream",
     "text": [
      "Warning message:\n",
      "replacing previous import ‘gplots::lowess’ by ‘stats::lowess’ when loading ‘TED’ \n"
     ]
    },
    {
     "name": "stdout",
     "output_type": "stream",
     "text": [
      "[1] \"running BayesPrism with following args:\"\n",
      "[1] \"/home/cke/PseudoBulk/InputToWrapper/pseudobulk_LOT20_scRNAtrain.tsv\"\n",
      "[2] \"/home/cke/PseudoBulk/InputToWrapper/pseudobulk_LOT20_test.tsv\"      \n",
      "[3] \"/home/cke/Puram/scRNAlabels/\"                                       \n",
      "[4] \"/home/cke/Puram/markers/top50DEGs_pseudobulk.txt\"                   \n",
      "[5] \"fullpipeline_pseudobulk_Jul28_LOT_pseudobulk_top50DEGs_20LOT\"       \n",
      "[6] \"/home/cke/PseudoBulk/Results/BayesPrism/\"                           \n",
      "[7] \"/home/cke/PseudoBulk/Results/\"                                      \n",
      "[8] \"/home/cke/Puram/scRNAlabels/\"                                       \n"
     ]
    },
    {
     "name": "stderr",
     "output_type": "stream",
     "text": [
      "\n",
      " 40%|███████████████████████████████████████▏                                                          | 2/5 [01:00<01:30, 30.04s/it]\u001b[A"
     ]
    },
    {
     "name": "stdout",
     "output_type": "stream",
     "text": [
      "2022-07-28 18:57:42\n",
      "pseudobulk mode: now with feature selection setup: \r",
      " top100markers\n",
      "now running in cmd: \r",
      " Rscript /home/cke/runscripts/runBP.r /home/cke/PseudoBulk/InputToWrapper/pseudobulk_LOT20_scRNAtrain.tsv /home/cke/PseudoBulk/InputToWrapper/pseudobulk_LOT20_test.tsv /home/cke/Puram/scRNAlabels/ /home/cke/Puram/markers/top100markers_de_cor_symbol.txt fullpipeline_pseudobulk_Jul28_LOT_pseudobulk_top100markers_20LOT /home/cke/PseudoBulk/Results/BayesPrism/ /home/cke/PseudoBulk/Results/ &\n"
     ]
    },
    {
     "name": "stderr",
     "output_type": "stream",
     "text": [
      "Warning message:\n",
      "replacing previous import ‘gplots::lowess’ by ‘stats::lowess’ when loading ‘TED’ \n"
     ]
    },
    {
     "name": "stdout",
     "output_type": "stream",
     "text": [
      "[1] \"running BayesPrism with following args:\"\n",
      "[1] \"/home/cke/PseudoBulk/InputToWrapper/pseudobulk_LOT20_scRNAtrain.tsv\"\n",
      "[2] \"/home/cke/PseudoBulk/InputToWrapper/pseudobulk_LOT20_test.tsv\"      \n",
      "[3] \"/home/cke/Puram/scRNAlabels/\"                                       \n",
      "[4] \"/home/cke/Puram/markers/top100markers_de_cor_symbol.txt\"            \n",
      "[5] \"fullpipeline_pseudobulk_Jul28_LOT_pseudobulk_top100markers_20LOT\"   \n",
      "[6] \"/home/cke/PseudoBulk/Results/BayesPrism/\"                           \n",
      "[7] \"/home/cke/PseudoBulk/Results/\"                                      \n",
      "[8] \"/home/cke/Puram/scRNAlabels/\"                                       \n"
     ]
    },
    {
     "name": "stderr",
     "output_type": "stream",
     "text": [
      "Read 458 items\n"
     ]
    },
    {
     "name": "stdout",
     "output_type": "stream",
     "text": [
      "[1] \"Gene symbols detected. Cleaning up genes based on gene symbols. Recommend to use EMSEMBLE IDs for more unique mapping.\"\n",
      "A total of  18  genes from RB chrM chrX chrY  have been excluded \n",
      "A total of  0  lowly expressed genes have been excluded \n",
      "[1] \"removing non-numeric genes...\"\n",
      "[1] \"removing outlier genes...\"\n",
      "Number of outlier genes filtered= 4 \n",
      "[1] \"aligning reference and mixture...\"\n",
      "[1] \"run first sampling\"\n",
      "Start run... This may take a while \n",
      "R Version:  R version 4.1.3 (2022-03-10) \n",
      "\n"
     ]
    },
    {
     "name": "stderr",
     "output_type": "stream",
     "text": [
      "snowfall 1.84-6.2 initialized (using snow 0.4-4): parallel execution on 10 CPUs.\n",
      "\n",
      "\n",
      "Stopping cluster\n",
      "\n",
      "\n",
      " 60%|██████████████████████████████████████████████████████████▊                                       | 3/5 [01:30<01:00, 30.06s/it]\u001b[A"
     ]
    },
    {
     "name": "stdout",
     "output_type": "stream",
     "text": [
      "[1] \"merge subtypes\"\n",
      "        Fibroblast tumor B cell myocyte other Macrophage Endothelial T cell\n",
      "Min.         0.039 0.956      0       0 0.005          0           0      0\n",
      "1st Qu.      0.039 0.956      0       0 0.005          0           0      0\n",
      "Median       0.039 0.956      0       0 0.005          0           0      0\n",
      "Mean         0.039 0.956      0       0 0.005          0           0      0\n",
      "3rd Qu.      0.039 0.956      0       0 0.005          0           0      0\n",
      "Max.         0.039 0.956      0       0 0.005          0           0      0\n",
      "        Dendritic Mast\n",
      "Min.            0    0\n",
      "1st Qu.         0    0\n",
      "Median          0    0\n",
      "Mean            0    0\n",
      "3rd Qu.         0    0\n",
      "Max.            0    0\n",
      "[1] \"pooling information across samples\"\n",
      "Start optimization... This may take a while \n",
      "2022-07-28 18:58:12\n",
      "pseudobulk mode: now with feature selection setup: \r",
      " top20markers\n",
      "now running in cmd: \r",
      " Rscript /home/cke/runscripts/runBP.r /home/cke/PseudoBulk/InputToWrapper/pseudobulk_LOT20_scRNAtrain.tsv /home/cke/PseudoBulk/InputToWrapper/pseudobulk_LOT20_test.tsv /home/cke/Puram/scRNAlabels/ /home/cke/Puram/markers/top20markers_de_cor_symbol.txt fullpipeline_pseudobulk_Jul28_LOT_pseudobulk_top20markers_20LOT /home/cke/PseudoBulk/Results/BayesPrism/ /home/cke/PseudoBulk/Results/ &\n"
     ]
    },
    {
     "name": "stderr",
     "output_type": "stream",
     "text": [
      "snowfall 1.84-6.2 initialized (using snow 0.4-4): parallel execution on 10 CPUs.\n",
      "\n",
      "Warning message:\n",
      "replacing previous import ‘gplots::lowess’ by ‘stats::lowess’ when loading ‘TED’ \n"
     ]
    },
    {
     "name": "stdout",
     "output_type": "stream",
     "text": [
      "[1] \"running BayesPrism with following args:\"\n",
      "[1] \"/home/cke/PseudoBulk/InputToWrapper/pseudobulk_LOT20_scRNAtrain.tsv\"\n",
      "[2] \"/home/cke/PseudoBulk/InputToWrapper/pseudobulk_LOT20_test.tsv\"      \n",
      "[3] \"/home/cke/Puram/scRNAlabels/\"                                       \n",
      "[4] \"/home/cke/Puram/markers/top20markers_de_cor_symbol.txt\"             \n",
      "[5] \"fullpipeline_pseudobulk_Jul28_LOT_pseudobulk_top20markers_20LOT\"    \n",
      "[6] \"/home/cke/PseudoBulk/Results/BayesPrism/\"                           \n",
      "[7] \"/home/cke/PseudoBulk/Results/\"                                      \n",
      "[8] \"/home/cke/Puram/scRNAlabels/\"                                       \n"
     ]
    },
    {
     "name": "stderr",
     "output_type": "stream",
     "text": [
      "\n",
      "Stopping cluster\n",
      "\n"
     ]
    },
    {
     "name": "stdout",
     "output_type": "stream",
     "text": [
      "[1] \"run final sampling\"\n",
      "Start run... This may take a while \n"
     ]
    },
    {
     "name": "stderr",
     "output_type": "stream",
     "text": [
      "snowfall 1.84-6.2 initialized (using snow 0.4-4): parallel execution on 10 CPUs.\n",
      "\n",
      "Read 898 items\n"
     ]
    },
    {
     "name": "stdout",
     "output_type": "stream",
     "text": [
      "[1] \"Gene symbols detected. Cleaning up genes based on gene symbols. Recommend to use EMSEMBLE IDs for more unique mapping.\"\n",
      "A total of  40  genes from RB chrM chrX chrY  have been excluded \n",
      "A total of  19  lowly expressed genes have been excluded \n",
      "[1] \"removing non-numeric genes...\"\n",
      "[1] \"removing outlier genes...\"\n",
      "Number of outlier genes filtered= 4 \n",
      "[1] \"aligning reference and mixture...\"\n",
      "[1] \"run first sampling\"\n",
      "Start run... This may take a while \n",
      "R Version:  R version 4.1.3 (2022-03-10) \n",
      "\n"
     ]
    },
    {
     "name": "stderr",
     "output_type": "stream",
     "text": [
      "snowfall 1.84-6.2 initialized (using snow 0.4-4): parallel execution on 10 CPUs.\n",
      "\n",
      "\n",
      "Stopping cluster\n",
      "\n",
      "Warning messages:\n",
      "1: In searchCommandline(parallel, cpus = cpus, type = type, socketHosts = socketHosts,  :\n",
      "  Unknown option on commandline: --file\n",
      "2: In searchCommandline(parallel, cpus = cpus, type = type, socketHosts = socketHosts,  :\n",
      "  Unknown option on commandline: --file\n",
      "3: In searchCommandline(parallel, cpus = cpus, type = type, socketHosts = socketHosts,  :\n",
      "  Unknown option on commandline: --file\n"
     ]
    },
    {
     "name": "stdout",
     "output_type": "stream",
     "text": [
      "        tumor Fibroblast B cell myocyte other Macrophage Endothelial T cell\n",
      "Min.    0.956      0.039      0       0 0.005          0           0      0\n",
      "1st Qu. 0.956      0.039      0       0 0.005          0           0      0\n",
      "Median  0.956      0.039      0       0 0.005          0           0      0\n",
      "Mean    0.956      0.039      0       0 0.005          0           0      0\n",
      "3rd Qu. 0.956      0.039      0       0 0.005          0           0      0\n",
      "Max.    0.956      0.039      0       0 0.005          0           0      0\n",
      "        Dendritic Mast\n",
      "Min.            0    0\n",
      "1st Qu.         0    0\n",
      "Median          0    0\n",
      "Mean            0    0\n",
      "3rd Qu.         0    0\n",
      "Max.            0    0\n",
      "[1] \"only one mixture sample. vst transformation is NOT feasible\"\n"
     ]
    },
    {
     "name": "stderr",
     "output_type": "stream",
     "text": [
      "\n",
      " 80%|██████████████████████████████████████████████████████████████████████████████▍                   | 4/5 [02:00<00:30, 30.06s/it]\u001b[A"
     ]
    },
    {
     "name": "stdout",
     "output_type": "stream",
     "text": [
      "2022-07-28 18:58:42\n",
      "pseudobulk mode: now with feature selection setup: \r",
      " top100DEGs\n",
      "now running in cmd: \r",
      " Rscript /home/cke/runscripts/runBP.r /home/cke/PseudoBulk/InputToWrapper/pseudobulk_LOT20_scRNAtrain.tsv /home/cke/PseudoBulk/InputToWrapper/pseudobulk_LOT20_test.tsv /home/cke/Puram/scRNAlabels/ /home/cke/Puram/markers/top100DEGs_pseudobulk.txt fullpipeline_pseudobulk_Jul28_LOT_pseudobulk_top100DEGs_20LOT /home/cke/PseudoBulk/Results/BayesPrism/ /home/cke/PseudoBulk/Results/ &\n"
     ]
    },
    {
     "name": "stderr",
     "output_type": "stream",
     "text": [
      "Warning message:\n",
      "replacing previous import ‘gplots::lowess’ by ‘stats::lowess’ when loading ‘TED’ \n"
     ]
    },
    {
     "name": "stdout",
     "output_type": "stream",
     "text": [
      "[1] \"running BayesPrism with following args:\"\n",
      "[1] \"/home/cke/PseudoBulk/InputToWrapper/pseudobulk_LOT20_scRNAtrain.tsv\"\n",
      "[2] \"/home/cke/PseudoBulk/InputToWrapper/pseudobulk_LOT20_test.tsv\"      \n",
      "[3] \"/home/cke/Puram/scRNAlabels/\"                                       \n",
      "[4] \"/home/cke/Puram/markers/top100DEGs_pseudobulk.txt\"                  \n",
      "[5] \"fullpipeline_pseudobulk_Jul28_LOT_pseudobulk_top100DEGs_20LOT\"      \n",
      "[6] \"/home/cke/PseudoBulk/Results/BayesPrism/\"                           \n",
      "[7] \"/home/cke/PseudoBulk/Results/\"                                      \n",
      "[8] \"/home/cke/Puram/scRNAlabels/\"                                       \n"
     ]
    },
    {
     "name": "stderr",
     "output_type": "stream",
     "text": [
      "\n",
      "Stopping cluster\n",
      "\n"
     ]
    },
    {
     "name": "stdout",
     "output_type": "stream",
     "text": [
      "[1] \"merge subtypes\"\n",
      "        Fibroblast tumor B cell myocyte other Macrophage Endothelial T cell\n",
      "Min.          0.03 0.964      0       0 0.006          0           0      0\n",
      "1st Qu.       0.03 0.964      0       0 0.006          0           0      0\n",
      "Median        0.03 0.964      0       0 0.006          0           0      0\n",
      "Mean          0.03 0.964      0       0 0.006          0           0      0\n",
      "3rd Qu.       0.03 0.964      0       0 0.006          0           0      0\n",
      "Max.          0.03 0.964      0       0 0.006          0           0      0\n",
      "        Dendritic Mast\n",
      "Min.            0    0\n",
      "1st Qu.         0    0\n",
      "Median          0    0\n",
      "Mean            0    0\n",
      "3rd Qu.         0    0\n",
      "Max.            0    0\n",
      "[1] \"pooling information across samples\"\n",
      "Start optimization... This may take a while \n"
     ]
    },
    {
     "name": "stderr",
     "output_type": "stream",
     "text": [
      "snowfall 1.84-6.2 initialized (using snow 0.4-4): parallel execution on 10 CPUs.\n",
      "\n",
      "Read 198 items\n",
      "\n",
      "Stopping cluster\n",
      "\n"
     ]
    },
    {
     "name": "stdout",
     "output_type": "stream",
     "text": [
      "[1] \"run final sampling\"\n",
      "Start run... This may take a while \n",
      "[1] \"Gene symbols detected. Cleaning up genes based on gene symbols. Recommend to use EMSEMBLE IDs for more unique mapping.\"\n",
      "A total of  8  genes from RB chrM chrX chrY  have been excluded \n",
      "A total of  4  lowly expressed genes have been excluded \n",
      "[1] \"removing non-numeric genes...\"\n",
      "[1] \"removing outlier genes...\"\n",
      "Number of outlier genes filtered= 4 \n",
      "[1] \"aligning reference and mixture...\"\n",
      "[1] \"run first sampling\"\n",
      "Start run... This may take a while \n"
     ]
    },
    {
     "name": "stderr",
     "output_type": "stream",
     "text": [
      "snowfall 1.84-6.2 initialized (using snow 0.4-4): parallel execution on 10 CPUs.\n",
      "\n"
     ]
    },
    {
     "name": "stdout",
     "output_type": "stream",
     "text": [
      "R Version:  R version 4.1.3 (2022-03-10) \n",
      "\n"
     ]
    },
    {
     "name": "stderr",
     "output_type": "stream",
     "text": [
      "snowfall 1.84-6.2 initialized (using snow 0.4-4): parallel execution on 10 CPUs.\n",
      "\n",
      "\n",
      "100%|██████████████████████████████████████████████████████████████████████████████████████████████████| 5/5 [02:30<00:00, 30.05s/it]\u001b[A\n",
      " 56%|█████████████████████████████████████████████████████▉                                           | 5/9 [22:31<18:01, 270.33s/it]"
     ]
    },
    {
     "name": "stdout",
     "output_type": "stream",
     "text": [
      "2022-07-28 18:59:13\n",
      "pseudobulk mode: now with feature selection setup: \r",
      " top50markers\n",
      "now running in cmd: \r",
      " Rscript /home/cke/runscripts/runBP.r /home/cke/PseudoBulk/InputToWrapper/pseudobulk_LOT20_scRNAtrain.tsv /home/cke/PseudoBulk/InputToWrapper/pseudobulk_LOT20_test.tsv /home/cke/Puram/scRNAlabels/ /home/cke/Puram/markers/top50markers_de_cor_symbol.txt fullpipeline_pseudobulk_Jul28_LOT_pseudobulk_top50markers_20LOT /home/cke/PseudoBulk/Results/BayesPrism/ /home/cke/PseudoBulk/Results/ &\n"
     ]
    },
    {
     "name": "stderr",
     "output_type": "stream",
     "text": [
      "Warning message:\n",
      "replacing previous import ‘gplots::lowess’ by ‘stats::lowess’ when loading ‘TED’ \n"
     ]
    },
    {
     "name": "stdout",
     "output_type": "stream",
     "text": [
      "[1] \"running BayesPrism with following args:\"\n",
      "[1] \"/home/cke/PseudoBulk/InputToWrapper/pseudobulk_LOT20_scRNAtrain.tsv\"\n",
      "[2] \"/home/cke/PseudoBulk/InputToWrapper/pseudobulk_LOT20_test.tsv\"      \n",
      "[3] \"/home/cke/Puram/scRNAlabels/\"                                       \n",
      "[4] \"/home/cke/Puram/markers/top50markers_de_cor_symbol.txt\"             \n",
      "[5] \"fullpipeline_pseudobulk_Jul28_LOT_pseudobulk_top50markers_20LOT\"    \n",
      "[6] \"/home/cke/PseudoBulk/Results/BayesPrism/\"                           \n",
      "[7] \"/home/cke/PseudoBulk/Results/\"                                      \n",
      "[8] \"/home/cke/Puram/scRNAlabels/\"                                       \n"
     ]
    },
    {
     "name": "stderr",
     "output_type": "stream",
     "text": [
      "\n",
      "Stopping cluster\n",
      "\n"
     ]
    },
    {
     "name": "stdout",
     "output_type": "stream",
     "text": [
      "[1] \"merge subtypes\"\n",
      "        Fibroblast tumor B cell myocyte other Macrophage Endothelial T cell\n",
      "Min.         0.022  0.96      0       0 0.011          0           0  0.007\n",
      "1st Qu.      0.022  0.96      0       0 0.011          0           0  0.007\n",
      "Median       0.022  0.96      0       0 0.011          0           0  0.007\n",
      "Mean         0.022  0.96      0       0 0.011          0           0  0.007\n",
      "3rd Qu.      0.022  0.96      0       0 0.011          0           0  0.007\n",
      "Max.         0.022  0.96      0       0 0.011          0           0  0.007\n",
      "        Dendritic Mast\n",
      "Min.            0    0\n",
      "1st Qu.         0    0\n",
      "Median          0    0\n",
      "Mean            0    0\n",
      "3rd Qu.         0    0\n",
      "Max.            0    0\n",
      "[1] \"pooling information across samples\"\n",
      "Start optimization... This may take a while \n"
     ]
    },
    {
     "name": "stderr",
     "output_type": "stream",
     "text": [
      "snowfall 1.84-6.2 initialized (using snow 0.4-4): parallel execution on 10 CPUs.\n",
      "\n",
      "\n",
      "Stopping cluster\n",
      "\n",
      "Warning messages:\n",
      "1: In searchCommandline(parallel, cpus = cpus, type = type, socketHosts = socketHosts,  :\n",
      "  Unknown option on commandline: --file\n",
      "2: In searchCommandline(parallel, cpus = cpus, type = type, socketHosts = socketHosts,  :\n",
      "  Unknown option on commandline: --file\n",
      "3: In searchCommandline(parallel, cpus = cpus, type = type, socketHosts = socketHosts,  :\n",
      "  Unknown option on commandline: --file\n"
     ]
    },
    {
     "name": "stdout",
     "output_type": "stream",
     "text": [
      "        tumor Fibroblast B cell myocyte other Macrophage Endothelial T cell\n",
      "Min.    0.964       0.03      0       0 0.006          0           0      0\n",
      "1st Qu. 0.964       0.03      0       0 0.006          0           0      0\n",
      "Median  0.964       0.03      0       0 0.006          0           0      0\n",
      "Mean    0.964       0.03      0       0 0.006          0           0      0\n",
      "3rd Qu. 0.964       0.03      0       0 0.006          0           0      0\n",
      "Max.    0.964       0.03      0       0 0.006          0           0      0\n",
      "        Dendritic Mast\n",
      "Min.            0    0\n",
      "1st Qu.         0    0\n",
      "Median          0    0\n",
      "Mean            0    0\n",
      "3rd Qu.         0    0\n",
      "Max.            0    0\n",
      "[1] \"only one mixture sample. vst transformation is NOT feasible\"\n"
     ]
    },
    {
     "name": "stderr",
     "output_type": "stream",
     "text": [
      "\n",
      "Stopping cluster\n",
      "\n"
     ]
    },
    {
     "name": "stdout",
     "output_type": "stream",
     "text": [
      "[1] \"run final sampling\"\n",
      "Start run... This may take a while \n"
     ]
    },
    {
     "name": "stderr",
     "output_type": "stream",
     "text": [
      "Read 876 items\n",
      "snowfall 1.84-6.2 initialized (using snow 0.4-4): parallel execution on 10 CPUs.\n",
      "\n"
     ]
    },
    {
     "name": "stdout",
     "output_type": "stream",
     "text": [
      "[1] \"Gene symbols detected. Cleaning up genes based on gene symbols. Recommend to use EMSEMBLE IDs for more unique mapping.\"\n",
      "A total of  33  genes from RB chrM chrX chrY  have been excluded \n",
      "A total of  0  lowly expressed genes have been excluded \n",
      "[1] \"removing non-numeric genes...\"\n",
      "[1] \"removing outlier genes...\"\n",
      "Number of outlier genes filtered= 4 \n",
      "[1] \"aligning reference and mixture...\"\n",
      "[1] \"run first sampling\"\n",
      "Start run... This may take a while \n"
     ]
    },
    {
     "name": "stderr",
     "output_type": "stream",
     "text": [
      "\n",
      "Stopping cluster\n",
      "\n",
      "Warning messages:\n",
      "1: In searchCommandline(parallel, cpus = cpus, type = type, socketHosts = socketHosts,  :\n",
      "  Unknown option on commandline: --file\n",
      "2: In searchCommandline(parallel, cpus = cpus, type = type, socketHosts = socketHosts,  :\n",
      "  Unknown option on commandline: --file\n",
      "3: In searchCommandline(parallel, cpus = cpus, type = type, socketHosts = socketHosts,  :\n",
      "  Unknown option on commandline: --file\n",
      "snowfall 1.84-6.2 initialized (using snow 0.4-4): parallel execution on 10 CPUs.\n",
      "\n"
     ]
    },
    {
     "name": "stdout",
     "output_type": "stream",
     "text": [
      "        tumor Fibroblast B cell myocyte other Macrophage Endothelial T cell\n",
      "Min.     0.96      0.022      0       0 0.011          0           0  0.007\n",
      "1st Qu.  0.96      0.022      0       0 0.011          0           0  0.007\n",
      "Median   0.96      0.022      0       0 0.011          0           0  0.007\n",
      "Mean     0.96      0.022      0       0 0.011          0           0  0.007\n",
      "3rd Qu.  0.96      0.022      0       0 0.011          0           0  0.007\n",
      "Max.     0.96      0.022      0       0 0.011          0           0  0.007\n",
      "        Dendritic Mast\n",
      "Min.            0    0\n",
      "1st Qu.         0    0\n",
      "Median          0    0\n",
      "Mean            0    0\n",
      "3rd Qu.         0    0\n",
      "Max.            0    0\n",
      "[1] \"only one mixture sample. vst transformation is NOT feasible\"\n",
      "R Version:  R version 4.1.3 (2022-03-10) \n",
      "\n"
     ]
    },
    {
     "name": "stderr",
     "output_type": "stream",
     "text": [
      "\n",
      "Stopping cluster\n",
      "\n"
     ]
    },
    {
     "name": "stdout",
     "output_type": "stream",
     "text": [
      "[1] \"merge subtypes\"\n",
      "        Fibroblast tumor B cell myocyte other Macrophage Endothelial T cell\n",
      "Min.          0.03 0.968      0       0 0.001          0           0      0\n",
      "1st Qu.       0.03 0.968      0       0 0.001          0           0      0\n",
      "Median        0.03 0.968      0       0 0.001          0           0      0\n",
      "Mean          0.03 0.968      0       0 0.001          0           0      0\n",
      "3rd Qu.       0.03 0.968      0       0 0.001          0           0      0\n",
      "Max.          0.03 0.968      0       0 0.001          0           0      0\n",
      "        Dendritic Mast\n",
      "Min.            0    0\n",
      "1st Qu.         0    0\n",
      "Median          0    0\n",
      "Mean            0    0\n",
      "3rd Qu.         0    0\n",
      "Max.            0    0\n",
      "[1] \"pooling information across samples\"\n",
      "Start optimization... This may take a while \n"
     ]
    },
    {
     "name": "stderr",
     "output_type": "stream",
     "text": [
      "snowfall 1.84-6.2 initialized (using snow 0.4-4): parallel execution on 10 CPUs.\n",
      "\n",
      "Read 467 items\n"
     ]
    },
    {
     "name": "stdout",
     "output_type": "stream",
     "text": [
      "[1] \"Gene symbols detected. Cleaning up genes based on gene symbols. Recommend to use EMSEMBLE IDs for more unique mapping.\"\n",
      "A total of  20  genes from RB chrM chrX chrY  have been excluded \n",
      "A total of  9  lowly expressed genes have been excluded \n",
      "[1] \"removing non-numeric genes...\"\n",
      "[1] \"removing outlier genes...\"\n",
      "Number of outlier genes filtered= 4 \n",
      "[1] \"aligning reference and mixture...\"\n",
      "[1] \"run first sampling\"\n",
      "Start run... This may take a while \n",
      "R Version:  R version 4.1.3 (2022-03-10) \n",
      "\n"
     ]
    },
    {
     "name": "stderr",
     "output_type": "stream",
     "text": [
      "snowfall 1.84-6.2 initialized (using snow 0.4-4): parallel execution on 10 CPUs.\n",
      "\n",
      "\n",
      "Stopping cluster\n",
      "\n"
     ]
    },
    {
     "name": "stdout",
     "output_type": "stream",
     "text": [
      "[1] \"run final sampling\"\n",
      "Start run... This may take a while \n"
     ]
    },
    {
     "name": "stderr",
     "output_type": "stream",
     "text": [
      "snowfall 1.84-6.2 initialized (using snow 0.4-4): parallel execution on 10 CPUs.\n",
      "\n",
      "\n",
      "Stopping cluster\n",
      "\n"
     ]
    },
    {
     "name": "stdout",
     "output_type": "stream",
     "text": [
      "[1] \"merge subtypes\"\n",
      "        Fibroblast tumor B cell myocyte other Macrophage Endothelial T cell\n",
      "Min.         0.059 0.913      0       0 0.028          0           0      0\n",
      "1st Qu.      0.059 0.913      0       0 0.028          0           0      0\n",
      "Median       0.059 0.913      0       0 0.028          0           0      0\n",
      "Mean         0.059 0.913      0       0 0.028          0           0      0\n",
      "3rd Qu.      0.059 0.913      0       0 0.028          0           0      0\n",
      "Max.         0.059 0.913      0       0 0.028          0           0      0\n",
      "        Dendritic Mast\n",
      "Min.            0    0\n",
      "1st Qu.         0    0\n",
      "Median          0    0\n",
      "Mean            0    0\n",
      "3rd Qu.         0    0\n",
      "Max.            0    0\n",
      "[1] \"pooling information across samples\"\n",
      "Start optimization... This may take a while \n"
     ]
    },
    {
     "name": "stderr",
     "output_type": "stream",
     "text": [
      "snowfall 1.84-6.2 initialized (using snow 0.4-4): parallel execution on 10 CPUs.\n",
      "\n",
      "\n",
      "Stopping cluster\n",
      "\n",
      "Warning messages:\n",
      "1: In searchCommandline(parallel, cpus = cpus, type = type, socketHosts = socketHosts,  :\n",
      "  Unknown option on commandline: --file\n",
      "2: In searchCommandline(parallel, cpus = cpus, type = type, socketHosts = socketHosts,  :\n",
      "  Unknown option on commandline: --file\n",
      "3: In searchCommandline(parallel, cpus = cpus, type = type, socketHosts = socketHosts,  :\n",
      "  Unknown option on commandline: --file\n"
     ]
    },
    {
     "name": "stdout",
     "output_type": "stream",
     "text": [
      "        tumor Fibroblast B cell myocyte other Macrophage Endothelial T cell\n",
      "Min.    0.968       0.03      0       0 0.001          0           0      0\n",
      "1st Qu. 0.968       0.03      0       0 0.001          0           0      0\n",
      "Median  0.968       0.03      0       0 0.001          0           0      0\n",
      "Mean    0.968       0.03      0       0 0.001          0           0      0\n",
      "3rd Qu. 0.968       0.03      0       0 0.001          0           0      0\n",
      "Max.    0.968       0.03      0       0 0.001          0           0      0\n",
      "        Dendritic Mast\n",
      "Min.            0    0\n",
      "1st Qu.         0    0\n",
      "Median          0    0\n",
      "Mean            0    0\n",
      "3rd Qu.         0    0\n",
      "Max.            0    0\n",
      "[1] \"only one mixture sample. vst transformation is NOT feasible\"\n"
     ]
    },
    {
     "name": "stderr",
     "output_type": "stream",
     "text": [
      "\n",
      "Stopping cluster\n",
      "\n"
     ]
    },
    {
     "name": "stdout",
     "output_type": "stream",
     "text": [
      "[1] \"run final sampling\"\n",
      "Start run... This may take a while \n"
     ]
    },
    {
     "name": "stderr",
     "output_type": "stream",
     "text": [
      "snowfall 1.84-6.2 initialized (using snow 0.4-4): parallel execution on 10 CPUs.\n",
      "\n",
      "\n",
      "Stopping cluster\n",
      "\n",
      "Warning messages:\n",
      "1: In searchCommandline(parallel, cpus = cpus, type = type, socketHosts = socketHosts,  :\n",
      "  Unknown option on commandline: --file\n",
      "2: In searchCommandline(parallel, cpus = cpus, type = type, socketHosts = socketHosts,  :\n",
      "  Unknown option on commandline: --file\n",
      "3: In searchCommandline(parallel, cpus = cpus, type = type, socketHosts = socketHosts,  :\n",
      "  Unknown option on commandline: --file\n"
     ]
    },
    {
     "name": "stdout",
     "output_type": "stream",
     "text": [
      "        tumor Fibroblast B cell myocyte other Macrophage Endothelial T cell\n",
      "Min.    0.913      0.059      0       0 0.028          0           0      0\n",
      "1st Qu. 0.913      0.059      0       0 0.028          0           0      0\n",
      "Median  0.913      0.059      0       0 0.028          0           0      0\n",
      "Mean    0.913      0.059      0       0 0.028          0           0      0\n",
      "3rd Qu. 0.913      0.059      0       0 0.028          0           0      0\n",
      "Max.    0.913      0.059      0       0 0.028          0           0      0\n",
      "        Dendritic Mast\n",
      "Min.            0    0\n",
      "1st Qu.         0    0\n",
      "Median          0    0\n",
      "Mean            0    0\n",
      "3rd Qu.         0    0\n",
      "Max.            0    0\n",
      "[1] \"only one mixture sample. vst transformation is NOT feasible\"\n"
     ]
    },
    {
     "name": "stderr",
     "output_type": "stream",
     "text": [
      "\n",
      "  0%|                                                                                                          | 0/5 [00:00<?, ?it/s]\u001b[A\n",
      " 20%|███████████████████▌                                                                              | 1/5 [00:30<02:00, 30.05s/it]\u001b[A"
     ]
    },
    {
     "name": "stdout",
     "output_type": "stream",
     "text": [
      "2022-07-28 19:01:43\n",
      "pseudobulk mode: now with feature selection setup: \r",
      " top50DEGs\n",
      "now running in cmd: \r",
      " Rscript /home/cke/runscripts/runBP.r /home/cke/PseudoBulk/InputToWrapper/pseudobulk_LOT22_scRNAtrain.tsv /home/cke/PseudoBulk/InputToWrapper/pseudobulk_LOT22_test.tsv /home/cke/Puram/scRNAlabels/ /home/cke/Puram/markers/top50DEGs_pseudobulk.txt fullpipeline_pseudobulk_Jul28_LOT_pseudobulk_top50DEGs_22LOT /home/cke/PseudoBulk/Results/BayesPrism/ /home/cke/PseudoBulk/Results/ &\n"
     ]
    },
    {
     "name": "stderr",
     "output_type": "stream",
     "text": [
      "Warning message:\n",
      "replacing previous import ‘gplots::lowess’ by ‘stats::lowess’ when loading ‘TED’ \n"
     ]
    },
    {
     "name": "stdout",
     "output_type": "stream",
     "text": [
      "[1] \"running BayesPrism with following args:\"\n",
      "[1] \"/home/cke/PseudoBulk/InputToWrapper/pseudobulk_LOT22_scRNAtrain.tsv\"\n",
      "[2] \"/home/cke/PseudoBulk/InputToWrapper/pseudobulk_LOT22_test.tsv\"      \n",
      "[3] \"/home/cke/Puram/scRNAlabels/\"                                       \n",
      "[4] \"/home/cke/Puram/markers/top50DEGs_pseudobulk.txt\"                   \n",
      "[5] \"fullpipeline_pseudobulk_Jul28_LOT_pseudobulk_top50DEGs_22LOT\"       \n",
      "[6] \"/home/cke/PseudoBulk/Results/BayesPrism/\"                           \n",
      "[7] \"/home/cke/PseudoBulk/Results/\"                                      \n",
      "[8] \"/home/cke/Puram/scRNAlabels/\"                                       \n"
     ]
    },
    {
     "name": "stderr",
     "output_type": "stream",
     "text": [
      "\n",
      " 40%|███████████████████████████████████████▏                                                          | 2/5 [01:00<01:30, 30.05s/it]\u001b[A"
     ]
    },
    {
     "name": "stdout",
     "output_type": "stream",
     "text": [
      "2022-07-28 19:02:13\n",
      "pseudobulk mode: now with feature selection setup: \r",
      " top100markers\n",
      "now running in cmd: \r",
      " Rscript /home/cke/runscripts/runBP.r /home/cke/PseudoBulk/InputToWrapper/pseudobulk_LOT22_scRNAtrain.tsv /home/cke/PseudoBulk/InputToWrapper/pseudobulk_LOT22_test.tsv /home/cke/Puram/scRNAlabels/ /home/cke/Puram/markers/top100markers_de_cor_symbol.txt fullpipeline_pseudobulk_Jul28_LOT_pseudobulk_top100markers_22LOT /home/cke/PseudoBulk/Results/BayesPrism/ /home/cke/PseudoBulk/Results/ &\n"
     ]
    },
    {
     "name": "stderr",
     "output_type": "stream",
     "text": [
      "Warning message:\n",
      "replacing previous import ‘gplots::lowess’ by ‘stats::lowess’ when loading ‘TED’ \n"
     ]
    },
    {
     "name": "stdout",
     "output_type": "stream",
     "text": [
      "[1] \"running BayesPrism with following args:\"\n",
      "[1] \"/home/cke/PseudoBulk/InputToWrapper/pseudobulk_LOT22_scRNAtrain.tsv\"\n",
      "[2] \"/home/cke/PseudoBulk/InputToWrapper/pseudobulk_LOT22_test.tsv\"      \n",
      "[3] \"/home/cke/Puram/scRNAlabels/\"                                       \n",
      "[4] \"/home/cke/Puram/markers/top100markers_de_cor_symbol.txt\"            \n",
      "[5] \"fullpipeline_pseudobulk_Jul28_LOT_pseudobulk_top100markers_22LOT\"   \n",
      "[6] \"/home/cke/PseudoBulk/Results/BayesPrism/\"                           \n",
      "[7] \"/home/cke/PseudoBulk/Results/\"                                      \n",
      "[8] \"/home/cke/Puram/scRNAlabels/\"                                       \n"
     ]
    },
    {
     "name": "stderr",
     "output_type": "stream",
     "text": [
      "Read 458 items\n"
     ]
    },
    {
     "name": "stdout",
     "output_type": "stream",
     "text": [
      "[1] \"Gene symbols detected. Cleaning up genes based on gene symbols. Recommend to use EMSEMBLE IDs for more unique mapping.\"\n",
      "A total of  18  genes from RB chrM chrX chrY  have been excluded \n",
      "A total of  0  lowly expressed genes have been excluded \n",
      "[1] \"removing non-numeric genes...\"\n",
      "[1] \"removing outlier genes...\"\n",
      "Number of outlier genes filtered= 4 \n",
      "[1] \"aligning reference and mixture...\"\n",
      "[1] \"run first sampling\"\n",
      "Start run... This may take a while \n",
      "R Version:  R version 4.1.3 (2022-03-10) \n",
      "\n"
     ]
    },
    {
     "name": "stderr",
     "output_type": "stream",
     "text": [
      "snowfall 1.84-6.2 initialized (using snow 0.4-4): parallel execution on 10 CPUs.\n",
      "\n",
      "\n",
      " 60%|██████████████████████████████████████████████████████████▊                                       | 3/5 [01:30<01:00, 30.04s/it]\u001b[A"
     ]
    },
    {
     "name": "stdout",
     "output_type": "stream",
     "text": [
      "2022-07-28 19:02:43\n",
      "pseudobulk mode: now with feature selection setup: \r",
      " top20markers\n",
      "now running in cmd: \r",
      " Rscript /home/cke/runscripts/runBP.r /home/cke/PseudoBulk/InputToWrapper/pseudobulk_LOT22_scRNAtrain.tsv /home/cke/PseudoBulk/InputToWrapper/pseudobulk_LOT22_test.tsv /home/cke/Puram/scRNAlabels/ /home/cke/Puram/markers/top20markers_de_cor_symbol.txt fullpipeline_pseudobulk_Jul28_LOT_pseudobulk_top20markers_22LOT /home/cke/PseudoBulk/Results/BayesPrism/ /home/cke/PseudoBulk/Results/ &\n"
     ]
    },
    {
     "name": "stderr",
     "output_type": "stream",
     "text": [
      "Warning message:\n",
      "replacing previous import ‘gplots::lowess’ by ‘stats::lowess’ when loading ‘TED’ \n",
      "\n",
      "Stopping cluster\n",
      "\n"
     ]
    },
    {
     "name": "stdout",
     "output_type": "stream",
     "text": [
      "[1] \"running BayesPrism with following args:\"\n",
      "[1] \"/home/cke/PseudoBulk/InputToWrapper/pseudobulk_LOT22_scRNAtrain.tsv\"\n",
      "[2] \"/home/cke/PseudoBulk/InputToWrapper/pseudobulk_LOT22_test.tsv\"      \n",
      "[3] \"/home/cke/Puram/scRNAlabels/\"                                       \n",
      "[4] \"/home/cke/Puram/markers/top20markers_de_cor_symbol.txt\"             \n",
      "[5] \"fullpipeline_pseudobulk_Jul28_LOT_pseudobulk_top20markers_22LOT\"    \n",
      "[6] \"/home/cke/PseudoBulk/Results/BayesPrism/\"                           \n",
      "[7] \"/home/cke/PseudoBulk/Results/\"                                      \n",
      "[8] \"/home/cke/Puram/scRNAlabels/\"                                       \n",
      "[1] \"merge subtypes\"\n",
      "        Fibroblast tumor B cell myocyte other Macrophage Endothelial T cell\n",
      "Min.         0.291 0.507      0       0     0       0.01       0.008      0\n",
      "1st Qu.      0.291 0.507      0       0     0       0.01       0.008      0\n",
      "Median       0.291 0.507      0       0     0       0.01       0.008      0\n",
      "Mean         0.291 0.507      0       0     0       0.01       0.008      0\n",
      "3rd Qu.      0.291 0.507      0       0     0       0.01       0.008      0\n",
      "Max.         0.291 0.507      0       0     0       0.01       0.008      0\n",
      "        Dendritic  Mast\n",
      "Min.         0.01 0.174\n",
      "1st Qu.      0.01 0.174\n",
      "Median       0.01 0.174\n",
      "Mean         0.01 0.174\n",
      "3rd Qu.      0.01 0.174\n",
      "Max.         0.01 0.174\n",
      "[1] \"pooling information across samples\"\n",
      "Start optimization... This may take a while \n"
     ]
    },
    {
     "name": "stderr",
     "output_type": "stream",
     "text": [
      "snowfall 1.84-6.2 initialized (using snow 0.4-4): parallel execution on 10 CPUs.\n",
      "\n",
      "\n",
      "Stopping cluster\n",
      "\n"
     ]
    },
    {
     "name": "stdout",
     "output_type": "stream",
     "text": [
      "[1] \"run final sampling\"\n",
      "Start run... This may take a while \n"
     ]
    },
    {
     "name": "stderr",
     "output_type": "stream",
     "text": [
      "Read 898 items\n",
      "snowfall 1.84-6.2 initialized (using snow 0.4-4): parallel execution on 10 CPUs.\n",
      "\n"
     ]
    },
    {
     "name": "stdout",
     "output_type": "stream",
     "text": [
      "[1] \"Gene symbols detected. Cleaning up genes based on gene symbols. Recommend to use EMSEMBLE IDs for more unique mapping.\"\n",
      "A total of  40  genes from RB chrM chrX chrY  have been excluded \n",
      "A total of  14  lowly expressed genes have been excluded \n",
      "[1] \"removing non-numeric genes...\"\n",
      "[1] \"removing outlier genes...\"\n",
      "Number of outlier genes filtered= 4 \n",
      "[1] \"aligning reference and mixture...\"\n"
     ]
    },
    {
     "name": "stderr",
     "output_type": "stream",
     "text": [
      "\n",
      " 80%|██████████████████████████████████████████████████████████████████████████████▍                   | 4/5 [02:00<00:30, 30.04s/it]\u001b[A"
     ]
    },
    {
     "name": "stdout",
     "output_type": "stream",
     "text": [
      "[1] \"run first sampling\"\n",
      "Start run... This may take a while \n",
      "2022-07-28 19:03:13\n",
      " top100DEGsmode: now with feature selection setup: \n",
      " Rscript /home/cke/runscripts/runBP.r /home/cke/PseudoBulk/InputToWrapper/pseudobulk_LOT22_scRNAtrain.tsv /home/cke/PseudoBulk/InputToWrapper/pseudobulk_LOT22_test.tsv /home/cke/Puram/scRNAlabels/ /home/cke/Puram/markers/top100DEGs_pseudobulk.txt fullpipeline_pseudobulk_Jul28_LOT_pseudobulk_top100DEGs_22LOT /home/cke/PseudoBulk/Results/BayesPrism/ /home/cke/PseudoBulk/Results/ &\n",
      "R Version:  R version 4.1.3 (2022-03-10) \n",
      "\n"
     ]
    },
    {
     "name": "stderr",
     "output_type": "stream",
     "text": [
      "snowfall 1.84-6.2 initialized (using snow 0.4-4): parallel execution on 10 CPUs.\n",
      "\n",
      "Warning message:\n",
      "replacing previous import ‘gplots::lowess’ by ‘stats::lowess’ when loading ‘TED’ \n",
      "\n",
      "Stopping cluster\n",
      "\n",
      "Warning messages:\n",
      "1: In searchCommandline(parallel, cpus = cpus, type = type, socketHosts = socketHosts,  :\n",
      "  Unknown option on commandline: --file\n",
      "2: In searchCommandline(parallel, cpus = cpus, type = type, socketHosts = socketHosts,  :\n",
      "  Unknown option on commandline: --file\n",
      "3: In searchCommandline(parallel, cpus = cpus, type = type, socketHosts = socketHosts,  :\n",
      "  Unknown option on commandline: --file\n"
     ]
    },
    {
     "name": "stdout",
     "output_type": "stream",
     "text": [
      "[1] \"running BayesPrism with following args:\"\n",
      "[1] \"/home/cke/PseudoBulk/InputToWrapper/pseudobulk_LOT22_scRNAtrain.tsv\"\n",
      "[2] \"/home/cke/PseudoBulk/InputToWrapper/pseudobulk_LOT22_test.tsv\"      \n",
      "[3] \"/home/cke/Puram/scRNAlabels/\"                                       \n",
      "[4] \"/home/cke/Puram/markers/top100DEGs_pseudobulk.txt\"                  \n",
      "[5] \"fullpipeline_pseudobulk_Jul28_LOT_pseudobulk_top100DEGs_22LOT\"      \n",
      "[6] \"/home/cke/PseudoBulk/Results/BayesPrism/\"                           \n",
      "[7] \"/home/cke/PseudoBulk/Results/\"                                      \n",
      "[8] \"/home/cke/Puram/scRNAlabels/\"                                       \n",
      "        tumor Fibroblast B cell myocyte other Macrophage Endothelial T cell\n",
      "Min.    0.507      0.291      0       0     0       0.01       0.008      0\n",
      "1st Qu. 0.507      0.291      0       0     0       0.01       0.008      0\n",
      "Median  0.507      0.291      0       0     0       0.01       0.008      0\n",
      "Mean    0.507      0.291      0       0     0       0.01       0.008      0\n",
      "3rd Qu. 0.507      0.291      0       0     0       0.01       0.008      0\n",
      "Max.    0.507      0.291      0       0     0       0.01       0.008      0\n",
      "        Dendritic  Mast\n",
      "Min.         0.01 0.174\n",
      "1st Qu.      0.01 0.174\n",
      "Median       0.01 0.174\n",
      "Mean         0.01 0.174\n",
      "3rd Qu.      0.01 0.174\n",
      "Max.         0.01 0.174\n",
      "[1] \"only one mixture sample. vst transformation is NOT feasible\"\n"
     ]
    },
    {
     "name": "stderr",
     "output_type": "stream",
     "text": [
      "\n",
      "Stopping cluster\n",
      "\n"
     ]
    },
    {
     "name": "stdout",
     "output_type": "stream",
     "text": [
      "[1] \"merge subtypes\"\n",
      "        Fibroblast tumor B cell myocyte other Macrophage Endothelial T cell\n",
      "Min.         0.288 0.532      0       0     0      0.008       0.003      0\n",
      "1st Qu.      0.288 0.532      0       0     0      0.008       0.003      0\n",
      "Median       0.288 0.532      0       0     0      0.008       0.003      0\n",
      "Mean         0.288 0.532      0       0     0      0.008       0.003      0\n",
      "3rd Qu.      0.288 0.532      0       0     0      0.008       0.003      0\n",
      "Max.         0.288 0.532      0       0     0      0.008       0.003      0\n",
      "        Dendritic  Mast\n",
      "Min.        0.007 0.162\n",
      "1st Qu.     0.007 0.162\n",
      "Median      0.007 0.162\n",
      "Mean        0.007 0.162\n",
      "3rd Qu.     0.007 0.162\n",
      "Max.        0.007 0.162\n",
      "[1] \"pooling information across samples\"\n",
      "Start optimization... This may take a while \n"
     ]
    },
    {
     "name": "stderr",
     "output_type": "stream",
     "text": [
      "snowfall 1.84-6.2 initialized (using snow 0.4-4): parallel execution on 10 CPUs.\n",
      "\n",
      "\n",
      "100%|██████████████████████████████████████████████████████████████████████████████████████████████████| 5/5 [02:30<00:00, 30.04s/it]\u001b[A\n",
      " 67%|████████████████████████████████████████████████████████████████▋                                | 6/9 [27:01<13:30, 270.32s/it]"
     ]
    },
    {
     "name": "stdout",
     "output_type": "stream",
     "text": [
      "2022-07-28 19:03:43\n",
      "pseudobulk mode: now with feature selection setup: \r",
      " top50markers\n",
      "now running in cmd: \r",
      " Rscript /home/cke/runscripts/runBP.r /home/cke/PseudoBulk/InputToWrapper/pseudobulk_LOT22_scRNAtrain.tsv /home/cke/PseudoBulk/InputToWrapper/pseudobulk_LOT22_test.tsv /home/cke/Puram/scRNAlabels/ /home/cke/Puram/markers/top50markers_de_cor_symbol.txt fullpipeline_pseudobulk_Jul28_LOT_pseudobulk_top50markers_22LOT /home/cke/PseudoBulk/Results/BayesPrism/ /home/cke/PseudoBulk/Results/ &\n"
     ]
    },
    {
     "name": "stderr",
     "output_type": "stream",
     "text": [
      "Read 198 items\n"
     ]
    },
    {
     "name": "stdout",
     "output_type": "stream",
     "text": [
      "[1] \"Gene symbols detected. Cleaning up genes based on gene symbols. Recommend to use EMSEMBLE IDs for more unique mapping.\"\n",
      "A total of  8  genes from RB chrM chrX chrY  have been excluded \n",
      "A total of  4  lowly expressed genes have been excluded \n",
      "[1] \"removing non-numeric genes...\"\n",
      "[1] \"removing outlier genes...\"\n",
      "Number of outlier genes filtered= 4 \n",
      "[1] \"aligning reference and mixture...\"\n",
      "[1] \"run first sampling\"\n",
      "Start run... This may take a while \n",
      "[1] \"run final sampling\"\n",
      "Start run... This may take a while \n"
     ]
    },
    {
     "name": "stderr",
     "output_type": "stream",
     "text": [
      "\n",
      "Stopping cluster\n",
      "\n"
     ]
    },
    {
     "name": "stdout",
     "output_type": "stream",
     "text": [
      "R Version:  R version 4.1.3 (2022-03-10) \n",
      "\n"
     ]
    },
    {
     "name": "stderr",
     "output_type": "stream",
     "text": [
      "snowfall 1.84-6.2 initialized (using snow 0.4-4): parallel execution on 10 CPUs.\n",
      "\n",
      "Warning message:\n",
      "replacing previous import ‘gplots::lowess’ by ‘stats::lowess’ when loading ‘TED’ \n"
     ]
    },
    {
     "name": "stdout",
     "output_type": "stream",
     "text": [
      "[1] \"running BayesPrism with following args:\"\n",
      "[1] \"/home/cke/PseudoBulk/InputToWrapper/pseudobulk_LOT22_scRNAtrain.tsv\"\n",
      "[2] \"/home/cke/PseudoBulk/InputToWrapper/pseudobulk_LOT22_test.tsv\"      \n",
      "[3] \"/home/cke/Puram/scRNAlabels/\"                                       \n",
      "[4] \"/home/cke/Puram/markers/top50markers_de_cor_symbol.txt\"             \n",
      "[5] \"fullpipeline_pseudobulk_Jul28_LOT_pseudobulk_top50markers_22LOT\"    \n",
      "[6] \"/home/cke/PseudoBulk/Results/BayesPrism/\"                           \n",
      "[7] \"/home/cke/PseudoBulk/Results/\"                                      \n",
      "[8] \"/home/cke/Puram/scRNAlabels/\"                                       \n"
     ]
    },
    {
     "name": "stderr",
     "output_type": "stream",
     "text": [
      "snowfall 1.84-6.2 initialized (using snow 0.4-4): parallel execution on 10 CPUs.\n",
      "\n",
      "\n",
      "Stopping cluster\n",
      "\n"
     ]
    },
    {
     "name": "stdout",
     "output_type": "stream",
     "text": [
      "[1] \"merge subtypes\"\n",
      "        Fibroblast tumor B cell myocyte other Macrophage Endothelial T cell\n",
      "Min.         0.211 0.413      0       0     0          0       0.008  0.002\n",
      "1st Qu.      0.211 0.413      0       0     0          0       0.008  0.002\n",
      "Median       0.211 0.413      0       0     0          0       0.008  0.002\n",
      "Mean         0.211 0.413      0       0     0          0       0.008  0.002\n",
      "3rd Qu.      0.211 0.413      0       0     0          0       0.008  0.002\n",
      "Max.         0.211 0.413      0       0     0          0       0.008  0.002\n",
      "        Dendritic  Mast\n",
      "Min.        0.012 0.353\n",
      "1st Qu.     0.012 0.353\n",
      "Median      0.012 0.353\n",
      "Mean        0.012 0.353\n",
      "3rd Qu.     0.012 0.353\n",
      "Max.        0.012 0.353\n",
      "[1] \"pooling information across samples\"\n",
      "Start optimization... This may take a while \n"
     ]
    },
    {
     "name": "stderr",
     "output_type": "stream",
     "text": [
      "snowfall 1.84-6.2 initialized (using snow 0.4-4): parallel execution on 10 CPUs.\n",
      "\n",
      "\n",
      "Stopping cluster\n",
      "\n",
      "Warning messages:\n",
      "1: In searchCommandline(parallel, cpus = cpus, type = type, socketHosts = socketHosts,  :\n",
      "  Unknown option on commandline: --file\n",
      "2: In searchCommandline(parallel, cpus = cpus, type = type, socketHosts = socketHosts,  :\n",
      "  Unknown option on commandline: --file\n",
      "3: In searchCommandline(parallel, cpus = cpus, type = type, socketHosts = socketHosts,  :\n",
      "  Unknown option on commandline: --file\n"
     ]
    },
    {
     "name": "stdout",
     "output_type": "stream",
     "text": [
      "        tumor Fibroblast B cell myocyte other Macrophage Endothelial T cell\n",
      "Min.    0.532      0.288      0       0     0      0.008       0.003      0\n",
      "1st Qu. 0.532      0.288      0       0     0      0.008       0.003      0\n",
      "Median  0.532      0.288      0       0     0      0.008       0.003      0\n",
      "Mean    0.532      0.288      0       0     0      0.008       0.003      0\n",
      "3rd Qu. 0.532      0.288      0       0     0      0.008       0.003      0\n",
      "Max.    0.532      0.288      0       0     0      0.008       0.003      0\n",
      "        Dendritic  Mast\n",
      "Min.        0.007 0.162\n",
      "1st Qu.     0.007 0.162\n",
      "Median      0.007 0.162\n",
      "Mean        0.007 0.162\n",
      "3rd Qu.     0.007 0.162\n",
      "Max.        0.007 0.162\n",
      "[1] \"only one mixture sample. vst transformation is NOT feasible\"\n"
     ]
    },
    {
     "name": "stderr",
     "output_type": "stream",
     "text": [
      "\n",
      "Stopping cluster\n",
      "\n"
     ]
    },
    {
     "name": "stdout",
     "output_type": "stream",
     "text": [
      "[1] \"run final sampling\"\n",
      "Start run... This may take a while \n"
     ]
    },
    {
     "name": "stderr",
     "output_type": "stream",
     "text": [
      "Read 876 items\n",
      "snowfall 1.84-6.2 initialized (using snow 0.4-4): parallel execution on 10 CPUs.\n",
      "\n"
     ]
    },
    {
     "name": "stdout",
     "output_type": "stream",
     "text": [
      "[1] \"Gene symbols detected. Cleaning up genes based on gene symbols. Recommend to use EMSEMBLE IDs for more unique mapping.\"\n",
      "A total of  33  genes from RB chrM chrX chrY  have been excluded \n",
      "A total of  0  lowly expressed genes have been excluded \n",
      "[1] \"removing non-numeric genes...\"\n",
      "[1] \"removing outlier genes...\"\n",
      "Number of outlier genes filtered= 4 \n",
      "[1] \"aligning reference and mixture...\"\n",
      "[1] \"run first sampling\"\n",
      "Start run... This may take a while \n",
      "R Version:  R version 4.1.3 (2022-03-10) \n",
      "\n"
     ]
    },
    {
     "name": "stderr",
     "output_type": "stream",
     "text": [
      "snowfall 1.84-6.2 initialized (using snow 0.4-4): parallel execution on 10 CPUs.\n",
      "\n",
      "\n",
      "Stopping cluster\n",
      "\n",
      "Warning messages:\n",
      "1: In searchCommandline(parallel, cpus = cpus, type = type, socketHosts = socketHosts,  :\n",
      "  Unknown option on commandline: --file\n",
      "2: In searchCommandline(parallel, cpus = cpus, type = type, socketHosts = socketHosts,  :\n",
      "  Unknown option on commandline: --file\n",
      "3: In searchCommandline(parallel, cpus = cpus, type = type, socketHosts = socketHosts,  :\n",
      "  Unknown option on commandline: --file\n"
     ]
    },
    {
     "name": "stdout",
     "output_type": "stream",
     "text": [
      "        tumor Fibroblast B cell myocyte other Macrophage Endothelial T cell\n",
      "Min.    0.413      0.211      0       0     0          0       0.008  0.002\n",
      "1st Qu. 0.413      0.211      0       0     0          0       0.008  0.002\n",
      "Median  0.413      0.211      0       0     0          0       0.008  0.002\n",
      "Mean    0.413      0.211      0       0     0          0       0.008  0.002\n",
      "3rd Qu. 0.413      0.211      0       0     0          0       0.008  0.002\n",
      "Max.    0.413      0.211      0       0     0          0       0.008  0.002\n",
      "        Dendritic  Mast\n",
      "Min.        0.012 0.353\n",
      "1st Qu.     0.012 0.353\n",
      "Median      0.012 0.353\n",
      "Mean        0.012 0.353\n",
      "3rd Qu.     0.012 0.353\n",
      "Max.        0.012 0.353\n",
      "[1] \"only one mixture sample. vst transformation is NOT feasible\"\n"
     ]
    },
    {
     "name": "stderr",
     "output_type": "stream",
     "text": [
      "\n",
      "Stopping cluster\n",
      "\n"
     ]
    },
    {
     "name": "stdout",
     "output_type": "stream",
     "text": [
      "[1] \"merge subtypes\"\n",
      "        Fibroblast tumor B cell myocyte other Macrophage Endothelial T cell\n",
      "Min.         0.314 0.507      0       0     0      0.019       0.006      0\n",
      "1st Qu.      0.314 0.507      0       0     0      0.019       0.006      0\n",
      "Median       0.314 0.507      0       0     0      0.019       0.006      0\n",
      "Mean         0.314 0.507      0       0     0      0.019       0.006      0\n",
      "3rd Qu.      0.314 0.507      0       0     0      0.019       0.006      0\n",
      "Max.         0.314 0.507      0       0     0      0.019       0.006      0\n",
      "        Dendritic  Mast\n",
      "Min.        0.006 0.147\n",
      "1st Qu.     0.006 0.147\n",
      "Median      0.006 0.147\n",
      "Mean        0.006 0.147\n",
      "3rd Qu.     0.006 0.147\n",
      "Max.        0.006 0.147\n",
      "[1] \"pooling information across samples\"\n",
      "Start optimization... This may take a while \n"
     ]
    },
    {
     "name": "stderr",
     "output_type": "stream",
     "text": [
      "snowfall 1.84-6.2 initialized (using snow 0.4-4): parallel execution on 10 CPUs.\n",
      "\n",
      "Read 467 items\n"
     ]
    },
    {
     "name": "stdout",
     "output_type": "stream",
     "text": [
      "[1] \"Gene symbols detected. Cleaning up genes based on gene symbols. Recommend to use EMSEMBLE IDs for more unique mapping.\"\n",
      "A total of  20  genes from RB chrM chrX chrY  have been excluded \n",
      "A total of  7  lowly expressed genes have been excluded \n",
      "[1] \"removing non-numeric genes...\"\n",
      "[1] \"removing outlier genes...\"\n",
      "Number of outlier genes filtered= 4 \n",
      "[1] \"aligning reference and mixture...\"\n",
      "[1] \"run first sampling\"\n",
      "Start run... This may take a while \n",
      "R Version:  R version 4.1.3 (2022-03-10) \n",
      "\n"
     ]
    },
    {
     "name": "stderr",
     "output_type": "stream",
     "text": [
      "snowfall 1.84-6.2 initialized (using snow 0.4-4): parallel execution on 10 CPUs.\n",
      "\n",
      "\n",
      "Stopping cluster\n",
      "\n"
     ]
    },
    {
     "name": "stdout",
     "output_type": "stream",
     "text": [
      "[1] \"run final sampling\"\n",
      "Start run... This may take a while \n"
     ]
    },
    {
     "name": "stderr",
     "output_type": "stream",
     "text": [
      "snowfall 1.84-6.2 initialized (using snow 0.4-4): parallel execution on 10 CPUs.\n",
      "\n",
      "\n",
      "Stopping cluster\n",
      "\n"
     ]
    },
    {
     "name": "stdout",
     "output_type": "stream",
     "text": [
      "[1] \"merge subtypes\"\n",
      "        Fibroblast tumor B cell myocyte other Macrophage Endothelial T cell\n",
      "Min.         0.252 0.504      0       0     0      0.007       0.013      0\n",
      "1st Qu.      0.252 0.504      0       0     0      0.007       0.013      0\n",
      "Median       0.252 0.504      0       0     0      0.007       0.013      0\n",
      "Mean         0.252 0.504      0       0     0      0.007       0.013      0\n",
      "3rd Qu.      0.252 0.504      0       0     0      0.007       0.013      0\n",
      "Max.         0.252 0.504      0       0     0      0.007       0.013      0\n",
      "        Dendritic  Mast\n",
      "Min.        0.009 0.215\n",
      "1st Qu.     0.009 0.215\n",
      "Median      0.009 0.215\n",
      "Mean        0.009 0.215\n",
      "3rd Qu.     0.009 0.215\n",
      "Max.        0.009 0.215\n",
      "[1] \"pooling information across samples\"\n",
      "Start optimization... This may take a while \n"
     ]
    },
    {
     "name": "stderr",
     "output_type": "stream",
     "text": [
      "snowfall 1.84-6.2 initialized (using snow 0.4-4): parallel execution on 10 CPUs.\n",
      "\n",
      "\n",
      "Stopping cluster\n",
      "\n",
      "Warning messages:\n",
      "1: In searchCommandline(parallel, cpus = cpus, type = type, socketHosts = socketHosts,  :\n",
      "  Unknown option on commandline: --file\n",
      "2: In searchCommandline(parallel, cpus = cpus, type = type, socketHosts = socketHosts,  :\n",
      "  Unknown option on commandline: --file\n",
      "3: In searchCommandline(parallel, cpus = cpus, type = type, socketHosts = socketHosts,  :\n",
      "  Unknown option on commandline: --file\n"
     ]
    },
    {
     "name": "stdout",
     "output_type": "stream",
     "text": [
      "        tumor Fibroblast B cell myocyte other Macrophage Endothelial T cell\n",
      "Min.    0.507      0.314      0       0     0      0.019       0.006      0\n",
      "1st Qu. 0.507      0.314      0       0     0      0.019       0.006      0\n",
      "Median  0.507      0.314      0       0     0      0.019       0.006      0\n",
      "Mean    0.507      0.314      0       0     0      0.019       0.006      0\n",
      "3rd Qu. 0.507      0.314      0       0     0      0.019       0.006      0\n",
      "Max.    0.507      0.314      0       0     0      0.019       0.006      0\n",
      "        Dendritic  Mast\n",
      "Min.        0.006 0.147\n",
      "1st Qu.     0.006 0.147\n",
      "Median      0.006 0.147\n",
      "Mean        0.006 0.147\n",
      "3rd Qu.     0.006 0.147\n",
      "Max.        0.006 0.147\n",
      "[1] \"only one mixture sample. vst transformation is NOT feasible\"\n"
     ]
    },
    {
     "name": "stderr",
     "output_type": "stream",
     "text": [
      "\n",
      "Stopping cluster\n",
      "\n"
     ]
    },
    {
     "name": "stdout",
     "output_type": "stream",
     "text": [
      "[1] \"run final sampling\"\n",
      "Start run... This may take a while \n"
     ]
    },
    {
     "name": "stderr",
     "output_type": "stream",
     "text": [
      "snowfall 1.84-6.2 initialized (using snow 0.4-4): parallel execution on 10 CPUs.\n",
      "\n",
      "\n",
      "Stopping cluster\n",
      "\n",
      "Warning messages:\n",
      "1: In searchCommandline(parallel, cpus = cpus, type = type, socketHosts = socketHosts,  :\n",
      "  Unknown option on commandline: --file\n",
      "2: In searchCommandline(parallel, cpus = cpus, type = type, socketHosts = socketHosts,  :\n",
      "  Unknown option on commandline: --file\n",
      "3: In searchCommandline(parallel, cpus = cpus, type = type, socketHosts = socketHosts,  :\n",
      "  Unknown option on commandline: --file\n"
     ]
    },
    {
     "name": "stdout",
     "output_type": "stream",
     "text": [
      "        tumor Fibroblast B cell myocyte other Macrophage Endothelial T cell\n",
      "Min.    0.504      0.252      0       0     0      0.007       0.013      0\n",
      "1st Qu. 0.504      0.252      0       0     0      0.007       0.013      0\n",
      "Median  0.504      0.252      0       0     0      0.007       0.013      0\n",
      "Mean    0.504      0.252      0       0     0      0.007       0.013      0\n",
      "3rd Qu. 0.504      0.252      0       0     0      0.007       0.013      0\n",
      "Max.    0.504      0.252      0       0     0      0.007       0.013      0\n",
      "        Dendritic  Mast\n",
      "Min.        0.009 0.215\n",
      "1st Qu.     0.009 0.215\n",
      "Median      0.009 0.215\n",
      "Mean        0.009 0.215\n",
      "3rd Qu.     0.009 0.215\n",
      "Max.        0.009 0.215\n",
      "[1] \"only one mixture sample. vst transformation is NOT feasible\"\n"
     ]
    },
    {
     "name": "stderr",
     "output_type": "stream",
     "text": [
      "\n",
      "  0%|                                                                                                          | 0/5 [00:00<?, ?it/s]\u001b[A\n",
      " 20%|███████████████████▌                                                                              | 1/5 [00:30<02:00, 30.05s/it]\u001b[A"
     ]
    },
    {
     "name": "stdout",
     "output_type": "stream",
     "text": [
      "2022-07-28 19:06:13\n",
      "pseudobulk mode: now with feature selection setup: \r",
      " top50DEGs\n",
      "now running in cmd: \r",
      " Rscript /home/cke/runscripts/runBP.r /home/cke/PseudoBulk/InputToWrapper/pseudobulk_LOT25_scRNAtrain.tsv /home/cke/PseudoBulk/InputToWrapper/pseudobulk_LOT25_test.tsv /home/cke/Puram/scRNAlabels/ /home/cke/Puram/markers/top50DEGs_pseudobulk.txt fullpipeline_pseudobulk_Jul28_LOT_pseudobulk_top50DEGs_25LOT /home/cke/PseudoBulk/Results/BayesPrism/ /home/cke/PseudoBulk/Results/ &\n"
     ]
    },
    {
     "name": "stderr",
     "output_type": "stream",
     "text": [
      "Warning message:\n",
      "replacing previous import ‘gplots::lowess’ by ‘stats::lowess’ when loading ‘TED’ \n"
     ]
    },
    {
     "name": "stdout",
     "output_type": "stream",
     "text": [
      "[1] \"running BayesPrism with following args:\"\n",
      "[1] \"/home/cke/PseudoBulk/InputToWrapper/pseudobulk_LOT25_scRNAtrain.tsv\"\n",
      "[2] \"/home/cke/PseudoBulk/InputToWrapper/pseudobulk_LOT25_test.tsv\"      \n",
      "[3] \"/home/cke/Puram/scRNAlabels/\"                                       \n",
      "[4] \"/home/cke/Puram/markers/top50DEGs_pseudobulk.txt\"                   \n",
      "[5] \"fullpipeline_pseudobulk_Jul28_LOT_pseudobulk_top50DEGs_25LOT\"       \n",
      "[6] \"/home/cke/PseudoBulk/Results/BayesPrism/\"                           \n",
      "[7] \"/home/cke/PseudoBulk/Results/\"                                      \n",
      "[8] \"/home/cke/Puram/scRNAlabels/\"                                       \n"
     ]
    },
    {
     "name": "stderr",
     "output_type": "stream",
     "text": [
      "\n",
      " 40%|███████████████████████████████████████▏                                                          | 2/5 [01:00<01:30, 30.05s/it]\u001b[A"
     ]
    },
    {
     "name": "stdout",
     "output_type": "stream",
     "text": [
      "2022-07-28 19:06:43\n",
      "pseudobulk mode: now with feature selection setup: \r",
      " top100markers\n",
      "now running in cmd: \r",
      " Rscript /home/cke/runscripts/runBP.r /home/cke/PseudoBulk/InputToWrapper/pseudobulk_LOT25_scRNAtrain.tsv /home/cke/PseudoBulk/InputToWrapper/pseudobulk_LOT25_test.tsv /home/cke/Puram/scRNAlabels/ /home/cke/Puram/markers/top100markers_de_cor_symbol.txt fullpipeline_pseudobulk_Jul28_LOT_pseudobulk_top100markers_25LOT /home/cke/PseudoBulk/Results/BayesPrism/ /home/cke/PseudoBulk/Results/ &\n"
     ]
    },
    {
     "name": "stderr",
     "output_type": "stream",
     "text": [
      "Warning message:\n",
      "replacing previous import ‘gplots::lowess’ by ‘stats::lowess’ when loading ‘TED’ \n"
     ]
    },
    {
     "name": "stdout",
     "output_type": "stream",
     "text": [
      "[1] \"running BayesPrism with following args:\"\n",
      "[1] \"/home/cke/PseudoBulk/InputToWrapper/pseudobulk_LOT25_scRNAtrain.tsv\"\n",
      "[2] \"/home/cke/PseudoBulk/InputToWrapper/pseudobulk_LOT25_test.tsv\"      \n",
      "[3] \"/home/cke/Puram/scRNAlabels/\"                                       \n",
      "[4] \"/home/cke/Puram/markers/top100markers_de_cor_symbol.txt\"            \n",
      "[5] \"fullpipeline_pseudobulk_Jul28_LOT_pseudobulk_top100markers_25LOT\"   \n",
      "[6] \"/home/cke/PseudoBulk/Results/BayesPrism/\"                           \n",
      "[7] \"/home/cke/PseudoBulk/Results/\"                                      \n",
      "[8] \"/home/cke/Puram/scRNAlabels/\"                                       \n"
     ]
    },
    {
     "name": "stderr",
     "output_type": "stream",
     "text": [
      "Read 458 items\n"
     ]
    },
    {
     "name": "stdout",
     "output_type": "stream",
     "text": [
      "[1] \"Gene symbols detected. Cleaning up genes based on gene symbols. Recommend to use EMSEMBLE IDs for more unique mapping.\"\n",
      "A total of  18  genes from RB chrM chrX chrY  have been excluded \n",
      "A total of  0  lowly expressed genes have been excluded \n",
      "[1] \"removing non-numeric genes...\"\n",
      "[1] \"removing outlier genes...\"\n",
      "Number of outlier genes filtered= 5 \n",
      "[1] \"aligning reference and mixture...\"\n",
      "[1] \"run first sampling\"\n",
      "Start run... This may take a while \n",
      "R Version:  R version 4.1.3 (2022-03-10) \n",
      "\n"
     ]
    },
    {
     "name": "stderr",
     "output_type": "stream",
     "text": [
      "snowfall 1.84-6.2 initialized (using snow 0.4-4): parallel execution on 10 CPUs.\n",
      "\n",
      "\n",
      " 60%|██████████████████████████████████████████████████████████▊                                       | 3/5 [01:30<01:00, 30.05s/it]\u001b[A"
     ]
    },
    {
     "name": "stdout",
     "output_type": "stream",
     "text": [
      "2022-07-28 19:07:13\n",
      "pseudobulk mode: now with feature selection setup: \r",
      " top20markers\n",
      "now running in cmd: \r",
      " Rscript /home/cke/runscripts/runBP.r /home/cke/PseudoBulk/InputToWrapper/pseudobulk_LOT25_scRNAtrain.tsv /home/cke/PseudoBulk/InputToWrapper/pseudobulk_LOT25_test.tsv /home/cke/Puram/scRNAlabels/ /home/cke/Puram/markers/top20markers_de_cor_symbol.txt fullpipeline_pseudobulk_Jul28_LOT_pseudobulk_top20markers_25LOT /home/cke/PseudoBulk/Results/BayesPrism/ /home/cke/PseudoBulk/Results/ &\n"
     ]
    },
    {
     "name": "stderr",
     "output_type": "stream",
     "text": [
      "\n",
      "Stopping cluster\n",
      "\n"
     ]
    },
    {
     "name": "stdout",
     "output_type": "stream",
     "text": [
      "[1] \"merge subtypes\"\n",
      "        Fibroblast tumor other Macrophage Endothelial B cell Dendritic T cell\n",
      "Min.         0.394 0.268 0.018      0.001       0.006  0.047     0.014  0.199\n",
      "1st Qu.      0.394 0.268 0.018      0.001       0.006  0.047     0.014  0.199\n",
      "Median       0.394 0.268 0.018      0.001       0.006  0.047     0.014  0.199\n",
      "Mean         0.394 0.268 0.018      0.001       0.006  0.047     0.014  0.199\n",
      "3rd Qu.      0.394 0.268 0.018      0.001       0.006  0.047     0.014  0.199\n",
      "Max.         0.394 0.268 0.018      0.001       0.006  0.047     0.014  0.199\n",
      "         Mast myocyte\n",
      "Min.    0.036   0.017\n",
      "1st Qu. 0.036   0.017\n",
      "Median  0.036   0.017\n",
      "Mean    0.036   0.017\n",
      "3rd Qu. 0.036   0.017\n",
      "Max.    0.036   0.017\n",
      "[1] \"pooling information across samples\"\n",
      "Start optimization... This may take a while \n"
     ]
    },
    {
     "name": "stderr",
     "output_type": "stream",
     "text": [
      "snowfall 1.84-6.2 initialized (using snow 0.4-4): parallel execution on 10 CPUs.\n",
      "\n",
      "Warning message:\n",
      "replacing previous import ‘gplots::lowess’ by ‘stats::lowess’ when loading ‘TED’ \n"
     ]
    },
    {
     "name": "stdout",
     "output_type": "stream",
     "text": [
      "[1] \"running BayesPrism with following args:\"\n",
      "[1] \"/home/cke/PseudoBulk/InputToWrapper/pseudobulk_LOT25_scRNAtrain.tsv\"\n",
      "[2] \"/home/cke/PseudoBulk/InputToWrapper/pseudobulk_LOT25_test.tsv\"      \n",
      "[3] \"/home/cke/Puram/scRNAlabels/\"                                       \n",
      "[4] \"/home/cke/Puram/markers/top20markers_de_cor_symbol.txt\"             \n",
      "[5] \"fullpipeline_pseudobulk_Jul28_LOT_pseudobulk_top20markers_25LOT\"    \n",
      "[6] \"/home/cke/PseudoBulk/Results/BayesPrism/\"                           \n",
      "[7] \"/home/cke/PseudoBulk/Results/\"                                      \n",
      "[8] \"/home/cke/Puram/scRNAlabels/\"                                       \n"
     ]
    },
    {
     "name": "stderr",
     "output_type": "stream",
     "text": [
      "Read 898 items\n",
      "\n",
      "Stopping cluster\n",
      "\n"
     ]
    },
    {
     "name": "stdout",
     "output_type": "stream",
     "text": [
      "[1] \"run final sampling\"\n",
      "Start run... This may take a while \n",
      "[1] \"Gene symbols detected. Cleaning up genes based on gene symbols. Recommend to use EMSEMBLE IDs for more unique mapping.\"\n",
      "A total of  40  genes from RB chrM chrX chrY  have been excluded \n",
      "A total of  19  lowly expressed genes have been excluded \n",
      "[1] \"removing non-numeric genes...\"\n",
      "[1] \"removing outlier genes...\"\n",
      "Number of outlier genes filtered= 5 \n",
      "[1] \"aligning reference and mixture...\"\n",
      "[1] \"run first sampling\"\n",
      "Start run... This may take a while \n"
     ]
    },
    {
     "name": "stderr",
     "output_type": "stream",
     "text": [
      "snowfall 1.84-6.2 initialized (using snow 0.4-4): parallel execution on 10 CPUs.\n",
      "\n"
     ]
    },
    {
     "name": "stdout",
     "output_type": "stream",
     "text": [
      "R Version:  R version 4.1.3 (2022-03-10) \n",
      "\n"
     ]
    },
    {
     "name": "stderr",
     "output_type": "stream",
     "text": [
      "snowfall 1.84-6.2 initialized (using snow 0.4-4): parallel execution on 10 CPUs.\n",
      "\n",
      "\n",
      " 80%|██████████████████████████████████████████████████████████████████████████████▍                   | 4/5 [02:00<00:30, 30.05s/it]\u001b[A"
     ]
    },
    {
     "name": "stdout",
     "output_type": "stream",
     "text": [
      "2022-07-28 19:07:43\n",
      "pseudobulk mode: now with feature selection setup: \r",
      " top100DEGs\n",
      "now running in cmd: \r",
      " Rscript /home/cke/runscripts/runBP.r /home/cke/PseudoBulk/InputToWrapper/pseudobulk_LOT25_scRNAtrain.tsv /home/cke/PseudoBulk/InputToWrapper/pseudobulk_LOT25_test.tsv /home/cke/Puram/scRNAlabels/ /home/cke/Puram/markers/top100DEGs_pseudobulk.txt fullpipeline_pseudobulk_Jul28_LOT_pseudobulk_top100DEGs_25LOT /home/cke/PseudoBulk/Results/BayesPrism/ /home/cke/PseudoBulk/Results/ &\n"
     ]
    },
    {
     "name": "stderr",
     "output_type": "stream",
     "text": [
      "\n",
      "Stopping cluster\n",
      "\n",
      "Warning messages:\n",
      "1: In searchCommandline(parallel, cpus = cpus, type = type, socketHosts = socketHosts,  :\n",
      "  Unknown option on commandline: --file\n",
      "2: In searchCommandline(parallel, cpus = cpus, type = type, socketHosts = socketHosts,  :\n",
      "  Unknown option on commandline: --file\n",
      "3: In searchCommandline(parallel, cpus = cpus, type = type, socketHosts = socketHosts,  :\n",
      "  Unknown option on commandline: --file\n"
     ]
    },
    {
     "name": "stdout",
     "output_type": "stream",
     "text": [
      "        tumor Fibroblast other Macrophage Endothelial B cell Dendritic T cell\n",
      "Min.    0.268      0.394 0.018      0.001       0.006  0.047     0.014  0.199\n",
      "1st Qu. 0.268      0.394 0.018      0.001       0.006  0.047     0.014  0.199\n",
      "Median  0.268      0.394 0.018      0.001       0.006  0.047     0.014  0.199\n",
      "Mean    0.268      0.394 0.018      0.001       0.006  0.047     0.014  0.199\n",
      "3rd Qu. 0.268      0.394 0.018      0.001       0.006  0.047     0.014  0.199\n",
      "Max.    0.268      0.394 0.018      0.001       0.006  0.047     0.014  0.199\n",
      "         Mast myocyte\n",
      "Min.    0.036   0.017\n",
      "1st Qu. 0.036   0.017\n",
      "Median  0.036   0.017\n",
      "Mean    0.036   0.017\n",
      "3rd Qu. 0.036   0.017\n",
      "Max.    0.036   0.017\n",
      "[1] \"only one mixture sample. vst transformation is NOT feasible\"\n"
     ]
    },
    {
     "name": "stderr",
     "output_type": "stream",
     "text": [
      "Warning message:\n",
      "replacing previous import ‘gplots::lowess’ by ‘stats::lowess’ when loading ‘TED’ \n"
     ]
    },
    {
     "name": "stdout",
     "output_type": "stream",
     "text": [
      "[1] \"running BayesPrism with following args:\"\n",
      "[1] \"/home/cke/PseudoBulk/InputToWrapper/pseudobulk_LOT25_scRNAtrain.tsv\"\n",
      "[2] \"/home/cke/PseudoBulk/InputToWrapper/pseudobulk_LOT25_test.tsv\"      \n",
      "[3] \"/home/cke/Puram/scRNAlabels/\"                                       \n",
      "[4] \"/home/cke/Puram/markers/top100DEGs_pseudobulk.txt\"                  \n",
      "[5] \"fullpipeline_pseudobulk_Jul28_LOT_pseudobulk_top100DEGs_25LOT\"      \n",
      "[6] \"/home/cke/PseudoBulk/Results/BayesPrism/\"                           \n",
      "[7] \"/home/cke/PseudoBulk/Results/\"                                      \n",
      "[8] \"/home/cke/Puram/scRNAlabels/\"                                       \n"
     ]
    },
    {
     "name": "stderr",
     "output_type": "stream",
     "text": [
      "\n",
      "Stopping cluster\n",
      "\n"
     ]
    },
    {
     "name": "stdout",
     "output_type": "stream",
     "text": [
      "[1] \"merge subtypes\"\n",
      "        Fibroblast tumor other Macrophage Endothelial B cell Dendritic T cell\n",
      "Min.         0.398 0.283 0.001      0.004       0.005  0.037     0.012  0.211\n",
      "1st Qu.      0.398 0.283 0.001      0.004       0.005  0.037     0.012  0.211\n",
      "Median       0.398 0.283 0.001      0.004       0.005  0.037     0.012  0.211\n",
      "Mean         0.398 0.283 0.001      0.004       0.005  0.037     0.012  0.211\n",
      "3rd Qu.      0.398 0.283 0.001      0.004       0.005  0.037     0.012  0.211\n",
      "Max.         0.398 0.283 0.001      0.004       0.005  0.037     0.012  0.211\n",
      "         Mast myocyte\n",
      "Min.    0.035   0.013\n",
      "1st Qu. 0.035   0.013\n",
      "Median  0.035   0.013\n",
      "Mean    0.035   0.013\n",
      "3rd Qu. 0.035   0.013\n",
      "Max.    0.035   0.013\n",
      "[1] \"pooling information across samples\"\n",
      "Start optimization... This may take a while \n"
     ]
    },
    {
     "name": "stderr",
     "output_type": "stream",
     "text": [
      "snowfall 1.84-6.2 initialized (using snow 0.4-4): parallel execution on 10 CPUs.\n",
      "\n",
      "Read 198 items\n"
     ]
    },
    {
     "name": "stdout",
     "output_type": "stream",
     "text": [
      "[1] \"Gene symbols detected. Cleaning up genes based on gene symbols. Recommend to use EMSEMBLE IDs for more unique mapping.\"\n",
      "A total of  8  genes from RB chrM chrX chrY  have been excluded \n",
      "A total of  4  lowly expressed genes have been excluded \n",
      "[1] \"removing non-numeric genes...\"\n",
      "[1] \"removing outlier genes...\"\n",
      "Number of outlier genes filtered= 5 \n",
      "[1] \"aligning reference and mixture...\"\n",
      "[1] \"run first sampling\"\n",
      "Start run... This may take a while \n"
     ]
    },
    {
     "name": "stderr",
     "output_type": "stream",
     "text": [
      "\n",
      "100%|██████████████████████████████████████████████████████████████████████████████████████████████████| 5/5 [02:30<00:00, 30.05s/it]\u001b[A\n",
      " 78%|███████████████████████████████████████████████████████████████████████████▍                     | 7/9 [31:32<09:00, 270.33s/it]"
     ]
    },
    {
     "name": "stdout",
     "output_type": "stream",
     "text": [
      "2022-07-28 19:08:13\n",
      " top50markersde: now with feature selection setup: \n",
      " Rscript /home/cke/runscripts/runBP.r /home/cke/PseudoBulk/InputToWrapper/pseudobulk_LOT25_scRNAtrain.tsv /home/cke/PseudoBulk/InputToWrapper/pseudobulk_LOT25_test.tsv /home/cke/Puram/scRNAlabels/ /home/cke/Puram/markers/top50markers_de_cor_symbol.txt fullpipeline_pseudobulk_Jul28_LOT_pseudobulk_top50markers_25LOT /home/cke/PseudoBulk/Results/BayesPrism/ /home/cke/PseudoBulk/Results/ &\n",
      "R Version:  R version 4.1.3 (2022-03-10) \n",
      "\n"
     ]
    },
    {
     "name": "stderr",
     "output_type": "stream",
     "text": [
      "snowfall 1.84-6.2 initialized (using snow 0.4-4): parallel execution on 10 CPUs.\n",
      "\n",
      "\n",
      "Stopping cluster\n",
      "\n",
      "Warning message:\n",
      "replacing previous import ‘gplots::lowess’ by ‘stats::lowess’ when loading ‘TED’ \n"
     ]
    },
    {
     "name": "stdout",
     "output_type": "stream",
     "text": [
      "[1] \"run final sampling\"\n",
      "Start run... This may take a while \n",
      "[1] \"running BayesPrism with following args:\"\n",
      "[1] \"/home/cke/PseudoBulk/InputToWrapper/pseudobulk_LOT25_scRNAtrain.tsv\"\n",
      "[2] \"/home/cke/PseudoBulk/InputToWrapper/pseudobulk_LOT25_test.tsv\"      \n",
      "[3] \"/home/cke/Puram/scRNAlabels/\"                                       \n",
      "[4] \"/home/cke/Puram/markers/top50markers_de_cor_symbol.txt\"             \n",
      "[5] \"fullpipeline_pseudobulk_Jul28_LOT_pseudobulk_top50markers_25LOT\"    \n",
      "[6] \"/home/cke/PseudoBulk/Results/BayesPrism/\"                           \n",
      "[7] \"/home/cke/PseudoBulk/Results/\"                                      \n",
      "[8] \"/home/cke/Puram/scRNAlabels/\"                                       \n"
     ]
    },
    {
     "name": "stderr",
     "output_type": "stream",
     "text": [
      "\n",
      "Stopping cluster\n",
      "\n"
     ]
    },
    {
     "name": "stdout",
     "output_type": "stream",
     "text": [
      "[1] \"merge subtypes\"\n",
      "        Fibroblast tumor other Macrophage Endothelial B cell Dendritic T cell\n",
      "Min.           0.3 0.238 0.005          0       0.003  0.071     0.033  0.245\n",
      "1st Qu.        0.3 0.238 0.005          0       0.003  0.071     0.033  0.245\n",
      "Median         0.3 0.238 0.005          0       0.003  0.071     0.033  0.245\n",
      "Mean           0.3 0.238 0.005          0       0.003  0.071     0.033  0.245\n",
      "3rd Qu.        0.3 0.238 0.005          0       0.003  0.071     0.033  0.245\n",
      "Max.           0.3 0.238 0.005          0       0.003  0.071     0.033  0.245\n",
      "        Mast myocyte\n",
      "Min.    0.09   0.016\n",
      "1st Qu. 0.09   0.016\n",
      "Median  0.09   0.016\n",
      "Mean    0.09   0.016\n",
      "3rd Qu. 0.09   0.016\n",
      "Max.    0.09   0.016\n",
      "[1] \"pooling information across samples\"\n",
      "Start optimization... This may take a while \n"
     ]
    },
    {
     "name": "stderr",
     "output_type": "stream",
     "text": [
      "snowfall 1.84-6.2 initialized (using snow 0.4-4): parallel execution on 10 CPUs.\n",
      "\n",
      "snowfall 1.84-6.2 initialized (using snow 0.4-4): parallel execution on 10 CPUs.\n",
      "\n",
      "\n",
      "Stopping cluster\n",
      "\n",
      "Warning messages:\n",
      "1: In searchCommandline(parallel, cpus = cpus, type = type, socketHosts = socketHosts,  :\n",
      "  Unknown option on commandline: --file\n",
      "2: In searchCommandline(parallel, cpus = cpus, type = type, socketHosts = socketHosts,  :\n",
      "  Unknown option on commandline: --file\n",
      "3: In searchCommandline(parallel, cpus = cpus, type = type, socketHosts = socketHosts,  :\n",
      "  Unknown option on commandline: --file\n"
     ]
    },
    {
     "name": "stdout",
     "output_type": "stream",
     "text": [
      "        tumor Fibroblast other Macrophage Endothelial B cell Dendritic T cell\n",
      "Min.    0.283      0.398 0.001      0.004       0.005  0.037     0.012  0.211\n",
      "1st Qu. 0.283      0.398 0.001      0.004       0.005  0.037     0.012  0.211\n",
      "Median  0.283      0.398 0.001      0.004       0.005  0.037     0.012  0.211\n",
      "Mean    0.283      0.398 0.001      0.004       0.005  0.037     0.012  0.211\n",
      "3rd Qu. 0.283      0.398 0.001      0.004       0.005  0.037     0.012  0.211\n",
      "Max.    0.283      0.398 0.001      0.004       0.005  0.037     0.012  0.211\n",
      "         Mast myocyte\n",
      "Min.    0.035   0.013\n",
      "1st Qu. 0.035   0.013\n",
      "Median  0.035   0.013\n",
      "Mean    0.035   0.013\n",
      "3rd Qu. 0.035   0.013\n",
      "Max.    0.035   0.013\n",
      "[1] \"only one mixture sample. vst transformation is NOT feasible\"\n"
     ]
    },
    {
     "name": "stderr",
     "output_type": "stream",
     "text": [
      "\n",
      "Stopping cluster\n",
      "\n"
     ]
    },
    {
     "name": "stdout",
     "output_type": "stream",
     "text": [
      "[1] \"run final sampling\"\n",
      "Start run... This may take a while \n"
     ]
    },
    {
     "name": "stderr",
     "output_type": "stream",
     "text": [
      "Read 876 items\n",
      "snowfall 1.84-6.2 initialized (using snow 0.4-4): parallel execution on 10 CPUs.\n",
      "\n"
     ]
    },
    {
     "name": "stdout",
     "output_type": "stream",
     "text": [
      "[1] \"Gene symbols detected. Cleaning up genes based on gene symbols. Recommend to use EMSEMBLE IDs for more unique mapping.\"\n",
      "A total of  33  genes from RB chrM chrX chrY  have been excluded \n",
      "A total of  0  lowly expressed genes have been excluded \n",
      "[1] \"removing non-numeric genes...\"\n",
      "[1] \"removing outlier genes...\"\n",
      "Number of outlier genes filtered= 5 \n",
      "[1] \"aligning reference and mixture...\"\n",
      "[1] \"run first sampling\"\n",
      "Start run... This may take a while \n",
      "R Version:  R version 4.1.3 (2022-03-10) \n",
      "\n"
     ]
    },
    {
     "name": "stderr",
     "output_type": "stream",
     "text": [
      "snowfall 1.84-6.2 initialized (using snow 0.4-4): parallel execution on 10 CPUs.\n",
      "\n",
      "\n",
      "Stopping cluster\n",
      "\n",
      "Warning messages:\n",
      "1: In searchCommandline(parallel, cpus = cpus, type = type, socketHosts = socketHosts,  :\n",
      "  Unknown option on commandline: --file\n",
      "2: In searchCommandline(parallel, cpus = cpus, type = type, socketHosts = socketHosts,  :\n",
      "  Unknown option on commandline: --file\n",
      "3: In searchCommandline(parallel, cpus = cpus, type = type, socketHosts = socketHosts,  :\n",
      "  Unknown option on commandline: --file\n"
     ]
    },
    {
     "name": "stdout",
     "output_type": "stream",
     "text": [
      "        tumor Fibroblast other Macrophage Endothelial B cell Dendritic T cell\n",
      "Min.    0.238        0.3 0.004          0       0.003  0.071     0.033  0.245\n",
      "1st Qu. 0.238        0.3 0.004          0       0.003  0.071     0.033  0.245\n",
      "Median  0.238        0.3 0.004          0       0.003  0.071     0.033  0.245\n",
      "Mean    0.238        0.3 0.004          0       0.003  0.071     0.033  0.245\n",
      "3rd Qu. 0.238        0.3 0.004          0       0.003  0.071     0.033  0.245\n",
      "Max.    0.238        0.3 0.004          0       0.003  0.071     0.033  0.245\n",
      "        Mast myocyte\n",
      "Min.    0.09   0.016\n",
      "1st Qu. 0.09   0.016\n",
      "Median  0.09   0.016\n",
      "Mean    0.09   0.016\n",
      "3rd Qu. 0.09   0.016\n",
      "Max.    0.09   0.016\n",
      "[1] \"only one mixture sample. vst transformation is NOT feasible\"\n"
     ]
    },
    {
     "name": "stderr",
     "output_type": "stream",
     "text": [
      "\n",
      "Stopping cluster\n",
      "\n"
     ]
    },
    {
     "name": "stdout",
     "output_type": "stream",
     "text": [
      "[1] \"merge subtypes\"\n",
      "        Fibroblast tumor other Macrophage Endothelial B cell Dendritic T cell\n",
      "Min.         0.413  0.25 0.012      0.006       0.003  0.036     0.012  0.227\n",
      "1st Qu.      0.413  0.25 0.012      0.006       0.003  0.036     0.012  0.227\n",
      "Median       0.413  0.25 0.012      0.006       0.003  0.036     0.012  0.227\n",
      "Mean         0.413  0.25 0.012      0.006       0.003  0.036     0.012  0.227\n",
      "3rd Qu.      0.413  0.25 0.012      0.006       0.003  0.036     0.012  0.227\n",
      "Max.         0.413  0.25 0.012      0.006       0.003  0.036     0.012  0.227\n",
      "         Mast myocyte\n",
      "Min.    0.028   0.013\n",
      "1st Qu. 0.028   0.013\n",
      "Median  0.028   0.013\n",
      "Mean    0.028   0.013\n",
      "3rd Qu. 0.028   0.013\n",
      "Max.    0.028   0.013\n",
      "[1] \"pooling information across samples\"\n",
      "Start optimization... This may take a while \n"
     ]
    },
    {
     "name": "stderr",
     "output_type": "stream",
     "text": [
      "Read 467 items\n",
      "snowfall 1.84-6.2 initialized (using snow 0.4-4): parallel execution on 10 CPUs.\n",
      "\n"
     ]
    },
    {
     "name": "stdout",
     "output_type": "stream",
     "text": [
      "[1] \"Gene symbols detected. Cleaning up genes based on gene symbols. Recommend to use EMSEMBLE IDs for more unique mapping.\"\n",
      "A total of  20  genes from RB chrM chrX chrY  have been excluded \n",
      "A total of  9  lowly expressed genes have been excluded \n",
      "[1] \"removing non-numeric genes...\"\n",
      "[1] \"removing outlier genes...\"\n",
      "Number of outlier genes filtered= 5 \n",
      "[1] \"aligning reference and mixture...\"\n",
      "[1] \"run first sampling\"\n",
      "Start run... This may take a while \n",
      "R Version:  R version 4.1.3 (2022-03-10) \n",
      "\n"
     ]
    },
    {
     "name": "stderr",
     "output_type": "stream",
     "text": [
      "snowfall 1.84-6.2 initialized (using snow 0.4-4): parallel execution on 10 CPUs.\n",
      "\n",
      "\n",
      "Stopping cluster\n",
      "\n",
      "\n",
      "Stopping cluster\n",
      "\n"
     ]
    },
    {
     "name": "stdout",
     "output_type": "stream",
     "text": [
      "[1] \"merge subtypes\"\n",
      "        Fibroblast tumor other Macrophage Endothelial B cell Dendritic T cell\n",
      "Min.         0.399 0.261 0.001      0.012       0.002  0.049     0.025  0.183\n",
      "1st Qu.      0.399 0.261 0.001      0.012       0.002  0.049     0.025  0.183\n",
      "Median       0.399 0.261 0.001      0.012       0.002  0.049     0.025  0.183\n",
      "Mean         0.399 0.261 0.001      0.012       0.002  0.049     0.025  0.183\n",
      "3rd Qu.      0.399 0.261 0.001      0.012       0.002  0.049     0.025  0.183\n",
      "Max.         0.399 0.261 0.001      0.012       0.002  0.049     0.025  0.183\n",
      "         Mast myocyte\n",
      "Min.    0.053   0.015\n",
      "1st Qu. 0.053   0.015\n",
      "Median  0.053   0.015\n",
      "Mean    0.053   0.015\n",
      "3rd Qu. 0.053   0.015\n",
      "Max.    0.053   0.015\n",
      "[1] \"pooling information across samples\"\n",
      "Start optimization... This may take a while \n",
      "[1] \"run final sampling\"\n",
      "Start run... This may take a while \n"
     ]
    },
    {
     "name": "stderr",
     "output_type": "stream",
     "text": [
      "snowfall 1.84-6.2 initialized (using snow 0.4-4): parallel execution on 10 CPUs.\n",
      "\n",
      "snowfall 1.84-6.2 initialized (using snow 0.4-4): parallel execution on 10 CPUs.\n",
      "\n",
      "\n",
      "Stopping cluster\n",
      "\n",
      "Warning messages:\n",
      "1: In searchCommandline(parallel, cpus = cpus, type = type, socketHosts = socketHosts,  :\n",
      "  Unknown option on commandline: --file\n",
      "2: In searchCommandline(parallel, cpus = cpus, type = type, socketHosts = socketHosts,  :\n",
      "  Unknown option on commandline: --file\n",
      "3: In searchCommandline(parallel, cpus = cpus, type = type, socketHosts = socketHosts,  :\n",
      "  Unknown option on commandline: --file\n"
     ]
    },
    {
     "name": "stdout",
     "output_type": "stream",
     "text": [
      "        tumor Fibroblast other Macrophage Endothelial B cell Dendritic T cell\n",
      "Min.     0.25      0.413 0.012      0.006       0.003  0.036     0.012  0.227\n",
      "1st Qu.  0.25      0.413 0.012      0.006       0.003  0.036     0.012  0.227\n",
      "Median   0.25      0.413 0.012      0.006       0.003  0.036     0.012  0.227\n",
      "Mean     0.25      0.413 0.012      0.006       0.003  0.036     0.012  0.227\n",
      "3rd Qu.  0.25      0.413 0.012      0.006       0.003  0.036     0.012  0.227\n",
      "Max.     0.25      0.413 0.012      0.006       0.003  0.036     0.012  0.227\n",
      "         Mast myocyte\n",
      "Min.    0.028   0.013\n",
      "1st Qu. 0.028   0.013\n",
      "Median  0.028   0.013\n",
      "Mean    0.028   0.013\n",
      "3rd Qu. 0.028   0.013\n",
      "Max.    0.028   0.013\n",
      "[1] \"only one mixture sample. vst transformation is NOT feasible\"\n"
     ]
    },
    {
     "name": "stderr",
     "output_type": "stream",
     "text": [
      "\n",
      "Stopping cluster\n",
      "\n"
     ]
    },
    {
     "name": "stdout",
     "output_type": "stream",
     "text": [
      "[1] \"run final sampling\"\n",
      "Start run... This may take a while \n"
     ]
    },
    {
     "name": "stderr",
     "output_type": "stream",
     "text": [
      "snowfall 1.84-6.2 initialized (using snow 0.4-4): parallel execution on 10 CPUs.\n",
      "\n",
      "\n",
      "Stopping cluster\n",
      "\n",
      "Warning messages:\n",
      "1: In searchCommandline(parallel, cpus = cpus, type = type, socketHosts = socketHosts,  :\n",
      "  Unknown option on commandline: --file\n",
      "2: In searchCommandline(parallel, cpus = cpus, type = type, socketHosts = socketHosts,  :\n",
      "  Unknown option on commandline: --file\n",
      "3: In searchCommandline(parallel, cpus = cpus, type = type, socketHosts = socketHosts,  :\n",
      "  Unknown option on commandline: --file\n"
     ]
    },
    {
     "name": "stdout",
     "output_type": "stream",
     "text": [
      "        tumor Fibroblast other Macrophage Endothelial B cell Dendritic T cell\n",
      "Min.    0.261      0.399 0.001      0.012       0.002  0.049     0.025  0.183\n",
      "1st Qu. 0.261      0.399 0.001      0.012       0.002  0.049     0.025  0.183\n",
      "Median  0.261      0.399 0.001      0.012       0.002  0.049     0.025  0.183\n",
      "Mean    0.261      0.399 0.001      0.012       0.002  0.049     0.025  0.183\n",
      "3rd Qu. 0.261      0.399 0.001      0.012       0.002  0.049     0.025  0.183\n",
      "Max.    0.261      0.399 0.001      0.012       0.002  0.049     0.025  0.183\n",
      "         Mast myocyte\n",
      "Min.    0.053   0.015\n",
      "1st Qu. 0.053   0.015\n",
      "Median  0.053   0.015\n",
      "Mean    0.053   0.015\n",
      "3rd Qu. 0.053   0.015\n",
      "Max.    0.053   0.015\n",
      "[1] \"only one mixture sample. vst transformation is NOT feasible\"\n"
     ]
    },
    {
     "name": "stderr",
     "output_type": "stream",
     "text": [
      "\n",
      "  0%|                                                                                                          | 0/5 [00:00<?, ?it/s]\u001b[A\n",
      " 20%|███████████████████▌                                                                              | 1/5 [00:30<02:00, 30.03s/it]\u001b[A"
     ]
    },
    {
     "name": "stdout",
     "output_type": "stream",
     "text": [
      "2022-07-28 19:10:43\n",
      "pseudobulk mode: now with feature selection setup: \r",
      " top50DEGs\n",
      "now running in cmd: \r",
      " Rscript /home/cke/runscripts/runBP.r /home/cke/PseudoBulk/InputToWrapper/pseudobulk_LOT26_scRNAtrain.tsv /home/cke/PseudoBulk/InputToWrapper/pseudobulk_LOT26_test.tsv /home/cke/Puram/scRNAlabels/ /home/cke/Puram/markers/top50DEGs_pseudobulk.txt fullpipeline_pseudobulk_Jul28_LOT_pseudobulk_top50DEGs_26LOT /home/cke/PseudoBulk/Results/BayesPrism/ /home/cke/PseudoBulk/Results/ &\n"
     ]
    },
    {
     "name": "stderr",
     "output_type": "stream",
     "text": [
      "Warning message:\n",
      "replacing previous import ‘gplots::lowess’ by ‘stats::lowess’ when loading ‘TED’ \n"
     ]
    },
    {
     "name": "stdout",
     "output_type": "stream",
     "text": [
      "[1] \"running BayesPrism with following args:\"\n",
      "[1] \"/home/cke/PseudoBulk/InputToWrapper/pseudobulk_LOT26_scRNAtrain.tsv\"\n",
      "[2] \"/home/cke/PseudoBulk/InputToWrapper/pseudobulk_LOT26_test.tsv\"      \n",
      "[3] \"/home/cke/Puram/scRNAlabels/\"                                       \n",
      "[4] \"/home/cke/Puram/markers/top50DEGs_pseudobulk.txt\"                   \n",
      "[5] \"fullpipeline_pseudobulk_Jul28_LOT_pseudobulk_top50DEGs_26LOT\"       \n",
      "[6] \"/home/cke/PseudoBulk/Results/BayesPrism/\"                           \n",
      "[7] \"/home/cke/PseudoBulk/Results/\"                                      \n",
      "[8] \"/home/cke/Puram/scRNAlabels/\"                                       \n"
     ]
    },
    {
     "name": "stderr",
     "output_type": "stream",
     "text": [
      "\n",
      " 40%|███████████████████████████████████████▏                                                          | 2/5 [01:00<01:30, 30.04s/it]\u001b[A"
     ]
    },
    {
     "name": "stdout",
     "output_type": "stream",
     "text": [
      "2022-07-28 19:11:13\n",
      "pseudobulk mode: now with feature selection setup: \r",
      " top100markers\n",
      "now running in cmd: \r",
      " Rscript /home/cke/runscripts/runBP.r /home/cke/PseudoBulk/InputToWrapper/pseudobulk_LOT26_scRNAtrain.tsv /home/cke/PseudoBulk/InputToWrapper/pseudobulk_LOT26_test.tsv /home/cke/Puram/scRNAlabels/ /home/cke/Puram/markers/top100markers_de_cor_symbol.txt fullpipeline_pseudobulk_Jul28_LOT_pseudobulk_top100markers_26LOT /home/cke/PseudoBulk/Results/BayesPrism/ /home/cke/PseudoBulk/Results/ &\n"
     ]
    },
    {
     "name": "stderr",
     "output_type": "stream",
     "text": [
      "Warning message:\n",
      "replacing previous import ‘gplots::lowess’ by ‘stats::lowess’ when loading ‘TED’ \n"
     ]
    },
    {
     "name": "stdout",
     "output_type": "stream",
     "text": [
      "[1] \"running BayesPrism with following args:\"\n",
      "[1] \"/home/cke/PseudoBulk/InputToWrapper/pseudobulk_LOT26_scRNAtrain.tsv\"\n",
      "[2] \"/home/cke/PseudoBulk/InputToWrapper/pseudobulk_LOT26_test.tsv\"      \n",
      "[3] \"/home/cke/Puram/scRNAlabels/\"                                       \n",
      "[4] \"/home/cke/Puram/markers/top100markers_de_cor_symbol.txt\"            \n",
      "[5] \"fullpipeline_pseudobulk_Jul28_LOT_pseudobulk_top100markers_26LOT\"   \n",
      "[6] \"/home/cke/PseudoBulk/Results/BayesPrism/\"                           \n",
      "[7] \"/home/cke/PseudoBulk/Results/\"                                      \n",
      "[8] \"/home/cke/Puram/scRNAlabels/\"                                       \n"
     ]
    },
    {
     "name": "stderr",
     "output_type": "stream",
     "text": [
      "Read 458 items\n"
     ]
    },
    {
     "name": "stdout",
     "output_type": "stream",
     "text": [
      "[1] \"Gene symbols detected. Cleaning up genes based on gene symbols. Recommend to use EMSEMBLE IDs for more unique mapping.\"\n",
      "A total of  18  genes from RB chrM chrX chrY  have been excluded \n",
      "A total of  0  lowly expressed genes have been excluded \n",
      "[1] \"removing non-numeric genes...\"\n",
      "[1] \"removing outlier genes...\"\n",
      "Number of outlier genes filtered= 4 \n",
      "[1] \"aligning reference and mixture...\"\n",
      "[1] \"run first sampling\"\n",
      "Start run... This may take a while \n",
      "R Version:  R version 4.1.3 (2022-03-10) \n",
      "\n"
     ]
    },
    {
     "name": "stderr",
     "output_type": "stream",
     "text": [
      "snowfall 1.84-6.2 initialized (using snow 0.4-4): parallel execution on 10 CPUs.\n",
      "\n",
      "\n",
      " 60%|██████████████████████████████████████████████████████████▊                                       | 3/5 [01:30<01:00, 30.04s/it]\u001b[A"
     ]
    },
    {
     "name": "stdout",
     "output_type": "stream",
     "text": [
      "2022-07-28 19:11:43\n",
      "pseudobulk mode: now with feature selection setup: \r",
      " top20markers\n",
      "now running in cmd: \r",
      " Rscript /home/cke/runscripts/runBP.r /home/cke/PseudoBulk/InputToWrapper/pseudobulk_LOT26_scRNAtrain.tsv /home/cke/PseudoBulk/InputToWrapper/pseudobulk_LOT26_test.tsv /home/cke/Puram/scRNAlabels/ /home/cke/Puram/markers/top20markers_de_cor_symbol.txt fullpipeline_pseudobulk_Jul28_LOT_pseudobulk_top20markers_26LOT /home/cke/PseudoBulk/Results/BayesPrism/ /home/cke/PseudoBulk/Results/ &\n"
     ]
    },
    {
     "name": "stderr",
     "output_type": "stream",
     "text": [
      "\n",
      "Stopping cluster\n",
      "\n"
     ]
    },
    {
     "name": "stdout",
     "output_type": "stream",
     "text": [
      "[1] \"merge subtypes\"\n",
      "        Fibroblast tumor B cell myocyte other Endothelial T cell Dendritic\n",
      "Min.         0.454 0.403  0.004   0.001 0.004       0.005  0.005     0.028\n",
      "1st Qu.      0.454 0.403  0.004   0.001 0.004       0.005  0.005     0.028\n",
      "Median       0.454 0.403  0.004   0.001 0.004       0.005  0.005     0.028\n",
      "Mean         0.454 0.403  0.004   0.001 0.004       0.005  0.005     0.028\n",
      "3rd Qu.      0.454 0.403  0.004   0.001 0.004       0.005  0.005     0.028\n",
      "Max.         0.454 0.403  0.004   0.001 0.004       0.005  0.005     0.028\n",
      "         Mast Macrophage\n",
      "Min.    0.004      0.094\n",
      "1st Qu. 0.004      0.094\n",
      "Median  0.004      0.094\n",
      "Mean    0.004      0.094\n",
      "3rd Qu. 0.004      0.094\n",
      "Max.    0.004      0.094\n",
      "[1] \"pooling information across samples\"\n",
      "Start optimization... This may take a while \n"
     ]
    },
    {
     "name": "stderr",
     "output_type": "stream",
     "text": [
      "Warning message:\n",
      "replacing previous import ‘gplots::lowess’ by ‘stats::lowess’ when loading ‘TED’ \n"
     ]
    },
    {
     "name": "stdout",
     "output_type": "stream",
     "text": [
      "[1] \"running BayesPrism with following args:\"\n",
      "[1] \"/home/cke/PseudoBulk/InputToWrapper/pseudobulk_LOT26_scRNAtrain.tsv\"\n",
      "[2] \"/home/cke/PseudoBulk/InputToWrapper/pseudobulk_LOT26_test.tsv\"      \n",
      "[3] \"/home/cke/Puram/scRNAlabels/\"                                       \n",
      "[4] \"/home/cke/Puram/markers/top20markers_de_cor_symbol.txt\"             \n",
      "[5] \"fullpipeline_pseudobulk_Jul28_LOT_pseudobulk_top20markers_26LOT\"    \n",
      "[6] \"/home/cke/PseudoBulk/Results/BayesPrism/\"                           \n",
      "[7] \"/home/cke/PseudoBulk/Results/\"                                      \n",
      "[8] \"/home/cke/Puram/scRNAlabels/\"                                       \n"
     ]
    },
    {
     "name": "stderr",
     "output_type": "stream",
     "text": [
      "snowfall 1.84-6.2 initialized (using snow 0.4-4): parallel execution on 10 CPUs.\n",
      "\n",
      "Read 898 items\n",
      "\n",
      "Stopping cluster\n",
      "\n"
     ]
    },
    {
     "name": "stdout",
     "output_type": "stream",
     "text": [
      "[1] \"run final sampling\"\n",
      "Start run... This may take a while \n",
      "[1] \"Gene symbols detected. Cleaning up genes based on gene symbols. Recommend to use EMSEMBLE IDs for more unique mapping.\"\n",
      "A total of  40  genes from RB chrM chrX chrY  have been excluded \n",
      "A total of  23  lowly expressed genes have been excluded \n",
      "[1] \"removing non-numeric genes...\"\n",
      "[1] \"removing outlier genes...\"\n",
      "Number of outlier genes filtered= 4 \n",
      "[1] \"aligning reference and mixture...\"\n"
     ]
    },
    {
     "name": "stderr",
     "output_type": "stream",
     "text": [
      "snowfall 1.84-6.2 initialized (using snow 0.4-4): parallel execution on 10 CPUs.\n",
      "\n"
     ]
    },
    {
     "name": "stdout",
     "output_type": "stream",
     "text": [
      "[1] \"run first sampling\"\n",
      "Start run... This may take a while \n"
     ]
    },
    {
     "name": "stderr",
     "output_type": "stream",
     "text": [
      "\n",
      " 80%|██████████████████████████████████████████████████████████████████████████████▍                   | 4/5 [02:00<00:30, 30.05s/it]\u001b[A"
     ]
    },
    {
     "name": "stdout",
     "output_type": "stream",
     "text": [
      "2022-07-28 19:12:13\n",
      " top100DEGsmode: now with feature selection setup: \n",
      " Rscript /home/cke/runscripts/runBP.r /home/cke/PseudoBulk/InputToWrapper/pseudobulk_LOT26_scRNAtrain.tsv /home/cke/PseudoBulk/InputToWrapper/pseudobulk_LOT26_test.tsv /home/cke/Puram/scRNAlabels/ /home/cke/Puram/markers/top100DEGs_pseudobulk.txt fullpipeline_pseudobulk_Jul28_LOT_pseudobulk_top100DEGs_26LOT /home/cke/PseudoBulk/Results/BayesPrism/ /home/cke/PseudoBulk/Results/ &\n",
      "R Version:  R version 4.1.3 (2022-03-10) \n",
      "\n"
     ]
    },
    {
     "name": "stderr",
     "output_type": "stream",
     "text": [
      "snowfall 1.84-6.2 initialized (using snow 0.4-4): parallel execution on 10 CPUs.\n",
      "\n",
      "Warning message:\n",
      "replacing previous import ‘gplots::lowess’ by ‘stats::lowess’ when loading ‘TED’ \n"
     ]
    },
    {
     "name": "stdout",
     "output_type": "stream",
     "text": [
      "[1] \"running BayesPrism with following args:\"\n",
      "[1] \"/home/cke/PseudoBulk/InputToWrapper/pseudobulk_LOT26_scRNAtrain.tsv\"\n",
      "[2] \"/home/cke/PseudoBulk/InputToWrapper/pseudobulk_LOT26_test.tsv\"      \n",
      "[3] \"/home/cke/Puram/scRNAlabels/\"                                       \n",
      "[4] \"/home/cke/Puram/markers/top100DEGs_pseudobulk.txt\"                  \n",
      "[5] \"fullpipeline_pseudobulk_Jul28_LOT_pseudobulk_top100DEGs_26LOT\"      \n",
      "[6] \"/home/cke/PseudoBulk/Results/BayesPrism/\"                           \n",
      "[7] \"/home/cke/PseudoBulk/Results/\"                                      \n",
      "[8] \"/home/cke/Puram/scRNAlabels/\"                                       \n"
     ]
    },
    {
     "name": "stderr",
     "output_type": "stream",
     "text": [
      "\n",
      "Stopping cluster\n",
      "\n",
      "Warning messages:\n",
      "1: In searchCommandline(parallel, cpus = cpus, type = type, socketHosts = socketHosts,  :\n",
      "  Unknown option on commandline: --file\n",
      "2: In searchCommandline(parallel, cpus = cpus, type = type, socketHosts = socketHosts,  :\n",
      "  Unknown option on commandline: --file\n",
      "3: In searchCommandline(parallel, cpus = cpus, type = type, socketHosts = socketHosts,  :\n",
      "  Unknown option on commandline: --file\n"
     ]
    },
    {
     "name": "stdout",
     "output_type": "stream",
     "text": [
      "        tumor Fibroblast B cell myocyte other Endothelial T cell Dendritic\n",
      "Min.    0.403      0.454  0.004   0.001 0.004       0.005  0.005     0.028\n",
      "1st Qu. 0.403      0.454  0.004   0.001 0.004       0.005  0.005     0.028\n",
      "Median  0.403      0.454  0.004   0.001 0.004       0.005  0.005     0.028\n",
      "Mean    0.403      0.454  0.004   0.001 0.004       0.005  0.005     0.028\n",
      "3rd Qu. 0.403      0.454  0.004   0.001 0.004       0.005  0.005     0.028\n",
      "Max.    0.403      0.454  0.004   0.001 0.004       0.005  0.005     0.028\n",
      "         Mast Macrophage\n",
      "Min.    0.004      0.094\n",
      "1st Qu. 0.004      0.094\n",
      "Median  0.004      0.094\n",
      "Mean    0.004      0.094\n",
      "3rd Qu. 0.004      0.094\n",
      "Max.    0.004      0.094\n",
      "[1] \"only one mixture sample. vst transformation is NOT feasible\"\n"
     ]
    },
    {
     "name": "stderr",
     "output_type": "stream",
     "text": [
      "\n",
      "Stopping cluster\n",
      "\n"
     ]
    },
    {
     "name": "stdout",
     "output_type": "stream",
     "text": [
      "[1] \"merge subtypes\"\n",
      "        Fibroblast tumor B cell myocyte other Endothelial T cell Dendritic\n",
      "Min.         0.423 0.453  0.002   0.001  0.01       0.003  0.006     0.022\n",
      "1st Qu.      0.423 0.453  0.002   0.001  0.01       0.003  0.006     0.022\n",
      "Median       0.423 0.453  0.002   0.001  0.01       0.003  0.006     0.022\n",
      "Mean         0.423 0.453  0.002   0.001  0.01       0.003  0.006     0.022\n",
      "3rd Qu.      0.423 0.453  0.002   0.001  0.01       0.003  0.006     0.022\n",
      "Max.         0.423 0.453  0.002   0.001  0.01       0.003  0.006     0.022\n",
      "         Mast Macrophage\n",
      "Min.    0.003      0.078\n",
      "1st Qu. 0.003      0.078\n",
      "Median  0.003      0.078\n",
      "Mean    0.003      0.078\n",
      "3rd Qu. 0.003      0.078\n",
      "Max.    0.003      0.078\n",
      "[1] \"pooling information across samples\"\n",
      "Start optimization... This may take a while \n"
     ]
    },
    {
     "name": "stderr",
     "output_type": "stream",
     "text": [
      "snowfall 1.84-6.2 initialized (using snow 0.4-4): parallel execution on 10 CPUs.\n",
      "\n",
      "\n",
      "100%|██████████████████████████████████████████████████████████████████████████████████████████████████| 5/5 [02:30<00:00, 30.05s/it]\u001b[A\n",
      " 89%|██████████████████████████████████████████████████████████████████████████████████████▏          | 8/9 [36:02<04:30, 270.32s/it]"
     ]
    },
    {
     "name": "stdout",
     "output_type": "stream",
     "text": [
      "2022-07-28 19:12:43\n",
      "pseudobulk mode: now with feature selection setup: \r",
      " top50markers\n",
      "now running in cmd: \r",
      " Rscript /home/cke/runscripts/runBP.r /home/cke/PseudoBulk/InputToWrapper/pseudobulk_LOT26_scRNAtrain.tsv /home/cke/PseudoBulk/InputToWrapper/pseudobulk_LOT26_test.tsv /home/cke/Puram/scRNAlabels/ /home/cke/Puram/markers/top50markers_de_cor_symbol.txt fullpipeline_pseudobulk_Jul28_LOT_pseudobulk_top50markers_26LOT /home/cke/PseudoBulk/Results/BayesPrism/ /home/cke/PseudoBulk/Results/ &\n"
     ]
    },
    {
     "name": "stderr",
     "output_type": "stream",
     "text": [
      "Read 198 items\n"
     ]
    },
    {
     "name": "stdout",
     "output_type": "stream",
     "text": [
      "[1] \"Gene symbols detected. Cleaning up genes based on gene symbols. Recommend to use EMSEMBLE IDs for more unique mapping.\"\n",
      "A total of  8  genes from RB chrM chrX chrY  have been excluded \n",
      "A total of  5  lowly expressed genes have been excluded \n",
      "[1] \"removing non-numeric genes...\"\n",
      "[1] \"removing outlier genes...\"\n",
      "Number of outlier genes filtered= 4 \n",
      "[1] \"aligning reference and mixture...\"\n",
      "[1] \"run first sampling\"\n",
      "Start run... This may take a while \n"
     ]
    },
    {
     "name": "stderr",
     "output_type": "stream",
     "text": [
      "Warning message:\n",
      "replacing previous import ‘gplots::lowess’ by ‘stats::lowess’ when loading ‘TED’ \n",
      "snowfall 1.84-6.2 initialized (using snow 0.4-4): parallel execution on 10 CPUs.\n",
      "\n"
     ]
    },
    {
     "name": "stdout",
     "output_type": "stream",
     "text": [
      "[1] \"running BayesPrism with following args:\"\n",
      "[1] \"/home/cke/PseudoBulk/InputToWrapper/pseudobulk_LOT26_scRNAtrain.tsv\"\n",
      "[2] \"/home/cke/PseudoBulk/InputToWrapper/pseudobulk_LOT26_test.tsv\"      \n",
      "[3] \"/home/cke/Puram/scRNAlabels/\"                                       \n",
      "[4] \"/home/cke/Puram/markers/top50markers_de_cor_symbol.txt\"             \n",
      "[5] \"fullpipeline_pseudobulk_Jul28_LOT_pseudobulk_top50markers_26LOT\"    \n",
      "[6] \"/home/cke/PseudoBulk/Results/BayesPrism/\"                           \n",
      "[7] \"/home/cke/PseudoBulk/Results/\"                                      \n",
      "[8] \"/home/cke/Puram/scRNAlabels/\"                                       \n",
      "R Version:  R version 4.1.3 (2022-03-10) \n",
      "\n"
     ]
    },
    {
     "name": "stderr",
     "output_type": "stream",
     "text": [
      "\n",
      "Stopping cluster\n",
      "\n"
     ]
    },
    {
     "name": "stdout",
     "output_type": "stream",
     "text": [
      "[1] \"run final sampling\"\n",
      "Start run... This may take a while \n"
     ]
    },
    {
     "name": "stderr",
     "output_type": "stream",
     "text": [
      "snowfall 1.84-6.2 initialized (using snow 0.4-4): parallel execution on 10 CPUs.\n",
      "\n",
      "\n",
      "Stopping cluster\n",
      "\n"
     ]
    },
    {
     "name": "stdout",
     "output_type": "stream",
     "text": [
      "[1] \"merge subtypes\"\n",
      "        Fibroblast tumor B cell myocyte other Endothelial T cell Dendritic\n",
      "Min.         0.342 0.489  0.002   0.002 0.005       0.003  0.003     0.025\n",
      "1st Qu.      0.342 0.489  0.002   0.002 0.005       0.003  0.003     0.025\n",
      "Median       0.342 0.489  0.002   0.002 0.005       0.003  0.003     0.025\n",
      "Mean         0.342 0.489  0.002   0.002 0.005       0.003  0.003     0.025\n",
      "3rd Qu.      0.342 0.489  0.002   0.002 0.005       0.003  0.003     0.025\n",
      "Max.         0.342 0.489  0.002   0.002 0.005       0.003  0.003     0.025\n",
      "         Mast Macrophage\n",
      "Min.    0.009      0.121\n",
      "1st Qu. 0.009      0.121\n",
      "Median  0.009      0.121\n",
      "Mean    0.009      0.121\n",
      "3rd Qu. 0.009      0.121\n",
      "Max.    0.009      0.121\n",
      "[1] \"pooling information across samples\"\n",
      "Start optimization... This may take a while \n"
     ]
    },
    {
     "name": "stderr",
     "output_type": "stream",
     "text": [
      "snowfall 1.84-6.2 initialized (using snow 0.4-4): parallel execution on 10 CPUs.\n",
      "\n",
      "\n",
      "Stopping cluster\n",
      "\n",
      "Warning messages:\n",
      "1: In searchCommandline(parallel, cpus = cpus, type = type, socketHosts = socketHosts,  :\n",
      "  Unknown option on commandline: --file\n",
      "2: In searchCommandline(parallel, cpus = cpus, type = type, socketHosts = socketHosts,  :\n",
      "  Unknown option on commandline: --file\n",
      "3: In searchCommandline(parallel, cpus = cpus, type = type, socketHosts = socketHosts,  :\n",
      "  Unknown option on commandline: --file\n"
     ]
    },
    {
     "name": "stdout",
     "output_type": "stream",
     "text": [
      "        tumor Fibroblast B cell myocyte other Endothelial T cell Dendritic\n",
      "Min.    0.453      0.423  0.002   0.001  0.01       0.003  0.006     0.022\n",
      "1st Qu. 0.453      0.423  0.002   0.001  0.01       0.003  0.006     0.022\n",
      "Median  0.453      0.423  0.002   0.001  0.01       0.003  0.006     0.022\n",
      "Mean    0.453      0.423  0.002   0.001  0.01       0.003  0.006     0.022\n",
      "3rd Qu. 0.453      0.423  0.002   0.001  0.01       0.003  0.006     0.022\n",
      "Max.    0.453      0.423  0.002   0.001  0.01       0.003  0.006     0.022\n",
      "         Mast Macrophage\n",
      "Min.    0.003      0.078\n",
      "1st Qu. 0.003      0.078\n",
      "Median  0.003      0.078\n",
      "Mean    0.003      0.078\n",
      "3rd Qu. 0.003      0.078\n",
      "Max.    0.003      0.078\n",
      "[1] \"only one mixture sample. vst transformation is NOT feasible\"\n"
     ]
    },
    {
     "name": "stderr",
     "output_type": "stream",
     "text": [
      "\n",
      "Stopping cluster\n",
      "\n"
     ]
    },
    {
     "name": "stdout",
     "output_type": "stream",
     "text": [
      "[1] \"run final sampling\"\n",
      "Start run... This may take a while \n"
     ]
    },
    {
     "name": "stderr",
     "output_type": "stream",
     "text": [
      "snowfall 1.84-6.2 initialized (using snow 0.4-4): parallel execution on 10 CPUs.\n",
      "\n",
      "Read 876 items\n"
     ]
    },
    {
     "name": "stdout",
     "output_type": "stream",
     "text": [
      "[1] \"Gene symbols detected. Cleaning up genes based on gene symbols. Recommend to use EMSEMBLE IDs for more unique mapping.\"\n",
      "A total of  33  genes from RB chrM chrX chrY  have been excluded \n",
      "A total of  0  lowly expressed genes have been excluded \n",
      "[1] \"removing non-numeric genes...\"\n",
      "[1] \"removing outlier genes...\"\n",
      "Number of outlier genes filtered= 4 \n",
      "[1] \"aligning reference and mixture...\"\n",
      "[1] \"run first sampling\"\n",
      "Start run... This may take a while \n"
     ]
    },
    {
     "name": "stderr",
     "output_type": "stream",
     "text": [
      "\n",
      "Stopping cluster\n",
      "\n",
      "Warning messages:\n",
      "1: In searchCommandline(parallel, cpus = cpus, type = type, socketHosts = socketHosts,  :\n",
      "  Unknown option on commandline: --file\n",
      "2: In searchCommandline(parallel, cpus = cpus, type = type, socketHosts = socketHosts,  :\n",
      "  Unknown option on commandline: --file\n",
      "3: In searchCommandline(parallel, cpus = cpus, type = type, socketHosts = socketHosts,  :\n",
      "  Unknown option on commandline: --file\n"
     ]
    },
    {
     "name": "stdout",
     "output_type": "stream",
     "text": [
      "        tumor Fibroblast B cell myocyte other Endothelial T cell Dendritic\n",
      "Min.    0.489      0.342  0.002   0.002 0.005       0.002  0.003     0.025\n",
      "1st Qu. 0.489      0.342  0.002   0.002 0.005       0.002  0.003     0.025\n",
      "Median  0.489      0.342  0.002   0.002 0.005       0.002  0.003     0.025\n",
      "Mean    0.489      0.342  0.002   0.002 0.005       0.002  0.003     0.025\n",
      "3rd Qu. 0.489      0.342  0.002   0.002 0.005       0.002  0.003     0.025\n",
      "Max.    0.489      0.342  0.002   0.002 0.005       0.002  0.003     0.025\n",
      "         Mast Macrophage\n",
      "Min.    0.009      0.121\n",
      "1st Qu. 0.009      0.121\n",
      "Median  0.009      0.121\n",
      "Mean    0.009      0.121\n",
      "3rd Qu. 0.009      0.121\n",
      "Max.    0.009      0.121\n",
      "[1] \"only one mixture sample. vst transformation is NOT feasible\"\n",
      "R Version:  R version 4.1.3 (2022-03-10) \n",
      "\n"
     ]
    },
    {
     "name": "stderr",
     "output_type": "stream",
     "text": [
      "snowfall 1.84-6.2 initialized (using snow 0.4-4): parallel execution on 10 CPUs.\n",
      "\n",
      "\n",
      "Stopping cluster\n",
      "\n"
     ]
    },
    {
     "name": "stdout",
     "output_type": "stream",
     "text": [
      "[1] \"merge subtypes\"\n",
      "        Fibroblast tumor B cell myocyte other Endothelial T cell Dendritic\n",
      "Min.         0.452 0.406  0.003   0.001 0.012       0.005  0.007     0.026\n",
      "1st Qu.      0.452 0.406  0.003   0.001 0.012       0.005  0.007     0.026\n",
      "Median       0.452 0.406  0.003   0.001 0.012       0.005  0.007     0.026\n",
      "Mean         0.452 0.406  0.003   0.001 0.012       0.005  0.007     0.026\n",
      "3rd Qu.      0.452 0.406  0.003   0.001 0.012       0.005  0.007     0.026\n",
      "Max.         0.452 0.406  0.003   0.001 0.012       0.005  0.007     0.026\n",
      "         Mast Macrophage\n",
      "Min.    0.003      0.087\n",
      "1st Qu. 0.003      0.087\n",
      "Median  0.003      0.087\n",
      "Mean    0.003      0.087\n",
      "3rd Qu. 0.003      0.087\n",
      "Max.    0.003      0.087\n",
      "[1] \"pooling information across samples\"\n",
      "Start optimization... This may take a while \n"
     ]
    },
    {
     "name": "stderr",
     "output_type": "stream",
     "text": [
      "Read 467 items\n",
      "snowfall 1.84-6.2 initialized (using snow 0.4-4): parallel execution on 10 CPUs.\n",
      "\n"
     ]
    },
    {
     "name": "stdout",
     "output_type": "stream",
     "text": [
      "[1] \"Gene symbols detected. Cleaning up genes based on gene symbols. Recommend to use EMSEMBLE IDs for more unique mapping.\"\n",
      "A total of  20  genes from RB chrM chrX chrY  have been excluded \n",
      "A total of  11  lowly expressed genes have been excluded \n",
      "[1] \"removing non-numeric genes...\"\n",
      "[1] \"removing outlier genes...\"\n",
      "Number of outlier genes filtered= 4 \n",
      "[1] \"aligning reference and mixture...\"\n",
      "[1] \"run first sampling\"\n",
      "Start run... This may take a while \n",
      "R Version:  R version 4.1.3 (2022-03-10) \n",
      "\n"
     ]
    },
    {
     "name": "stderr",
     "output_type": "stream",
     "text": [
      "snowfall 1.84-6.2 initialized (using snow 0.4-4): parallel execution on 10 CPUs.\n",
      "\n",
      "\n",
      "Stopping cluster\n",
      "\n"
     ]
    },
    {
     "name": "stdout",
     "output_type": "stream",
     "text": [
      "[1] \"run final sampling\"\n",
      "Start run... This may take a while \n"
     ]
    },
    {
     "name": "stderr",
     "output_type": "stream",
     "text": [
      "\n",
      "Stopping cluster\n",
      "\n"
     ]
    },
    {
     "name": "stdout",
     "output_type": "stream",
     "text": [
      "[1] \"merge subtypes\"\n",
      "        Fibroblast tumor B cell myocyte other Endothelial T cell Dendritic\n",
      "Min.         0.408 0.435  0.002   0.001 0.014       0.004  0.004     0.026\n",
      "1st Qu.      0.408 0.435  0.002   0.001 0.014       0.004  0.004     0.026\n",
      "Median       0.408 0.435  0.002   0.001 0.014       0.004  0.004     0.026\n",
      "Mean         0.408 0.435  0.002   0.001 0.014       0.004  0.004     0.026\n",
      "3rd Qu.      0.408 0.435  0.002   0.001 0.014       0.004  0.004     0.026\n",
      "Max.         0.408 0.435  0.002   0.001 0.014       0.004  0.004     0.026\n",
      "         Mast Macrophage\n",
      "Min.    0.004      0.102\n",
      "1st Qu. 0.004      0.102\n",
      "Median  0.004      0.102\n",
      "Mean    0.004      0.102\n",
      "3rd Qu. 0.004      0.102\n",
      "Max.    0.004      0.102\n",
      "[1] \"pooling information across samples\"\n",
      "Start optimization... This may take a while \n"
     ]
    },
    {
     "name": "stderr",
     "output_type": "stream",
     "text": [
      "snowfall 1.84-6.2 initialized (using snow 0.4-4): parallel execution on 10 CPUs.\n",
      "\n",
      "snowfall 1.84-6.2 initialized (using snow 0.4-4): parallel execution on 10 CPUs.\n",
      "\n",
      "\n",
      "Stopping cluster\n",
      "\n",
      "Warning messages:\n",
      "1: In searchCommandline(parallel, cpus = cpus, type = type, socketHosts = socketHosts,  :\n",
      "  Unknown option on commandline: --file\n",
      "2: In searchCommandline(parallel, cpus = cpus, type = type, socketHosts = socketHosts,  :\n",
      "  Unknown option on commandline: --file\n",
      "3: In searchCommandline(parallel, cpus = cpus, type = type, socketHosts = socketHosts,  :\n",
      "  Unknown option on commandline: --file\n"
     ]
    },
    {
     "name": "stdout",
     "output_type": "stream",
     "text": [
      "        tumor Fibroblast B cell myocyte other Endothelial T cell Dendritic\n",
      "Min.    0.406      0.452  0.003   0.001 0.012       0.005  0.007     0.026\n",
      "1st Qu. 0.406      0.452  0.003   0.001 0.012       0.005  0.007     0.026\n",
      "Median  0.406      0.452  0.003   0.001 0.012       0.005  0.007     0.026\n",
      "Mean    0.406      0.452  0.003   0.001 0.012       0.005  0.007     0.026\n",
      "3rd Qu. 0.406      0.452  0.003   0.001 0.012       0.005  0.007     0.026\n",
      "Max.    0.406      0.452  0.003   0.001 0.012       0.005  0.007     0.026\n",
      "         Mast Macrophage\n",
      "Min.    0.003      0.087\n",
      "1st Qu. 0.003      0.087\n",
      "Median  0.003      0.087\n",
      "Mean    0.003      0.087\n",
      "3rd Qu. 0.003      0.087\n",
      "Max.    0.003      0.087\n",
      "[1] \"only one mixture sample. vst transformation is NOT feasible\"\n"
     ]
    },
    {
     "name": "stderr",
     "output_type": "stream",
     "text": [
      "\n",
      "Stopping cluster\n",
      "\n"
     ]
    },
    {
     "name": "stdout",
     "output_type": "stream",
     "text": [
      "[1] \"run final sampling\"\n",
      "Start run... This may take a while \n"
     ]
    },
    {
     "name": "stderr",
     "output_type": "stream",
     "text": [
      "snowfall 1.84-6.2 initialized (using snow 0.4-4): parallel execution on 10 CPUs.\n",
      "\n",
      "\n",
      "Stopping cluster\n",
      "\n",
      "Warning messages:\n",
      "1: In searchCommandline(parallel, cpus = cpus, type = type, socketHosts = socketHosts,  :\n",
      "  Unknown option on commandline: --file\n",
      "2: In searchCommandline(parallel, cpus = cpus, type = type, socketHosts = socketHosts,  :\n",
      "  Unknown option on commandline: --file\n",
      "3: In searchCommandline(parallel, cpus = cpus, type = type, socketHosts = socketHosts,  :\n",
      "  Unknown option on commandline: --file\n"
     ]
    },
    {
     "name": "stdout",
     "output_type": "stream",
     "text": [
      "        tumor Fibroblast B cell myocyte other Endothelial T cell Dendritic\n",
      "Min.    0.435      0.408  0.002   0.001 0.014       0.004  0.004     0.026\n",
      "1st Qu. 0.435      0.408  0.002   0.001 0.014       0.004  0.004     0.026\n",
      "Median  0.435      0.408  0.002   0.001 0.014       0.004  0.004     0.026\n",
      "Mean    0.435      0.408  0.002   0.001 0.014       0.004  0.004     0.026\n",
      "3rd Qu. 0.435      0.408  0.002   0.001 0.014       0.004  0.004     0.026\n",
      "Max.    0.435      0.408  0.002   0.001 0.014       0.004  0.004     0.026\n",
      "         Mast Macrophage\n",
      "Min.    0.004      0.102\n",
      "1st Qu. 0.004      0.102\n",
      "Median  0.004      0.102\n",
      "Mean    0.004      0.102\n",
      "3rd Qu. 0.004      0.102\n",
      "Max.    0.004      0.102\n",
      "[1] \"only one mixture sample. vst transformation is NOT feasible\"\n"
     ]
    },
    {
     "name": "stderr",
     "output_type": "stream",
     "text": [
      "\n",
      "  0%|                                                                                                   | 0/5 [00:00<?, ?it/s]\u001b[A\n",
      " 20%|██████████████████▏                                                                        | 1/5 [00:30<02:00, 30.05s/it]\u001b[A"
     ]
    },
    {
     "name": "stdout",
     "output_type": "stream",
     "text": [
      "2022-07-28 19:15:14\n",
      "pseudobulk mode: now with feature selection setup: \r",
      " top50DEGs\n",
      "now running in cmd: \r",
      " Rscript /home/cke/runscripts/runBP.r /home/cke/PseudoBulk/InputToWrapper/pseudobulk_LOT28_scRNAtrain.tsv /home/cke/PseudoBulk/InputToWrapper/pseudobulk_LOT28_test.tsv /home/cke/Puram/scRNAlabels/ /home/cke/Puram/markers/top50DEGs_pseudobulk.txt fullpipeline_pseudobulk_Jul28_LOT_pseudobulk_top50DEGs_28LOT /home/cke/PseudoBulk/Results/BayesPrism/ /home/cke/PseudoBulk/Results/ &\n"
     ]
    },
    {
     "name": "stderr",
     "output_type": "stream",
     "text": [
      "Warning message:\n",
      "replacing previous import ‘gplots::lowess’ by ‘stats::lowess’ when loading ‘TED’ \n"
     ]
    },
    {
     "name": "stdout",
     "output_type": "stream",
     "text": [
      "[1] \"running BayesPrism with following args:\"\n",
      "[1] \"/home/cke/PseudoBulk/InputToWrapper/pseudobulk_LOT28_scRNAtrain.tsv\"\n",
      "[2] \"/home/cke/PseudoBulk/InputToWrapper/pseudobulk_LOT28_test.tsv\"      \n",
      "[3] \"/home/cke/Puram/scRNAlabels/\"                                       \n",
      "[4] \"/home/cke/Puram/markers/top50DEGs_pseudobulk.txt\"                   \n",
      "[5] \"fullpipeline_pseudobulk_Jul28_LOT_pseudobulk_top50DEGs_28LOT\"       \n",
      "[6] \"/home/cke/PseudoBulk/Results/BayesPrism/\"                           \n",
      "[7] \"/home/cke/PseudoBulk/Results/\"                                      \n",
      "[8] \"/home/cke/Puram/scRNAlabels/\"                                       \n"
     ]
    },
    {
     "name": "stderr",
     "output_type": "stream",
     "text": [
      "\n",
      " 40%|████████████████████████████████████▍                                                      | 2/5 [01:00<01:30, 30.05s/it]\u001b[A"
     ]
    },
    {
     "name": "stdout",
     "output_type": "stream",
     "text": [
      "2022-07-28 19:15:44\n",
      "pseudobulk mode: now with feature selection setup: \r",
      " top100markers\n",
      "now running in cmd: \r",
      " Rscript /home/cke/runscripts/runBP.r /home/cke/PseudoBulk/InputToWrapper/pseudobulk_LOT28_scRNAtrain.tsv /home/cke/PseudoBulk/InputToWrapper/pseudobulk_LOT28_test.tsv /home/cke/Puram/scRNAlabels/ /home/cke/Puram/markers/top100markers_de_cor_symbol.txt fullpipeline_pseudobulk_Jul28_LOT_pseudobulk_top100markers_28LOT /home/cke/PseudoBulk/Results/BayesPrism/ /home/cke/PseudoBulk/Results/ &\n"
     ]
    },
    {
     "name": "stderr",
     "output_type": "stream",
     "text": [
      "Warning message:\n",
      "replacing previous import ‘gplots::lowess’ by ‘stats::lowess’ when loading ‘TED’ \n"
     ]
    },
    {
     "name": "stdout",
     "output_type": "stream",
     "text": [
      "[1] \"running BayesPrism with following args:\"\n",
      "[1] \"/home/cke/PseudoBulk/InputToWrapper/pseudobulk_LOT28_scRNAtrain.tsv\"\n",
      "[2] \"/home/cke/PseudoBulk/InputToWrapper/pseudobulk_LOT28_test.tsv\"      \n",
      "[3] \"/home/cke/Puram/scRNAlabels/\"                                       \n",
      "[4] \"/home/cke/Puram/markers/top100markers_de_cor_symbol.txt\"            \n",
      "[5] \"fullpipeline_pseudobulk_Jul28_LOT_pseudobulk_top100markers_28LOT\"   \n",
      "[6] \"/home/cke/PseudoBulk/Results/BayesPrism/\"                           \n",
      "[7] \"/home/cke/PseudoBulk/Results/\"                                      \n",
      "[8] \"/home/cke/Puram/scRNAlabels/\"                                       \n"
     ]
    },
    {
     "name": "stderr",
     "output_type": "stream",
     "text": [
      "Read 458 items\n"
     ]
    },
    {
     "name": "stdout",
     "output_type": "stream",
     "text": [
      "[1] \"Gene symbols detected. Cleaning up genes based on gene symbols. Recommend to use EMSEMBLE IDs for more unique mapping.\"\n",
      "A total of  18  genes from RB chrM chrX chrY  have been excluded \n",
      "A total of  0  lowly expressed genes have been excluded \n",
      "[1] \"removing non-numeric genes...\"\n",
      "[1] \"removing outlier genes...\"\n",
      "Number of outlier genes filtered= 3 \n",
      "[1] \"aligning reference and mixture...\"\n",
      "[1] \"run first sampling\"\n",
      "Start run... This may take a while \n",
      "R Version:  R version 4.1.3 (2022-03-10) \n",
      "\n"
     ]
    },
    {
     "name": "stderr",
     "output_type": "stream",
     "text": [
      "snowfall 1.84-6.2 initialized (using snow 0.4-4): parallel execution on 10 CPUs.\n",
      "\n",
      "\n",
      " 60%|██████████████████████████████████████████████████████▌                                    | 3/5 [01:30<01:00, 30.04s/it]\u001b[A"
     ]
    },
    {
     "name": "stdout",
     "output_type": "stream",
     "text": [
      "2022-07-28 19:16:14\n",
      "pseudobulk mode: now with feature selection setup: \r",
      " top20markers\n",
      "now running in cmd: \r",
      " Rscript /home/cke/runscripts/runBP.r /home/cke/PseudoBulk/InputToWrapper/pseudobulk_LOT28_scRNAtrain.tsv /home/cke/PseudoBulk/InputToWrapper/pseudobulk_LOT28_test.tsv /home/cke/Puram/scRNAlabels/ /home/cke/Puram/markers/top20markers_de_cor_symbol.txt fullpipeline_pseudobulk_Jul28_LOT_pseudobulk_top20markers_28LOT /home/cke/PseudoBulk/Results/BayesPrism/ /home/cke/PseudoBulk/Results/ &\n"
     ]
    },
    {
     "name": "stderr",
     "output_type": "stream",
     "text": [
      "\n",
      "Stopping cluster\n",
      "\n"
     ]
    },
    {
     "name": "stdout",
     "output_type": "stream",
     "text": [
      "[1] \"merge subtypes\"\n",
      "        tumor Fibroblast B cell myocyte other Macrophage T cell Dendritic  Mast\n",
      "Min.     0.27      0.585  0.067   0.037     0      0.013      0         0 0.005\n",
      "1st Qu.  0.27      0.585  0.067   0.037     0      0.013      0         0 0.005\n",
      "Median   0.27      0.585  0.067   0.037     0      0.013      0         0 0.005\n",
      "Mean     0.27      0.585  0.067   0.037     0      0.013      0         0 0.005\n",
      "3rd Qu.  0.27      0.585  0.067   0.037     0      0.013      0         0 0.005\n",
      "Max.     0.27      0.585  0.067   0.037     0      0.013      0         0 0.005\n",
      "        Endothelial\n",
      "Min.          0.024\n",
      "1st Qu.       0.024\n",
      "Median        0.024\n",
      "Mean          0.024\n",
      "3rd Qu.       0.024\n",
      "Max.          0.024\n",
      "[1] \"pooling information across samples\"\n",
      "Start optimization... This may take a while \n"
     ]
    },
    {
     "name": "stderr",
     "output_type": "stream",
     "text": [
      "snowfall 1.84-6.2 initialized (using snow 0.4-4): parallel execution on 10 CPUs.\n",
      "\n",
      "Warning message:\n",
      "replacing previous import ‘gplots::lowess’ by ‘stats::lowess’ when loading ‘TED’ \n"
     ]
    },
    {
     "name": "stdout",
     "output_type": "stream",
     "text": [
      "[1] \"running BayesPrism with following args:\"\n",
      "[1] \"/home/cke/PseudoBulk/InputToWrapper/pseudobulk_LOT28_scRNAtrain.tsv\"\n",
      "[2] \"/home/cke/PseudoBulk/InputToWrapper/pseudobulk_LOT28_test.tsv\"      \n",
      "[3] \"/home/cke/Puram/scRNAlabels/\"                                       \n",
      "[4] \"/home/cke/Puram/markers/top20markers_de_cor_symbol.txt\"             \n",
      "[5] \"fullpipeline_pseudobulk_Jul28_LOT_pseudobulk_top20markers_28LOT\"    \n",
      "[6] \"/home/cke/PseudoBulk/Results/BayesPrism/\"                           \n",
      "[7] \"/home/cke/PseudoBulk/Results/\"                                      \n",
      "[8] \"/home/cke/Puram/scRNAlabels/\"                                       \n"
     ]
    },
    {
     "name": "stderr",
     "output_type": "stream",
     "text": [
      "Read 898 items\n"
     ]
    },
    {
     "name": "stdout",
     "output_type": "stream",
     "text": [
      "[1] \"Gene symbols detected. Cleaning up genes based on gene symbols. Recommend to use EMSEMBLE IDs for more unique mapping.\"\n",
      "A total of  40  genes from RB chrM chrX chrY  have been excluded \n",
      "A total of  16  lowly expressed genes have been excluded \n"
     ]
    },
    {
     "name": "stderr",
     "output_type": "stream",
     "text": [
      "\n",
      "Stopping cluster\n",
      "\n"
     ]
    },
    {
     "name": "stdout",
     "output_type": "stream",
     "text": [
      "[1] \"run final sampling\"\n",
      "Start run... This may take a while \n",
      "[1] \"removing non-numeric genes...\"\n",
      "[1] \"removing outlier genes...\"\n",
      "Number of outlier genes filtered= 3 \n",
      "[1] \"aligning reference and mixture...\"\n",
      "[1] \"run first sampling\"\n",
      "Start run... This may take a while \n"
     ]
    },
    {
     "name": "stderr",
     "output_type": "stream",
     "text": [
      "snowfall 1.84-6.2 initialized (using snow 0.4-4): parallel execution on 10 CPUs.\n",
      "\n"
     ]
    },
    {
     "name": "stdout",
     "output_type": "stream",
     "text": [
      "R Version:  R version 4.1.3 (2022-03-10) \n",
      "\n"
     ]
    },
    {
     "name": "stderr",
     "output_type": "stream",
     "text": [
      "snowfall 1.84-6.2 initialized (using snow 0.4-4): parallel execution on 10 CPUs.\n",
      "\n",
      "\n",
      " 80%|████████████████████████████████████████████████████████████████████████▊                  | 4/5 [02:00<00:30, 30.05s/it]\u001b[A"
     ]
    },
    {
     "name": "stdout",
     "output_type": "stream",
     "text": [
      "2022-07-28 19:16:44\n",
      "pseudobulk mode: now with feature selection setup: \r",
      " top100DEGs\n",
      "now running in cmd: \r",
      " Rscript /home/cke/runscripts/runBP.r /home/cke/PseudoBulk/InputToWrapper/pseudobulk_LOT28_scRNAtrain.tsv /home/cke/PseudoBulk/InputToWrapper/pseudobulk_LOT28_test.tsv /home/cke/Puram/scRNAlabels/ /home/cke/Puram/markers/top100DEGs_pseudobulk.txt fullpipeline_pseudobulk_Jul28_LOT_pseudobulk_top100DEGs_28LOT /home/cke/PseudoBulk/Results/BayesPrism/ /home/cke/PseudoBulk/Results/ &\n"
     ]
    },
    {
     "name": "stderr",
     "output_type": "stream",
     "text": [
      "\n",
      "Stopping cluster\n",
      "\n",
      "Warning messages:\n",
      "1: In searchCommandline(parallel, cpus = cpus, type = type, socketHosts = socketHosts,  :\n",
      "  Unknown option on commandline: --file\n",
      "2: In searchCommandline(parallel, cpus = cpus, type = type, socketHosts = socketHosts,  :\n",
      "  Unknown option on commandline: --file\n",
      "3: In searchCommandline(parallel, cpus = cpus, type = type, socketHosts = socketHosts,  :\n",
      "  Unknown option on commandline: --file\n"
     ]
    },
    {
     "name": "stdout",
     "output_type": "stream",
     "text": [
      "        tumor Fibroblast B cell myocyte other Macrophage T cell Dendritic  Mast\n",
      "Min.     0.27      0.585  0.067   0.037     0      0.013      0         0 0.005\n",
      "1st Qu.  0.27      0.585  0.067   0.037     0      0.013      0         0 0.005\n",
      "Median   0.27      0.585  0.067   0.037     0      0.013      0         0 0.005\n",
      "Mean     0.27      0.585  0.067   0.037     0      0.013      0         0 0.005\n",
      "3rd Qu.  0.27      0.585  0.067   0.037     0      0.013      0         0 0.005\n",
      "Max.     0.27      0.585  0.067   0.037     0      0.013      0         0 0.005\n",
      "        Endothelial\n",
      "Min.          0.024\n",
      "1st Qu.       0.024\n",
      "Median        0.024\n",
      "Mean          0.024\n",
      "3rd Qu.       0.024\n",
      "Max.          0.024\n",
      "[1] \"only one mixture sample. vst transformation is NOT feasible\"\n"
     ]
    },
    {
     "name": "stderr",
     "output_type": "stream",
     "text": [
      "Warning message:\n",
      "replacing previous import ‘gplots::lowess’ by ‘stats::lowess’ when loading ‘TED’ \n"
     ]
    },
    {
     "name": "stdout",
     "output_type": "stream",
     "text": [
      "[1] \"running BayesPrism with following args:\"\n",
      "[1] \"/home/cke/PseudoBulk/InputToWrapper/pseudobulk_LOT28_scRNAtrain.tsv\"\n",
      "[2] \"/home/cke/PseudoBulk/InputToWrapper/pseudobulk_LOT28_test.tsv\"      \n",
      "[3] \"/home/cke/Puram/scRNAlabels/\"                                       \n",
      "[4] \"/home/cke/Puram/markers/top100DEGs_pseudobulk.txt\"                  \n",
      "[5] \"fullpipeline_pseudobulk_Jul28_LOT_pseudobulk_top100DEGs_28LOT\"      \n",
      "[6] \"/home/cke/PseudoBulk/Results/BayesPrism/\"                           \n",
      "[7] \"/home/cke/PseudoBulk/Results/\"                                      \n",
      "[8] \"/home/cke/Puram/scRNAlabels/\"                                       \n"
     ]
    },
    {
     "name": "stderr",
     "output_type": "stream",
     "text": [
      "\n",
      "Stopping cluster\n",
      "\n"
     ]
    },
    {
     "name": "stdout",
     "output_type": "stream",
     "text": [
      "[1] \"merge subtypes\"\n",
      "        tumor Fibroblast B cell myocyte other Macrophage T cell Dendritic  Mast\n",
      "Min.    0.274      0.583  0.069   0.033     0      0.012  0.001         0 0.004\n",
      "1st Qu. 0.274      0.583  0.069   0.033     0      0.012  0.001         0 0.004\n",
      "Median  0.274      0.583  0.069   0.033     0      0.012  0.001         0 0.004\n",
      "Mean    0.274      0.583  0.069   0.033     0      0.012  0.001         0 0.004\n",
      "3rd Qu. 0.274      0.583  0.069   0.033     0      0.012  0.001         0 0.004\n",
      "Max.    0.274      0.583  0.069   0.033     0      0.012  0.001         0 0.004\n",
      "        Endothelial\n",
      "Min.          0.024\n",
      "1st Qu.       0.024\n",
      "Median        0.024\n",
      "Mean          0.024\n",
      "3rd Qu.       0.024\n",
      "Max.          0.024\n",
      "[1] \"pooling information across samples\"\n",
      "Start optimization... This may take a while \n"
     ]
    },
    {
     "name": "stderr",
     "output_type": "stream",
     "text": [
      "snowfall 1.84-6.2 initialized (using snow 0.4-4): parallel execution on 10 CPUs.\n",
      "\n",
      "Read 198 items\n"
     ]
    },
    {
     "name": "stdout",
     "output_type": "stream",
     "text": [
      "[1] \"Gene symbols detected. Cleaning up genes based on gene symbols. Recommend to use EMSEMBLE IDs for more unique mapping.\"\n",
      "A total of  8  genes from RB chrM chrX chrY  have been excluded \n",
      "A total of  4  lowly expressed genes have been excluded \n",
      "[1] \"removing non-numeric genes...\"\n",
      "[1] \"removing outlier genes...\"\n",
      "Number of outlier genes filtered= 3 \n",
      "[1] \"aligning reference and mixture...\"\n"
     ]
    },
    {
     "name": "stderr",
     "output_type": "stream",
     "text": [
      "\n",
      "100%|███████████████████████████████████████████████████████████████████████████████████████████| 5/5 [02:30<00:00, 30.05s/it]\u001b[A\n",
      "100%|█████████████████████████████████████████████████████████████████████████████████████████████████| 9/9 [40:32<00:00, 270.32s/it]"
     ]
    },
    {
     "name": "stdout",
     "output_type": "stream",
     "text": [
      "2022-07-28 19:17:14\n",
      "pseudobulk mode: now with feature selection setup: \r",
      " top50markers\n",
      "now running in cmd: \r",
      " Rscript /home/cke/runscripts/runBP.r /home/cke/PseudoBulk/InputToWrapper/pseudobulk_LOT28_scRNAtrain.tsv /home/cke/PseudoBulk/InputToWrapper/pseudobulk_LOT28_test.tsv /home/cke/Puram/scRNAlabels/ /home/cke/Puram/markers/top50markers_de_cor_symbol.txt fullpipeline_pseudobulk_Jul28_LOT_pseudobulk_top50markers_28LOT /home/cke/PseudoBulk/Results/BayesPrism/ /home/cke/PseudoBulk/Results/ &\n"
     ]
    },
    {
     "name": "stderr",
     "output_type": "stream",
     "text": [
      "\n"
     ]
    },
    {
     "name": "stdout",
     "output_type": "stream",
     "text": [
      "[1] \"run first sampling\"\n",
      "Start run... This may take a while \n",
      "R Version:  R version 4.1.3 (2022-03-10) \n",
      "\n"
     ]
    },
    {
     "name": "stderr",
     "output_type": "stream",
     "text": [
      "snowfall 1.84-6.2 initialized (using snow 0.4-4): parallel execution on 10 CPUs.\n",
      "\n",
      "Warning message:\n",
      "replacing previous import ‘gplots::lowess’ by ‘stats::lowess’ when loading ‘TED’ \n"
     ]
    },
    {
     "name": "stdout",
     "output_type": "stream",
     "text": [
      "[1] \"running BayesPrism with following args:\"\n",
      "[1] \"/home/cke/PseudoBulk/InputToWrapper/pseudobulk_LOT28_scRNAtrain.tsv\"\n",
      "[2] \"/home/cke/PseudoBulk/InputToWrapper/pseudobulk_LOT28_test.tsv\"      \n",
      "[3] \"/home/cke/Puram/scRNAlabels/\"                                       \n",
      "[4] \"/home/cke/Puram/markers/top50markers_de_cor_symbol.txt\"             \n",
      "[5] \"fullpipeline_pseudobulk_Jul28_LOT_pseudobulk_top50markers_28LOT\"    \n",
      "[6] \"/home/cke/PseudoBulk/Results/BayesPrism/\"                           \n",
      "[7] \"/home/cke/PseudoBulk/Results/\"                                      \n",
      "[8] \"/home/cke/Puram/scRNAlabels/\"                                       \n"
     ]
    },
    {
     "name": "stderr",
     "output_type": "stream",
     "text": [
      "\n",
      "Stopping cluster\n",
      "\n"
     ]
    },
    {
     "name": "stdout",
     "output_type": "stream",
     "text": [
      "[1] \"run final sampling\"\n",
      "Start run... This may take a while \n"
     ]
    },
    {
     "name": "stderr",
     "output_type": "stream",
     "text": [
      "\n",
      "Stopping cluster\n",
      "\n"
     ]
    },
    {
     "name": "stdout",
     "output_type": "stream",
     "text": [
      "[1] \"merge subtypes\"\n",
      "        tumor Fibroblast B cell myocyte other Macrophage T cell Dendritic  Mast\n",
      "Min.    0.233      0.539  0.138   0.046     0      0.008      0         0 0.014\n",
      "1st Qu. 0.233      0.539  0.138   0.046     0      0.008      0         0 0.014\n",
      "Median  0.233      0.539  0.138   0.046     0      0.008      0         0 0.014\n",
      "Mean    0.233      0.539  0.138   0.046     0      0.008      0         0 0.014\n",
      "3rd Qu. 0.233      0.539  0.138   0.046     0      0.008      0         0 0.014\n",
      "Max.    0.233      0.539  0.138   0.046     0      0.008      0         0 0.014\n",
      "        Endothelial\n",
      "Min.          0.023\n",
      "1st Qu.       0.023\n",
      "Median        0.023\n",
      "Mean          0.023\n",
      "3rd Qu.       0.023\n",
      "Max.          0.023\n",
      "[1] \"pooling information across samples\"\n",
      "Start optimization... This may take a while \n"
     ]
    },
    {
     "name": "stderr",
     "output_type": "stream",
     "text": [
      "snowfall 1.84-6.2 initialized (using snow 0.4-4): parallel execution on 10 CPUs.\n",
      "\n",
      "snowfall 1.84-6.2 initialized (using snow 0.4-4): parallel execution on 10 CPUs.\n",
      "\n",
      "Read 876 items\n",
      "\n",
      "Stopping cluster\n",
      "\n"
     ]
    },
    {
     "name": "stdout",
     "output_type": "stream",
     "text": [
      "[1] \"run final sampling\"\n",
      "Start run... This may take a while \n"
     ]
    },
    {
     "name": "stderr",
     "output_type": "stream",
     "text": [
      "\n",
      "Stopping cluster\n",
      "\n",
      "Warning messages:\n",
      "1: In searchCommandline(parallel, cpus = cpus, type = type, socketHosts = socketHosts,  :\n",
      "  Unknown option on commandline: --file\n",
      "2: In searchCommandline(parallel, cpus = cpus, type = type, socketHosts = socketHosts,  :\n",
      "  Unknown option on commandline: --file\n",
      "3: In searchCommandline(parallel, cpus = cpus, type = type, socketHosts = socketHosts,  :\n",
      "  Unknown option on commandline: --file\n"
     ]
    },
    {
     "name": "stdout",
     "output_type": "stream",
     "text": [
      "        tumor Fibroblast B cell myocyte other Macrophage T cell Dendritic  Mast\n",
      "Min.    0.274      0.583  0.069   0.033     0      0.012  0.001         0 0.004\n",
      "1st Qu. 0.274      0.583  0.069   0.033     0      0.012  0.001         0 0.004\n",
      "Median  0.274      0.583  0.069   0.033     0      0.012  0.001         0 0.004\n",
      "Mean    0.274      0.583  0.069   0.033     0      0.012  0.001         0 0.004\n",
      "3rd Qu. 0.274      0.583  0.069   0.033     0      0.012  0.001         0 0.004\n",
      "Max.    0.274      0.583  0.069   0.033     0      0.012  0.001         0 0.004\n",
      "        Endothelial\n",
      "Min.          0.024\n",
      "1st Qu.       0.024\n",
      "Median        0.024\n",
      "Mean          0.024\n",
      "3rd Qu.       0.024\n",
      "Max.          0.024\n",
      "[1] \"only one mixture sample. vst transformation is NOT feasible\"\n",
      "[1] \"Gene symbols detected. Cleaning up genes based on gene symbols. Recommend to use EMSEMBLE IDs for more unique mapping.\"\n",
      "A total of  33  genes from RB chrM chrX chrY  have been excluded \n",
      "A total of  0  lowly expressed genes have been excluded \n",
      "[1] \"removing non-numeric genes...\"\n",
      "[1] \"removing outlier genes...\"\n",
      "Number of outlier genes filtered= 3 \n",
      "[1] \"aligning reference and mixture...\"\n",
      "[1] \"run first sampling\"\n",
      "Start run... This may take a while \n"
     ]
    },
    {
     "name": "stderr",
     "output_type": "stream",
     "text": [
      "snowfall 1.84-6.2 initialized (using snow 0.4-4): parallel execution on 10 CPUs.\n",
      "\n"
     ]
    },
    {
     "name": "stdout",
     "output_type": "stream",
     "text": [
      "R Version:  R version 4.1.3 (2022-03-10) \n",
      "\n"
     ]
    },
    {
     "name": "stderr",
     "output_type": "stream",
     "text": [
      "snowfall 1.84-6.2 initialized (using snow 0.4-4): parallel execution on 10 CPUs.\n",
      "\n",
      "\n",
      "Stopping cluster\n",
      "\n",
      "Warning messages:\n",
      "1: In searchCommandline(parallel, cpus = cpus, type = type, socketHosts = socketHosts,  :\n",
      "  Unknown option on commandline: --file\n",
      "2: In searchCommandline(parallel, cpus = cpus, type = type, socketHosts = socketHosts,  :\n",
      "  Unknown option on commandline: --file\n",
      "3: In searchCommandline(parallel, cpus = cpus, type = type, socketHosts = socketHosts,  :\n",
      "  Unknown option on commandline: --file\n"
     ]
    },
    {
     "name": "stdout",
     "output_type": "stream",
     "text": [
      "        tumor Fibroblast B cell myocyte other Macrophage T cell Dendritic  Mast\n",
      "Min.    0.233      0.539  0.138   0.046     0      0.008      0         0 0.014\n",
      "1st Qu. 0.233      0.539  0.138   0.046     0      0.008      0         0 0.014\n",
      "Median  0.233      0.539  0.138   0.046     0      0.008      0         0 0.014\n",
      "Mean    0.233      0.539  0.138   0.046     0      0.008      0         0 0.014\n",
      "3rd Qu. 0.233      0.539  0.138   0.046     0      0.008      0         0 0.014\n",
      "Max.    0.233      0.539  0.138   0.046     0      0.008      0         0 0.014\n",
      "        Endothelial\n",
      "Min.          0.023\n",
      "1st Qu.       0.023\n",
      "Median        0.023\n",
      "Mean          0.023\n",
      "3rd Qu.       0.023\n",
      "Max.          0.023\n",
      "[1] \"only one mixture sample. vst transformation is NOT feasible\"\n"
     ]
    },
    {
     "name": "stderr",
     "output_type": "stream",
     "text": [
      "\n",
      "Stopping cluster\n",
      "\n"
     ]
    },
    {
     "name": "stdout",
     "output_type": "stream",
     "text": [
      "[1] \"merge subtypes\"\n",
      "        tumor Fibroblast B cell myocyte other Macrophage T cell Dendritic  Mast\n",
      "Min.    0.247      0.625  0.056   0.033     0      0.009      0         0 0.004\n",
      "1st Qu. 0.247      0.625  0.056   0.033     0      0.009      0         0 0.004\n",
      "Median  0.247      0.625  0.056   0.033     0      0.009      0         0 0.004\n",
      "Mean    0.247      0.625  0.056   0.033     0      0.009      0         0 0.004\n",
      "3rd Qu. 0.247      0.625  0.056   0.033     0      0.009      0         0 0.004\n",
      "Max.    0.247      0.625  0.056   0.033     0      0.009      0         0 0.004\n",
      "        Endothelial\n",
      "Min.          0.027\n",
      "1st Qu.       0.027\n",
      "Median        0.027\n",
      "Mean          0.027\n",
      "3rd Qu.       0.027\n",
      "Max.          0.027\n",
      "[1] \"pooling information across samples\"\n",
      "Start optimization... This may take a while \n"
     ]
    },
    {
     "name": "stderr",
     "output_type": "stream",
     "text": [
      "snowfall 1.84-6.2 initialized (using snow 0.4-4): parallel execution on 10 CPUs.\n",
      "\n",
      "Read 467 items\n"
     ]
    },
    {
     "name": "stdout",
     "output_type": "stream",
     "text": [
      "[1] \"Gene symbols detected. Cleaning up genes based on gene symbols. Recommend to use EMSEMBLE IDs for more unique mapping.\"\n",
      "A total of  20  genes from RB chrM chrX chrY  have been excluded \n",
      "A total of  9  lowly expressed genes have been excluded \n",
      "[1] \"removing non-numeric genes...\"\n",
      "[1] \"removing outlier genes...\"\n",
      "Number of outlier genes filtered= 3 \n",
      "[1] \"aligning reference and mixture...\"\n",
      "[1] \"run first sampling\"\n",
      "Start run... This may take a while \n",
      "R Version:  R version 4.1.3 (2022-03-10) \n",
      "\n"
     ]
    },
    {
     "name": "stderr",
     "output_type": "stream",
     "text": [
      "snowfall 1.84-6.2 initialized (using snow 0.4-4): parallel execution on 10 CPUs.\n",
      "\n",
      "\n",
      "Stopping cluster\n",
      "\n"
     ]
    },
    {
     "name": "stdout",
     "output_type": "stream",
     "text": [
      "[1] \"merge subtypes\"\n",
      "        tumor Fibroblast B cell myocyte other Macrophage T cell Dendritic  Mast\n",
      "Min.    0.302      0.551  0.076   0.031     0      0.017      0         0 0.006\n",
      "1st Qu. 0.302      0.551  0.076   0.031     0      0.017      0         0 0.006\n",
      "Median  0.302      0.551  0.076   0.031     0      0.017      0         0 0.006\n",
      "Mean    0.302      0.551  0.076   0.031     0      0.017      0         0 0.006\n",
      "3rd Qu. 0.302      0.551  0.076   0.031     0      0.017      0         0 0.006\n",
      "Max.    0.302      0.551  0.076   0.031     0      0.017      0         0 0.006\n",
      "        Endothelial\n",
      "Min.          0.016\n",
      "1st Qu.       0.016\n",
      "Median        0.016\n",
      "Mean          0.016\n",
      "3rd Qu.       0.016\n",
      "Max.          0.016\n",
      "[1] \"pooling information across samples\"\n",
      "Start optimization... This may take a while \n"
     ]
    },
    {
     "name": "stderr",
     "output_type": "stream",
     "text": [
      "\n",
      "Stopping cluster\n",
      "\n"
     ]
    },
    {
     "name": "stdout",
     "output_type": "stream",
     "text": [
      "[1] \"run final sampling\"\n",
      "Start run... This may take a while \n"
     ]
    },
    {
     "name": "stderr",
     "output_type": "stream",
     "text": [
      "snowfall 1.84-6.2 initialized (using snow 0.4-4): parallel execution on 10 CPUs.\n",
      "\n",
      "snowfall 1.84-6.2 initialized (using snow 0.4-4): parallel execution on 10 CPUs.\n",
      "\n",
      "\n",
      "Stopping cluster\n",
      "\n",
      "Warning messages:\n",
      "1: In searchCommandline(parallel, cpus = cpus, type = type, socketHosts = socketHosts,  :\n",
      "  Unknown option on commandline: --file\n",
      "2: In searchCommandline(parallel, cpus = cpus, type = type, socketHosts = socketHosts,  :\n",
      "  Unknown option on commandline: --file\n",
      "3: In searchCommandline(parallel, cpus = cpus, type = type, socketHosts = socketHosts,  :\n",
      "  Unknown option on commandline: --file\n"
     ]
    },
    {
     "name": "stdout",
     "output_type": "stream",
     "text": [
      "        tumor Fibroblast B cell myocyte other Macrophage T cell Dendritic  Mast\n",
      "Min.    0.247      0.625  0.056   0.033     0      0.009      0         0 0.004\n",
      "1st Qu. 0.247      0.625  0.056   0.033     0      0.009      0         0 0.004\n",
      "Median  0.247      0.625  0.056   0.033     0      0.009      0         0 0.004\n",
      "Mean    0.247      0.625  0.056   0.033     0      0.009      0         0 0.004\n",
      "3rd Qu. 0.247      0.625  0.056   0.033     0      0.009      0         0 0.004\n",
      "Max.    0.247      0.625  0.056   0.033     0      0.009      0         0 0.004\n",
      "        Endothelial\n",
      "Min.          0.027\n",
      "1st Qu.       0.027\n",
      "Median        0.027\n",
      "Mean          0.027\n",
      "3rd Qu.       0.027\n",
      "Max.          0.027\n",
      "[1] \"only one mixture sample. vst transformation is NOT feasible\"\n"
     ]
    },
    {
     "name": "stderr",
     "output_type": "stream",
     "text": [
      "\n",
      "Stopping cluster\n",
      "\n"
     ]
    },
    {
     "name": "stdout",
     "output_type": "stream",
     "text": [
      "[1] \"run final sampling\"\n",
      "Start run... This may take a while \n"
     ]
    },
    {
     "name": "stderr",
     "output_type": "stream",
     "text": [
      "snowfall 1.84-6.2 initialized (using snow 0.4-4): parallel execution on 10 CPUs.\n",
      "\n",
      "\n",
      "Stopping cluster\n",
      "\n",
      "Warning messages:\n",
      "1: In searchCommandline(parallel, cpus = cpus, type = type, socketHosts = socketHosts,  :\n",
      "  Unknown option on commandline: --file\n",
      "2: In searchCommandline(parallel, cpus = cpus, type = type, socketHosts = socketHosts,  :\n",
      "  Unknown option on commandline: --file\n",
      "3: In searchCommandline(parallel, cpus = cpus, type = type, socketHosts = socketHosts,  :\n",
      "  Unknown option on commandline: --file\n"
     ]
    },
    {
     "name": "stdout",
     "output_type": "stream",
     "text": [
      "        tumor Fibroblast B cell myocyte other Macrophage T cell Dendritic  Mast\n",
      "Min.    0.302      0.551  0.076   0.031     0      0.017      0         0 0.006\n",
      "1st Qu. 0.302      0.551  0.076   0.031     0      0.017      0         0 0.006\n",
      "Median  0.302      0.551  0.076   0.031     0      0.017      0         0 0.006\n",
      "Mean    0.302      0.551  0.076   0.031     0      0.017      0         0 0.006\n",
      "3rd Qu. 0.302      0.551  0.076   0.031     0      0.017      0         0 0.006\n",
      "Max.    0.302      0.551  0.076   0.031     0      0.017      0         0 0.006\n",
      "        Endothelial\n",
      "Min.          0.016\n",
      "1st Qu.       0.016\n",
      "Median        0.016\n",
      "Mean          0.016\n",
      "3rd Qu.       0.016\n",
      "Max.          0.016\n",
      "[1] \"only one mixture sample. vst transformation is NOT feasible\"\n"
     ]
    }
   ],
   "source": [
    "# testing code block\n",
    "\n",
    "if name == \"unnamed_job\":\n",
    "    print(\"You did not name this job!\\r\")\n",
    "else:\n",
    "    print(name,\" - pipeline initiated! Welcome, contact author for support: kechanglin1998@hotmail.com\\r\")\n",
    "\n",
    "if mode == \"real\":\n",
    "    if path_bulk == False:\n",
    "        raise ValueError(\"no bulk RNAseq data input! LOAD UP YOUR AMMO!\\r\")\n",
    "    main(path_adata,mode,out,out_res,path_label,path_bulk=path_bulk,folder_marker=folder_marker,\n",
    "     name=name,methods=methods,keyword=keyword)\n",
    "elif mode == 'pseudobulk':\n",
    "    main(path_adata,mode,out,out_res,path_label,path_bulk=path_bulk,folder_marker=folder_marker,\n",
    "     name=name,methods=methods,keyword=keyword)\n",
    "# print(\"jobs submitted! details of arguments used in this run: \",args)\n"
   ]
  },
  {
   "cell_type": "code",
   "execution_count": 27,
   "id": "73d68be6",
   "metadata": {
    "collapsed": true
   },
   "outputs": [
    {
     "name": "stderr",
     "output_type": "stream",
     "text": [
      "[Parallel(n_jobs=10)]: Done  78 tasks      | elapsed:  4.0min\n",
      "\n",
      "Stopping cluster\n",
      "\n"
     ]
    },
    {
     "name": "stdout",
     "output_type": "stream",
     "text": [
      "[1] \"run final sampling\"\n",
      "Start run... This may take a while \n"
     ]
    },
    {
     "name": "stderr",
     "output_type": "stream",
     "text": [
      "[Parallel(n_jobs=10)]: Done  78 tasks      | elapsed:  1.1min\n",
      "[Parallel(n_jobs=10)]: Done  65 tasks      | elapsed:  2.7min\n",
      "[Parallel(n_jobs=10)]: Done 108 tasks      | elapsed:  4.1min\n",
      "[Parallel(n_jobs=10)]: Done  78 tasks      | elapsed:  4.2min\n",
      "\n",
      "Stopping cluster\n",
      "\n"
     ]
    },
    {
     "name": "stdout",
     "output_type": "stream",
     "text": [
      "[1] \"run final sampling\"\n",
      "Start run... This may take a while \n"
     ]
    },
    {
     "name": "stderr",
     "output_type": "stream",
     "text": [
      "snowfall 1.84-6.2 initialized (using snow 0.4-4): parallel execution on 10 CPUs.\n",
      "\n",
      "snowfall 1.84-6.2 initialized (using snow 0.4-4): parallel execution on 10 CPUs.\n",
      "\n",
      "[Parallel(n_jobs=10)]: Done  93 tasks      | elapsed:  1.3min\n",
      "snowfall 1.84-6.2 initialized (using snow 0.4-4): parallel execution on 10 CPUs.\n",
      "\n",
      "[Parallel(n_jobs=10)]: Done 125 tasks      | elapsed:  4.0min\n",
      "[Parallel(n_jobs=10)]: Done 108 tasks      | elapsed:  1.5min\n",
      "\n",
      "Stopping cluster\n",
      "\n"
     ]
    },
    {
     "name": "stdout",
     "output_type": "stream",
     "text": [
      "[1] \"run final sampling\"\n",
      "Start run... This may take a while \n"
     ]
    },
    {
     "name": "stderr",
     "output_type": "stream",
     "text": [
      "[Parallel(n_jobs=10)]: Done  52 tasks      | elapsed:  2.0min\n"
     ]
    },
    {
     "name": "stdout",
     "output_type": "stream",
     "text": [
      "        tumor Fibroblast B cell myocyte other Endothelial T cell Dendritic\n",
      "Min.    0.435      0.408  0.002   0.001 0.014       0.004  0.004     0.026\n",
      "1st Qu. 0.435      0.408  0.002   0.001 0.014       0.004  0.004     0.026\n",
      "Median  0.435      0.408  0.002   0.001 0.014       0.004  0.004     0.026\n",
      "Mean    0.435      0.408  0.002   0.001 0.014       0.004  0.004     0.026\n",
      "3rd Qu. 0.435      0.408  0.002   0.001 0.014       0.004  0.004     0.026\n",
      "Max.    0.435      0.408  0.002   0.001 0.014       0.004  0.004     0.026\n",
      "         Mast Macrophage\n",
      "Min.    0.004      0.102\n",
      "1st Qu. 0.004      0.102\n",
      "Median  0.004      0.102\n",
      "Mean    0.004      0.102\n",
      "3rd Qu. 0.004      0.102\n",
      "Max.    0.004      0.102\n",
      "[1] \"only one mixture sample. vst transformation is NOT feasible\"\n"
     ]
    },
    {
     "name": "stderr",
     "output_type": "stream",
     "text": [
      "\n",
      "Stopping cluster\n",
      "\n",
      "Warning messages:\n",
      "1: In searchCommandline(parallel, cpus = cpus, type = type, socketHosts = socketHosts,  :\n",
      "  Unknown option on commandline: --file\n",
      "2: In searchCommandline(parallel, cpus = cpus, type = type, socketHosts = socketHosts,  :\n",
      "  Unknown option on commandline: --file\n",
      "3: In searchCommandline(parallel, cpus = cpus, type = type, socketHosts = socketHosts,  :\n",
      "  Unknown option on commandline: --file\n",
      "snowfall 1.84-6.2 initialized (using snow 0.4-4): parallel execution on 10 CPUs.\n",
      "\n",
      "\n",
      "Stopping cluster\n",
      "\n"
     ]
    },
    {
     "name": "stdout",
     "output_type": "stream",
     "text": [
      "[1] \"run final sampling\"\n",
      "Start run... This may take a while \n"
     ]
    },
    {
     "name": "stderr",
     "output_type": "stream",
     "text": [
      "[Parallel(n_jobs=10)]: Done  78 tasks      | elapsed:  3.1min\n",
      "[Parallel(n_jobs=10)]: Done 125 tasks      | elapsed:  1.7min\n",
      "snowfall 1.84-6.2 initialized (using snow 0.4-4): parallel execution on 10 CPUs.\n",
      "\n",
      "[Parallel(n_jobs=10)]: Done  93 tasks      | elapsed:  4.6min\n",
      "\n",
      "Stopping cluster\n",
      "\n"
     ]
    },
    {
     "name": "stdout",
     "output_type": "stream",
     "text": [
      "[1] \"run final sampling\"\n",
      "Start run... This may take a while \n"
     ]
    },
    {
     "name": "stderr",
     "output_type": "stream",
     "text": [
      "[Parallel(n_jobs=10)]: Done 125 tasks      | elapsed:  4.8min\n",
      "[Parallel(n_jobs=10)]: Done  93 tasks      | elapsed:  4.8min\n",
      "[Parallel(n_jobs=10)]: Done 142 tasks      | elapsed:  1.9min\n",
      "\n",
      "Stopping cluster\n",
      "\n",
      "[Parallel(n_jobs=10)]: Done  65 tasks      | elapsed:  2.5min\n"
     ]
    },
    {
     "name": "stdout",
     "output_type": "stream",
     "text": [
      "[1] \"run final sampling\"\n",
      "Start run... This may take a while \n"
     ]
    },
    {
     "name": "stderr",
     "output_type": "stream",
     "text": [
      "snowfall 1.84-6.2 initialized (using snow 0.4-4): parallel execution on 10 CPUs.\n",
      "\n",
      "[Parallel(n_jobs=10)]: Done 142 tasks      | elapsed:  4.5min\n",
      "snowfall 1.84-6.2 initialized (using snow 0.4-4): parallel execution on 10 CPUs.\n",
      "\n",
      "[Parallel(n_jobs=10)]: Done 160 out of 162 | elapsed:  2.1min remaining:    1.6s\n",
      "[Parallel(n_jobs=10)]: Done 162 out of 162 | elapsed:  2.1min finished\n",
      "[Parallel(n_jobs=10)]: Done  93 tasks      | elapsed:  3.6min\n",
      "[Parallel(n_jobs=10)]: Using backend LokyBackend with 10 concurrent workers.\n"
     ]
    },
    {
     "name": "stdout",
     "output_type": "stream",
     "text": [
      "        tumor Fibroblast B cell myocyte other Macrophage Endothelial T cell\n",
      "Min.    0.504      0.251      0       0     0      0.007       0.013      0\n",
      "1st Qu. 0.504      0.251      0       0     0      0.007       0.013      0\n",
      "Median  0.504      0.251      0       0     0      0.007       0.013      0\n",
      "Mean    0.504      0.251      0       0     0      0.007       0.013      0\n",
      "3rd Qu. 0.504      0.251      0       0     0      0.007       0.013      0\n",
      "Max.    0.504      0.251      0       0     0      0.007       0.013      0\n",
      "        Dendritic  Mast\n",
      "Min.        0.009 0.215\n",
      "1st Qu.     0.009 0.215\n",
      "Median      0.009 0.215\n",
      "Mean        0.009 0.215\n",
      "3rd Qu.     0.009 0.215\n",
      "Max.        0.009 0.215\n",
      "[1] \"only one mixture sample. vst transformation is NOT feasible\"\n"
     ]
    },
    {
     "name": "stderr",
     "output_type": "stream",
     "text": [
      "\n",
      "Stopping cluster\n",
      "\n",
      "Warning messages:\n",
      "1: In searchCommandline(parallel, cpus = cpus, type = type, socketHosts = socketHosts,  :\n",
      "  Unknown option on commandline: --file\n",
      "2: In searchCommandline(parallel, cpus = cpus, type = type, socketHosts = socketHosts,  :\n",
      "  Unknown option on commandline: --file\n",
      "3: In searchCommandline(parallel, cpus = cpus, type = type, socketHosts = socketHosts,  :\n",
      "  Unknown option on commandline: --file\n",
      "snowfall 1.84-6.2 initialized (using snow 0.4-4): parallel execution on 10 CPUs.\n",
      "\n"
     ]
    },
    {
     "name": "stdout",
     "output_type": "stream",
     "text": [
      "        tumor Fibroblast B cell myocyte other Macrophage Endothelial T cell\n",
      "Min.    0.411      0.347  0.041       0 0.018      0.012       0.161      0\n",
      "1st Qu. 0.411      0.347  0.041       0 0.018      0.012       0.161      0\n",
      "Median  0.411      0.347  0.041       0 0.018      0.012       0.161      0\n",
      "Mean    0.411      0.347  0.041       0 0.018      0.012       0.161      0\n",
      "3rd Qu. 0.411      0.347  0.041       0 0.018      0.012       0.161      0\n",
      "Max.    0.411      0.347  0.041       0 0.018      0.012       0.161      0\n",
      "        Dendritic Mast\n",
      "Min.            0 0.01\n",
      "1st Qu.         0 0.01\n",
      "Median          0 0.01\n",
      "Mean            0 0.01\n",
      "3rd Qu.         0 0.01\n",
      "Max.            0 0.01\n",
      "[1] \"only one mixture sample. vst transformation is NOT feasible\"\n"
     ]
    },
    {
     "name": "stderr",
     "output_type": "stream",
     "text": [
      "\n",
      "Stopping cluster\n",
      "\n",
      "Warning messages:\n",
      "1: In searchCommandline(parallel, cpus = cpus, type = type, socketHosts = socketHosts,  :\n",
      "  Unknown option on commandline: --file\n",
      "2: In searchCommandline(parallel, cpus = cpus, type = type, socketHosts = socketHosts,  :\n",
      "  Unknown option on commandline: --file\n",
      "3: In searchCommandline(parallel, cpus = cpus, type = type, socketHosts = socketHosts,  :\n",
      "  Unknown option on commandline: --file\n",
      "[Parallel(n_jobs=10)]: Done   1 tasks      | elapsed:   12.2s\n",
      "[Parallel(n_jobs=10)]: Done   1 out of   1 | elapsed:   12.2s finished\n",
      "[Parallel(n_jobs=10)]: Using backend LokyBackend with 10 concurrent workers.\n",
      "snowfall 1.84-6.2 initialized (using snow 0.4-4): parallel execution on 10 CPUs.\n",
      "\n",
      "/home/cke/miniconda3/envs/BLADE/lib/python3.10/site-packages/Deconvolution/BLADE.py:809: RuntimeWarning: divide by zero encountered in log\n",
      "  return -self.Nsample*np.sum(np.log(Omega))\n",
      "/home/cke/miniconda3/envs/BLADE/lib/python3.10/site-packages/Deconvolution/BLADE.py:863: RuntimeWarning: invalid value encountered in double_scalars\n",
      "  return PX+PY+PF-QX-QF\n",
      "[Parallel(n_jobs=10)]: Done 108 tasks      | elapsed:  5.2min\n",
      "[Parallel(n_jobs=10)]: Done 160 out of 162 | elapsed:  4.9min remaining:    3.7s\n"
     ]
    },
    {
     "name": "stdout",
     "output_type": "stream",
     "text": [
      "        tumor Fibroblast B cell myocyte other Macrophage Endothelial T cell\n",
      "Min.    0.342      0.354  0.048       0 0.058      0.014       0.173  0.003\n",
      "1st Qu. 0.342      0.354  0.048       0 0.058      0.014       0.173  0.003\n",
      "Median  0.342      0.354  0.048       0 0.058      0.014       0.173  0.003\n",
      "Mean    0.342      0.354  0.048       0 0.058      0.014       0.173  0.003\n",
      "3rd Qu. 0.342      0.354  0.048       0 0.058      0.014       0.173  0.003\n",
      "Max.    0.342      0.354  0.048       0 0.058      0.014       0.173  0.003\n",
      "        Dendritic  Mast\n",
      "Min.            0 0.007\n",
      "1st Qu.         0 0.007\n",
      "Median          0 0.007\n",
      "Mean            0 0.007\n",
      "3rd Qu.         0 0.007\n",
      "Max.            0 0.007\n",
      "[1] \"only one mixture sample. vst transformation is NOT feasible\"\n"
     ]
    },
    {
     "name": "stderr",
     "output_type": "stream",
     "text": [
      "\n",
      "Stopping cluster\n",
      "\n",
      "Warning messages:\n",
      "1: In searchCommandline(parallel, cpus = cpus, type = type, socketHosts = socketHosts,  :\n",
      "  Unknown option on commandline: --file\n",
      "2: In searchCommandline(parallel, cpus = cpus, type = type, socketHosts = socketHosts,  :\n",
      "  Unknown option on commandline: --file\n",
      "3: In searchCommandline(parallel, cpus = cpus, type = type, socketHosts = socketHosts,  :\n",
      "  Unknown option on commandline: --file\n",
      "[Parallel(n_jobs=10)]: Done  78 tasks      | elapsed:  3.0min\n",
      "[Parallel(n_jobs=10)]: Done 142 tasks      | elapsed:  5.4min\n",
      "[Parallel(n_jobs=10)]: Done   5 tasks      | elapsed:    8.9s\n",
      "[Parallel(n_jobs=10)]: Done 108 tasks      | elapsed:  5.4min\n"
     ]
    },
    {
     "name": "stdout",
     "output_type": "stream",
     "text": [
      "        tumor Fibroblast B cell myocyte other Endothelial T cell Dendritic\n",
      "Min.    0.403      0.454  0.004   0.001 0.004       0.005  0.005     0.028\n",
      "1st Qu. 0.403      0.454  0.004   0.001 0.004       0.005  0.005     0.028\n",
      "Median  0.403      0.454  0.004   0.001 0.004       0.005  0.005     0.028\n",
      "Mean    0.403      0.454  0.004   0.001 0.004       0.005  0.005     0.028\n",
      "3rd Qu. 0.403      0.454  0.004   0.001 0.004       0.005  0.005     0.028\n",
      "Max.    0.403      0.454  0.004   0.001 0.004       0.005  0.005     0.028\n",
      "         Mast Macrophage\n",
      "Min.    0.004      0.094\n",
      "1st Qu. 0.004      0.094\n",
      "Median  0.004      0.094\n",
      "Mean    0.004      0.094\n",
      "3rd Qu. 0.004      0.094\n",
      "Max.    0.004      0.094\n",
      "[1] \"only one mixture sample. vst transformation is NOT feasible\"\n"
     ]
    },
    {
     "name": "stderr",
     "output_type": "stream",
     "text": [
      "\n",
      "Stopping cluster\n",
      "\n",
      "Warning messages:\n",
      "1: In searchCommandline(parallel, cpus = cpus, type = type, socketHosts = socketHosts,  :\n",
      "  Unknown option on commandline: --file\n",
      "2: In searchCommandline(parallel, cpus = cpus, type = type, socketHosts = socketHosts,  :\n",
      "  Unknown option on commandline: --file\n",
      "3: In searchCommandline(parallel, cpus = cpus, type = type, socketHosts = socketHosts,  :\n",
      "  Unknown option on commandline: --file\n",
      "[Parallel(n_jobs=10)]: Done  12 tasks      | elapsed:   19.4s\n",
      "[Parallel(n_jobs=10)]: Done 108 tasks      | elapsed:  4.3min\n",
      "[Parallel(n_jobs=10)]: Done  93 tasks      | elapsed:  3.4min\n",
      "[Parallel(n_jobs=10)]: Done  21 tasks      | elapsed:   33.3s\n"
     ]
    },
    {
     "name": "stdout",
     "output_type": "stream",
     "text": [
      "        tumor Fibroblast B cell myocyte other Macrophage Endothelial T cell\n",
      "Min.    0.716      0.083  0.019       0 0.006      0.001       0.013  0.133\n",
      "1st Qu. 0.716      0.083  0.019       0 0.006      0.001       0.013  0.133\n",
      "Median  0.716      0.083  0.019       0 0.006      0.001       0.013  0.133\n",
      "Mean    0.716      0.083  0.019       0 0.006      0.001       0.013  0.133\n",
      "3rd Qu. 0.716      0.083  0.019       0 0.006      0.001       0.013  0.133\n",
      "Max.    0.716      0.083  0.019       0 0.006      0.001       0.013  0.133\n",
      "        Dendritic  Mast\n",
      "Min.            0 0.028\n",
      "1st Qu.         0 0.028\n",
      "Median          0 0.028\n",
      "Mean            0 0.028\n",
      "3rd Qu.         0 0.028\n",
      "Max.            0 0.028\n",
      "[1] \"only one mixture sample. vst transformation is NOT feasible\"\n"
     ]
    },
    {
     "name": "stderr",
     "output_type": "stream",
     "text": [
      "\n",
      "Stopping cluster\n",
      "\n",
      "Warning messages:\n",
      "1: In searchCommandline(parallel, cpus = cpus, type = type, socketHosts = socketHosts,  :\n",
      "  Unknown option on commandline: --file\n",
      "2: In searchCommandline(parallel, cpus = cpus, type = type, socketHosts = socketHosts,  :\n",
      "  Unknown option on commandline: --file\n",
      "3: In searchCommandline(parallel, cpus = cpus, type = type, socketHosts = socketHosts,  :\n",
      "  Unknown option on commandline: --file\n",
      "\n",
      "Stopping cluster\n",
      "\n",
      "Warning messages:\n",
      "1: In searchCommandline(parallel, cpus = cpus, type = type, socketHosts = socketHosts,  :\n",
      "  Unknown option on commandline: --file\n",
      "2: In searchCommandline(parallel, cpus = cpus, type = type, socketHosts = socketHosts,  :\n",
      "  Unknown option on commandline: --file\n",
      "3: In searchCommandline(parallel, cpus = cpus, type = type, socketHosts = socketHosts,  :\n",
      "  Unknown option on commandline: --file\n"
     ]
    },
    {
     "name": "stdout",
     "output_type": "stream",
     "text": [
      "        tumor Fibroblast other Macrophage Endothelial B cell Dendritic T cell\n",
      "Min.    0.261      0.399 0.001      0.012       0.002  0.049     0.025  0.183\n",
      "1st Qu. 0.261      0.399 0.001      0.012       0.002  0.049     0.025  0.183\n",
      "Median  0.261      0.399 0.001      0.012       0.002  0.049     0.025  0.183\n",
      "Mean    0.261      0.399 0.001      0.012       0.002  0.049     0.025  0.183\n",
      "3rd Qu. 0.261      0.399 0.001      0.012       0.002  0.049     0.025  0.183\n",
      "Max.    0.261      0.399 0.001      0.012       0.002  0.049     0.025  0.183\n",
      "         Mast myocyte\n",
      "Min.    0.053   0.015\n",
      "1st Qu. 0.053   0.015\n",
      "Median  0.053   0.015\n",
      "Mean    0.053   0.015\n",
      "3rd Qu. 0.053   0.015\n",
      "Max.    0.053   0.015\n",
      "[1] \"only one mixture sample. vst transformation is NOT feasible\"\n"
     ]
    },
    {
     "name": "stderr",
     "output_type": "stream",
     "text": [
      "[Parallel(n_jobs=10)]: Done 160 out of 162 | elapsed:  5.9min remaining:    4.5s\n",
      "[Parallel(n_jobs=10)]: Done 125 tasks      | elapsed:  5.9min\n",
      "[Parallel(n_jobs=10)]: Done  30 tasks      | elapsed:   43.0s\n",
      "[Parallel(n_jobs=10)]: Done 162 out of 162 | elapsed:  6.0min finished\n",
      "[Parallel(n_jobs=10)]: Done 125 tasks      | elapsed:  6.0min\n",
      "[Parallel(n_jobs=10)]: Done 108 tasks      | elapsed:  3.7min\n",
      "[Parallel(n_jobs=10)]: Using backend LokyBackend with 10 concurrent workers.\n",
      "[Parallel(n_jobs=10)]: Done   1 tasks      | elapsed:    4.3s\n",
      "[Parallel(n_jobs=10)]: Done   1 out of   1 | elapsed:    4.3s finished\n",
      "[Parallel(n_jobs=10)]: Using backend LokyBackend with 10 concurrent workers.\n",
      "/home/cke/miniconda3/envs/BLADE/lib/python3.10/site-packages/Deconvolution/BLADE.py:809: RuntimeWarning: divide by zero encountered in log\n",
      "  return -self.Nsample*np.sum(np.log(Omega))\n",
      "/home/cke/miniconda3/envs/BLADE/lib/python3.10/site-packages/Deconvolution/BLADE.py:863: RuntimeWarning: invalid value encountered in double_scalars\n",
      "  return PX+PY+PF-QX-QF\n",
      "[Parallel(n_jobs=10)]: Done 125 tasks      | elapsed:  4.8min\n",
      "[Parallel(n_jobs=10)]: Done  41 tasks      | elapsed:   58.4s\n",
      "[Parallel(n_jobs=10)]: Done   5 tasks      | elapsed:    4.6s\n",
      "\n",
      "Stopping cluster\n",
      "\n",
      "Warning messages:\n",
      "1: In searchCommandline(parallel, cpus = cpus, type = type, socketHosts = socketHosts,  :\n",
      "  Unknown option on commandline: --file\n",
      "2: In searchCommandline(parallel, cpus = cpus, type = type, socketHosts = socketHosts,  :\n",
      "  Unknown option on commandline: --file\n",
      "3: In searchCommandline(parallel, cpus = cpus, type = type, socketHosts = socketHosts,  :\n",
      "  Unknown option on commandline: --file\n"
     ]
    },
    {
     "name": "stdout",
     "output_type": "stream",
     "text": [
      "        tumor Fibroblast B cell myocyte other Macrophage Endothelial T cell\n",
      "Min.    0.757      0.091   0.02       0     0          0       0.015  0.088\n",
      "1st Qu. 0.757      0.091   0.02       0     0          0       0.015  0.088\n",
      "Median  0.757      0.091   0.02       0     0          0       0.015  0.088\n",
      "Mean    0.757      0.091   0.02       0     0          0       0.015  0.088\n",
      "3rd Qu. 0.757      0.091   0.02       0     0          0       0.015  0.088\n",
      "Max.    0.757      0.091   0.02       0     0          0       0.015  0.088\n",
      "        Dendritic  Mast\n",
      "Min.            0 0.027\n",
      "1st Qu.         0 0.027\n",
      "Median          0 0.027\n",
      "Mean            0 0.027\n",
      "3rd Qu.         0 0.027\n",
      "Max.            0 0.027\n",
      "[1] \"only one mixture sample. vst transformation is NOT feasible\"\n"
     ]
    },
    {
     "name": "stderr",
     "output_type": "stream",
     "text": [
      "[Parallel(n_jobs=10)]: Done  12 tasks      | elapsed:    7.2s\n",
      "[Parallel(n_jobs=10)]: Done  21 tasks      | elapsed:   11.1s\n",
      "\n",
      "Stopping cluster\n",
      "\n",
      "Warning messages:\n",
      "1: In searchCommandline(parallel, cpus = cpus, type = type, socketHosts = socketHosts,  :\n",
      "  Unknown option on commandline: --file\n",
      "2: In searchCommandline(parallel, cpus = cpus, type = type, socketHosts = socketHosts,  :\n",
      "  Unknown option on commandline: --file\n",
      "3: In searchCommandline(parallel, cpus = cpus, type = type, socketHosts = socketHosts,  :\n",
      "  Unknown option on commandline: --file\n"
     ]
    },
    {
     "name": "stdout",
     "output_type": "stream",
     "text": [
      "        tumor Fibroblast B cell myocyte other Macrophage Endothelial T cell\n",
      "Min.    0.532      0.288      0       0     0      0.008       0.003      0\n",
      "1st Qu. 0.532      0.288      0       0     0      0.008       0.003      0\n",
      "Median  0.532      0.288      0       0     0      0.008       0.003      0\n",
      "Mean    0.532      0.288      0       0     0      0.008       0.003      0\n",
      "3rd Qu. 0.532      0.288      0       0     0      0.008       0.003      0\n",
      "Max.    0.532      0.288      0       0     0      0.008       0.003      0\n",
      "        Dendritic  Mast\n",
      "Min.        0.007 0.162\n",
      "1st Qu.     0.007 0.162\n",
      "Median      0.007 0.162\n",
      "Mean        0.007 0.162\n",
      "3rd Qu.     0.007 0.162\n",
      "Max.        0.007 0.162\n",
      "[1] \"only one mixture sample. vst transformation is NOT feasible\"\n"
     ]
    },
    {
     "name": "stderr",
     "output_type": "stream",
     "text": [
      "[Parallel(n_jobs=10)]: Done  30 tasks      | elapsed:   14.9s\n",
      "[Parallel(n_jobs=10)]: Done  41 tasks      | elapsed:   19.1s\n",
      "[Parallel(n_jobs=10)]: Done  52 tasks      | elapsed:  1.3min\n",
      "[Parallel(n_jobs=10)]: Done 142 tasks      | elapsed:  6.5min\n",
      "[Parallel(n_jobs=10)]: Done  52 tasks      | elapsed:   23.3s\n",
      "[Parallel(n_jobs=10)]: Done 125 tasks      | elapsed:  4.2min\n",
      "[Parallel(n_jobs=10)]: Done  65 tasks      | elapsed:   29.4s\n",
      "\n",
      "Stopping cluster\n",
      "\n",
      "Warning messages:\n",
      "1: In searchCommandline(parallel, cpus = cpus, type = type, socketHosts = socketHosts,  :\n",
      "  Unknown option on commandline: --file\n",
      "2: In searchCommandline(parallel, cpus = cpus, type = type, socketHosts = socketHosts,  :\n",
      "  Unknown option on commandline: --file\n",
      "3: In searchCommandline(parallel, cpus = cpus, type = type, socketHosts = socketHosts,  :\n",
      "  Unknown option on commandline: --file\n",
      "\n",
      "Stopping cluster\n",
      "\n"
     ]
    },
    {
     "name": "stdout",
     "output_type": "stream",
     "text": [
      "        tumor Fibroblast B cell myocyte other Macrophage Endothelial T cell\n",
      "Min.    0.744      0.073  0.014       0     0      0.001       0.014  0.132\n",
      "1st Qu. 0.744      0.073  0.014       0     0      0.001       0.014  0.132\n",
      "Median  0.744      0.073  0.014       0     0      0.001       0.014  0.132\n",
      "Mean    0.744      0.073  0.014       0     0      0.001       0.014  0.132\n",
      "3rd Qu. 0.744      0.073  0.014       0     0      0.001       0.014  0.132\n",
      "Max.    0.744      0.073  0.014       0     0      0.001       0.014  0.132\n",
      "        Dendritic  Mast\n",
      "Min.            0 0.023\n",
      "1st Qu.         0 0.023\n",
      "Median          0 0.023\n",
      "Mean            0 0.023\n",
      "3rd Qu.         0 0.023\n",
      "Max.            0 0.023\n",
      "[1] \"only one mixture sample. vst transformation is NOT feasible\"\n",
      "        tumor Fibroblast B cell myocyte other Macrophage Endothelial T cell\n",
      "Min.    0.507      0.314      0       0     0      0.019       0.006      0\n",
      "1st Qu. 0.507      0.314      0       0     0      0.019       0.006      0\n",
      "Median  0.507      0.314      0       0     0      0.019       0.006      0\n",
      "Mean    0.507      0.314      0       0     0      0.019       0.006      0\n",
      "3rd Qu. 0.507      0.314      0       0     0      0.019       0.006      0\n",
      "Max.    0.507      0.314      0       0     0      0.019       0.006      0\n",
      "        Dendritic  Mast\n",
      "Min.        0.006 0.147\n",
      "1st Qu.     0.006 0.147\n",
      "Median      0.006 0.147\n",
      "Mean        0.006 0.147\n",
      "3rd Qu.     0.006 0.147\n",
      "Max.        0.006 0.147\n",
      "[1] \"only one mixture sample. vst transformation is NOT feasible\"\n"
     ]
    },
    {
     "name": "stderr",
     "output_type": "stream",
     "text": [
      "Warning messages:\n",
      "1: In searchCommandline(parallel, cpus = cpus, type = type, socketHosts = socketHosts,  :\n",
      "  Unknown option on commandline: --file\n",
      "2: In searchCommandline(parallel, cpus = cpus, type = type, socketHosts = socketHosts,  :\n",
      "  Unknown option on commandline: --file\n",
      "3: In searchCommandline(parallel, cpus = cpus, type = type, socketHosts = socketHosts,  :\n",
      "  Unknown option on commandline: --file\n",
      "[Parallel(n_jobs=10)]: Done 142 tasks      | elapsed:  6.7min\n",
      "[Parallel(n_jobs=10)]: Done  78 tasks      | elapsed:   33.8s\n",
      "[Parallel(n_jobs=10)]: Done 142 tasks      | elapsed:  5.3min\n",
      "[Parallel(n_jobs=10)]: Done  65 tasks      | elapsed:  1.5min\n"
     ]
    },
    {
     "name": "stdout",
     "output_type": "stream",
     "text": [
      "        tumor Fibroblast B cell myocyte other Macrophage T cell Dendritic  Mast\n",
      "Min.    0.247      0.625  0.056   0.033     0      0.009      0         0 0.004\n",
      "1st Qu. 0.247      0.625  0.056   0.033     0      0.009      0         0 0.004\n",
      "Median  0.247      0.625  0.056   0.033     0      0.009      0         0 0.004\n",
      "Mean    0.247      0.625  0.056   0.033     0      0.009      0         0 0.004\n",
      "3rd Qu. 0.247      0.625  0.056   0.033     0      0.009      0         0 0.004\n",
      "Max.    0.247      0.625  0.056   0.033     0      0.009      0         0 0.004\n",
      "        Endothelial\n",
      "Min.          0.027\n",
      "1st Qu.       0.027\n",
      "Median        0.027\n",
      "Mean          0.027\n",
      "3rd Qu.       0.027\n",
      "Max.          0.027\n",
      "[1] \"only one mixture sample. vst transformation is NOT feasible\"\n"
     ]
    },
    {
     "name": "stderr",
     "output_type": "stream",
     "text": [
      "\n",
      "Stopping cluster\n",
      "\n",
      "Warning messages:\n",
      "1: In searchCommandline(parallel, cpus = cpus, type = type, socketHosts = socketHosts,  :\n",
      "  Unknown option on commandline: --file\n",
      "2: In searchCommandline(parallel, cpus = cpus, type = type, socketHosts = socketHosts,  :\n",
      "  Unknown option on commandline: --file\n",
      "3: In searchCommandline(parallel, cpus = cpus, type = type, socketHosts = socketHosts,  :\n",
      "  Unknown option on commandline: --file\n",
      "[Parallel(n_jobs=10)]: Done  93 tasks      | elapsed:   39.2s\n"
     ]
    },
    {
     "name": "stdout",
     "output_type": "stream",
     "text": [
      "        tumor Fibroblast B cell myocyte other Endothelial T cell Dendritic\n",
      "Min.    0.453      0.423  0.002   0.001  0.01       0.003  0.006     0.022\n",
      "1st Qu. 0.453      0.423  0.002   0.001  0.01       0.003  0.006     0.022\n",
      "Median  0.453      0.423  0.002   0.001  0.01       0.003  0.006     0.022\n",
      "Mean    0.453      0.423  0.002   0.001  0.01       0.003  0.006     0.022\n",
      "3rd Qu. 0.453      0.423  0.002   0.001  0.01       0.003  0.006     0.022\n",
      "Max.    0.453      0.423  0.002   0.001  0.01       0.003  0.006     0.022\n",
      "         Mast Macrophage\n",
      "Min.    0.003      0.078\n",
      "1st Qu. 0.003      0.078\n",
      "Median  0.003      0.078\n",
      "Mean    0.003      0.078\n",
      "3rd Qu. 0.003      0.078\n",
      "Max.    0.003      0.078\n",
      "[1] \"only one mixture sample. vst transformation is NOT feasible\"\n"
     ]
    },
    {
     "name": "stderr",
     "output_type": "stream",
     "text": [
      "\n",
      "Stopping cluster\n",
      "\n",
      "Warning messages:\n",
      "1: In searchCommandline(parallel, cpus = cpus, type = type, socketHosts = socketHosts,  :\n",
      "  Unknown option on commandline: --file\n",
      "2: In searchCommandline(parallel, cpus = cpus, type = type, socketHosts = socketHosts,  :\n",
      "  Unknown option on commandline: --file\n",
      "3: In searchCommandline(parallel, cpus = cpus, type = type, socketHosts = socketHosts,  :\n",
      "  Unknown option on commandline: --file\n",
      "[Parallel(n_jobs=10)]: Done 108 tasks      | elapsed:   44.6s\n",
      "[Parallel(n_jobs=10)]: Done 125 tasks      | elapsed:   50.8s\n",
      "[Parallel(n_jobs=10)]: Done  78 tasks      | elapsed:  1.8min\n"
     ]
    },
    {
     "name": "stdout",
     "output_type": "stream",
     "text": [
      "        tumor Fibroblast B cell myocyte other Macrophage Endothelial T cell\n",
      "Min.    0.334      0.374  0.039       0 0.044      0.017       0.184  0.001\n",
      "1st Qu. 0.334      0.374  0.039       0 0.044      0.017       0.184  0.001\n",
      "Median  0.334      0.374  0.039       0 0.044      0.017       0.184  0.001\n",
      "Mean    0.334      0.374  0.039       0 0.044      0.017       0.184  0.001\n",
      "3rd Qu. 0.334      0.374  0.039       0 0.044      0.017       0.184  0.001\n",
      "Max.    0.334      0.374  0.039       0 0.044      0.017       0.184  0.001\n",
      "        Dendritic  Mast\n",
      "Min.        0.001 0.006\n",
      "1st Qu.     0.001 0.006\n",
      "Median      0.001 0.006\n",
      "Mean        0.001 0.006\n",
      "3rd Qu.     0.001 0.006\n",
      "Max.        0.001 0.006\n",
      "[1] \"only one mixture sample. vst transformation is NOT feasible\"\n"
     ]
    },
    {
     "name": "stderr",
     "output_type": "stream",
     "text": [
      "\n",
      "Stopping cluster\n",
      "\n",
      "Warning messages:\n",
      "1: In searchCommandline(parallel, cpus = cpus, type = type, socketHosts = socketHosts,  :\n",
      "  Unknown option on commandline: --file\n",
      "2: In searchCommandline(parallel, cpus = cpus, type = type, socketHosts = socketHosts,  :\n",
      "  Unknown option on commandline: --file\n",
      "3: In searchCommandline(parallel, cpus = cpus, type = type, socketHosts = socketHosts,  :\n",
      "  Unknown option on commandline: --file\n",
      "[Parallel(n_jobs=10)]: Done 142 tasks      | elapsed:  4.7min\n",
      "[Parallel(n_jobs=10)]: Done 142 tasks      | elapsed:   56.9s\n",
      "[Parallel(n_jobs=10)]: Done 160 out of 162 | elapsed:  7.2min remaining:    5.4s\n",
      "[Parallel(n_jobs=10)]: Done 160 out of 162 | elapsed:  7.2min remaining:    5.4s\n",
      "[Parallel(n_jobs=10)]: Done 160 out of 162 | elapsed:  1.0min remaining:    0.8s\n",
      "[Parallel(n_jobs=10)]: Done 162 out of 162 | elapsed:  7.2min finished\n",
      "[Parallel(n_jobs=10)]: Done 162 out of 162 | elapsed:  1.0min finished\n",
      "[Parallel(n_jobs=10)]: Using backend LokyBackend with 10 concurrent workers.\n",
      "[Parallel(n_jobs=10)]: Using backend LokyBackend with 10 concurrent workers.\n",
      "[Parallel(n_jobs=10)]: Done   1 tasks      | elapsed:    0.9s\n",
      "[Parallel(n_jobs=10)]: Done   1 out of   1 | elapsed:    0.9s finished\n",
      "[Parallel(n_jobs=10)]: Using backend LokyBackend with 10 concurrent workers.\n",
      "/home/cke/miniconda3/envs/BLADE/lib/python3.10/site-packages/Deconvolution/BLADE.py:809: RuntimeWarning: divide by zero encountered in log\n",
      "  return -self.Nsample*np.sum(np.log(Omega))\n",
      "/home/cke/miniconda3/envs/BLADE/lib/python3.10/site-packages/Deconvolution/BLADE.py:863: RuntimeWarning: invalid value encountered in double_scalars\n",
      "  return PX+PY+PF-QX-QF\n",
      "[Parallel(n_jobs=10)]: Done  93 tasks      | elapsed:  2.1min\n",
      "[Parallel(n_jobs=10)]: Done 162 out of 162 | elapsed:  7.3min finished\n",
      "[Parallel(n_jobs=10)]: Done 160 out of 162 | elapsed:  5.9min remaining:    4.4s\n",
      "[Parallel(n_jobs=10)]: Done   5 tasks      | elapsed:    3.4s\n",
      "[Parallel(n_jobs=10)]: Using backend LokyBackend with 10 concurrent workers.\n",
      "[Parallel(n_jobs=10)]: Done  12 tasks      | elapsed:    5.9s\n",
      "[Parallel(n_jobs=10)]: Done   1 tasks      | elapsed:   10.1s\n",
      "[Parallel(n_jobs=10)]: Done   1 out of   1 | elapsed:   10.1s finished\n",
      "[Parallel(n_jobs=10)]: Using backend LokyBackend with 10 concurrent workers.\n",
      "[Parallel(n_jobs=10)]: Done   1 tasks      | elapsed:    1.9s\n",
      "[Parallel(n_jobs=10)]: Done   1 out of   1 | elapsed:    1.9s finished\n",
      "[Parallel(n_jobs=10)]: Using backend LokyBackend with 10 concurrent workers.\n",
      "/home/cke/miniconda3/envs/BLADE/lib/python3.10/site-packages/Deconvolution/BLADE.py:809: RuntimeWarning: divide by zero encountered in log\n",
      "  return -self.Nsample*np.sum(np.log(Omega))\n",
      "/home/cke/miniconda3/envs/BLADE/lib/python3.10/site-packages/Deconvolution/BLADE.py:863: RuntimeWarning: invalid value encountered in double_scalars\n",
      "  return PX+PY+PF-QX-QF\n",
      "[Parallel(n_jobs=10)]: Done  21 tasks      | elapsed:    8.0s\n",
      "/home/cke/miniconda3/envs/BLADE/lib/python3.10/site-packages/Deconvolution/BLADE.py:809: RuntimeWarning: divide by zero encountered in log\n",
      "  return -self.Nsample*np.sum(np.log(Omega))\n",
      "/home/cke/miniconda3/envs/BLADE/lib/python3.10/site-packages/Deconvolution/BLADE.py:863: RuntimeWarning: invalid value encountered in double_scalars\n",
      "  return PX+PY+PF-QX-QF\n",
      "[Parallel(n_jobs=10)]: Done 160 out of 162 | elapsed:  5.1min remaining:    3.8s\n",
      "[Parallel(n_jobs=10)]: Done   5 tasks      | elapsed:    3.8s\n",
      "[Parallel(n_jobs=10)]: Done  30 tasks      | elapsed:   11.9s\n",
      "[Parallel(n_jobs=10)]: Done  12 tasks      | elapsed:    7.5s\n",
      "[Parallel(n_jobs=10)]: Done  41 tasks      | elapsed:   16.0s\n",
      "[Parallel(n_jobs=10)]: Done   5 tasks      | elapsed:    9.2s\n",
      "[Parallel(n_jobs=10)]: Done 108 tasks      | elapsed:  2.3min\n",
      "[Parallel(n_jobs=10)]: Done  21 tasks      | elapsed:   11.3s\n",
      "[Parallel(n_jobs=10)]: Done 162 out of 162 | elapsed:  5.2min finished\n",
      "[Parallel(n_jobs=10)]: Done  52 tasks      | elapsed:   20.4s\n",
      "[Parallel(n_jobs=10)]: Done  30 tasks      | elapsed:   13.5s\n",
      "[Parallel(n_jobs=10)]: Done  12 tasks      | elapsed:   14.3s\n",
      "[Parallel(n_jobs=10)]: Done  65 tasks      | elapsed:   23.4s\n",
      "[Parallel(n_jobs=10)]: Using backend LokyBackend with 10 concurrent workers.\n",
      "[Parallel(n_jobs=10)]: Done  41 tasks      | elapsed:   19.2s\n",
      "[Parallel(n_jobs=10)]: Done  21 tasks      | elapsed:   19.9s\n",
      "[Parallel(n_jobs=10)]: Done   1 tasks      | elapsed:    4.2s\n",
      "[Parallel(n_jobs=10)]: Done   1 out of   1 | elapsed:    4.2s finished\n",
      "[Parallel(n_jobs=10)]: Using backend LokyBackend with 10 concurrent workers.\n",
      "/home/cke/miniconda3/envs/BLADE/lib/python3.10/site-packages/Deconvolution/BLADE.py:809: RuntimeWarning: divide by zero encountered in log\n",
      "  return -self.Nsample*np.sum(np.log(Omega))\n",
      "/home/cke/miniconda3/envs/BLADE/lib/python3.10/site-packages/Deconvolution/BLADE.py:863: RuntimeWarning: invalid value encountered in double_scalars\n",
      "  return PX+PY+PF-QX-QF\n",
      "[Parallel(n_jobs=10)]: Done  78 tasks      | elapsed:   28.2s\n",
      "[Parallel(n_jobs=10)]: Done   5 tasks      | elapsed:    4.3s\n",
      "[Parallel(n_jobs=10)]: Done  52 tasks      | elapsed:   25.3s\n",
      "[Parallel(n_jobs=10)]: Done  12 tasks      | elapsed:    6.4s\n",
      "[Parallel(n_jobs=10)]: Done 125 tasks      | elapsed:  2.6min\n",
      "[Parallel(n_jobs=10)]: Done  93 tasks      | elapsed:   34.4s\n",
      "[Parallel(n_jobs=10)]: Done  21 tasks      | elapsed:    9.8s\n",
      "[Parallel(n_jobs=10)]: Done  65 tasks      | elapsed:   32.4s\n",
      "[Parallel(n_jobs=10)]: Done 108 tasks      | elapsed:   40.4s\n",
      "[Parallel(n_jobs=10)]: Done  30 tasks      | elapsed:   33.3s\n",
      "[Parallel(n_jobs=10)]: Done  30 tasks      | elapsed:   13.0s\n",
      "[Parallel(n_jobs=10)]: Done  41 tasks      | elapsed:   16.9s\n",
      "[Parallel(n_jobs=10)]: Done  78 tasks      | elapsed:   37.3s\n",
      "[Parallel(n_jobs=10)]: Done 125 tasks      | elapsed:   46.5s\n",
      "[Parallel(n_jobs=10)]: Done  52 tasks      | elapsed:   21.0s\n",
      "[Parallel(n_jobs=10)]: Done  93 tasks      | elapsed:   43.9s\n",
      "[Parallel(n_jobs=10)]: Done 142 tasks      | elapsed:  2.9min\n",
      "[Parallel(n_jobs=10)]: Done  41 tasks      | elapsed:   45.9s\n",
      "[Parallel(n_jobs=10)]: Done 142 tasks      | elapsed:   53.2s\n",
      "[Parallel(n_jobs=10)]: Done  65 tasks      | elapsed:   25.4s\n",
      "[Parallel(n_jobs=10)]: Done  78 tasks      | elapsed:   30.5s\n",
      "[Parallel(n_jobs=10)]: Done 108 tasks      | elapsed:   51.0s\n",
      "[Parallel(n_jobs=10)]: Done 160 out of 162 | elapsed:   59.2s remaining:    0.7s\n",
      "[Parallel(n_jobs=10)]: Done 162 out of 162 | elapsed:  1.0min finished\n",
      "[Parallel(n_jobs=10)]: Using backend LokyBackend with 10 concurrent workers.\n",
      "[Parallel(n_jobs=10)]: Done  52 tasks      | elapsed:   55.6s\n",
      "[Parallel(n_jobs=10)]: Done  93 tasks      | elapsed:   35.3s\n",
      "[Parallel(n_jobs=10)]: Done 125 tasks      | elapsed:   57.2s\n",
      "[Parallel(n_jobs=10)]: Done   1 tasks      | elapsed:    4.2s\n",
      "[Parallel(n_jobs=10)]: Done   1 out of   1 | elapsed:    4.2s finished\n",
      "[Parallel(n_jobs=10)]: Using backend LokyBackend with 10 concurrent workers.\n",
      "/home/cke/miniconda3/envs/BLADE/lib/python3.10/site-packages/Deconvolution/BLADE.py:809: RuntimeWarning: divide by zero encountered in log\n",
      "  return -self.Nsample*np.sum(np.log(Omega))\n",
      "/home/cke/miniconda3/envs/BLADE/lib/python3.10/site-packages/Deconvolution/BLADE.py:863: RuntimeWarning: invalid value encountered in double_scalars\n",
      "  return PX+PY+PF-QX-QF\n",
      "[Parallel(n_jobs=10)]: Done 108 tasks      | elapsed:   40.2s\n",
      "[Parallel(n_jobs=10)]: Done 160 out of 162 | elapsed:  3.2min remaining:    2.4s\n",
      "[Parallel(n_jobs=10)]: Done 142 tasks      | elapsed:  1.1min\n",
      "[Parallel(n_jobs=10)]: Done 125 tasks      | elapsed:   45.5s\n",
      "[Parallel(n_jobs=10)]: Done   5 tasks      | elapsed:   11.0s\n",
      "[Parallel(n_jobs=10)]: Done 160 out of 162 | elapsed:  1.2min remaining:    0.9s\n",
      "[Parallel(n_jobs=10)]: Done 162 out of 162 | elapsed:  1.2min finished\n",
      "[Parallel(n_jobs=10)]: Done  65 tasks      | elapsed:  1.2min\n",
      "[Parallel(n_jobs=10)]: Using backend LokyBackend with 10 concurrent workers.\n",
      "[Parallel(n_jobs=10)]: Done 142 tasks      | elapsed:   51.2s\n",
      "[Parallel(n_jobs=10)]: Done 160 out of 162 | elapsed:   55.5s remaining:    0.7s\n",
      "[Parallel(n_jobs=10)]: Done 162 out of 162 | elapsed:   55.8s finished\n",
      "[Parallel(n_jobs=10)]: Done  12 tasks      | elapsed:   18.6s\n",
      "[Parallel(n_jobs=10)]: Done   1 tasks      | elapsed:    5.5s\n",
      "[Parallel(n_jobs=10)]: Using backend LokyBackend with 10 concurrent workers.\n",
      "[Parallel(n_jobs=10)]: Done   1 out of   1 | elapsed:    5.5s finished\n",
      "[Parallel(n_jobs=10)]: Using backend LokyBackend with 10 concurrent workers.\n"
     ]
    },
    {
     "name": "stderr",
     "output_type": "stream",
     "text": [
      "/home/cke/miniconda3/envs/BLADE/lib/python3.10/site-packages/Deconvolution/BLADE.py:809: RuntimeWarning: divide by zero encountered in log\n",
      "  return -self.Nsample*np.sum(np.log(Omega))\n",
      "/home/cke/miniconda3/envs/BLADE/lib/python3.10/site-packages/Deconvolution/BLADE.py:863: RuntimeWarning: invalid value encountered in double_scalars\n",
      "  return PX+PY+PF-QX-QF\n",
      "[Parallel(n_jobs=10)]: Done  78 tasks      | elapsed:  1.3min\n",
      "[Parallel(n_jobs=10)]: Done   5 tasks      | elapsed:   12.5s\n",
      "[Parallel(n_jobs=10)]: Done  21 tasks      | elapsed:   31.9s\n",
      "[Parallel(n_jobs=10)]: Done  12 tasks      | elapsed:   21.3s\n",
      "[Parallel(n_jobs=10)]: Done   1 tasks      | elapsed:   21.6s\n",
      "[Parallel(n_jobs=10)]: Done   1 out of   1 | elapsed:   21.6s finished\n",
      "[Parallel(n_jobs=10)]: Using backend LokyBackend with 10 concurrent workers.\n",
      "[Parallel(n_jobs=10)]: Done  93 tasks      | elapsed:  1.7min\n",
      "/home/cke/miniconda3/envs/BLADE/lib/python3.10/site-packages/Deconvolution/BLADE.py:809: RuntimeWarning: divide by zero encountered in log\n",
      "  return -self.Nsample*np.sum(np.log(Omega))\n",
      "/home/cke/miniconda3/envs/BLADE/lib/python3.10/site-packages/Deconvolution/BLADE.py:863: RuntimeWarning: invalid value encountered in double_scalars\n",
      "  return PX+PY+PF-QX-QF\n",
      "[Parallel(n_jobs=10)]: Done  30 tasks      | elapsed:   41.5s\n",
      "[Parallel(n_jobs=10)]: Done   5 tasks      | elapsed:   12.6s\n",
      "[Parallel(n_jobs=10)]: Done  21 tasks      | elapsed:   35.2s\n",
      "[Parallel(n_jobs=10)]: Done  41 tasks      | elapsed:   58.6s\n",
      "[Parallel(n_jobs=10)]: Done  12 tasks      | elapsed:   20.1s\n",
      "[Parallel(n_jobs=10)]: Done 108 tasks      | elapsed:  2.0min\n",
      "[Parallel(n_jobs=10)]: Done  30 tasks      | elapsed:   45.4s\n",
      "[Parallel(n_jobs=10)]: Done  21 tasks      | elapsed:   33.8s\n",
      "[Parallel(n_jobs=10)]: Done  52 tasks      | elapsed:  1.3min\n",
      "[Parallel(n_jobs=10)]: Done  41 tasks      | elapsed:  1.1min\n",
      "[Parallel(n_jobs=10)]: Done 125 tasks      | elapsed:  2.4min\n",
      "[Parallel(n_jobs=10)]: Done  30 tasks      | elapsed:   45.3s\n",
      "[Parallel(n_jobs=10)]: Done  41 tasks      | elapsed:   55.3s\n",
      "[Parallel(n_jobs=10)]: Done  52 tasks      | elapsed:  1.4min\n",
      "[Parallel(n_jobs=10)]: Done  65 tasks      | elapsed:  1.7min\n",
      "[Parallel(n_jobs=10)]: Done  52 tasks      | elapsed:  1.1min\n",
      "[Parallel(n_jobs=10)]: Done 142 tasks      | elapsed:  2.8min\n",
      "[Parallel(n_jobs=10)]: Done  65 tasks      | elapsed:  1.7min\n",
      "[Parallel(n_jobs=10)]: Done  78 tasks      | elapsed:  2.0min\n",
      "[Parallel(n_jobs=10)]: Done  65 tasks      | elapsed:  1.4min\n",
      "[Parallel(n_jobs=10)]: Done 160 out of 162 | elapsed:  3.2min remaining:    2.4s\n",
      "[Parallel(n_jobs=10)]: Done  78 tasks      | elapsed:  2.0min\n",
      "[Parallel(n_jobs=10)]: Done  78 tasks      | elapsed:  1.7min\n",
      "[Parallel(n_jobs=10)]: Done 162 out of 162 | elapsed:  3.4min finished\n",
      "[Parallel(n_jobs=10)]: Done  93 tasks      | elapsed:  2.5min\n",
      "[Parallel(n_jobs=10)]: Using backend LokyBackend with 10 concurrent workers.\n",
      "[Parallel(n_jobs=10)]: Done  93 tasks      | elapsed:  2.0min\n",
      "[Parallel(n_jobs=10)]: Done  93 tasks      | elapsed:  2.3min\n",
      "[Parallel(n_jobs=10)]: Done 108 tasks      | elapsed:  2.8min\n",
      "[Parallel(n_jobs=10)]: Done   1 tasks      | elapsed:   19.6s\n",
      "[Parallel(n_jobs=10)]: Done   1 out of   1 | elapsed:   19.6s finished\n",
      "[Parallel(n_jobs=10)]: Using backend LokyBackend with 10 concurrent workers.\n",
      "/home/cke/miniconda3/envs/BLADE/lib/python3.10/site-packages/Deconvolution/BLADE.py:809: RuntimeWarning: divide by zero encountered in log\n",
      "  return -self.Nsample*np.sum(np.log(Omega))\n",
      "/home/cke/miniconda3/envs/BLADE/lib/python3.10/site-packages/Deconvolution/BLADE.py:863: RuntimeWarning: invalid value encountered in double_scalars\n",
      "  return PX+PY+PF-QX-QF\n",
      "[Parallel(n_jobs=10)]: Done 108 tasks      | elapsed:  2.2min\n",
      "[Parallel(n_jobs=10)]: Done   5 tasks      | elapsed:    8.6s\n",
      "[Parallel(n_jobs=10)]: Done 108 tasks      | elapsed:  2.7min\n",
      "[Parallel(n_jobs=10)]: Done  12 tasks      | elapsed:   14.2s\n",
      "[Parallel(n_jobs=10)]: Done 125 tasks      | elapsed:  2.5min\n",
      "[Parallel(n_jobs=10)]: Done  21 tasks      | elapsed:   20.5s\n",
      "[Parallel(n_jobs=10)]: Done 125 tasks      | elapsed:  3.3min\n",
      "[Parallel(n_jobs=10)]: Done  30 tasks      | elapsed:   27.3s\n",
      "[Parallel(n_jobs=10)]: Done  41 tasks      | elapsed:   37.2s\n",
      "[Parallel(n_jobs=10)]: Done 125 tasks      | elapsed:  3.2min\n",
      "[Parallel(n_jobs=10)]: Done 142 tasks      | elapsed:  2.8min\n",
      "[Parallel(n_jobs=10)]: Done  52 tasks      | elapsed:   46.6s\n",
      "[Parallel(n_jobs=10)]: Done 142 tasks      | elapsed:  3.7min\n",
      "[Parallel(n_jobs=10)]: Done  65 tasks      | elapsed:   54.4s\n",
      "[Parallel(n_jobs=10)]: Done 160 out of 162 | elapsed:  3.2min remaining:    2.4s\n",
      "[Parallel(n_jobs=10)]: Done 142 tasks      | elapsed:  3.6min\n",
      "[Parallel(n_jobs=10)]: Done  78 tasks      | elapsed:  1.1min\n",
      "[Parallel(n_jobs=10)]: Done 162 out of 162 | elapsed:  3.2min finished\n",
      "[Parallel(n_jobs=10)]: Using backend LokyBackend with 10 concurrent workers.\n",
      "[Parallel(n_jobs=10)]: Done  93 tasks      | elapsed:  1.2min\n",
      "[Parallel(n_jobs=10)]: Done   1 tasks      | elapsed:    7.0s\n",
      "[Parallel(n_jobs=10)]: Done   1 out of   1 | elapsed:    7.0s finished\n",
      "[Parallel(n_jobs=10)]: Using backend LokyBackend with 10 concurrent workers.\n",
      "/home/cke/miniconda3/envs/BLADE/lib/python3.10/site-packages/Deconvolution/BLADE.py:809: RuntimeWarning: divide by zero encountered in log\n",
      "  return -self.Nsample*np.sum(np.log(Omega))\n",
      "/home/cke/miniconda3/envs/BLADE/lib/python3.10/site-packages/Deconvolution/BLADE.py:863: RuntimeWarning: invalid value encountered in double_scalars\n",
      "  return PX+PY+PF-QX-QF\n",
      "[Parallel(n_jobs=10)]: Done 160 out of 162 | elapsed:  4.1min remaining:    3.1s\n",
      "[Parallel(n_jobs=10)]: Done 108 tasks      | elapsed:  1.3min\n",
      "[Parallel(n_jobs=10)]: Done   5 tasks      | elapsed:    3.2s\n",
      "[Parallel(n_jobs=10)]: Done  12 tasks      | elapsed:    5.3s\n",
      "[Parallel(n_jobs=10)]: Done 160 out of 162 | elapsed:  3.9min remaining:    2.9s\n",
      "[Parallel(n_jobs=10)]: Done  21 tasks      | elapsed:    8.8s\n",
      "[Parallel(n_jobs=10)]: Done 125 tasks      | elapsed:  1.4min\n",
      "[Parallel(n_jobs=10)]: Done 162 out of 162 | elapsed:  4.0min finished\n",
      "[Parallel(n_jobs=10)]: Done  30 tasks      | elapsed:   11.5s\n",
      "[Parallel(n_jobs=10)]: Using backend LokyBackend with 10 concurrent workers.\n",
      "[Parallel(n_jobs=10)]: Done  41 tasks      | elapsed:   13.7s\n",
      "[Parallel(n_jobs=10)]: Done 142 tasks      | elapsed:  1.5min\n",
      "[Parallel(n_jobs=10)]: Done   1 tasks      | elapsed:    1.6s\n",
      "[Parallel(n_jobs=10)]: Done   1 out of   1 | elapsed:    1.6s finished\n",
      "[Parallel(n_jobs=10)]: Using backend LokyBackend with 10 concurrent workers.\n",
      "/home/cke/miniconda3/envs/BLADE/lib/python3.10/site-packages/Deconvolution/BLADE.py:809: RuntimeWarning: divide by zero encountered in log\n",
      "  return -self.Nsample*np.sum(np.log(Omega))\n",
      "/home/cke/miniconda3/envs/BLADE/lib/python3.10/site-packages/Deconvolution/BLADE.py:863: RuntimeWarning: invalid value encountered in double_scalars\n",
      "  return PX+PY+PF-QX-QF\n",
      "[Parallel(n_jobs=10)]: Done  52 tasks      | elapsed:   17.6s\n",
      "[Parallel(n_jobs=10)]: Done   5 tasks      | elapsed:    3.9s\n",
      "[Parallel(n_jobs=10)]: Done 160 out of 162 | elapsed:  1.6min remaining:    1.2s\n",
      "[Parallel(n_jobs=10)]: Done  12 tasks      | elapsed:    5.8s\n",
      "[Parallel(n_jobs=10)]: Done 162 out of 162 | elapsed:  1.6min finished\n",
      "[Parallel(n_jobs=10)]: Done  65 tasks      | elapsed:   20.7s\n"
     ]
    },
    {
     "name": "stdout",
     "output_type": "stream",
     "text": [
      "No feature filtering is done (fsel = 0)\n",
      "Done optimization, elapsed time (min): 11.844157548745473\n",
      "export to:  /home/cke/PseudoBulk/Results/BLADE/fullpipeline_pseudobulk_Jul28_LOT_pseudobulk__LOT22_BLADEout_top50DEGs.pickle\n",
      "now with feature selection setup:  top100markers\n",
      "Get mean and std exp!\n",
      "Get common genes!  898\n",
      "cell types:  10\n",
      "bulk samples:  1\n",
      "start BLADE!\n",
      "all of 898 genes are used for optimization.\n",
      "All samples are used during the optimization.\n",
      "Initialization with Support vector regression\n",
      "No feature filtering is done (fsel = 0)\n",
      "Done optimization, elapsed time (min): 6.126629253228505\n",
      "export to:  /home/cke/PseudoBulk/Results/BLADE/fullpipeline_pseudobulk_Jul28_LOT_pseudobulk__LOT22_BLADEout_top100markers.pickle\n",
      "now with feature selection setup:  top20markers\n",
      "Get mean and std exp!\n",
      "Get common genes!  198\n",
      "cell types:  10\n",
      "bulk samples:  1\n",
      "start BLADE!\n",
      "all of 198 genes are used for optimization.\n",
      "All samples are used during the optimization.\n",
      "Initialization with Support vector regression\n",
      "No feature filtering is done (fsel = 0)\n",
      "Done optimization, elapsed time (min): 1.0646955688794455\n",
      "export to:  /home/cke/PseudoBulk/Results/BLADE/fullpipeline_pseudobulk_Jul28_LOT_pseudobulk__LOT22_BLADEout_top20markers.pickle\n",
      "now with feature selection setup:  top100DEGs\n",
      "Get mean and std exp!\n",
      "Get common genes!  876\n",
      "cell types:  10\n",
      "bulk samples:  1\n",
      "start BLADE!\n",
      "all of 876 genes are used for optimization.\n",
      "All samples are used during the optimization.\n",
      "Initialization with Support vector regression\n",
      "No feature filtering is done (fsel = 0)\n",
      "Done optimization, elapsed time (min): 3.484761146704356\n",
      "export to:  /home/cke/PseudoBulk/Results/BLADE/fullpipeline_pseudobulk_Jul28_LOT_pseudobulk__LOT22_BLADEout_top100DEGs.pickle\n",
      "now with feature selection setup:  top50markers\n",
      "Get mean and std exp!\n",
      "Get common genes!  467\n",
      "cell types:  10\n",
      "bulk samples:  1\n",
      "start BLADE!\n",
      "all of 467 genes are used for optimization.\n",
      "All samples are used during the optimization.\n",
      "Initialization with Support vector regression\n",
      "No feature filtering is done (fsel = 0)\n",
      "Done optimization, elapsed time (min): 1.6017472227414449\n",
      "export to:  /home/cke/PseudoBulk/Results/BLADE/fullpipeline_pseudobulk_Jul28_LOT_pseudobulk__LOT22_BLADEout_top50markers.pickle\n"
     ]
    },
    {
     "name": "stderr",
     "output_type": "stream",
     "text": [
      "[Parallel(n_jobs=10)]: Done  21 tasks      | elapsed:    8.8s\n",
      "[Parallel(n_jobs=10)]: Done  78 tasks      | elapsed:   24.5s\n",
      "[Parallel(n_jobs=10)]: Done  30 tasks      | elapsed:   11.8s\n",
      "[Parallel(n_jobs=10)]: Done  93 tasks      | elapsed:   27.7s\n",
      "[Parallel(n_jobs=10)]: Done  41 tasks      | elapsed:   14.0s\n",
      "[Parallel(n_jobs=10)]: Done 108 tasks      | elapsed:   31.3s\n",
      "[Parallel(n_jobs=10)]: Done  52 tasks      | elapsed:   17.2s\n",
      "[Parallel(n_jobs=10)]: Done  65 tasks      | elapsed:   21.1s\n",
      "[Parallel(n_jobs=10)]: Done 125 tasks      | elapsed:   36.0s\n",
      "[Parallel(n_jobs=10)]: Done  78 tasks      | elapsed:   24.8s\n",
      "[Parallel(n_jobs=10)]: Done 142 tasks      | elapsed:   40.5s\n",
      "[Parallel(n_jobs=10)]: Done  93 tasks      | elapsed:   28.0s\n",
      "[Parallel(n_jobs=10)]: Done 160 out of 162 | elapsed:   44.3s remaining:    0.6s\n",
      "[Parallel(n_jobs=10)]: Done 162 out of 162 | elapsed:   44.6s finished\n"
     ]
    },
    {
     "name": "stdout",
     "output_type": "stream",
     "text": [
      "No feature filtering is done (fsel = 0)\n",
      "Done optimization, elapsed time (min): 13.953982547918956\n",
      "export to:  /home/cke/PseudoBulk/Results/BLADE/fullpipeline_pseudobulk_Jul28_LOT_pseudobulk__LOT26_BLADEout_top50DEGs.pickle\n",
      "now with feature selection setup:  top100markers\n",
      "Get mean and std exp!\n",
      "Get common genes!  898\n",
      "cell types:  10\n",
      "bulk samples:  1\n",
      "start BLADE!\n",
      "all of 898 genes are used for optimization.\n",
      "All samples are used during the optimization.\n",
      "Initialization with Support vector regression\n",
      "No feature filtering is done (fsel = 0)\n",
      "Done optimization, elapsed time (min): 5.2980514089266455\n",
      "export to:  /home/cke/PseudoBulk/Results/BLADE/fullpipeline_pseudobulk_Jul28_LOT_pseudobulk__LOT26_BLADEout_top100markers.pickle\n",
      "now with feature selection setup:  top20markers\n",
      "Get mean and std exp!\n",
      "Get common genes!  198\n",
      "cell types:  10\n",
      "bulk samples:  1\n",
      "start BLADE!\n",
      "all of 198 genes are used for optimization.\n",
      "All samples are used during the optimization.\n",
      "Initialization with Support vector regression\n",
      "No feature filtering is done (fsel = 0)\n",
      "Done optimization, elapsed time (min): 0.9415369629859924\n",
      "export to:  /home/cke/PseudoBulk/Results/BLADE/fullpipeline_pseudobulk_Jul28_LOT_pseudobulk__LOT26_BLADEout_top20markers.pickle\n",
      "now with feature selection setup:  top100DEGs\n",
      "Get mean and std exp!\n",
      "Get common genes!  876\n",
      "cell types:  10\n",
      "bulk samples:  1\n",
      "start BLADE!\n",
      "all of 876 genes are used for optimization.\n",
      "All samples are used during the optimization.\n",
      "Initialization with Support vector regression\n",
      "No feature filtering is done (fsel = 0)\n",
      "Done optimization, elapsed time (min): 3.2903424580891927\n",
      "export to:  /home/cke/PseudoBulk/Results/BLADE/fullpipeline_pseudobulk_Jul28_LOT_pseudobulk__LOT26_BLADEout_top100DEGs.pickle\n",
      "now with feature selection setup:  top50markers\n",
      "Get mean and std exp!\n",
      "Get common genes!  467\n",
      "cell types:  10\n",
      "bulk samples:  1\n",
      "start BLADE!\n",
      "all of 467 genes are used for optimization.\n",
      "All samples are used during the optimization.\n",
      "Initialization with Support vector regression\n",
      "No feature filtering is done (fsel = 0)\n",
      "Done optimization, elapsed time (min): 0.7547110795974732\n",
      "export to:  /home/cke/PseudoBulk/Results/BLADE/fullpipeline_pseudobulk_Jul28_LOT_pseudobulk__LOT26_BLADEout_top50markers.pickle\n"
     ]
    },
    {
     "name": "stderr",
     "output_type": "stream",
     "text": [
      "[Parallel(n_jobs=10)]: Done 108 tasks      | elapsed:   31.8s\n",
      "[Parallel(n_jobs=10)]: Done 125 tasks      | elapsed:   34.7s\n",
      "[Parallel(n_jobs=10)]: Done 142 tasks      | elapsed:   38.1s\n",
      "[Parallel(n_jobs=10)]: Done 160 out of 162 | elapsed:   42.5s remaining:    0.5s\n",
      "[Parallel(n_jobs=10)]: Done 162 out of 162 | elapsed:   43.1s finished\n"
     ]
    },
    {
     "name": "stdout",
     "output_type": "stream",
     "text": [
      "No feature filtering is done (fsel = 0)\n",
      "Done optimization, elapsed time (min): 12.338426880041759\n",
      "export to:  /home/cke/PseudoBulk/Results/BLADE/fullpipeline_pseudobulk_Jul28_LOT_pseudobulk__LOT25_BLADEout_top50DEGs.pickle\n",
      "now with feature selection setup:  top100markers\n",
      "Get mean and std exp!\n",
      "Get common genes!  898\n",
      "cell types:  10\n",
      "bulk samples:  1\n",
      "start BLADE!\n",
      "all of 898 genes are used for optimization.\n",
      "All samples are used during the optimization.\n",
      "Initialization with Support vector regression\n",
      "No feature filtering is done (fsel = 0)\n",
      "Done optimization, elapsed time (min): 7.367844398816427\n",
      "export to:  /home/cke/PseudoBulk/Results/BLADE/fullpipeline_pseudobulk_Jul28_LOT_pseudobulk__LOT25_BLADEout_top100markers.pickle\n",
      "now with feature selection setup:  top20markers\n",
      "Get mean and std exp!\n",
      "Get common genes!  198\n",
      "cell types:  10\n",
      "bulk samples:  1\n",
      "start BLADE!\n",
      "all of 198 genes are used for optimization.\n",
      "All samples are used during the optimization.\n",
      "Initialization with Support vector regression\n",
      "No feature filtering is done (fsel = 0)\n",
      "Done optimization, elapsed time (min): 1.1829445799191793\n",
      "export to:  /home/cke/PseudoBulk/Results/BLADE/fullpipeline_pseudobulk_Jul28_LOT_pseudobulk__LOT25_BLADEout_top20markers.pickle\n",
      "now with feature selection setup:  top100DEGs\n",
      "Get mean and std exp!\n",
      "Get common genes!  876\n",
      "cell types:  10\n",
      "bulk samples:  1\n",
      "start BLADE!\n",
      "all of 876 genes are used for optimization.\n",
      "All samples are used during the optimization.\n",
      "Initialization with Support vector regression\n",
      "No feature filtering is done (fsel = 0)\n",
      "Done optimization, elapsed time (min): 3.9819058100382487\n",
      "export to:  /home/cke/PseudoBulk/Results/BLADE/fullpipeline_pseudobulk_Jul28_LOT_pseudobulk__LOT25_BLADEout_top100DEGs.pickle\n",
      "now with feature selection setup:  top50markers\n",
      "Get mean and std exp!\n",
      "Get common genes!  467\n",
      "cell types:  10\n",
      "bulk samples:  1\n",
      "start BLADE!\n",
      "all of 467 genes are used for optimization.\n",
      "All samples are used during the optimization.\n",
      "Initialization with Support vector regression\n",
      "No feature filtering is done (fsel = 0)\n",
      "Done optimization, elapsed time (min): 0.7297070940335592\n",
      "export to:  /home/cke/PseudoBulk/Results/BLADE/fullpipeline_pseudobulk_Jul28_LOT_pseudobulk__LOT25_BLADEout_top50markers.pickle\n"
     ]
    },
    {
     "name": "stderr",
     "output_type": "stream",
     "text": [
      "[Parallel(n_jobs=10)]: Done 162 out of 162 | elapsed: 26.5min finished\n",
      "[Parallel(n_jobs=10)]: Using backend LokyBackend with 10 concurrent workers.\n"
     ]
    },
    {
     "name": "stdout",
     "output_type": "stream",
     "text": [
      "No feature filtering is done (fsel = 0)\n",
      "Done optimization, elapsed time (min): 26.647947359085084\n",
      "export to:  /home/cke/PseudoBulk/Results/BLADE/fullpipeline_pseudobulk_Jul28_LOT_pseudobulk__LOT6_BLADEout_top50DEGs.pickle\n",
      "now with feature selection setup:  top100markers\n",
      "Get mean and std exp!\n",
      "Get common genes!  898\n",
      "cell types:  10\n",
      "bulk samples:  1\n",
      "start BLADE!\n",
      "all of 898 genes are used for optimization.\n",
      "All samples are used during the optimization.\n",
      "Initialization with Support vector regression\n"
     ]
    },
    {
     "name": "stderr",
     "output_type": "stream",
     "text": [
      "[Parallel(n_jobs=10)]: Done   1 tasks      | elapsed:    3.8s\n",
      "[Parallel(n_jobs=10)]: Done   1 out of   1 | elapsed:    3.8s finished\n",
      "[Parallel(n_jobs=10)]: Using backend LokyBackend with 10 concurrent workers.\n",
      "/home/cke/miniconda3/envs/BLADE/lib/python3.10/site-packages/Deconvolution/BLADE.py:809: RuntimeWarning: divide by zero encountered in log\n",
      "  return -self.Nsample*np.sum(np.log(Omega))\n",
      "/home/cke/miniconda3/envs/BLADE/lib/python3.10/site-packages/Deconvolution/BLADE.py:863: RuntimeWarning: invalid value encountered in double_scalars\n",
      "  return PX+PY+PF-QX-QF\n",
      "/home/cke/miniconda3/envs/BLADE/lib/python3.10/site-packages/Deconvolution/BLADE.py:809: RuntimeWarning: divide by zero encountered in log\n",
      "  return -self.Nsample*np.sum(np.log(Omega))\n",
      "/home/cke/miniconda3/envs/BLADE/lib/python3.10/site-packages/Deconvolution/BLADE.py:863: RuntimeWarning: invalid value encountered in double_scalars\n",
      "  return PX+PY+PF-QX-QF\n",
      "/home/cke/miniconda3/envs/BLADE/lib/python3.10/site-packages/Deconvolution/BLADE.py:809: RuntimeWarning: divide by zero encountered in log\n",
      "  return -self.Nsample*np.sum(np.log(Omega))\n",
      "/home/cke/miniconda3/envs/BLADE/lib/python3.10/site-packages/Deconvolution/BLADE.py:863: RuntimeWarning: invalid value encountered in double_scalars\n",
      "  return PX+PY+PF-QX-QF\n",
      "/home/cke/miniconda3/envs/BLADE/lib/python3.10/site-packages/Deconvolution/BLADE.py:809: RuntimeWarning: divide by zero encountered in log\n",
      "  return -self.Nsample*np.sum(np.log(Omega))\n",
      "/home/cke/miniconda3/envs/BLADE/lib/python3.10/site-packages/Deconvolution/BLADE.py:863: RuntimeWarning: invalid value encountered in double_scalars\n",
      "  return PX+PY+PF-QX-QF\n",
      "/home/cke/miniconda3/envs/BLADE/lib/python3.10/site-packages/Deconvolution/BLADE.py:809: RuntimeWarning: divide by zero encountered in log\n",
      "  return -self.Nsample*np.sum(np.log(Omega))\n",
      "/home/cke/miniconda3/envs/BLADE/lib/python3.10/site-packages/Deconvolution/BLADE.py:863: RuntimeWarning: invalid value encountered in double_scalars\n",
      "  return PX+PY+PF-QX-QF\n",
      "/home/cke/miniconda3/envs/BLADE/lib/python3.10/site-packages/Deconvolution/BLADE.py:809: RuntimeWarning: divide by zero encountered in log\n",
      "  return -self.Nsample*np.sum(np.log(Omega))\n",
      "/home/cke/miniconda3/envs/BLADE/lib/python3.10/site-packages/Deconvolution/BLADE.py:863: RuntimeWarning: invalid value encountered in double_scalars\n",
      "  return PX+PY+PF-QX-QF\n",
      "/home/cke/miniconda3/envs/BLADE/lib/python3.10/site-packages/Deconvolution/BLADE.py:809: RuntimeWarning: divide by zero encountered in log\n",
      "  return -self.Nsample*np.sum(np.log(Omega))\n",
      "/home/cke/miniconda3/envs/BLADE/lib/python3.10/site-packages/Deconvolution/BLADE.py:863: RuntimeWarning: invalid value encountered in double_scalars\n",
      "  return PX+PY+PF-QX-QF\n",
      "/home/cke/miniconda3/envs/BLADE/lib/python3.10/site-packages/Deconvolution/BLADE.py:809: RuntimeWarning: divide by zero encountered in log\n",
      "  return -self.Nsample*np.sum(np.log(Omega))\n",
      "/home/cke/miniconda3/envs/BLADE/lib/python3.10/site-packages/Deconvolution/BLADE.py:863: RuntimeWarning: invalid value encountered in double_scalars\n",
      "  return PX+PY+PF-QX-QF\n",
      "/home/cke/miniconda3/envs/BLADE/lib/python3.10/site-packages/Deconvolution/BLADE.py:809: RuntimeWarning: divide by zero encountered in log\n",
      "  return -self.Nsample*np.sum(np.log(Omega))\n",
      "/home/cke/miniconda3/envs/BLADE/lib/python3.10/site-packages/Deconvolution/BLADE.py:863: RuntimeWarning: invalid value encountered in double_scalars\n",
      "  return PX+PY+PF-QX-QF\n",
      "/home/cke/miniconda3/envs/BLADE/lib/python3.10/site-packages/Deconvolution/BLADE.py:809: RuntimeWarning: divide by zero encountered in log\n",
      "  return -self.Nsample*np.sum(np.log(Omega))\n",
      "/home/cke/miniconda3/envs/BLADE/lib/python3.10/site-packages/Deconvolution/BLADE.py:863: RuntimeWarning: invalid value encountered in double_scalars\n",
      "  return PX+PY+PF-QX-QF\n",
      "[Parallel(n_jobs=10)]: Done   5 tasks      | elapsed:   25.8s\n",
      "[Parallel(n_jobs=10)]: Done 162 out of 162 | elapsed: 27.4min finished\n",
      "/home/cke/miniconda3/envs/BLADE/lib/python3.10/site-packages/Deconvolution/BLADE.py:589: NumbaPerformanceWarning: \u001b[1m\u001b[1m\u001b[1m\u001b[1mnp.dot() is faster on contiguous arrays, called on (array(float64, 1d, C), array(float64, 2d, A))\u001b[0m\u001b[0m\u001b[0m\u001b[0m\n",
      "  g_Exp = g_Exp_Beta(Nu, Omega, Beta, B0, Ngene, Ncell, Nsample)\n",
      "/home/cke/miniconda3/envs/BLADE/lib/python3.10/site-packages/Deconvolution/BLADE.py:589: NumbaPerformanceWarning: \u001b[1m\u001b[1m\u001b[1m\u001b[1mnp.dot() is faster on contiguous arrays, called on (array(float64, 1d, C), array(float64, 2d, A))\u001b[0m\u001b[0m\u001b[0m\u001b[0m\n",
      "  g_Exp = g_Exp_Beta(Nu, Omega, Beta, B0, Ngene, Ncell, Nsample)\n",
      "/home/cke/miniconda3/envs/BLADE/lib/python3.10/site-packages/Deconvolution/BLADE.py:589: NumbaPerformanceWarning: \u001b[1m\u001b[1m\u001b[1m\u001b[1mnp.dot() is faster on contiguous arrays, called on (array(float64, 1d, C), array(float64, 2d, A))\u001b[0m\u001b[0m\u001b[0m\u001b[0m\n",
      "  g_Exp = g_Exp_Beta(Nu, Omega, Beta, B0, Ngene, Ncell, Nsample)\n",
      "/home/cke/miniconda3/envs/BLADE/lib/python3.10/site-packages/Deconvolution/BLADE.py:589: NumbaPerformanceWarning: \u001b[1m\u001b[1m\u001b[1m\u001b[1mnp.dot() is faster on contiguous arrays, called on (array(float64, 1d, C), array(float64, 2d, A))\u001b[0m\u001b[0m\u001b[0m\u001b[0m\n",
      "  g_Exp = g_Exp_Beta(Nu, Omega, Beta, B0, Ngene, Ncell, Nsample)\n",
      "/home/cke/miniconda3/envs/BLADE/lib/python3.10/site-packages/Deconvolution/BLADE.py:589: NumbaPerformanceWarning: \u001b[1m\u001b[1m\u001b[1m\u001b[1mnp.dot() is faster on contiguous arrays, called on (array(float64, 1d, C), array(float64, 2d, A))\u001b[0m\u001b[0m\u001b[0m\u001b[0m\n",
      "  g_Exp = g_Exp_Beta(Nu, Omega, Beta, B0, Ngene, Ncell, Nsample)\n",
      "/home/cke/miniconda3/envs/BLADE/lib/python3.10/site-packages/Deconvolution/BLADE.py:589: NumbaPerformanceWarning: \u001b[1m\u001b[1m\u001b[1m\u001b[1mnp.dot() is faster on contiguous arrays, called on (array(float64, 1d, C), array(float64, 2d, A))\u001b[0m\u001b[0m\u001b[0m\u001b[0m\n",
      "  g_Exp = g_Exp_Beta(Nu, Omega, Beta, B0, Ngene, Ncell, Nsample)\n",
      "/home/cke/miniconda3/envs/BLADE/lib/python3.10/site-packages/Deconvolution/BLADE.py:589: NumbaPerformanceWarning: \u001b[1m\u001b[1m\u001b[1m\u001b[1mnp.dot() is faster on contiguous arrays, called on (array(float64, 1d, C), array(float64, 2d, A))\u001b[0m\u001b[0m\u001b[0m\u001b[0m\n",
      "  g_Exp = g_Exp_Beta(Nu, Omega, Beta, B0, Ngene, Ncell, Nsample)\n",
      "/home/cke/miniconda3/envs/BLADE/lib/python3.10/site-packages/Deconvolution/BLADE.py:589: NumbaPerformanceWarning: \u001b[1m\u001b[1m\u001b[1m\u001b[1mnp.dot() is faster on contiguous arrays, called on (array(float64, 1d, C), array(float64, 2d, A))\u001b[0m\u001b[0m\u001b[0m\u001b[0m\n",
      "  g_Exp = g_Exp_Beta(Nu, Omega, Beta, B0, Ngene, Ncell, Nsample)\n",
      "/home/cke/miniconda3/envs/BLADE/lib/python3.10/site-packages/Deconvolution/BLADE.py:589: NumbaPerformanceWarning: \u001b[1m\u001b[1m\u001b[1m\u001b[1mnp.dot() is faster on contiguous arrays, called on (array(float64, 1d, C), array(float64, 2d, A))\u001b[0m\u001b[0m\u001b[0m\u001b[0m\n",
      "  g_Exp = g_Exp_Beta(Nu, Omega, Beta, B0, Ngene, Ncell, Nsample)\n",
      "[Parallel(n_jobs=10)]: Using backend LokyBackend with 10 concurrent workers.\n"
     ]
    },
    {
     "name": "stdout",
     "output_type": "stream",
     "text": [
      "No feature filtering is done (fsel = 0)\n",
      "Done optimization, elapsed time (min): 27.63280484278997\n",
      "export to:  /home/cke/PseudoBulk/Results/BLADE/fullpipeline_pseudobulk_Jul28_LOT_pseudobulk__LOT18_BLADEout_top50DEGs.pickle\n",
      "now with feature selection setup:  top100markers\n",
      "Get mean and std exp!\n",
      "Get common genes!  898\n",
      "cell types:  10\n",
      "bulk samples:  1\n",
      "start BLADE!\n",
      "all of 898 genes are used for optimization.\n",
      "All samples are used during the optimization.\n",
      "Initialization with Support vector regression\n"
     ]
    },
    {
     "name": "stderr",
     "output_type": "stream",
     "text": [
      "[Parallel(n_jobs=10)]: Done   1 tasks      | elapsed:    1.7s\n",
      "[Parallel(n_jobs=10)]: Done   1 out of   1 | elapsed:    1.7s finished\n",
      "[Parallel(n_jobs=10)]: Using backend LokyBackend with 10 concurrent workers.\n",
      "/home/cke/miniconda3/envs/BLADE/lib/python3.10/site-packages/Deconvolution/BLADE.py:809: RuntimeWarning: divide by zero encountered in log\n",
      "  return -self.Nsample*np.sum(np.log(Omega))\n",
      "/home/cke/miniconda3/envs/BLADE/lib/python3.10/site-packages/Deconvolution/BLADE.py:863: RuntimeWarning: invalid value encountered in double_scalars\n",
      "  return PX+PY+PF-QX-QF\n",
      "[Parallel(n_jobs=10)]: Done  12 tasks      | elapsed:   56.6s\n",
      "/home/cke/miniconda3/envs/BLADE/lib/python3.10/site-packages/Deconvolution/BLADE.py:809: RuntimeWarning: divide by zero encountered in log\n",
      "  return -self.Nsample*np.sum(np.log(Omega))\n",
      "/home/cke/miniconda3/envs/BLADE/lib/python3.10/site-packages/Deconvolution/BLADE.py:863: RuntimeWarning: invalid value encountered in double_scalars\n",
      "  return PX+PY+PF-QX-QF\n",
      "/home/cke/miniconda3/envs/BLADE/lib/python3.10/site-packages/Deconvolution/BLADE.py:809: RuntimeWarning: divide by zero encountered in log\n",
      "  return -self.Nsample*np.sum(np.log(Omega))\n",
      "/home/cke/miniconda3/envs/BLADE/lib/python3.10/site-packages/Deconvolution/BLADE.py:863: RuntimeWarning: invalid value encountered in double_scalars\n",
      "  return PX+PY+PF-QX-QF\n",
      "/home/cke/miniconda3/envs/BLADE/lib/python3.10/site-packages/Deconvolution/BLADE.py:809: RuntimeWarning: divide by zero encountered in log\n",
      "  return -self.Nsample*np.sum(np.log(Omega))\n",
      "/home/cke/miniconda3/envs/BLADE/lib/python3.10/site-packages/Deconvolution/BLADE.py:863: RuntimeWarning: invalid value encountered in double_scalars\n",
      "  return PX+PY+PF-QX-QF\n",
      "/home/cke/miniconda3/envs/BLADE/lib/python3.10/site-packages/Deconvolution/BLADE.py:809: RuntimeWarning: divide by zero encountered in log\n",
      "  return -self.Nsample*np.sum(np.log(Omega))\n",
      "/home/cke/miniconda3/envs/BLADE/lib/python3.10/site-packages/Deconvolution/BLADE.py:863: RuntimeWarning: invalid value encountered in double_scalars\n",
      "  return PX+PY+PF-QX-QF\n",
      "/home/cke/miniconda3/envs/BLADE/lib/python3.10/site-packages/Deconvolution/BLADE.py:809: RuntimeWarning: divide by zero encountered in log\n",
      "  return -self.Nsample*np.sum(np.log(Omega))\n",
      "/home/cke/miniconda3/envs/BLADE/lib/python3.10/site-packages/Deconvolution/BLADE.py:863: RuntimeWarning: invalid value encountered in double_scalars\n",
      "  return PX+PY+PF-QX-QF\n",
      "[Parallel(n_jobs=10)]: Done   5 tasks      | elapsed:   10.4s\n",
      "/home/cke/miniconda3/envs/BLADE/lib/python3.10/site-packages/Deconvolution/BLADE.py:809: RuntimeWarning: divide by zero encountered in log\n",
      "  return -self.Nsample*np.sum(np.log(Omega))\n",
      "/home/cke/miniconda3/envs/BLADE/lib/python3.10/site-packages/Deconvolution/BLADE.py:863: RuntimeWarning: invalid value encountered in double_scalars\n",
      "  return PX+PY+PF-QX-QF\n",
      "/home/cke/miniconda3/envs/BLADE/lib/python3.10/site-packages/Deconvolution/BLADE.py:809: RuntimeWarning: divide by zero encountered in log\n",
      "  return -self.Nsample*np.sum(np.log(Omega))\n",
      "/home/cke/miniconda3/envs/BLADE/lib/python3.10/site-packages/Deconvolution/BLADE.py:863: RuntimeWarning: invalid value encountered in double_scalars\n",
      "  return PX+PY+PF-QX-QF\n",
      "/home/cke/miniconda3/envs/BLADE/lib/python3.10/site-packages/Deconvolution/BLADE.py:809: RuntimeWarning: divide by zero encountered in log\n",
      "  return -self.Nsample*np.sum(np.log(Omega))\n",
      "/home/cke/miniconda3/envs/BLADE/lib/python3.10/site-packages/Deconvolution/BLADE.py:863: RuntimeWarning: invalid value encountered in double_scalars\n",
      "  return PX+PY+PF-QX-QF\n",
      "/home/cke/miniconda3/envs/BLADE/lib/python3.10/site-packages/Deconvolution/BLADE.py:809: RuntimeWarning: divide by zero encountered in log\n",
      "  return -self.Nsample*np.sum(np.log(Omega))\n",
      "/home/cke/miniconda3/envs/BLADE/lib/python3.10/site-packages/Deconvolution/BLADE.py:863: RuntimeWarning: invalid value encountered in double_scalars\n",
      "  return PX+PY+PF-QX-QF\n",
      "/home/cke/miniconda3/envs/BLADE/lib/python3.10/site-packages/Deconvolution/BLADE.py:809: RuntimeWarning: divide by zero encountered in log\n",
      "  return -self.Nsample*np.sum(np.log(Omega))\n",
      "/home/cke/miniconda3/envs/BLADE/lib/python3.10/site-packages/Deconvolution/BLADE.py:863: RuntimeWarning: invalid value encountered in double_scalars\n",
      "  return PX+PY+PF-QX-QF\n",
      "/home/cke/miniconda3/envs/BLADE/lib/python3.10/site-packages/Deconvolution/BLADE.py:809: RuntimeWarning: divide by zero encountered in log\n",
      "  return -self.Nsample*np.sum(np.log(Omega))\n",
      "/home/cke/miniconda3/envs/BLADE/lib/python3.10/site-packages/Deconvolution/BLADE.py:863: RuntimeWarning: invalid value encountered in double_scalars\n",
      "  return PX+PY+PF-QX-QF\n",
      "/home/cke/miniconda3/envs/BLADE/lib/python3.10/site-packages/Deconvolution/BLADE.py:809: RuntimeWarning: divide by zero encountered in log\n",
      "  return -self.Nsample*np.sum(np.log(Omega))\n",
      "/home/cke/miniconda3/envs/BLADE/lib/python3.10/site-packages/Deconvolution/BLADE.py:863: RuntimeWarning: invalid value encountered in double_scalars\n",
      "  return PX+PY+PF-QX-QF\n",
      "/home/cke/miniconda3/envs/BLADE/lib/python3.10/site-packages/Deconvolution/BLADE.py:809: RuntimeWarning: divide by zero encountered in log\n",
      "  return -self.Nsample*np.sum(np.log(Omega))\n",
      "/home/cke/miniconda3/envs/BLADE/lib/python3.10/site-packages/Deconvolution/BLADE.py:863: RuntimeWarning: invalid value encountered in double_scalars\n",
      "  return PX+PY+PF-QX-QF\n",
      "/home/cke/miniconda3/envs/BLADE/lib/python3.10/site-packages/Deconvolution/BLADE.py:809: RuntimeWarning: divide by zero encountered in log\n",
      "  return -self.Nsample*np.sum(np.log(Omega))\n",
      "/home/cke/miniconda3/envs/BLADE/lib/python3.10/site-packages/Deconvolution/BLADE.py:863: RuntimeWarning: invalid value encountered in double_scalars\n",
      "  return PX+PY+PF-QX-QF\n",
      "/home/cke/miniconda3/envs/BLADE/lib/python3.10/site-packages/Deconvolution/BLADE.py:809: RuntimeWarning: divide by zero encountered in log\n",
      "  return -self.Nsample*np.sum(np.log(Omega))\n",
      "/home/cke/miniconda3/envs/BLADE/lib/python3.10/site-packages/Deconvolution/BLADE.py:863: RuntimeWarning: invalid value encountered in double_scalars\n",
      "  return PX+PY+PF-QX-QF\n",
      "/home/cke/miniconda3/envs/BLADE/lib/python3.10/site-packages/Deconvolution/BLADE.py:809: RuntimeWarning: divide by zero encountered in log\n",
      "  return -self.Nsample*np.sum(np.log(Omega))\n",
      "/home/cke/miniconda3/envs/BLADE/lib/python3.10/site-packages/Deconvolution/BLADE.py:863: RuntimeWarning: invalid value encountered in double_scalars\n",
      "  return PX+PY+PF-QX-QF\n",
      "/home/cke/miniconda3/envs/BLADE/lib/python3.10/site-packages/Deconvolution/BLADE.py:809: RuntimeWarning: divide by zero encountered in log\n",
      "  return -self.Nsample*np.sum(np.log(Omega))\n",
      "/home/cke/miniconda3/envs/BLADE/lib/python3.10/site-packages/Deconvolution/BLADE.py:863: RuntimeWarning: invalid value encountered in double_scalars\n",
      "  return PX+PY+PF-QX-QF\n",
      "/home/cke/miniconda3/envs/BLADE/lib/python3.10/site-packages/Deconvolution/BLADE.py:809: RuntimeWarning: divide by zero encountered in log\n",
      "  return -self.Nsample*np.sum(np.log(Omega))\n",
      "/home/cke/miniconda3/envs/BLADE/lib/python3.10/site-packages/Deconvolution/BLADE.py:863: RuntimeWarning: invalid value encountered in double_scalars\n",
      "  return PX+PY+PF-QX-QF\n",
      "[Parallel(n_jobs=10)]: Done  12 tasks      | elapsed:   24.6s\n",
      "/home/cke/miniconda3/envs/BLADE/lib/python3.10/site-packages/Deconvolution/BLADE.py:589: NumbaPerformanceWarning: \u001b[1m\u001b[1m\u001b[1m\u001b[1mnp.dot() is faster on contiguous arrays, called on (array(float64, 1d, C), array(float64, 2d, A))\u001b[0m\u001b[0m\u001b[0m\u001b[0m\n",
      "  g_Exp = g_Exp_Beta(Nu, Omega, Beta, B0, Ngene, Ncell, Nsample)\n",
      "/home/cke/miniconda3/envs/BLADE/lib/python3.10/site-packages/Deconvolution/BLADE.py:589: NumbaPerformanceWarning: \u001b[1m\u001b[1m\u001b[1m\u001b[1mnp.dot() is faster on contiguous arrays, called on (array(float64, 1d, C), array(float64, 2d, A))\u001b[0m\u001b[0m\u001b[0m\u001b[0m\n",
      "  g_Exp = g_Exp_Beta(Nu, Omega, Beta, B0, Ngene, Ncell, Nsample)\n",
      "/home/cke/miniconda3/envs/BLADE/lib/python3.10/site-packages/Deconvolution/BLADE.py:589: NumbaPerformanceWarning: \u001b[1m\u001b[1m\u001b[1m\u001b[1mnp.dot() is faster on contiguous arrays, called on (array(float64, 1d, C), array(float64, 2d, A))\u001b[0m\u001b[0m\u001b[0m\u001b[0m\n",
      "  g_Exp = g_Exp_Beta(Nu, Omega, Beta, B0, Ngene, Ncell, Nsample)\n",
      "/home/cke/miniconda3/envs/BLADE/lib/python3.10/site-packages/Deconvolution/BLADE.py:589: NumbaPerformanceWarning: \u001b[1m\u001b[1m\u001b[1m\u001b[1mnp.dot() is faster on contiguous arrays, called on (array(float64, 1d, C), array(float64, 2d, A))\u001b[0m\u001b[0m\u001b[0m\u001b[0m\n",
      "  g_Exp = g_Exp_Beta(Nu, Omega, Beta, B0, Ngene, Ncell, Nsample)\n",
      "/home/cke/miniconda3/envs/BLADE/lib/python3.10/site-packages/Deconvolution/BLADE.py:589: NumbaPerformanceWarning: \u001b[1m\u001b[1m\u001b[1m\u001b[1mnp.dot() is faster on contiguous arrays, called on (array(float64, 1d, C), array(float64, 2d, A))\u001b[0m\u001b[0m\u001b[0m\u001b[0m\n",
      "  g_Exp = g_Exp_Beta(Nu, Omega, Beta, B0, Ngene, Ncell, Nsample)\n"
     ]
    },
    {
     "name": "stderr",
     "output_type": "stream",
     "text": [
      "/home/cke/miniconda3/envs/BLADE/lib/python3.10/site-packages/Deconvolution/BLADE.py:589: NumbaPerformanceWarning: \u001b[1m\u001b[1m\u001b[1m\u001b[1mnp.dot() is faster on contiguous arrays, called on (array(float64, 1d, C), array(float64, 2d, A))\u001b[0m\u001b[0m\u001b[0m\u001b[0m\n",
      "  g_Exp = g_Exp_Beta(Nu, Omega, Beta, B0, Ngene, Ncell, Nsample)\n",
      "/home/cke/miniconda3/envs/BLADE/lib/python3.10/site-packages/Deconvolution/BLADE.py:589: NumbaPerformanceWarning: \u001b[1m\u001b[1m\u001b[1m\u001b[1mnp.dot() is faster on contiguous arrays, called on (array(float64, 1d, C), array(float64, 2d, A))\u001b[0m\u001b[0m\u001b[0m\u001b[0m\n",
      "  g_Exp = g_Exp_Beta(Nu, Omega, Beta, B0, Ngene, Ncell, Nsample)\n",
      "/home/cke/miniconda3/envs/BLADE/lib/python3.10/site-packages/Deconvolution/BLADE.py:589: NumbaPerformanceWarning: \u001b[1m\u001b[1m\u001b[1m\u001b[1mnp.dot() is faster on contiguous arrays, called on (array(float64, 1d, C), array(float64, 2d, A))\u001b[0m\u001b[0m\u001b[0m\u001b[0m\n",
      "  g_Exp = g_Exp_Beta(Nu, Omega, Beta, B0, Ngene, Ncell, Nsample)\n",
      "/home/cke/miniconda3/envs/BLADE/lib/python3.10/site-packages/Deconvolution/BLADE.py:589: NumbaPerformanceWarning: \u001b[1m\u001b[1m\u001b[1m\u001b[1mnp.dot() is faster on contiguous arrays, called on (array(float64, 1d, C), array(float64, 2d, A))\u001b[0m\u001b[0m\u001b[0m\u001b[0m\n",
      "  g_Exp = g_Exp_Beta(Nu, Omega, Beta, B0, Ngene, Ncell, Nsample)\n",
      "[Parallel(n_jobs=10)]: Done  21 tasks      | elapsed:   47.7s\n",
      "[Parallel(n_jobs=10)]: Done  21 tasks      | elapsed:  1.7min\n",
      "/home/cke/miniconda3/envs/BLADE/lib/python3.10/site-packages/Deconvolution/BLADE.py:809: RuntimeWarning: divide by zero encountered in log\n",
      "  return -self.Nsample*np.sum(np.log(Omega))\n",
      "/home/cke/miniconda3/envs/BLADE/lib/python3.10/site-packages/Deconvolution/BLADE.py:863: RuntimeWarning: invalid value encountered in double_scalars\n",
      "  return PX+PY+PF-QX-QF\n",
      "/home/cke/miniconda3/envs/BLADE/lib/python3.10/site-packages/Deconvolution/BLADE.py:809: RuntimeWarning: divide by zero encountered in log\n",
      "  return -self.Nsample*np.sum(np.log(Omega))\n",
      "/home/cke/miniconda3/envs/BLADE/lib/python3.10/site-packages/Deconvolution/BLADE.py:863: RuntimeWarning: invalid value encountered in double_scalars\n",
      "  return PX+PY+PF-QX-QF\n",
      "/home/cke/miniconda3/envs/BLADE/lib/python3.10/site-packages/Deconvolution/BLADE.py:809: RuntimeWarning: divide by zero encountered in log\n",
      "  return -self.Nsample*np.sum(np.log(Omega))\n",
      "/home/cke/miniconda3/envs/BLADE/lib/python3.10/site-packages/Deconvolution/BLADE.py:863: RuntimeWarning: invalid value encountered in double_scalars\n",
      "  return PX+PY+PF-QX-QF\n",
      "/home/cke/miniconda3/envs/BLADE/lib/python3.10/site-packages/Deconvolution/BLADE.py:809: RuntimeWarning: divide by zero encountered in log\n",
      "  return -self.Nsample*np.sum(np.log(Omega))\n",
      "/home/cke/miniconda3/envs/BLADE/lib/python3.10/site-packages/Deconvolution/BLADE.py:863: RuntimeWarning: invalid value encountered in double_scalars\n",
      "  return PX+PY+PF-QX-QF\n",
      "/home/cke/miniconda3/envs/BLADE/lib/python3.10/site-packages/Deconvolution/BLADE.py:809: RuntimeWarning: divide by zero encountered in log\n",
      "  return -self.Nsample*np.sum(np.log(Omega))\n",
      "/home/cke/miniconda3/envs/BLADE/lib/python3.10/site-packages/Deconvolution/BLADE.py:863: RuntimeWarning: invalid value encountered in double_scalars\n",
      "  return PX+PY+PF-QX-QF\n",
      "/home/cke/miniconda3/envs/BLADE/lib/python3.10/site-packages/Deconvolution/BLADE.py:809: RuntimeWarning: divide by zero encountered in log\n",
      "  return -self.Nsample*np.sum(np.log(Omega))\n",
      "/home/cke/miniconda3/envs/BLADE/lib/python3.10/site-packages/Deconvolution/BLADE.py:863: RuntimeWarning: invalid value encountered in double_scalars\n",
      "  return PX+PY+PF-QX-QF\n",
      "[Parallel(n_jobs=10)]: Done  30 tasks      | elapsed:  1.9min\n",
      "/home/cke/miniconda3/envs/BLADE/lib/python3.10/site-packages/Deconvolution/BLADE.py:809: RuntimeWarning: divide by zero encountered in log\n",
      "  return -self.Nsample*np.sum(np.log(Omega))\n",
      "/home/cke/miniconda3/envs/BLADE/lib/python3.10/site-packages/Deconvolution/BLADE.py:863: RuntimeWarning: invalid value encountered in double_scalars\n",
      "  return PX+PY+PF-QX-QF\n",
      "/home/cke/miniconda3/envs/BLADE/lib/python3.10/site-packages/Deconvolution/BLADE.py:809: RuntimeWarning: divide by zero encountered in log\n",
      "  return -self.Nsample*np.sum(np.log(Omega))\n",
      "/home/cke/miniconda3/envs/BLADE/lib/python3.10/site-packages/Deconvolution/BLADE.py:863: RuntimeWarning: invalid value encountered in double_scalars\n",
      "  return PX+PY+PF-QX-QF\n",
      "/home/cke/miniconda3/envs/BLADE/lib/python3.10/site-packages/Deconvolution/BLADE.py:809: RuntimeWarning: divide by zero encountered in log\n",
      "  return -self.Nsample*np.sum(np.log(Omega))\n",
      "/home/cke/miniconda3/envs/BLADE/lib/python3.10/site-packages/Deconvolution/BLADE.py:863: RuntimeWarning: invalid value encountered in double_scalars\n",
      "  return PX+PY+PF-QX-QF\n",
      "/home/cke/miniconda3/envs/BLADE/lib/python3.10/site-packages/Deconvolution/BLADE.py:809: RuntimeWarning: divide by zero encountered in log\n",
      "  return -self.Nsample*np.sum(np.log(Omega))\n",
      "/home/cke/miniconda3/envs/BLADE/lib/python3.10/site-packages/Deconvolution/BLADE.py:863: RuntimeWarning: invalid value encountered in double_scalars\n",
      "  return PX+PY+PF-QX-QF\n",
      "[Parallel(n_jobs=10)]: Done  41 tasks      | elapsed:  2.1min\n",
      "/home/cke/miniconda3/envs/BLADE/lib/python3.10/site-packages/Deconvolution/BLADE.py:809: RuntimeWarning: divide by zero encountered in log\n",
      "  return -self.Nsample*np.sum(np.log(Omega))\n",
      "/home/cke/miniconda3/envs/BLADE/lib/python3.10/site-packages/Deconvolution/BLADE.py:863: RuntimeWarning: invalid value encountered in double_scalars\n",
      "  return PX+PY+PF-QX-QF\n",
      "[Parallel(n_jobs=10)]: Done  30 tasks      | elapsed:  1.3min\n",
      "/home/cke/miniconda3/envs/BLADE/lib/python3.10/site-packages/Deconvolution/BLADE.py:809: RuntimeWarning: divide by zero encountered in log\n",
      "  return -self.Nsample*np.sum(np.log(Omega))\n",
      "/home/cke/miniconda3/envs/BLADE/lib/python3.10/site-packages/Deconvolution/BLADE.py:863: RuntimeWarning: invalid value encountered in double_scalars\n",
      "  return PX+PY+PF-QX-QF\n",
      "/home/cke/miniconda3/envs/BLADE/lib/python3.10/site-packages/Deconvolution/BLADE.py:809: RuntimeWarning: divide by zero encountered in log\n",
      "  return -self.Nsample*np.sum(np.log(Omega))\n",
      "/home/cke/miniconda3/envs/BLADE/lib/python3.10/site-packages/Deconvolution/BLADE.py:863: RuntimeWarning: invalid value encountered in double_scalars\n",
      "  return PX+PY+PF-QX-QF\n",
      "/home/cke/miniconda3/envs/BLADE/lib/python3.10/site-packages/Deconvolution/BLADE.py:809: RuntimeWarning: divide by zero encountered in log\n",
      "  return -self.Nsample*np.sum(np.log(Omega))\n",
      "/home/cke/miniconda3/envs/BLADE/lib/python3.10/site-packages/Deconvolution/BLADE.py:863: RuntimeWarning: invalid value encountered in double_scalars\n",
      "  return PX+PY+PF-QX-QF\n",
      "/home/cke/miniconda3/envs/BLADE/lib/python3.10/site-packages/Deconvolution/BLADE.py:809: RuntimeWarning: divide by zero encountered in log\n",
      "  return -self.Nsample*np.sum(np.log(Omega))\n",
      "/home/cke/miniconda3/envs/BLADE/lib/python3.10/site-packages/Deconvolution/BLADE.py:863: RuntimeWarning: invalid value encountered in double_scalars\n",
      "  return PX+PY+PF-QX-QF\n",
      "/home/cke/miniconda3/envs/BLADE/lib/python3.10/site-packages/Deconvolution/BLADE.py:809: RuntimeWarning: divide by zero encountered in log\n",
      "  return -self.Nsample*np.sum(np.log(Omega))\n",
      "/home/cke/miniconda3/envs/BLADE/lib/python3.10/site-packages/Deconvolution/BLADE.py:863: RuntimeWarning: invalid value encountered in double_scalars\n",
      "  return PX+PY+PF-QX-QF\n",
      "/home/cke/miniconda3/envs/BLADE/lib/python3.10/site-packages/Deconvolution/BLADE.py:809: RuntimeWarning: divide by zero encountered in log\n",
      "  return -self.Nsample*np.sum(np.log(Omega))\n",
      "/home/cke/miniconda3/envs/BLADE/lib/python3.10/site-packages/Deconvolution/BLADE.py:863: RuntimeWarning: invalid value encountered in double_scalars\n",
      "  return PX+PY+PF-QX-QF\n",
      "/home/cke/miniconda3/envs/BLADE/lib/python3.10/site-packages/Deconvolution/BLADE.py:809: RuntimeWarning: divide by zero encountered in log\n",
      "  return -self.Nsample*np.sum(np.log(Omega))\n",
      "/home/cke/miniconda3/envs/BLADE/lib/python3.10/site-packages/Deconvolution/BLADE.py:863: RuntimeWarning: invalid value encountered in double_scalars\n",
      "  return PX+PY+PF-QX-QF\n",
      "[Parallel(n_jobs=10)]: Done  52 tasks      | elapsed:  2.3min\n",
      "[Parallel(n_jobs=10)]: Done  65 tasks      | elapsed:  2.5min\n",
      "[Parallel(n_jobs=10)]: Done  78 tasks      | elapsed:  2.7min\n",
      "[Parallel(n_jobs=10)]: Done  41 tasks      | elapsed:  2.0min\n"
     ]
    },
    {
     "name": "stderr",
     "output_type": "stream",
     "text": [
      "[Parallel(n_jobs=10)]: Done  93 tasks      | elapsed:  2.9min\n",
      "/home/cke/miniconda3/envs/BLADE/lib/python3.10/site-packages/Deconvolution/BLADE.py:809: RuntimeWarning: divide by zero encountered in log\n",
      "  return -self.Nsample*np.sum(np.log(Omega))\n",
      "/home/cke/miniconda3/envs/BLADE/lib/python3.10/site-packages/Deconvolution/BLADE.py:863: RuntimeWarning: invalid value encountered in double_scalars\n",
      "  return PX+PY+PF-QX-QF\n",
      "/home/cke/miniconda3/envs/BLADE/lib/python3.10/site-packages/Deconvolution/BLADE.py:809: RuntimeWarning: divide by zero encountered in log\n",
      "  return -self.Nsample*np.sum(np.log(Omega))\n",
      "/home/cke/miniconda3/envs/BLADE/lib/python3.10/site-packages/Deconvolution/BLADE.py:809: RuntimeWarning: divide by zero encountered in log\n",
      "  return -self.Nsample*np.sum(np.log(Omega))\n",
      "/home/cke/miniconda3/envs/BLADE/lib/python3.10/site-packages/Deconvolution/BLADE.py:863: RuntimeWarning: invalid value encountered in double_scalars\n",
      "  return PX+PY+PF-QX-QF\n",
      "/home/cke/miniconda3/envs/BLADE/lib/python3.10/site-packages/Deconvolution/BLADE.py:863: RuntimeWarning: invalid value encountered in double_scalars\n",
      "  return PX+PY+PF-QX-QF\n",
      "/home/cke/miniconda3/envs/BLADE/lib/python3.10/site-packages/Deconvolution/BLADE.py:809: RuntimeWarning: divide by zero encountered in log\n",
      "  return -self.Nsample*np.sum(np.log(Omega))\n",
      "/home/cke/miniconda3/envs/BLADE/lib/python3.10/site-packages/Deconvolution/BLADE.py:863: RuntimeWarning: invalid value encountered in double_scalars\n",
      "  return PX+PY+PF-QX-QF\n",
      "[Parallel(n_jobs=10)]: Done  52 tasks      | elapsed:  2.3min\n",
      "/home/cke/miniconda3/envs/BLADE/lib/python3.10/site-packages/Deconvolution/BLADE.py:809: RuntimeWarning: divide by zero encountered in log\n",
      "  return -self.Nsample*np.sum(np.log(Omega))\n",
      "/home/cke/miniconda3/envs/BLADE/lib/python3.10/site-packages/Deconvolution/BLADE.py:863: RuntimeWarning: invalid value encountered in double_scalars\n",
      "  return PX+PY+PF-QX-QF\n",
      "[Parallel(n_jobs=10)]: Done 108 tasks      | elapsed:  3.2min\n",
      "/home/cke/miniconda3/envs/BLADE/lib/python3.10/site-packages/Deconvolution/BLADE.py:809: RuntimeWarning: divide by zero encountered in log\n",
      "  return -self.Nsample*np.sum(np.log(Omega))\n",
      "/home/cke/miniconda3/envs/BLADE/lib/python3.10/site-packages/Deconvolution/BLADE.py:863: RuntimeWarning: invalid value encountered in double_scalars\n",
      "  return PX+PY+PF-QX-QF\n",
      "/home/cke/miniconda3/envs/BLADE/lib/python3.10/site-packages/Deconvolution/BLADE.py:809: RuntimeWarning: divide by zero encountered in log\n",
      "  return -self.Nsample*np.sum(np.log(Omega))\n",
      "/home/cke/miniconda3/envs/BLADE/lib/python3.10/site-packages/Deconvolution/BLADE.py:863: RuntimeWarning: invalid value encountered in double_scalars\n",
      "  return PX+PY+PF-QX-QF\n",
      "[Parallel(n_jobs=10)]: Done  65 tasks      | elapsed:  2.4min\n",
      "/home/cke/miniconda3/envs/BLADE/lib/python3.10/site-packages/Deconvolution/BLADE.py:809: RuntimeWarning: divide by zero encountered in log\n",
      "  return -self.Nsample*np.sum(np.log(Omega))\n",
      "/home/cke/miniconda3/envs/BLADE/lib/python3.10/site-packages/Deconvolution/BLADE.py:863: RuntimeWarning: invalid value encountered in double_scalars\n",
      "  return PX+PY+PF-QX-QF\n",
      "[Parallel(n_jobs=10)]: Done  78 tasks      | elapsed:  2.5min\n",
      "/home/cke/miniconda3/envs/BLADE/lib/python3.10/site-packages/Deconvolution/BLADE.py:809: RuntimeWarning: divide by zero encountered in log\n",
      "  return -self.Nsample*np.sum(np.log(Omega))\n",
      "/home/cke/miniconda3/envs/BLADE/lib/python3.10/site-packages/Deconvolution/BLADE.py:863: RuntimeWarning: invalid value encountered in double_scalars\n",
      "  return PX+PY+PF-QX-QF\n",
      "[Parallel(n_jobs=10)]: Done  93 tasks      | elapsed:  2.6min\n",
      "[Parallel(n_jobs=10)]: Done 125 tasks      | elapsed:  3.5min\n",
      "[Parallel(n_jobs=10)]: Done 108 tasks      | elapsed:  2.7min\n",
      "[Parallel(n_jobs=10)]: Done 125 tasks      | elapsed:  2.8min\n",
      "[Parallel(n_jobs=10)]: Done 142 tasks      | elapsed:  3.8min\n",
      "[Parallel(n_jobs=10)]: Done 142 tasks      | elapsed:  3.0min\n",
      "[Parallel(n_jobs=10)]: Done 160 out of 162 | elapsed:  3.1min remaining:    2.3s\n",
      "[Parallel(n_jobs=10)]: Done 162 out of 162 | elapsed:  3.1min finished\n",
      "[Parallel(n_jobs=10)]: Using backend LokyBackend with 10 concurrent workers.\n",
      "[Parallel(n_jobs=10)]: Done   1 tasks      | elapsed:    1.6s\n",
      "[Parallel(n_jobs=10)]: Done   1 out of   1 | elapsed:    1.6s finished\n",
      "[Parallel(n_jobs=10)]: Using backend LokyBackend with 10 concurrent workers.\n",
      "/home/cke/miniconda3/envs/BLADE/lib/python3.10/site-packages/Deconvolution/BLADE.py:809: RuntimeWarning: divide by zero encountered in log\n",
      "  return -self.Nsample*np.sum(np.log(Omega))\n",
      "/home/cke/miniconda3/envs/BLADE/lib/python3.10/site-packages/Deconvolution/BLADE.py:863: RuntimeWarning: invalid value encountered in double_scalars\n",
      "  return PX+PY+PF-QX-QF\n",
      "[Parallel(n_jobs=10)]: Done   5 tasks      | elapsed:    1.2s\n",
      "[Parallel(n_jobs=10)]: Done  12 tasks      | elapsed:    2.4s\n",
      "[Parallel(n_jobs=10)]: Done 160 out of 162 | elapsed:  4.1min remaining:    3.0s\n",
      "[Parallel(n_jobs=10)]: Done  21 tasks      | elapsed:    3.2s\n",
      "[Parallel(n_jobs=10)]: Done  30 tasks      | elapsed:    4.2s\n",
      "[Parallel(n_jobs=10)]: Done 162 out of 162 | elapsed:  4.1min finished\n",
      "[Parallel(n_jobs=10)]: Done  41 tasks      | elapsed:    5.5s\n",
      "[Parallel(n_jobs=10)]: Using backend LokyBackend with 10 concurrent workers.\n",
      "[Parallel(n_jobs=10)]: Done  52 tasks      | elapsed:    6.9s\n",
      "[Parallel(n_jobs=10)]: Done   1 tasks      | elapsed:    1.0s\n",
      "[Parallel(n_jobs=10)]: Done   1 out of   1 | elapsed:    1.0s finished\n",
      "[Parallel(n_jobs=10)]: Using backend LokyBackend with 10 concurrent workers.\n",
      "/home/cke/miniconda3/envs/BLADE/lib/python3.10/site-packages/Deconvolution/BLADE.py:809: RuntimeWarning: divide by zero encountered in log\n",
      "  return -self.Nsample*np.sum(np.log(Omega))\n",
      "/home/cke/miniconda3/envs/BLADE/lib/python3.10/site-packages/Deconvolution/BLADE.py:863: RuntimeWarning: invalid value encountered in double_scalars\n",
      "  return PX+PY+PF-QX-QF\n",
      "[Parallel(n_jobs=10)]: Done   5 tasks      | elapsed:    1.5s\n",
      "[Parallel(n_jobs=10)]: Done  65 tasks      | elapsed:    8.7s\n",
      "[Parallel(n_jobs=10)]: Done  12 tasks      | elapsed:    2.5s\n",
      "[Parallel(n_jobs=10)]: Done  21 tasks      | elapsed:    3.7s\n",
      "[Parallel(n_jobs=10)]: Done  78 tasks      | elapsed:   11.4s\n",
      "[Parallel(n_jobs=10)]: Done  30 tasks      | elapsed:    5.0s\n",
      "[Parallel(n_jobs=10)]: Done  93 tasks      | elapsed:   13.4s\n",
      "[Parallel(n_jobs=10)]: Done  41 tasks      | elapsed:    6.9s\n",
      "[Parallel(n_jobs=10)]: Done 108 tasks      | elapsed:   15.5s\n",
      "[Parallel(n_jobs=10)]: Done  52 tasks      | elapsed:    8.3s\n",
      "[Parallel(n_jobs=10)]: Done  65 tasks      | elapsed:    9.9s\n",
      "[Parallel(n_jobs=10)]: Done 125 tasks      | elapsed:   17.9s\n",
      "[Parallel(n_jobs=10)]: Done  78 tasks      | elapsed:   11.2s\n",
      "[Parallel(n_jobs=10)]: Done 142 tasks      | elapsed:   19.9s\n",
      "[Parallel(n_jobs=10)]: Done  93 tasks      | elapsed:   13.4s\n",
      "[Parallel(n_jobs=10)]: Done 160 out of 162 | elapsed:   22.0s remaining:    0.3s\n",
      "[Parallel(n_jobs=10)]: Done 162 out of 162 | elapsed:   22.2s finished\n",
      "[Parallel(n_jobs=10)]: Done 108 tasks      | elapsed:   15.3s\n",
      "[Parallel(n_jobs=10)]: Using backend LokyBackend with 10 concurrent workers.\n",
      "[Parallel(n_jobs=10)]: Done 125 tasks      | elapsed:   17.2s\n",
      "[Parallel(n_jobs=10)]: Done   1 tasks      | elapsed:    2.0s\n",
      "[Parallel(n_jobs=10)]: Done   1 out of   1 | elapsed:    2.0s finished\n",
      "[Parallel(n_jobs=10)]: Using backend LokyBackend with 10 concurrent workers.\n",
      "/home/cke/miniconda3/envs/BLADE/lib/python3.10/site-packages/Deconvolution/BLADE.py:809: RuntimeWarning: divide by zero encountered in log\n",
      "  return -self.Nsample*np.sum(np.log(Omega))\n",
      "/home/cke/miniconda3/envs/BLADE/lib/python3.10/site-packages/Deconvolution/BLADE.py:863: RuntimeWarning: invalid value encountered in double_scalars\n",
      "  return PX+PY+PF-QX-QF\n",
      "[Parallel(n_jobs=10)]: Done 142 tasks      | elapsed:   19.8s\n",
      "[Parallel(n_jobs=10)]: Done   5 tasks      | elapsed:    2.6s\n",
      "[Parallel(n_jobs=10)]: Done  12 tasks      | elapsed:    4.8s\n",
      "[Parallel(n_jobs=10)]: Done 160 out of 162 | elapsed:   23.9s remaining:    0.3s\n",
      "[Parallel(n_jobs=10)]: Done 162 out of 162 | elapsed:   24.1s finished\n",
      "[Parallel(n_jobs=10)]: Done  21 tasks      | elapsed:    6.9s\n",
      "[Parallel(n_jobs=10)]: Using backend LokyBackend with 10 concurrent workers.\n",
      "[Parallel(n_jobs=10)]: Done  30 tasks      | elapsed:    8.7s\n"
     ]
    },
    {
     "name": "stderr",
     "output_type": "stream",
     "text": [
      "[Parallel(n_jobs=10)]: Done  41 tasks      | elapsed:   11.1s\n",
      "[Parallel(n_jobs=10)]: Done  52 tasks      | elapsed:   13.3s\n",
      "[Parallel(n_jobs=10)]: Done   1 tasks      | elapsed:    7.9s\n",
      "[Parallel(n_jobs=10)]: Done   1 out of   1 | elapsed:    7.9s finished\n",
      "[Parallel(n_jobs=10)]: Using backend LokyBackend with 10 concurrent workers.\n",
      "/home/cke/miniconda3/envs/BLADE/lib/python3.10/site-packages/Deconvolution/BLADE.py:809: RuntimeWarning: divide by zero encountered in log\n",
      "  return -self.Nsample*np.sum(np.log(Omega))\n",
      "/home/cke/miniconda3/envs/BLADE/lib/python3.10/site-packages/Deconvolution/BLADE.py:863: RuntimeWarning: invalid value encountered in double_scalars\n",
      "  return PX+PY+PF-QX-QF\n",
      "[Parallel(n_jobs=10)]: Done  65 tasks      | elapsed:   16.1s\n",
      "[Parallel(n_jobs=10)]: Done  78 tasks      | elapsed:   21.3s\n",
      "[Parallel(n_jobs=10)]: Done   5 tasks      | elapsed:    7.7s\n",
      "[Parallel(n_jobs=10)]: Done  93 tasks      | elapsed:   26.2s\n",
      "[Parallel(n_jobs=10)]: Done  12 tasks      | elapsed:   15.0s\n",
      "[Parallel(n_jobs=10)]: Done 108 tasks      | elapsed:   32.4s\n",
      "[Parallel(n_jobs=10)]: Done  21 tasks      | elapsed:   21.4s\n",
      "[Parallel(n_jobs=10)]: Done 125 tasks      | elapsed:   38.2s\n",
      "[Parallel(n_jobs=10)]: Done 142 tasks      | elapsed:   44.4s\n",
      "[Parallel(n_jobs=10)]: Done  30 tasks      | elapsed:   30.3s\n",
      "[Parallel(n_jobs=10)]: Done 160 out of 162 | elapsed:   50.7s remaining:    0.6s\n",
      "[Parallel(n_jobs=10)]: Done 162 out of 162 | elapsed:   51.6s finished\n",
      "[Parallel(n_jobs=10)]: Done  41 tasks      | elapsed:   38.0s\n",
      "[Parallel(n_jobs=10)]: Using backend LokyBackend with 10 concurrent workers.\n",
      "[Parallel(n_jobs=10)]: Done   1 tasks      | elapsed:    1.5s\n",
      "[Parallel(n_jobs=10)]: Done   1 out of   1 | elapsed:    1.6s finished\n",
      "[Parallel(n_jobs=10)]: Using backend LokyBackend with 10 concurrent workers.\n",
      "/home/cke/miniconda3/envs/BLADE/lib/python3.10/site-packages/Deconvolution/BLADE.py:809: RuntimeWarning: divide by zero encountered in log\n",
      "  return -self.Nsample*np.sum(np.log(Omega))\n",
      "/home/cke/miniconda3/envs/BLADE/lib/python3.10/site-packages/Deconvolution/BLADE.py:863: RuntimeWarning: invalid value encountered in double_scalars\n",
      "  return PX+PY+PF-QX-QF\n",
      "[Parallel(n_jobs=10)]: Done   5 tasks      | elapsed:    2.0s\n",
      "[Parallel(n_jobs=10)]: Done  52 tasks      | elapsed:   43.5s\n",
      "[Parallel(n_jobs=10)]: Done  12 tasks      | elapsed:    3.3s\n",
      "[Parallel(n_jobs=10)]: Done  21 tasks      | elapsed:    4.7s\n",
      "[Parallel(n_jobs=10)]: Done  30 tasks      | elapsed:    6.1s\n",
      "[Parallel(n_jobs=10)]: Done  41 tasks      | elapsed:    8.0s\n",
      "[Parallel(n_jobs=10)]: Done  52 tasks      | elapsed:   10.0s\n",
      "[Parallel(n_jobs=10)]: Done  65 tasks      | elapsed:   11.8s\n",
      "[Parallel(n_jobs=10)]: Done  65 tasks      | elapsed:   52.9s\n",
      "[Parallel(n_jobs=10)]: Done  78 tasks      | elapsed:   13.7s\n",
      "[Parallel(n_jobs=10)]: Done  93 tasks      | elapsed:   16.0s\n",
      "[Parallel(n_jobs=10)]: Done 108 tasks      | elapsed:   18.6s\n",
      "[Parallel(n_jobs=10)]: Done 125 tasks      | elapsed:   21.3s\n",
      "[Parallel(n_jobs=10)]: Done  78 tasks      | elapsed:  1.0min\n",
      "[Parallel(n_jobs=10)]: Done 142 tasks      | elapsed:   24.0s\n",
      "[Parallel(n_jobs=10)]: Done 160 out of 162 | elapsed:   26.9s remaining:    0.3s\n",
      "[Parallel(n_jobs=10)]: Done 162 out of 162 | elapsed:   27.3s finished\n"
     ]
    },
    {
     "name": "stdout",
     "output_type": "stream",
     "text": [
      "No feature filtering is done (fsel = 0)\n",
      "Done optimization, elapsed time (min): 3.1219329039255777\n",
      "export to:  /home/cke/PseudoBulk/Results/BLADE/fullpipeline_pseudobulk_Jul28_LOT_pseudobulk__LOT18_BLADEout_top100markers.pickle\n",
      "now with feature selection setup:  top20markers\n",
      "Get mean and std exp!\n",
      "Get common genes!  198\n",
      "cell types:  10\n",
      "bulk samples:  1\n",
      "start BLADE!\n",
      "all of 198 genes are used for optimization.\n",
      "All samples are used during the optimization.\n",
      "Initialization with Support vector regression\n",
      "No feature filtering is done (fsel = 0)\n",
      "Done optimization, elapsed time (min): 0.3756299654642741\n",
      "export to:  /home/cke/PseudoBulk/Results/BLADE/fullpipeline_pseudobulk_Jul28_LOT_pseudobulk__LOT18_BLADEout_top20markers.pickle\n",
      "now with feature selection setup:  top100DEGs\n",
      "Get mean and std exp!\n",
      "Get common genes!  876\n",
      "cell types:  10\n",
      "bulk samples:  1\n",
      "start BLADE!\n",
      "all of 876 genes are used for optimization.\n",
      "All samples are used during the optimization.\n",
      "Initialization with Support vector regression\n",
      "No feature filtering is done (fsel = 0)\n",
      "Done optimization, elapsed time (min): 0.9011529485384623\n",
      "export to:  /home/cke/PseudoBulk/Results/BLADE/fullpipeline_pseudobulk_Jul28_LOT_pseudobulk__LOT18_BLADEout_top100DEGs.pickle\n",
      "now with feature selection setup:  top50markers\n",
      "Get mean and std exp!\n",
      "Get common genes!  467\n",
      "cell types:  10\n",
      "bulk samples:  1\n",
      "start BLADE!\n",
      "all of 467 genes are used for optimization.\n",
      "All samples are used during the optimization.\n",
      "Initialization with Support vector regression\n",
      "No feature filtering is done (fsel = 0)\n",
      "Done optimization, elapsed time (min): 0.47517112096150715\n",
      "export to:  /home/cke/PseudoBulk/Results/BLADE/fullpipeline_pseudobulk_Jul28_LOT_pseudobulk__LOT18_BLADEout_top50markers.pickle\n"
     ]
    },
    {
     "name": "stderr",
     "output_type": "stream",
     "text": [
      "[Parallel(n_jobs=10)]: Done  93 tasks      | elapsed:  1.2min\n",
      "[Parallel(n_jobs=10)]: Done 108 tasks      | elapsed:  1.4min\n",
      "[Parallel(n_jobs=10)]: Done 125 tasks      | elapsed:  1.6min\n",
      "[Parallel(n_jobs=10)]: Done 142 tasks      | elapsed:  1.8min\n",
      "[Parallel(n_jobs=10)]: Done 160 out of 162 | elapsed:  1.9min remaining:    1.5s\n",
      "[Parallel(n_jobs=10)]: Done 162 out of 162 | elapsed:  2.0min finished\n",
      "[Parallel(n_jobs=10)]: Using backend LokyBackend with 10 concurrent workers.\n",
      "[Parallel(n_jobs=10)]: Done   1 tasks      | elapsed:    2.0s\n",
      "[Parallel(n_jobs=10)]: Done   1 out of   1 | elapsed:    2.1s finished\n",
      "[Parallel(n_jobs=10)]: Using backend LokyBackend with 10 concurrent workers.\n",
      "/home/cke/miniconda3/envs/BLADE/lib/python3.10/site-packages/Deconvolution/BLADE.py:809: RuntimeWarning: divide by zero encountered in log\n",
      "  return -self.Nsample*np.sum(np.log(Omega))\n",
      "/home/cke/miniconda3/envs/BLADE/lib/python3.10/site-packages/Deconvolution/BLADE.py:863: RuntimeWarning: invalid value encountered in double_scalars\n",
      "  return PX+PY+PF-QX-QF\n",
      "[Parallel(n_jobs=10)]: Done   5 tasks      | elapsed:    3.0s\n",
      "[Parallel(n_jobs=10)]: Done  12 tasks      | elapsed:    4.5s\n",
      "[Parallel(n_jobs=10)]: Done  21 tasks      | elapsed:    7.1s\n",
      "[Parallel(n_jobs=10)]: Done  30 tasks      | elapsed:    9.7s\n",
      "[Parallel(n_jobs=10)]: Done  41 tasks      | elapsed:   12.7s\n",
      "[Parallel(n_jobs=10)]: Done  52 tasks      | elapsed:   15.1s\n",
      "[Parallel(n_jobs=10)]: Done  65 tasks      | elapsed:   18.8s\n",
      "[Parallel(n_jobs=10)]: Done  78 tasks      | elapsed:   22.2s\n",
      "[Parallel(n_jobs=10)]: Done  93 tasks      | elapsed:   26.3s\n",
      "[Parallel(n_jobs=10)]: Done 108 tasks      | elapsed:   31.0s\n",
      "[Parallel(n_jobs=10)]: Done 125 tasks      | elapsed:   35.9s\n",
      "[Parallel(n_jobs=10)]: Done 142 tasks      | elapsed:   41.4s\n",
      "[Parallel(n_jobs=10)]: Done 160 out of 162 | elapsed:   46.6s remaining:    0.6s\n",
      "[Parallel(n_jobs=10)]: Done 162 out of 162 | elapsed:   47.0s finished\n"
     ]
    },
    {
     "name": "stdout",
     "output_type": "stream",
     "text": [
      "No feature filtering is done (fsel = 0)\n",
      "Done optimization, elapsed time (min): 4.102831979592641\n",
      "export to:  /home/cke/PseudoBulk/Results/BLADE/fullpipeline_pseudobulk_Jul28_LOT_pseudobulk__LOT6_BLADEout_top100markers.pickle\n",
      "now with feature selection setup:  top20markers\n",
      "Get mean and std exp!\n",
      "Get common genes!  198\n",
      "cell types:  10\n",
      "bulk samples:  1\n",
      "start BLADE!\n",
      "all of 198 genes are used for optimization.\n",
      "All samples are used during the optimization.\n",
      "Initialization with Support vector regression\n",
      "No feature filtering is done (fsel = 0)\n",
      "Done optimization, elapsed time (min): 0.4139942447344462\n",
      "export to:  /home/cke/PseudoBulk/Results/BLADE/fullpipeline_pseudobulk_Jul28_LOT_pseudobulk__LOT6_BLADEout_top20markers.pickle\n",
      "now with feature selection setup:  top100DEGs\n",
      "Get mean and std exp!\n",
      "Get common genes!  876\n",
      "cell types:  10\n",
      "bulk samples:  1\n",
      "start BLADE!\n",
      "all of 876 genes are used for optimization.\n",
      "All samples are used during the optimization.\n",
      "Initialization with Support vector regression\n",
      "No feature filtering is done (fsel = 0)\n",
      "Done optimization, elapsed time (min): 2.038814047972361\n",
      "export to:  /home/cke/PseudoBulk/Results/BLADE/fullpipeline_pseudobulk_Jul28_LOT_pseudobulk__LOT6_BLADEout_top100DEGs.pickle\n",
      "now with feature selection setup:  top50markers\n",
      "Get mean and std exp!\n",
      "Get common genes!  467\n",
      "cell types:  10\n",
      "bulk samples:  1\n",
      "start BLADE!\n",
      "all of 467 genes are used for optimization.\n",
      "All samples are used during the optimization.\n",
      "Initialization with Support vector regression\n",
      "No feature filtering is done (fsel = 0)\n",
      "Done optimization, elapsed time (min): 0.7905773838361104\n",
      "export to:  /home/cke/PseudoBulk/Results/BLADE/fullpipeline_pseudobulk_Jul28_LOT_pseudobulk__LOT6_BLADEout_top50markers.pickle\n"
     ]
    },
    {
     "name": "stderr",
     "output_type": "stream",
     "text": [
      "[Parallel(n_jobs=10)]: Done 162 out of 162 | elapsed: 21.4min finished\n",
      "[Parallel(n_jobs=10)]: Using backend LokyBackend with 10 concurrent workers.\n"
     ]
    },
    {
     "name": "stdout",
     "output_type": "stream",
     "text": [
      "No feature filtering is done (fsel = 0)\n",
      "Done optimization, elapsed time (min): 13.632146775722504\n",
      "export to:  /home/cke/PseudoBulk/Results/BLADE/fullpipeline_pseudobulk_Jul28_LOT_pseudobulk__LOT28_BLADEout_top50DEGs.pickle\n",
      "now with feature selection setup:  top100markers\n",
      "Get mean and std exp!\n",
      "Get common genes!  898\n",
      "cell types:  10\n",
      "bulk samples:  1\n",
      "start BLADE!\n",
      "all of 898 genes are used for optimization.\n",
      "All samples are used during the optimization.\n",
      "Initialization with Support vector regression\n",
      "No feature filtering is done (fsel = 0)\n",
      "Done optimization, elapsed time (min): 21.40624294281006\n",
      "export to:  /home/cke/PseudoBulk/Results/BLADE/fullpipeline_pseudobulk_Jul28_LOT_pseudobulk__LOT28_BLADEout_top100markers.pickle\n",
      "now with feature selection setup:  top20markers\n",
      "Get mean and std exp!\n",
      "Get common genes!  198\n",
      "cell types:  10\n",
      "bulk samples:  1\n",
      "start BLADE!\n",
      "all of 198 genes are used for optimization.\n",
      "All samples are used during the optimization.\n",
      "Initialization with Support vector regression\n"
     ]
    },
    {
     "name": "stderr",
     "output_type": "stream",
     "text": [
      "[Parallel(n_jobs=10)]: Done   1 tasks      | elapsed:    0.7s\n",
      "[Parallel(n_jobs=10)]: Done   1 out of   1 | elapsed:    0.7s finished\n",
      "[Parallel(n_jobs=10)]: Using backend LokyBackend with 10 concurrent workers.\n",
      "/home/cke/miniconda3/envs/BLADE/lib/python3.10/site-packages/Deconvolution/BLADE.py:809: RuntimeWarning: divide by zero encountered in log\n",
      "  return -self.Nsample*np.sum(np.log(Omega))\n",
      "/home/cke/miniconda3/envs/BLADE/lib/python3.10/site-packages/Deconvolution/BLADE.py:863: RuntimeWarning: invalid value encountered in double_scalars\n",
      "  return PX+PY+PF-QX-QF\n",
      "[Parallel(n_jobs=10)]: Done   5 tasks      | elapsed:    4.9s\n",
      "[Parallel(n_jobs=10)]: Done  12 tasks      | elapsed:   11.9s\n",
      "/home/cke/miniconda3/envs/BLADE/lib/python3.10/site-packages/Deconvolution/BLADE.py:809: RuntimeWarning: divide by zero encountered in log\n",
      "  return -self.Nsample*np.sum(np.log(Omega))\n",
      "/home/cke/miniconda3/envs/BLADE/lib/python3.10/site-packages/Deconvolution/BLADE.py:863: RuntimeWarning: invalid value encountered in double_scalars\n",
      "  return PX+PY+PF-QX-QF\n",
      "/home/cke/miniconda3/envs/BLADE/lib/python3.10/site-packages/Deconvolution/BLADE.py:809: RuntimeWarning: divide by zero encountered in log\n",
      "  return -self.Nsample*np.sum(np.log(Omega))\n",
      "/home/cke/miniconda3/envs/BLADE/lib/python3.10/site-packages/Deconvolution/BLADE.py:863: RuntimeWarning: invalid value encountered in double_scalars\n",
      "  return PX+PY+PF-QX-QF\n",
      "/home/cke/miniconda3/envs/BLADE/lib/python3.10/site-packages/Deconvolution/BLADE.py:809: RuntimeWarning: divide by zero encountered in log\n",
      "  return -self.Nsample*np.sum(np.log(Omega))\n",
      "/home/cke/miniconda3/envs/BLADE/lib/python3.10/site-packages/Deconvolution/BLADE.py:863: RuntimeWarning: invalid value encountered in double_scalars\n",
      "  return PX+PY+PF-QX-QF\n",
      "/home/cke/miniconda3/envs/BLADE/lib/python3.10/site-packages/Deconvolution/BLADE.py:809: RuntimeWarning: divide by zero encountered in log\n",
      "  return -self.Nsample*np.sum(np.log(Omega))\n",
      "/home/cke/miniconda3/envs/BLADE/lib/python3.10/site-packages/Deconvolution/BLADE.py:863: RuntimeWarning: invalid value encountered in double_scalars\n",
      "  return PX+PY+PF-QX-QF\n",
      "/home/cke/miniconda3/envs/BLADE/lib/python3.10/site-packages/Deconvolution/BLADE.py:809: RuntimeWarning: divide by zero encountered in log\n",
      "  return -self.Nsample*np.sum(np.log(Omega))\n",
      "/home/cke/miniconda3/envs/BLADE/lib/python3.10/site-packages/Deconvolution/BLADE.py:863: RuntimeWarning: invalid value encountered in double_scalars\n",
      "  return PX+PY+PF-QX-QF\n",
      "/home/cke/miniconda3/envs/BLADE/lib/python3.10/site-packages/Deconvolution/BLADE.py:809: RuntimeWarning: divide by zero encountered in log\n",
      "  return -self.Nsample*np.sum(np.log(Omega))\n",
      "/home/cke/miniconda3/envs/BLADE/lib/python3.10/site-packages/Deconvolution/BLADE.py:863: RuntimeWarning: invalid value encountered in double_scalars\n",
      "  return PX+PY+PF-QX-QF\n",
      "/home/cke/miniconda3/envs/BLADE/lib/python3.10/site-packages/Deconvolution/BLADE.py:809: RuntimeWarning: divide by zero encountered in log\n",
      "  return -self.Nsample*np.sum(np.log(Omega))\n",
      "/home/cke/miniconda3/envs/BLADE/lib/python3.10/site-packages/Deconvolution/BLADE.py:863: RuntimeWarning: invalid value encountered in double_scalars\n",
      "  return PX+PY+PF-QX-QF\n",
      "/home/cke/miniconda3/envs/BLADE/lib/python3.10/site-packages/Deconvolution/BLADE.py:809: RuntimeWarning: divide by zero encountered in log\n",
      "  return -self.Nsample*np.sum(np.log(Omega))\n",
      "/home/cke/miniconda3/envs/BLADE/lib/python3.10/site-packages/Deconvolution/BLADE.py:863: RuntimeWarning: invalid value encountered in double_scalars\n",
      "  return PX+PY+PF-QX-QF\n",
      "/home/cke/miniconda3/envs/BLADE/lib/python3.10/site-packages/Deconvolution/BLADE.py:809: RuntimeWarning: divide by zero encountered in log\n",
      "  return -self.Nsample*np.sum(np.log(Omega))\n",
      "/home/cke/miniconda3/envs/BLADE/lib/python3.10/site-packages/Deconvolution/BLADE.py:863: RuntimeWarning: invalid value encountered in double_scalars\n",
      "  return PX+PY+PF-QX-QF\n",
      "[Parallel(n_jobs=10)]: Done 162 out of 162 | elapsed: 17.9min finished\n",
      "[Parallel(n_jobs=10)]: Using backend LokyBackend with 10 concurrent workers.\n"
     ]
    },
    {
     "name": "stdout",
     "output_type": "stream",
     "text": [
      "No feature filtering is done (fsel = 0)\n",
      "Done optimization, elapsed time (min): 11.805556424458821\n",
      "export to:  /home/cke/PseudoBulk/Results/BLADE/fullpipeline_pseudobulk_Jul28_LOT_pseudobulk__LOT17_BLADEout_top50DEGs.pickle\n",
      "now with feature selection setup:  top100markers\n",
      "Get mean and std exp!\n",
      "Get common genes!  898\n",
      "cell types:  10\n",
      "bulk samples:  1\n",
      "start BLADE!\n",
      "all of 898 genes are used for optimization.\n",
      "All samples are used during the optimization.\n",
      "Initialization with Support vector regression\n",
      "No feature filtering is done (fsel = 0)\n",
      "Done optimization, elapsed time (min): 3.401684884230296\n",
      "export to:  /home/cke/PseudoBulk/Results/BLADE/fullpipeline_pseudobulk_Jul28_LOT_pseudobulk__LOT17_BLADEout_top100markers.pickle\n",
      "now with feature selection setup:  top20markers\n",
      "Get mean and std exp!\n",
      "Get common genes!  198\n",
      "cell types:  10\n",
      "bulk samples:  1\n",
      "start BLADE!\n",
      "all of 198 genes are used for optimization.\n",
      "All samples are used during the optimization.\n",
      "Initialization with Support vector regression\n",
      "No feature filtering is done (fsel = 0)\n",
      "Done optimization, elapsed time (min): 2.1226471265157065\n",
      "export to:  /home/cke/PseudoBulk/Results/BLADE/fullpipeline_pseudobulk_Jul28_LOT_pseudobulk__LOT17_BLADEout_top20markers.pickle\n",
      "now with feature selection setup:  top100DEGs\n",
      "Get mean and std exp!\n",
      "Get common genes!  876\n",
      "cell types:  10\n",
      "bulk samples:  1\n",
      "start BLADE!\n",
      "all of 876 genes are used for optimization.\n",
      "All samples are used during the optimization.\n",
      "Initialization with Support vector regression\n",
      "No feature filtering is done (fsel = 0)\n",
      "Done optimization, elapsed time (min): 17.9148095091184\n",
      "export to:  /home/cke/PseudoBulk/Results/BLADE/fullpipeline_pseudobulk_Jul28_LOT_pseudobulk__LOT17_BLADEout_top100DEGs.pickle\n",
      "now with feature selection setup:  top50markers\n",
      "Get mean and std exp!\n",
      "Get common genes!  467\n",
      "cell types:  10\n",
      "bulk samples:  1\n",
      "start BLADE!\n",
      "all of 467 genes are used for optimization.\n",
      "All samples are used during the optimization.\n",
      "Initialization with Support vector regression\n"
     ]
    },
    {
     "name": "stderr",
     "output_type": "stream",
     "text": [
      "[Parallel(n_jobs=10)]: Done   1 tasks      | elapsed:    0.8s\n",
      "[Parallel(n_jobs=10)]: Done   1 out of   1 | elapsed:    0.8s finished\n",
      "[Parallel(n_jobs=10)]: Using backend LokyBackend with 10 concurrent workers.\n",
      "/home/cke/miniconda3/envs/BLADE/lib/python3.10/site-packages/Deconvolution/BLADE.py:809: RuntimeWarning: divide by zero encountered in log\n",
      "  return -self.Nsample*np.sum(np.log(Omega))\n",
      "/home/cke/miniconda3/envs/BLADE/lib/python3.10/site-packages/Deconvolution/BLADE.py:863: RuntimeWarning: invalid value encountered in double_scalars\n",
      "  return PX+PY+PF-QX-QF\n",
      "[Parallel(n_jobs=10)]: Done 162 out of 162 | elapsed: 22.8min finished\n",
      "[Parallel(n_jobs=10)]: Done  21 tasks      | elapsed:   21.2s\n",
      "[Parallel(n_jobs=10)]: Using backend LokyBackend with 10 concurrent workers.\n"
     ]
    },
    {
     "name": "stdout",
     "output_type": "stream",
     "text": [
      "No feature filtering is done (fsel = 0)\n",
      "Done optimization, elapsed time (min): 12.623017338911692\n",
      "export to:  /home/cke/PseudoBulk/Results/BLADE/fullpipeline_pseudobulk_Jul28_LOT_pseudobulk__LOT20_BLADEout_top50DEGs.pickle\n",
      "now with feature selection setup:  top100markers\n",
      "Get mean and std exp!\n",
      "Get common genes!  898\n",
      "cell types:  10\n",
      "bulk samples:  1\n",
      "start BLADE!\n",
      "all of 898 genes are used for optimization.\n",
      "All samples are used during the optimization.\n",
      "Initialization with Support vector regression\n",
      "No feature filtering is done (fsel = 0)\n",
      "Done optimization, elapsed time (min): 22.858672567208608\n",
      "export to:  /home/cke/PseudoBulk/Results/BLADE/fullpipeline_pseudobulk_Jul28_LOT_pseudobulk__LOT20_BLADEout_top100markers.pickle\n",
      "now with feature selection setup:  top20markers\n",
      "Get mean and std exp!\n",
      "Get common genes!  198\n",
      "cell types:  10\n",
      "bulk samples:  1\n",
      "start BLADE!\n",
      "all of 198 genes are used for optimization.\n",
      "All samples are used during the optimization.\n",
      "Initialization with Support vector regression\n"
     ]
    },
    {
     "name": "stderr",
     "output_type": "stream",
     "text": [
      "[Parallel(n_jobs=10)]: Done   1 tasks      | elapsed:    0.8s\n",
      "[Parallel(n_jobs=10)]: Done   1 out of   1 | elapsed:    0.8s finished\n",
      "[Parallel(n_jobs=10)]: Using backend LokyBackend with 10 concurrent workers.\n",
      "/home/cke/miniconda3/envs/BLADE/lib/python3.10/site-packages/Deconvolution/BLADE.py:809: RuntimeWarning: divide by zero encountered in log\n",
      "  return -self.Nsample*np.sum(np.log(Omega))\n",
      "/home/cke/miniconda3/envs/BLADE/lib/python3.10/site-packages/Deconvolution/BLADE.py:863: RuntimeWarning: invalid value encountered in double_scalars\n",
      "  return PX+PY+PF-QX-QF\n",
      "[Parallel(n_jobs=10)]: Done   5 tasks      | elapsed:    7.7s\n",
      "/home/cke/miniconda3/envs/BLADE/lib/python3.10/site-packages/Deconvolution/BLADE.py:589: NumbaPerformanceWarning: \u001b[1m\u001b[1m\u001b[1m\u001b[1mnp.dot() is faster on contiguous arrays, called on (array(float64, 1d, C), array(float64, 2d, A))\u001b[0m\u001b[0m\u001b[0m\u001b[0m\n",
      "  g_Exp = g_Exp_Beta(Nu, Omega, Beta, B0, Ngene, Ncell, Nsample)\n",
      "/home/cke/miniconda3/envs/BLADE/lib/python3.10/site-packages/Deconvolution/BLADE.py:589: NumbaPerformanceWarning: \u001b[1m\u001b[1m\u001b[1m\u001b[1mnp.dot() is faster on contiguous arrays, called on (array(float64, 1d, C), array(float64, 2d, A))\u001b[0m\u001b[0m\u001b[0m\u001b[0m\n",
      "  g_Exp = g_Exp_Beta(Nu, Omega, Beta, B0, Ngene, Ncell, Nsample)\n",
      "/home/cke/miniconda3/envs/BLADE/lib/python3.10/site-packages/Deconvolution/BLADE.py:589: NumbaPerformanceWarning: \u001b[1m\u001b[1m\u001b[1m\u001b[1mnp.dot() is faster on contiguous arrays, called on (array(float64, 1d, C), array(float64, 2d, A))\u001b[0m\u001b[0m\u001b[0m\u001b[0m\n",
      "  g_Exp = g_Exp_Beta(Nu, Omega, Beta, B0, Ngene, Ncell, Nsample)\n",
      "/home/cke/miniconda3/envs/BLADE/lib/python3.10/site-packages/Deconvolution/BLADE.py:589: NumbaPerformanceWarning: \u001b[1m\u001b[1m\u001b[1m\u001b[1mnp.dot() is faster on contiguous arrays, called on (array(float64, 1d, C), array(float64, 2d, A))\u001b[0m\u001b[0m\u001b[0m\u001b[0m\n",
      "  g_Exp = g_Exp_Beta(Nu, Omega, Beta, B0, Ngene, Ncell, Nsample)\n",
      "[Parallel(n_jobs=10)]: Done   5 tasks      | elapsed:    8.6s\n",
      "/home/cke/miniconda3/envs/BLADE/lib/python3.10/site-packages/Deconvolution/BLADE.py:589: NumbaPerformanceWarning: \u001b[1m\u001b[1m\u001b[1m\u001b[1mnp.dot() is faster on contiguous arrays, called on (array(float64, 1d, C), array(float64, 2d, A))\u001b[0m\u001b[0m\u001b[0m\u001b[0m\n",
      "  g_Exp = g_Exp_Beta(Nu, Omega, Beta, B0, Ngene, Ncell, Nsample)\n",
      "/home/cke/miniconda3/envs/BLADE/lib/python3.10/site-packages/Deconvolution/BLADE.py:589: NumbaPerformanceWarning: \u001b[1m\u001b[1m\u001b[1m\u001b[1mnp.dot() is faster on contiguous arrays, called on (array(float64, 1d, C), array(float64, 2d, A))\u001b[0m\u001b[0m\u001b[0m\u001b[0m\n",
      "  g_Exp = g_Exp_Beta(Nu, Omega, Beta, B0, Ngene, Ncell, Nsample)\n",
      "/home/cke/miniconda3/envs/BLADE/lib/python3.10/site-packages/Deconvolution/BLADE.py:589: NumbaPerformanceWarning: \u001b[1m\u001b[1m\u001b[1m\u001b[1mnp.dot() is faster on contiguous arrays, called on (array(float64, 1d, C), array(float64, 2d, A))\u001b[0m\u001b[0m\u001b[0m\u001b[0m\n",
      "  g_Exp = g_Exp_Beta(Nu, Omega, Beta, B0, Ngene, Ncell, Nsample)\n",
      "/home/cke/miniconda3/envs/BLADE/lib/python3.10/site-packages/Deconvolution/BLADE.py:589: NumbaPerformanceWarning: \u001b[1m\u001b[1m\u001b[1m\u001b[1mnp.dot() is faster on contiguous arrays, called on (array(float64, 1d, C), array(float64, 2d, A))\u001b[0m\u001b[0m\u001b[0m\u001b[0m\n",
      "  g_Exp = g_Exp_Beta(Nu, Omega, Beta, B0, Ngene, Ncell, Nsample)\n",
      "[Parallel(n_jobs=10)]: Done  30 tasks      | elapsed:   32.9s\n",
      "/home/cke/miniconda3/envs/BLADE/lib/python3.10/site-packages/Deconvolution/BLADE.py:589: NumbaPerformanceWarning: \u001b[1m\u001b[1m\u001b[1m\u001b[1mnp.dot() is faster on contiguous arrays, called on (array(float64, 1d, C), array(float64, 2d, A))\u001b[0m\u001b[0m\u001b[0m\u001b[0m\n",
      "  g_Exp = g_Exp_Beta(Nu, Omega, Beta, B0, Ngene, Ncell, Nsample)\n",
      "/home/cke/miniconda3/envs/BLADE/lib/python3.10/site-packages/Deconvolution/BLADE.py:809: RuntimeWarning: divide by zero encountered in log\n",
      "  return -self.Nsample*np.sum(np.log(Omega))\n",
      "/home/cke/miniconda3/envs/BLADE/lib/python3.10/site-packages/Deconvolution/BLADE.py:863: RuntimeWarning: invalid value encountered in double_scalars\n",
      "  return PX+PY+PF-QX-QF\n",
      "/home/cke/miniconda3/envs/BLADE/lib/python3.10/site-packages/Deconvolution/BLADE.py:809: RuntimeWarning: divide by zero encountered in log\n",
      "  return -self.Nsample*np.sum(np.log(Omega))\n",
      "/home/cke/miniconda3/envs/BLADE/lib/python3.10/site-packages/Deconvolution/BLADE.py:863: RuntimeWarning: invalid value encountered in double_scalars\n",
      "  return PX+PY+PF-QX-QF\n",
      "/home/cke/miniconda3/envs/BLADE/lib/python3.10/site-packages/Deconvolution/BLADE.py:809: RuntimeWarning: divide by zero encountered in log\n",
      "  return -self.Nsample*np.sum(np.log(Omega))\n",
      "/home/cke/miniconda3/envs/BLADE/lib/python3.10/site-packages/Deconvolution/BLADE.py:863: RuntimeWarning: invalid value encountered in double_scalars\n",
      "  return PX+PY+PF-QX-QF\n",
      "/home/cke/miniconda3/envs/BLADE/lib/python3.10/site-packages/Deconvolution/BLADE.py:809: RuntimeWarning: divide by zero encountered in log\n",
      "  return -self.Nsample*np.sum(np.log(Omega))\n",
      "/home/cke/miniconda3/envs/BLADE/lib/python3.10/site-packages/Deconvolution/BLADE.py:863: RuntimeWarning: invalid value encountered in double_scalars\n",
      "  return PX+PY+PF-QX-QF\n",
      "/home/cke/miniconda3/envs/BLADE/lib/python3.10/site-packages/Deconvolution/BLADE.py:809: RuntimeWarning: divide by zero encountered in log\n",
      "  return -self.Nsample*np.sum(np.log(Omega))\n",
      "/home/cke/miniconda3/envs/BLADE/lib/python3.10/site-packages/Deconvolution/BLADE.py:863: RuntimeWarning: invalid value encountered in double_scalars\n",
      "  return PX+PY+PF-QX-QF\n",
      "/home/cke/miniconda3/envs/BLADE/lib/python3.10/site-packages/Deconvolution/BLADE.py:809: RuntimeWarning: divide by zero encountered in log\n",
      "  return -self.Nsample*np.sum(np.log(Omega))\n",
      "/home/cke/miniconda3/envs/BLADE/lib/python3.10/site-packages/Deconvolution/BLADE.py:863: RuntimeWarning: invalid value encountered in double_scalars\n",
      "  return PX+PY+PF-QX-QF\n",
      "/home/cke/miniconda3/envs/BLADE/lib/python3.10/site-packages/Deconvolution/BLADE.py:809: RuntimeWarning: divide by zero encountered in log\n",
      "  return -self.Nsample*np.sum(np.log(Omega))\n",
      "/home/cke/miniconda3/envs/BLADE/lib/python3.10/site-packages/Deconvolution/BLADE.py:863: RuntimeWarning: invalid value encountered in double_scalars\n",
      "  return PX+PY+PF-QX-QF\n",
      "[Parallel(n_jobs=10)]: Done  12 tasks      | elapsed:   16.3s\n",
      "/home/cke/miniconda3/envs/BLADE/lib/python3.10/site-packages/Deconvolution/BLADE.py:809: RuntimeWarning: divide by zero encountered in log\n",
      "  return -self.Nsample*np.sum(np.log(Omega))\n",
      "/home/cke/miniconda3/envs/BLADE/lib/python3.10/site-packages/Deconvolution/BLADE.py:863: RuntimeWarning: invalid value encountered in double_scalars\n",
      "  return PX+PY+PF-QX-QF\n",
      "/home/cke/miniconda3/envs/BLADE/lib/python3.10/site-packages/Deconvolution/BLADE.py:809: RuntimeWarning: divide by zero encountered in log\n",
      "  return -self.Nsample*np.sum(np.log(Omega))\n",
      "/home/cke/miniconda3/envs/BLADE/lib/python3.10/site-packages/Deconvolution/BLADE.py:863: RuntimeWarning: invalid value encountered in double_scalars\n",
      "  return PX+PY+PF-QX-QF\n",
      "/home/cke/miniconda3/envs/BLADE/lib/python3.10/site-packages/Deconvolution/BLADE.py:809: RuntimeWarning: divide by zero encountered in log\n",
      "  return -self.Nsample*np.sum(np.log(Omega))\n",
      "/home/cke/miniconda3/envs/BLADE/lib/python3.10/site-packages/Deconvolution/BLADE.py:863: RuntimeWarning: invalid value encountered in double_scalars\n",
      "  return PX+PY+PF-QX-QF\n",
      "[Parallel(n_jobs=10)]: Done  12 tasks      | elapsed:   21.5s\n",
      "/home/cke/miniconda3/envs/BLADE/lib/python3.10/site-packages/Deconvolution/BLADE.py:809: RuntimeWarning: divide by zero encountered in log\n",
      "  return -self.Nsample*np.sum(np.log(Omega))\n",
      "/home/cke/miniconda3/envs/BLADE/lib/python3.10/site-packages/Deconvolution/BLADE.py:863: RuntimeWarning: invalid value encountered in double_scalars\n",
      "  return PX+PY+PF-QX-QF\n",
      "/home/cke/miniconda3/envs/BLADE/lib/python3.10/site-packages/Deconvolution/BLADE.py:809: RuntimeWarning: divide by zero encountered in log\n",
      "  return -self.Nsample*np.sum(np.log(Omega))\n",
      "/home/cke/miniconda3/envs/BLADE/lib/python3.10/site-packages/Deconvolution/BLADE.py:863: RuntimeWarning: invalid value encountered in double_scalars\n",
      "  return PX+PY+PF-QX-QF\n",
      "/home/cke/miniconda3/envs/BLADE/lib/python3.10/site-packages/Deconvolution/BLADE.py:809: RuntimeWarning: divide by zero encountered in log\n",
      "  return -self.Nsample*np.sum(np.log(Omega))\n",
      "/home/cke/miniconda3/envs/BLADE/lib/python3.10/site-packages/Deconvolution/BLADE.py:863: RuntimeWarning: invalid value encountered in double_scalars\n",
      "  return PX+PY+PF-QX-QF\n"
     ]
    },
    {
     "name": "stderr",
     "output_type": "stream",
     "text": [
      "/home/cke/miniconda3/envs/BLADE/lib/python3.10/site-packages/Deconvolution/BLADE.py:809: RuntimeWarning: divide by zero encountered in log\n",
      "  return -self.Nsample*np.sum(np.log(Omega))\n",
      "/home/cke/miniconda3/envs/BLADE/lib/python3.10/site-packages/Deconvolution/BLADE.py:863: RuntimeWarning: invalid value encountered in double_scalars\n",
      "  return PX+PY+PF-QX-QF\n",
      "/home/cke/miniconda3/envs/BLADE/lib/python3.10/site-packages/Deconvolution/BLADE.py:809: RuntimeWarning: divide by zero encountered in log\n",
      "  return -self.Nsample*np.sum(np.log(Omega))\n",
      "/home/cke/miniconda3/envs/BLADE/lib/python3.10/site-packages/Deconvolution/BLADE.py:863: RuntimeWarning: invalid value encountered in double_scalars\n",
      "  return PX+PY+PF-QX-QF\n",
      "/home/cke/miniconda3/envs/BLADE/lib/python3.10/site-packages/Deconvolution/BLADE.py:809: RuntimeWarning: divide by zero encountered in log\n",
      "  return -self.Nsample*np.sum(np.log(Omega))\n",
      "/home/cke/miniconda3/envs/BLADE/lib/python3.10/site-packages/Deconvolution/BLADE.py:863: RuntimeWarning: invalid value encountered in double_scalars\n",
      "  return PX+PY+PF-QX-QF\n",
      "/home/cke/miniconda3/envs/BLADE/lib/python3.10/site-packages/Deconvolution/BLADE.py:809: RuntimeWarning: divide by zero encountered in log\n",
      "  return -self.Nsample*np.sum(np.log(Omega))\n",
      "/home/cke/miniconda3/envs/BLADE/lib/python3.10/site-packages/Deconvolution/BLADE.py:863: RuntimeWarning: invalid value encountered in double_scalars\n",
      "  return PX+PY+PF-QX-QF\n",
      "/home/cke/miniconda3/envs/BLADE/lib/python3.10/site-packages/Deconvolution/BLADE.py:809: RuntimeWarning: divide by zero encountered in log\n",
      "  return -self.Nsample*np.sum(np.log(Omega))\n",
      "/home/cke/miniconda3/envs/BLADE/lib/python3.10/site-packages/Deconvolution/BLADE.py:863: RuntimeWarning: invalid value encountered in double_scalars\n",
      "  return PX+PY+PF-QX-QF\n",
      "[Parallel(n_jobs=10)]: Done  41 tasks      | elapsed:   48.7s\n",
      "[Parallel(n_jobs=10)]: Done  21 tasks      | elapsed:   29.2s\n",
      "/home/cke/miniconda3/envs/BLADE/lib/python3.10/site-packages/Deconvolution/BLADE.py:809: RuntimeWarning: divide by zero encountered in log\n",
      "  return -self.Nsample*np.sum(np.log(Omega))\n",
      "/home/cke/miniconda3/envs/BLADE/lib/python3.10/site-packages/Deconvolution/BLADE.py:863: RuntimeWarning: invalid value encountered in double_scalars\n",
      "  return PX+PY+PF-QX-QF\n",
      "/home/cke/miniconda3/envs/BLADE/lib/python3.10/site-packages/Deconvolution/BLADE.py:809: RuntimeWarning: divide by zero encountered in log\n",
      "  return -self.Nsample*np.sum(np.log(Omega))\n",
      "/home/cke/miniconda3/envs/BLADE/lib/python3.10/site-packages/Deconvolution/BLADE.py:863: RuntimeWarning: invalid value encountered in double_scalars\n",
      "  return PX+PY+PF-QX-QF\n",
      "/home/cke/miniconda3/envs/BLADE/lib/python3.10/site-packages/Deconvolution/BLADE.py:809: RuntimeWarning: divide by zero encountered in log\n",
      "  return -self.Nsample*np.sum(np.log(Omega))\n",
      "/home/cke/miniconda3/envs/BLADE/lib/python3.10/site-packages/Deconvolution/BLADE.py:863: RuntimeWarning: invalid value encountered in double_scalars\n",
      "  return PX+PY+PF-QX-QF\n",
      "/home/cke/miniconda3/envs/BLADE/lib/python3.10/site-packages/Deconvolution/BLADE.py:809: RuntimeWarning: divide by zero encountered in log\n",
      "  return -self.Nsample*np.sum(np.log(Omega))\n",
      "/home/cke/miniconda3/envs/BLADE/lib/python3.10/site-packages/Deconvolution/BLADE.py:863: RuntimeWarning: invalid value encountered in double_scalars\n",
      "  return PX+PY+PF-QX-QF\n",
      "/home/cke/miniconda3/envs/BLADE/lib/python3.10/site-packages/Deconvolution/BLADE.py:809: RuntimeWarning: divide by zero encountered in log\n",
      "  return -self.Nsample*np.sum(np.log(Omega))\n",
      "/home/cke/miniconda3/envs/BLADE/lib/python3.10/site-packages/Deconvolution/BLADE.py:863: RuntimeWarning: invalid value encountered in double_scalars\n",
      "  return PX+PY+PF-QX-QF\n",
      "/home/cke/miniconda3/envs/BLADE/lib/python3.10/site-packages/Deconvolution/BLADE.py:809: RuntimeWarning: divide by zero encountered in log\n",
      "  return -self.Nsample*np.sum(np.log(Omega))\n",
      "/home/cke/miniconda3/envs/BLADE/lib/python3.10/site-packages/Deconvolution/BLADE.py:863: RuntimeWarning: invalid value encountered in double_scalars\n",
      "  return PX+PY+PF-QX-QF\n",
      "/home/cke/miniconda3/envs/BLADE/lib/python3.10/site-packages/Deconvolution/BLADE.py:809: RuntimeWarning: divide by zero encountered in log\n",
      "  return -self.Nsample*np.sum(np.log(Omega))\n",
      "/home/cke/miniconda3/envs/BLADE/lib/python3.10/site-packages/Deconvolution/BLADE.py:863: RuntimeWarning: invalid value encountered in double_scalars\n",
      "  return PX+PY+PF-QX-QF\n",
      "[Parallel(n_jobs=10)]: Done  21 tasks      | elapsed:   35.9s\n",
      "/home/cke/miniconda3/envs/BLADE/lib/python3.10/site-packages/Deconvolution/BLADE.py:809: RuntimeWarning: divide by zero encountered in log\n",
      "  return -self.Nsample*np.sum(np.log(Omega))\n",
      "/home/cke/miniconda3/envs/BLADE/lib/python3.10/site-packages/Deconvolution/BLADE.py:863: RuntimeWarning: invalid value encountered in double_scalars\n",
      "  return PX+PY+PF-QX-QF\n",
      "/home/cke/miniconda3/envs/BLADE/lib/python3.10/site-packages/Deconvolution/BLADE.py:809: RuntimeWarning: divide by zero encountered in log\n",
      "  return -self.Nsample*np.sum(np.log(Omega))\n",
      "/home/cke/miniconda3/envs/BLADE/lib/python3.10/site-packages/Deconvolution/BLADE.py:863: RuntimeWarning: invalid value encountered in double_scalars\n",
      "  return PX+PY+PF-QX-QF\n",
      "[Parallel(n_jobs=10)]: Done  30 tasks      | elapsed:   36.6s\n",
      "/home/cke/miniconda3/envs/BLADE/lib/python3.10/site-packages/Deconvolution/BLADE.py:589: NumbaPerformanceWarning: \u001b[1m\u001b[1m\u001b[1m\u001b[1mnp.dot() is faster on contiguous arrays, called on (array(float64, 1d, C), array(float64, 2d, A))\u001b[0m\u001b[0m\u001b[0m\u001b[0m\n",
      "  g_Exp = g_Exp_Beta(Nu, Omega, Beta, B0, Ngene, Ncell, Nsample)\n",
      "/home/cke/miniconda3/envs/BLADE/lib/python3.10/site-packages/Deconvolution/BLADE.py:589: NumbaPerformanceWarning: \u001b[1m\u001b[1m\u001b[1m\u001b[1mnp.dot() is faster on contiguous arrays, called on (array(float64, 1d, C), array(float64, 2d, A))\u001b[0m\u001b[0m\u001b[0m\u001b[0m\n",
      "  g_Exp = g_Exp_Beta(Nu, Omega, Beta, B0, Ngene, Ncell, Nsample)\n",
      "/home/cke/miniconda3/envs/BLADE/lib/python3.10/site-packages/Deconvolution/BLADE.py:589: NumbaPerformanceWarning: \u001b[1m\u001b[1m\u001b[1m\u001b[1mnp.dot() is faster on contiguous arrays, called on (array(float64, 1d, C), array(float64, 2d, A))\u001b[0m\u001b[0m\u001b[0m\u001b[0m\n",
      "  g_Exp = g_Exp_Beta(Nu, Omega, Beta, B0, Ngene, Ncell, Nsample)\n",
      "/home/cke/miniconda3/envs/BLADE/lib/python3.10/site-packages/Deconvolution/BLADE.py:589: NumbaPerformanceWarning: \u001b[1m\u001b[1m\u001b[1m\u001b[1mnp.dot() is faster on contiguous arrays, called on (array(float64, 1d, C), array(float64, 2d, A))\u001b[0m\u001b[0m\u001b[0m\u001b[0m\n",
      "  g_Exp = g_Exp_Beta(Nu, Omega, Beta, B0, Ngene, Ncell, Nsample)\n",
      "/home/cke/miniconda3/envs/BLADE/lib/python3.10/site-packages/Deconvolution/BLADE.py:589: NumbaPerformanceWarning: \u001b[1m\u001b[1m\u001b[1m\u001b[1mnp.dot() is faster on contiguous arrays, called on (array(float64, 1d, C), array(float64, 2d, A))\u001b[0m\u001b[0m\u001b[0m\u001b[0m\n",
      "  g_Exp = g_Exp_Beta(Nu, Omega, Beta, B0, Ngene, Ncell, Nsample)\n",
      "/home/cke/miniconda3/envs/BLADE/lib/python3.10/site-packages/Deconvolution/BLADE.py:589: NumbaPerformanceWarning: \u001b[1m\u001b[1m\u001b[1m\u001b[1mnp.dot() is faster on contiguous arrays, called on (array(float64, 1d, C), array(float64, 2d, A))\u001b[0m\u001b[0m\u001b[0m\u001b[0m\n",
      "  g_Exp = g_Exp_Beta(Nu, Omega, Beta, B0, Ngene, Ncell, Nsample)\n",
      "[Parallel(n_jobs=10)]: Done  52 tasks      | elapsed:  1.0min\n",
      "/home/cke/miniconda3/envs/BLADE/lib/python3.10/site-packages/Deconvolution/BLADE.py:589: NumbaPerformanceWarning: \u001b[1m\u001b[1m\u001b[1m\u001b[1mnp.dot() is faster on contiguous arrays, called on (array(float64, 1d, C), array(float64, 2d, A))\u001b[0m\u001b[0m\u001b[0m\u001b[0m\n",
      "  g_Exp = g_Exp_Beta(Nu, Omega, Beta, B0, Ngene, Ncell, Nsample)\n",
      "/home/cke/miniconda3/envs/BLADE/lib/python3.10/site-packages/Deconvolution/BLADE.py:589: NumbaPerformanceWarning: \u001b[1m\u001b[1m\u001b[1m\u001b[1mnp.dot() is faster on contiguous arrays, called on (array(float64, 1d, C), array(float64, 2d, A))\u001b[0m\u001b[0m\u001b[0m\u001b[0m\n",
      "  g_Exp = g_Exp_Beta(Nu, Omega, Beta, B0, Ngene, Ncell, Nsample)\n",
      "/home/cke/miniconda3/envs/BLADE/lib/python3.10/site-packages/Deconvolution/BLADE.py:589: NumbaPerformanceWarning: \u001b[1m\u001b[1m\u001b[1m\u001b[1mnp.dot() is faster on contiguous arrays, called on (array(float64, 1d, C), array(float64, 2d, A))\u001b[0m\u001b[0m\u001b[0m\u001b[0m\n",
      "  g_Exp = g_Exp_Beta(Nu, Omega, Beta, B0, Ngene, Ncell, Nsample)\n",
      "/home/cke/miniconda3/envs/BLADE/lib/python3.10/site-packages/Deconvolution/BLADE.py:589: NumbaPerformanceWarning: \u001b[1m\u001b[1m\u001b[1m\u001b[1mnp.dot() is faster on contiguous arrays, called on (array(float64, 1d, C), array(float64, 2d, A))\u001b[0m\u001b[0m\u001b[0m\u001b[0m\n",
      "  g_Exp = g_Exp_Beta(Nu, Omega, Beta, B0, Ngene, Ncell, Nsample)\n"
     ]
    },
    {
     "name": "stderr",
     "output_type": "stream",
     "text": [
      "/home/cke/miniconda3/envs/BLADE/lib/python3.10/site-packages/Deconvolution/BLADE.py:589: NumbaPerformanceWarning: \u001b[1m\u001b[1m\u001b[1m\u001b[1mnp.dot() is faster on contiguous arrays, called on (array(float64, 1d, C), array(float64, 2d, A))\u001b[0m\u001b[0m\u001b[0m\u001b[0m\n",
      "  g_Exp = g_Exp_Beta(Nu, Omega, Beta, B0, Ngene, Ncell, Nsample)\n",
      "/home/cke/miniconda3/envs/BLADE/lib/python3.10/site-packages/Deconvolution/BLADE.py:589: NumbaPerformanceWarning: \u001b[1m\u001b[1m\u001b[1m\u001b[1mnp.dot() is faster on contiguous arrays, called on (array(float64, 1d, C), array(float64, 2d, A))\u001b[0m\u001b[0m\u001b[0m\u001b[0m\n",
      "  g_Exp = g_Exp_Beta(Nu, Omega, Beta, B0, Ngene, Ncell, Nsample)\n",
      "/home/cke/miniconda3/envs/BLADE/lib/python3.10/site-packages/Deconvolution/BLADE.py:589: NumbaPerformanceWarning: \u001b[1m\u001b[1m\u001b[1m\u001b[1mnp.dot() is faster on contiguous arrays, called on (array(float64, 1d, C), array(float64, 2d, A))\u001b[0m\u001b[0m\u001b[0m\u001b[0m\n",
      "  g_Exp = g_Exp_Beta(Nu, Omega, Beta, B0, Ngene, Ncell, Nsample)\n",
      "/home/cke/miniconda3/envs/BLADE/lib/python3.10/site-packages/Deconvolution/BLADE.py:589: NumbaPerformanceWarning: \u001b[1m\u001b[1m\u001b[1m\u001b[1mnp.dot() is faster on contiguous arrays, called on (array(float64, 1d, C), array(float64, 2d, A))\u001b[0m\u001b[0m\u001b[0m\u001b[0m\n",
      "  g_Exp = g_Exp_Beta(Nu, Omega, Beta, B0, Ngene, Ncell, Nsample)\n",
      "/home/cke/miniconda3/envs/BLADE/lib/python3.10/site-packages/Deconvolution/BLADE.py:589: NumbaPerformanceWarning: \u001b[1m\u001b[1m\u001b[1m\u001b[1mnp.dot() is faster on contiguous arrays, called on (array(float64, 1d, C), array(float64, 2d, A))\u001b[0m\u001b[0m\u001b[0m\u001b[0m\n",
      "  g_Exp = g_Exp_Beta(Nu, Omega, Beta, B0, Ngene, Ncell, Nsample)\n",
      "/home/cke/miniconda3/envs/BLADE/lib/python3.10/site-packages/Deconvolution/BLADE.py:589: NumbaPerformanceWarning: \u001b[1m\u001b[1m\u001b[1m\u001b[1mnp.dot() is faster on contiguous arrays, called on (array(float64, 1d, C), array(float64, 2d, A))\u001b[0m\u001b[0m\u001b[0m\u001b[0m\n",
      "  g_Exp = g_Exp_Beta(Nu, Omega, Beta, B0, Ngene, Ncell, Nsample)\n",
      "/home/cke/miniconda3/envs/BLADE/lib/python3.10/site-packages/Deconvolution/BLADE.py:589: NumbaPerformanceWarning: \u001b[1m\u001b[1m\u001b[1m\u001b[1mnp.dot() is faster on contiguous arrays, called on (array(float64, 1d, C), array(float64, 2d, A))\u001b[0m\u001b[0m\u001b[0m\u001b[0m\n",
      "  g_Exp = g_Exp_Beta(Nu, Omega, Beta, B0, Ngene, Ncell, Nsample)\n",
      "/home/cke/miniconda3/envs/BLADE/lib/python3.10/site-packages/Deconvolution/BLADE.py:589: NumbaPerformanceWarning: \u001b[1m\u001b[1m\u001b[1m\u001b[1mnp.dot() is faster on contiguous arrays, called on (array(float64, 1d, C), array(float64, 2d, A))\u001b[0m\u001b[0m\u001b[0m\u001b[0m\n",
      "  g_Exp = g_Exp_Beta(Nu, Omega, Beta, B0, Ngene, Ncell, Nsample)\n",
      "[Parallel(n_jobs=10)]: Done  30 tasks      | elapsed:   47.5s\n",
      "[Parallel(n_jobs=10)]: Done  41 tasks      | elapsed:   53.0s\n",
      "[Parallel(n_jobs=10)]: Done 162 out of 162 | elapsed: 15.8min finished\n",
      "[Parallel(n_jobs=10)]: Using backend LokyBackend with 10 concurrent workers.\n"
     ]
    },
    {
     "name": "stdout",
     "output_type": "stream",
     "text": [
      "No feature filtering is done (fsel = 0)\n",
      "Done optimization, elapsed time (min): 12.53250548839569\n",
      "export to:  /home/cke/PseudoBulk/Results/BLADE/fullpipeline_pseudobulk_Jul28_LOT_pseudobulk__LOT16_BLADEout_top50DEGs.pickle\n",
      "now with feature selection setup:  top100markers\n",
      "Get mean and std exp!\n",
      "Get common genes!  898\n",
      "cell types:  10\n",
      "bulk samples:  1\n",
      "start BLADE!\n",
      "all of 898 genes are used for optimization.\n",
      "All samples are used during the optimization.\n",
      "Initialization with Support vector regression\n",
      "No feature filtering is done (fsel = 0)\n",
      "Done optimization, elapsed time (min): 7.2889619390169775\n",
      "export to:  /home/cke/PseudoBulk/Results/BLADE/fullpipeline_pseudobulk_Jul28_LOT_pseudobulk__LOT16_BLADEout_top100markers.pickle\n",
      "now with feature selection setup:  top20markers\n",
      "Get mean and std exp!\n",
      "Get common genes!  198\n",
      "cell types:  10\n",
      "bulk samples:  1\n",
      "start BLADE!\n",
      "all of 198 genes are used for optimization.\n",
      "All samples are used during the optimization.\n",
      "Initialization with Support vector regression\n",
      "No feature filtering is done (fsel = 0)\n",
      "Done optimization, elapsed time (min): 1.0241764744122823\n",
      "export to:  /home/cke/PseudoBulk/Results/BLADE/fullpipeline_pseudobulk_Jul28_LOT_pseudobulk__LOT16_BLADEout_top20markers.pickle\n",
      "now with feature selection setup:  top100DEGs\n",
      "Get mean and std exp!\n",
      "Get common genes!  876\n",
      "cell types:  10\n",
      "bulk samples:  1\n",
      "start BLADE!\n",
      "all of 876 genes are used for optimization.\n",
      "All samples are used during the optimization.\n",
      "Initialization with Support vector regression\n",
      "No feature filtering is done (fsel = 0)\n",
      "Done optimization, elapsed time (min): 15.772367878754933\n",
      "export to:  /home/cke/PseudoBulk/Results/BLADE/fullpipeline_pseudobulk_Jul28_LOT_pseudobulk__LOT16_BLADEout_top100DEGs.pickle\n",
      "now with feature selection setup:  top50markers\n",
      "Get mean and std exp!\n",
      "Get common genes!  467\n",
      "cell types:  10\n",
      "bulk samples:  1\n",
      "start BLADE!\n",
      "all of 467 genes are used for optimization.\n",
      "All samples are used during the optimization.\n",
      "Initialization with Support vector regression\n"
     ]
    },
    {
     "name": "stderr",
     "output_type": "stream",
     "text": [
      "[Parallel(n_jobs=10)]: Done  65 tasks      | elapsed:  1.3min\n",
      "[Parallel(n_jobs=10)]: Done   1 tasks      | elapsed:    1.3s\n",
      "[Parallel(n_jobs=10)]: Done   1 out of   1 | elapsed:    1.3s finished\n",
      "[Parallel(n_jobs=10)]: Using backend LokyBackend with 10 concurrent workers.\n",
      "/home/cke/miniconda3/envs/BLADE/lib/python3.10/site-packages/Deconvolution/BLADE.py:809: RuntimeWarning: divide by zero encountered in log\n",
      "  return -self.Nsample*np.sum(np.log(Omega))\n",
      "/home/cke/miniconda3/envs/BLADE/lib/python3.10/site-packages/Deconvolution/BLADE.py:863: RuntimeWarning: invalid value encountered in double_scalars\n",
      "  return PX+PY+PF-QX-QF\n",
      "/home/cke/miniconda3/envs/BLADE/lib/python3.10/site-packages/Deconvolution/BLADE.py:809: RuntimeWarning: divide by zero encountered in log\n",
      "  return -self.Nsample*np.sum(np.log(Omega))\n",
      "/home/cke/miniconda3/envs/BLADE/lib/python3.10/site-packages/Deconvolution/BLADE.py:863: RuntimeWarning: invalid value encountered in double_scalars\n",
      "  return PX+PY+PF-QX-QF\n",
      "/home/cke/miniconda3/envs/BLADE/lib/python3.10/site-packages/Deconvolution/BLADE.py:809: RuntimeWarning: divide by zero encountered in log\n",
      "  return -self.Nsample*np.sum(np.log(Omega))\n",
      "/home/cke/miniconda3/envs/BLADE/lib/python3.10/site-packages/Deconvolution/BLADE.py:863: RuntimeWarning: invalid value encountered in double_scalars\n",
      "  return PX+PY+PF-QX-QF\n",
      "/home/cke/miniconda3/envs/BLADE/lib/python3.10/site-packages/Deconvolution/BLADE.py:809: RuntimeWarning: divide by zero encountered in log\n",
      "  return -self.Nsample*np.sum(np.log(Omega))\n",
      "/home/cke/miniconda3/envs/BLADE/lib/python3.10/site-packages/Deconvolution/BLADE.py:863: RuntimeWarning: invalid value encountered in double_scalars\n",
      "  return PX+PY+PF-QX-QF\n",
      "/home/cke/miniconda3/envs/BLADE/lib/python3.10/site-packages/Deconvolution/BLADE.py:809: RuntimeWarning: divide by zero encountered in log\n",
      "  return -self.Nsample*np.sum(np.log(Omega))\n",
      "/home/cke/miniconda3/envs/BLADE/lib/python3.10/site-packages/Deconvolution/BLADE.py:863: RuntimeWarning: invalid value encountered in double_scalars\n",
      "  return PX+PY+PF-QX-QF\n",
      "/home/cke/miniconda3/envs/BLADE/lib/python3.10/site-packages/Deconvolution/BLADE.py:809: RuntimeWarning: divide by zero encountered in log\n",
      "  return -self.Nsample*np.sum(np.log(Omega))\n",
      "/home/cke/miniconda3/envs/BLADE/lib/python3.10/site-packages/Deconvolution/BLADE.py:863: RuntimeWarning: invalid value encountered in double_scalars\n",
      "  return PX+PY+PF-QX-QF\n",
      "/home/cke/miniconda3/envs/BLADE/lib/python3.10/site-packages/Deconvolution/BLADE.py:809: RuntimeWarning: divide by zero encountered in log\n",
      "  return -self.Nsample*np.sum(np.log(Omega))\n",
      "/home/cke/miniconda3/envs/BLADE/lib/python3.10/site-packages/Deconvolution/BLADE.py:863: RuntimeWarning: invalid value encountered in double_scalars\n",
      "  return PX+PY+PF-QX-QF\n",
      "/home/cke/miniconda3/envs/BLADE/lib/python3.10/site-packages/Deconvolution/BLADE.py:809: RuntimeWarning: divide by zero encountered in log\n",
      "  return -self.Nsample*np.sum(np.log(Omega))\n",
      "/home/cke/miniconda3/envs/BLADE/lib/python3.10/site-packages/Deconvolution/BLADE.py:863: RuntimeWarning: invalid value encountered in double_scalars\n",
      "  return PX+PY+PF-QX-QF\n",
      "/home/cke/miniconda3/envs/BLADE/lib/python3.10/site-packages/Deconvolution/BLADE.py:809: RuntimeWarning: divide by zero encountered in log\n",
      "  return -self.Nsample*np.sum(np.log(Omega))\n",
      "/home/cke/miniconda3/envs/BLADE/lib/python3.10/site-packages/Deconvolution/BLADE.py:863: RuntimeWarning: invalid value encountered in double_scalars\n",
      "  return PX+PY+PF-QX-QF\n",
      "/home/cke/miniconda3/envs/BLADE/lib/python3.10/site-packages/Deconvolution/BLADE.py:809: RuntimeWarning: divide by zero encountered in log\n",
      "  return -self.Nsample*np.sum(np.log(Omega))\n",
      "/home/cke/miniconda3/envs/BLADE/lib/python3.10/site-packages/Deconvolution/BLADE.py:863: RuntimeWarning: invalid value encountered in double_scalars\n",
      "  return PX+PY+PF-QX-QF\n",
      "/home/cke/miniconda3/envs/BLADE/lib/python3.10/site-packages/Deconvolution/BLADE.py:809: RuntimeWarning: divide by zero encountered in log\n",
      "  return -self.Nsample*np.sum(np.log(Omega))\n",
      "/home/cke/miniconda3/envs/BLADE/lib/python3.10/site-packages/Deconvolution/BLADE.py:863: RuntimeWarning: invalid value encountered in double_scalars\n",
      "  return PX+PY+PF-QX-QF\n",
      "/home/cke/miniconda3/envs/BLADE/lib/python3.10/site-packages/Deconvolution/BLADE.py:809: RuntimeWarning: divide by zero encountered in log\n",
      "  return -self.Nsample*np.sum(np.log(Omega))\n",
      "/home/cke/miniconda3/envs/BLADE/lib/python3.10/site-packages/Deconvolution/BLADE.py:863: RuntimeWarning: invalid value encountered in double_scalars\n",
      "  return PX+PY+PF-QX-QF\n",
      "/home/cke/miniconda3/envs/BLADE/lib/python3.10/site-packages/Deconvolution/BLADE.py:809: RuntimeWarning: divide by zero encountered in log\n",
      "  return -self.Nsample*np.sum(np.log(Omega))\n",
      "/home/cke/miniconda3/envs/BLADE/lib/python3.10/site-packages/Deconvolution/BLADE.py:863: RuntimeWarning: invalid value encountered in double_scalars\n",
      "  return PX+PY+PF-QX-QF\n",
      "[Parallel(n_jobs=10)]: Done   5 tasks      | elapsed:    8.6s\n",
      "/home/cke/miniconda3/envs/BLADE/lib/python3.10/site-packages/Deconvolution/BLADE.py:809: RuntimeWarning: divide by zero encountered in log\n",
      "  return -self.Nsample*np.sum(np.log(Omega))\n",
      "/home/cke/miniconda3/envs/BLADE/lib/python3.10/site-packages/Deconvolution/BLADE.py:863: RuntimeWarning: invalid value encountered in double_scalars\n",
      "  return PX+PY+PF-QX-QF\n",
      "/home/cke/miniconda3/envs/BLADE/lib/python3.10/site-packages/Deconvolution/BLADE.py:809: RuntimeWarning: divide by zero encountered in log\n",
      "  return -self.Nsample*np.sum(np.log(Omega))\n",
      "/home/cke/miniconda3/envs/BLADE/lib/python3.10/site-packages/Deconvolution/BLADE.py:863: RuntimeWarning: invalid value encountered in double_scalars\n",
      "  return PX+PY+PF-QX-QF\n",
      "/home/cke/miniconda3/envs/BLADE/lib/python3.10/site-packages/Deconvolution/BLADE.py:809: RuntimeWarning: divide by zero encountered in log\n",
      "  return -self.Nsample*np.sum(np.log(Omega))\n",
      "/home/cke/miniconda3/envs/BLADE/lib/python3.10/site-packages/Deconvolution/BLADE.py:863: RuntimeWarning: invalid value encountered in double_scalars\n",
      "  return PX+PY+PF-QX-QF\n",
      "/home/cke/miniconda3/envs/BLADE/lib/python3.10/site-packages/Deconvolution/BLADE.py:809: RuntimeWarning: divide by zero encountered in log\n",
      "  return -self.Nsample*np.sum(np.log(Omega))\n",
      "/home/cke/miniconda3/envs/BLADE/lib/python3.10/site-packages/Deconvolution/BLADE.py:863: RuntimeWarning: invalid value encountered in double_scalars\n",
      "  return PX+PY+PF-QX-QF\n",
      "[Parallel(n_jobs=10)]: Done  41 tasks      | elapsed:  1.2min\n",
      "/home/cke/miniconda3/envs/BLADE/lib/python3.10/site-packages/Deconvolution/BLADE.py:809: RuntimeWarning: divide by zero encountered in log\n",
      "  return -self.Nsample*np.sum(np.log(Omega))\n",
      "/home/cke/miniconda3/envs/BLADE/lib/python3.10/site-packages/Deconvolution/BLADE.py:863: RuntimeWarning: invalid value encountered in double_scalars\n",
      "  return PX+PY+PF-QX-QF\n",
      "[Parallel(n_jobs=10)]: Done  52 tasks      | elapsed:  1.2min\n",
      "/home/cke/miniconda3/envs/BLADE/lib/python3.10/site-packages/Deconvolution/BLADE.py:809: RuntimeWarning: divide by zero encountered in log\n",
      "  return -self.Nsample*np.sum(np.log(Omega))\n",
      "/home/cke/miniconda3/envs/BLADE/lib/python3.10/site-packages/Deconvolution/BLADE.py:863: RuntimeWarning: invalid value encountered in double_scalars\n",
      "  return PX+PY+PF-QX-QF\n",
      "/home/cke/miniconda3/envs/BLADE/lib/python3.10/site-packages/Deconvolution/BLADE.py:809: RuntimeWarning: divide by zero encountered in log\n",
      "  return -self.Nsample*np.sum(np.log(Omega))\n",
      "/home/cke/miniconda3/envs/BLADE/lib/python3.10/site-packages/Deconvolution/BLADE.py:863: RuntimeWarning: invalid value encountered in double_scalars\n",
      "  return PX+PY+PF-QX-QF\n",
      "/home/cke/miniconda3/envs/BLADE/lib/python3.10/site-packages/Deconvolution/BLADE.py:809: RuntimeWarning: divide by zero encountered in log\n",
      "  return -self.Nsample*np.sum(np.log(Omega))\n",
      "/home/cke/miniconda3/envs/BLADE/lib/python3.10/site-packages/Deconvolution/BLADE.py:863: RuntimeWarning: invalid value encountered in double_scalars\n",
      "  return PX+PY+PF-QX-QF\n",
      "/home/cke/miniconda3/envs/BLADE/lib/python3.10/site-packages/Deconvolution/BLADE.py:809: RuntimeWarning: divide by zero encountered in log\n",
      "  return -self.Nsample*np.sum(np.log(Omega))\n",
      "/home/cke/miniconda3/envs/BLADE/lib/python3.10/site-packages/Deconvolution/BLADE.py:863: RuntimeWarning: invalid value encountered in double_scalars\n",
      "  return PX+PY+PF-QX-QF\n",
      "/home/cke/miniconda3/envs/BLADE/lib/python3.10/site-packages/Deconvolution/BLADE.py:809: RuntimeWarning: divide by zero encountered in log\n",
      "  return -self.Nsample*np.sum(np.log(Omega))\n",
      "/home/cke/miniconda3/envs/BLADE/lib/python3.10/site-packages/Deconvolution/BLADE.py:863: RuntimeWarning: invalid value encountered in double_scalars\n",
      "  return PX+PY+PF-QX-QF\n",
      "[Parallel(n_jobs=10)]: Done  78 tasks      | elapsed:  1.6min\n"
     ]
    },
    {
     "name": "stderr",
     "output_type": "stream",
     "text": [
      "/home/cke/miniconda3/envs/BLADE/lib/python3.10/site-packages/Deconvolution/BLADE.py:809: RuntimeWarning: divide by zero encountered in log\n",
      "  return -self.Nsample*np.sum(np.log(Omega))\n",
      "/home/cke/miniconda3/envs/BLADE/lib/python3.10/site-packages/Deconvolution/BLADE.py:863: RuntimeWarning: invalid value encountered in double_scalars\n",
      "  return PX+PY+PF-QX-QF\n",
      "/home/cke/miniconda3/envs/BLADE/lib/python3.10/site-packages/Deconvolution/BLADE.py:809: RuntimeWarning: divide by zero encountered in log\n",
      "  return -self.Nsample*np.sum(np.log(Omega))\n",
      "/home/cke/miniconda3/envs/BLADE/lib/python3.10/site-packages/Deconvolution/BLADE.py:863: RuntimeWarning: invalid value encountered in double_scalars\n",
      "  return PX+PY+PF-QX-QF\n",
      "/home/cke/miniconda3/envs/BLADE/lib/python3.10/site-packages/Deconvolution/BLADE.py:809: RuntimeWarning: divide by zero encountered in log\n",
      "  return -self.Nsample*np.sum(np.log(Omega))\n",
      "/home/cke/miniconda3/envs/BLADE/lib/python3.10/site-packages/Deconvolution/BLADE.py:863: RuntimeWarning: invalid value encountered in double_scalars\n",
      "  return PX+PY+PF-QX-QF\n",
      "[Parallel(n_jobs=10)]: Done  93 tasks      | elapsed:  1.6min\n",
      "/home/cke/miniconda3/envs/BLADE/lib/python3.10/site-packages/Deconvolution/BLADE.py:809: RuntimeWarning: divide by zero encountered in log\n",
      "  return -self.Nsample*np.sum(np.log(Omega))\n",
      "/home/cke/miniconda3/envs/BLADE/lib/python3.10/site-packages/Deconvolution/BLADE.py:863: RuntimeWarning: invalid value encountered in double_scalars\n",
      "  return PX+PY+PF-QX-QF\n",
      "/home/cke/miniconda3/envs/BLADE/lib/python3.10/site-packages/Deconvolution/BLADE.py:809: RuntimeWarning: divide by zero encountered in log\n",
      "  return -self.Nsample*np.sum(np.log(Omega))\n",
      "/home/cke/miniconda3/envs/BLADE/lib/python3.10/site-packages/Deconvolution/BLADE.py:863: RuntimeWarning: invalid value encountered in double_scalars\n",
      "  return PX+PY+PF-QX-QF\n",
      "[Parallel(n_jobs=10)]: Done 108 tasks      | elapsed:  1.7min\n",
      "/home/cke/miniconda3/envs/BLADE/lib/python3.10/site-packages/Deconvolution/BLADE.py:809: RuntimeWarning: divide by zero encountered in log\n",
      "  return -self.Nsample*np.sum(np.log(Omega))\n",
      "/home/cke/miniconda3/envs/BLADE/lib/python3.10/site-packages/Deconvolution/BLADE.py:863: RuntimeWarning: invalid value encountered in double_scalars\n",
      "  return PX+PY+PF-QX-QF\n",
      "/home/cke/miniconda3/envs/BLADE/lib/python3.10/site-packages/Deconvolution/BLADE.py:809: RuntimeWarning: divide by zero encountered in log\n",
      "  return -self.Nsample*np.sum(np.log(Omega))\n",
      "/home/cke/miniconda3/envs/BLADE/lib/python3.10/site-packages/Deconvolution/BLADE.py:863: RuntimeWarning: invalid value encountered in double_scalars\n",
      "  return PX+PY+PF-QX-QF\n",
      "/home/cke/miniconda3/envs/BLADE/lib/python3.10/site-packages/Deconvolution/BLADE.py:809: RuntimeWarning: divide by zero encountered in log\n",
      "  return -self.Nsample*np.sum(np.log(Omega))\n",
      "/home/cke/miniconda3/envs/BLADE/lib/python3.10/site-packages/Deconvolution/BLADE.py:863: RuntimeWarning: invalid value encountered in double_scalars\n",
      "  return PX+PY+PF-QX-QF\n",
      "/home/cke/miniconda3/envs/BLADE/lib/python3.10/site-packages/Deconvolution/BLADE.py:809: RuntimeWarning: divide by zero encountered in log\n",
      "  return -self.Nsample*np.sum(np.log(Omega))\n",
      "/home/cke/miniconda3/envs/BLADE/lib/python3.10/site-packages/Deconvolution/BLADE.py:863: RuntimeWarning: invalid value encountered in double_scalars\n",
      "  return PX+PY+PF-QX-QF\n",
      "/home/cke/miniconda3/envs/BLADE/lib/python3.10/site-packages/Deconvolution/BLADE.py:809: RuntimeWarning: divide by zero encountered in log\n",
      "  return -self.Nsample*np.sum(np.log(Omega))\n",
      "/home/cke/miniconda3/envs/BLADE/lib/python3.10/site-packages/Deconvolution/BLADE.py:863: RuntimeWarning: invalid value encountered in double_scalars\n",
      "  return PX+PY+PF-QX-QF\n",
      "/home/cke/miniconda3/envs/BLADE/lib/python3.10/site-packages/Deconvolution/BLADE.py:809: RuntimeWarning: divide by zero encountered in log\n",
      "  return -self.Nsample*np.sum(np.log(Omega))\n",
      "/home/cke/miniconda3/envs/BLADE/lib/python3.10/site-packages/Deconvolution/BLADE.py:863: RuntimeWarning: invalid value encountered in double_scalars\n",
      "  return PX+PY+PF-QX-QF\n",
      "/home/cke/miniconda3/envs/BLADE/lib/python3.10/site-packages/Deconvolution/BLADE.py:809: RuntimeWarning: divide by zero encountered in log\n",
      "  return -self.Nsample*np.sum(np.log(Omega))\n",
      "/home/cke/miniconda3/envs/BLADE/lib/python3.10/site-packages/Deconvolution/BLADE.py:863: RuntimeWarning: invalid value encountered in double_scalars\n",
      "  return PX+PY+PF-QX-QF\n",
      "[Parallel(n_jobs=10)]: Done 125 tasks      | elapsed:  1.7min\n",
      "[Parallel(n_jobs=10)]: Done  12 tasks      | elapsed:   22.9s\n",
      "/home/cke/miniconda3/envs/BLADE/lib/python3.10/site-packages/Deconvolution/BLADE.py:809: RuntimeWarning: divide by zero encountered in log\n",
      "  return -self.Nsample*np.sum(np.log(Omega))\n",
      "/home/cke/miniconda3/envs/BLADE/lib/python3.10/site-packages/Deconvolution/BLADE.py:863: RuntimeWarning: invalid value encountered in double_scalars\n",
      "  return PX+PY+PF-QX-QF\n",
      "[Parallel(n_jobs=10)]: Done 142 tasks      | elapsed:  1.8min\n",
      "[Parallel(n_jobs=10)]: Done  65 tasks      | elapsed:  1.4min\n",
      "[Parallel(n_jobs=10)]: Done 160 out of 162 | elapsed:  1.8min remaining:    1.4s\n",
      "[Parallel(n_jobs=10)]: Done 162 out of 162 | elapsed:  1.8min finished\n",
      "[Parallel(n_jobs=10)]: Using backend LokyBackend with 10 concurrent workers.\n",
      "[Parallel(n_jobs=10)]: Done   1 tasks      | elapsed:    2.9s\n",
      "[Parallel(n_jobs=10)]: Done   1 out of   1 | elapsed:    2.9s finished\n",
      "[Parallel(n_jobs=10)]: Using backend LokyBackend with 10 concurrent workers.\n",
      "/home/cke/miniconda3/envs/BLADE/lib/python3.10/site-packages/Deconvolution/BLADE.py:809: RuntimeWarning: divide by zero encountered in log\n",
      "  return -self.Nsample*np.sum(np.log(Omega))\n",
      "/home/cke/miniconda3/envs/BLADE/lib/python3.10/site-packages/Deconvolution/BLADE.py:863: RuntimeWarning: invalid value encountered in double_scalars\n",
      "  return PX+PY+PF-QX-QF\n",
      "[Parallel(n_jobs=10)]: Done  52 tasks      | elapsed:  1.6min\n",
      "[Parallel(n_jobs=10)]: Done  21 tasks      | elapsed:   36.5s\n",
      "[Parallel(n_jobs=10)]: Done   5 tasks      | elapsed:    8.7s\n",
      "[Parallel(n_jobs=10)]: Done  12 tasks      | elapsed:   16.4s\n",
      "[Parallel(n_jobs=10)]: Done  78 tasks      | elapsed:  1.8min\n",
      "/home/cke/miniconda3/envs/BLADE/lib/python3.10/site-packages/Deconvolution/BLADE.py:589: NumbaPerformanceWarning: \u001b[1m\u001b[1m\u001b[1m\u001b[1mnp.dot() is faster on contiguous arrays, called on (array(float64, 1d, C), array(float64, 2d, A))\u001b[0m\u001b[0m\u001b[0m\u001b[0m\n",
      "  g_Exp = g_Exp_Beta(Nu, Omega, Beta, B0, Ngene, Ncell, Nsample)\n",
      "/home/cke/miniconda3/envs/BLADE/lib/python3.10/site-packages/Deconvolution/BLADE.py:589: NumbaPerformanceWarning: \u001b[1m\u001b[1m\u001b[1m\u001b[1mnp.dot() is faster on contiguous arrays, called on (array(float64, 1d, C), array(float64, 2d, A))\u001b[0m\u001b[0m\u001b[0m\u001b[0m\n",
      "  g_Exp = g_Exp_Beta(Nu, Omega, Beta, B0, Ngene, Ncell, Nsample)\n",
      "/home/cke/miniconda3/envs/BLADE/lib/python3.10/site-packages/Deconvolution/BLADE.py:589: NumbaPerformanceWarning: \u001b[1m\u001b[1m\u001b[1m\u001b[1mnp.dot() is faster on contiguous arrays, called on (array(float64, 1d, C), array(float64, 2d, A))\u001b[0m\u001b[0m\u001b[0m\u001b[0m\n",
      "  g_Exp = g_Exp_Beta(Nu, Omega, Beta, B0, Ngene, Ncell, Nsample)\n",
      "/home/cke/miniconda3/envs/BLADE/lib/python3.10/site-packages/Deconvolution/BLADE.py:589: NumbaPerformanceWarning: \u001b[1m\u001b[1m\u001b[1m\u001b[1mnp.dot() is faster on contiguous arrays, called on (array(float64, 1d, C), array(float64, 2d, A))\u001b[0m\u001b[0m\u001b[0m\u001b[0m\n",
      "  g_Exp = g_Exp_Beta(Nu, Omega, Beta, B0, Ngene, Ncell, Nsample)\n",
      "/home/cke/miniconda3/envs/BLADE/lib/python3.10/site-packages/Deconvolution/BLADE.py:589: NumbaPerformanceWarning: \u001b[1m\u001b[1m\u001b[1m\u001b[1mnp.dot() is faster on contiguous arrays, called on (array(float64, 1d, C), array(float64, 2d, A))\u001b[0m\u001b[0m\u001b[0m\u001b[0m\n",
      "  g_Exp = g_Exp_Beta(Nu, Omega, Beta, B0, Ngene, Ncell, Nsample)\n",
      "/home/cke/miniconda3/envs/BLADE/lib/python3.10/site-packages/Deconvolution/BLADE.py:589: NumbaPerformanceWarning: \u001b[1m\u001b[1m\u001b[1m\u001b[1mnp.dot() is faster on contiguous arrays, called on (array(float64, 1d, C), array(float64, 2d, A))\u001b[0m\u001b[0m\u001b[0m\u001b[0m\n",
      "  g_Exp = g_Exp_Beta(Nu, Omega, Beta, B0, Ngene, Ncell, Nsample)\n",
      "/home/cke/miniconda3/envs/BLADE/lib/python3.10/site-packages/Deconvolution/BLADE.py:589: NumbaPerformanceWarning: \u001b[1m\u001b[1m\u001b[1m\u001b[1mnp.dot() is faster on contiguous arrays, called on (array(float64, 1d, C), array(float64, 2d, A))\u001b[0m\u001b[0m\u001b[0m\u001b[0m\n",
      "  g_Exp = g_Exp_Beta(Nu, Omega, Beta, B0, Ngene, Ncell, Nsample)\n"
     ]
    },
    {
     "name": "stderr",
     "output_type": "stream",
     "text": [
      "/home/cke/miniconda3/envs/BLADE/lib/python3.10/site-packages/Deconvolution/BLADE.py:809: RuntimeWarning: divide by zero encountered in log\n",
      "  return -self.Nsample*np.sum(np.log(Omega))\n",
      "/home/cke/miniconda3/envs/BLADE/lib/python3.10/site-packages/Deconvolution/BLADE.py:863: RuntimeWarning: invalid value encountered in double_scalars\n",
      "  return PX+PY+PF-QX-QF\n",
      "[Parallel(n_jobs=10)]: Done  65 tasks      | elapsed:  2.0min\n",
      "/home/cke/miniconda3/envs/BLADE/lib/python3.10/site-packages/Deconvolution/BLADE.py:809: RuntimeWarning: divide by zero encountered in log\n",
      "  return -self.Nsample*np.sum(np.log(Omega))\n",
      "/home/cke/miniconda3/envs/BLADE/lib/python3.10/site-packages/Deconvolution/BLADE.py:863: RuntimeWarning: invalid value encountered in double_scalars\n",
      "  return PX+PY+PF-QX-QF\n",
      "[Parallel(n_jobs=10)]: Done  21 tasks      | elapsed:   26.0s\n",
      "/home/cke/miniconda3/envs/BLADE/lib/python3.10/site-packages/Deconvolution/BLADE.py:589: NumbaPerformanceWarning: \u001b[1m\u001b[1m\u001b[1m\u001b[1mnp.dot() is faster on contiguous arrays, called on (array(float64, 1d, C), array(float64, 2d, A))\u001b[0m\u001b[0m\u001b[0m\u001b[0m\n",
      "  g_Exp = g_Exp_Beta(Nu, Omega, Beta, B0, Ngene, Ncell, Nsample)\n",
      "/home/cke/miniconda3/envs/BLADE/lib/python3.10/site-packages/Deconvolution/BLADE.py:809: RuntimeWarning: divide by zero encountered in log\n",
      "  return -self.Nsample*np.sum(np.log(Omega))\n",
      "/home/cke/miniconda3/envs/BLADE/lib/python3.10/site-packages/Deconvolution/BLADE.py:863: RuntimeWarning: invalid value encountered in double_scalars\n",
      "  return PX+PY+PF-QX-QF\n",
      "[Parallel(n_jobs=10)]: Done  30 tasks      | elapsed:   59.7s\n",
      "/home/cke/miniconda3/envs/BLADE/lib/python3.10/site-packages/Deconvolution/BLADE.py:809: RuntimeWarning: divide by zero encountered in log\n",
      "  return -self.Nsample*np.sum(np.log(Omega))\n",
      "/home/cke/miniconda3/envs/BLADE/lib/python3.10/site-packages/Deconvolution/BLADE.py:863: RuntimeWarning: invalid value encountered in double_scalars\n",
      "  return PX+PY+PF-QX-QF\n",
      "/home/cke/miniconda3/envs/BLADE/lib/python3.10/site-packages/Deconvolution/BLADE.py:809: RuntimeWarning: divide by zero encountered in log\n",
      "  return -self.Nsample*np.sum(np.log(Omega))\n",
      "/home/cke/miniconda3/envs/BLADE/lib/python3.10/site-packages/Deconvolution/BLADE.py:863: RuntimeWarning: invalid value encountered in double_scalars\n",
      "  return PX+PY+PF-QX-QF\n",
      "/home/cke/miniconda3/envs/BLADE/lib/python3.10/site-packages/Deconvolution/BLADE.py:809: RuntimeWarning: divide by zero encountered in log\n",
      "  return -self.Nsample*np.sum(np.log(Omega))\n",
      "/home/cke/miniconda3/envs/BLADE/lib/python3.10/site-packages/Deconvolution/BLADE.py:863: RuntimeWarning: invalid value encountered in double_scalars\n",
      "  return PX+PY+PF-QX-QF\n",
      "/home/cke/miniconda3/envs/BLADE/lib/python3.10/site-packages/Deconvolution/BLADE.py:809: RuntimeWarning: divide by zero encountered in log\n",
      "  return -self.Nsample*np.sum(np.log(Omega))\n",
      "/home/cke/miniconda3/envs/BLADE/lib/python3.10/site-packages/Deconvolution/BLADE.py:863: RuntimeWarning: invalid value encountered in double_scalars\n",
      "  return PX+PY+PF-QX-QF\n",
      "/home/cke/miniconda3/envs/BLADE/lib/python3.10/site-packages/Deconvolution/BLADE.py:809: RuntimeWarning: divide by zero encountered in log\n",
      "  return -self.Nsample*np.sum(np.log(Omega))\n",
      "/home/cke/miniconda3/envs/BLADE/lib/python3.10/site-packages/Deconvolution/BLADE.py:863: RuntimeWarning: invalid value encountered in double_scalars\n",
      "  return PX+PY+PF-QX-QF\n",
      "[Parallel(n_jobs=10)]: Done  78 tasks      | elapsed:  2.1min\n",
      "/home/cke/miniconda3/envs/BLADE/lib/python3.10/site-packages/Deconvolution/BLADE.py:809: RuntimeWarning: divide by zero encountered in log\n",
      "  return -self.Nsample*np.sum(np.log(Omega))\n",
      "/home/cke/miniconda3/envs/BLADE/lib/python3.10/site-packages/Deconvolution/BLADE.py:863: RuntimeWarning: invalid value encountered in double_scalars\n",
      "  return PX+PY+PF-QX-QF\n",
      "[Parallel(n_jobs=10)]: Done  93 tasks      | elapsed:  2.0min\n",
      "/home/cke/miniconda3/envs/BLADE/lib/python3.10/site-packages/Deconvolution/BLADE.py:809: RuntimeWarning: divide by zero encountered in log\n",
      "  return -self.Nsample*np.sum(np.log(Omega))\n",
      "/home/cke/miniconda3/envs/BLADE/lib/python3.10/site-packages/Deconvolution/BLADE.py:863: RuntimeWarning: invalid value encountered in double_scalars\n",
      "  return PX+PY+PF-QX-QF\n",
      "/home/cke/miniconda3/envs/BLADE/lib/python3.10/site-packages/Deconvolution/BLADE.py:809: RuntimeWarning: divide by zero encountered in log\n",
      "  return -self.Nsample*np.sum(np.log(Omega))\n",
      "/home/cke/miniconda3/envs/BLADE/lib/python3.10/site-packages/Deconvolution/BLADE.py:863: RuntimeWarning: invalid value encountered in double_scalars\n",
      "  return PX+PY+PF-QX-QF\n",
      "/home/cke/miniconda3/envs/BLADE/lib/python3.10/site-packages/Deconvolution/BLADE.py:809: RuntimeWarning: divide by zero encountered in log\n",
      "  return -self.Nsample*np.sum(np.log(Omega))\n",
      "/home/cke/miniconda3/envs/BLADE/lib/python3.10/site-packages/Deconvolution/BLADE.py:863: RuntimeWarning: invalid value encountered in double_scalars\n",
      "  return PX+PY+PF-QX-QF\n",
      "/home/cke/miniconda3/envs/BLADE/lib/python3.10/site-packages/Deconvolution/BLADE.py:809: RuntimeWarning: divide by zero encountered in log\n",
      "  return -self.Nsample*np.sum(np.log(Omega))\n",
      "/home/cke/miniconda3/envs/BLADE/lib/python3.10/site-packages/Deconvolution/BLADE.py:863: RuntimeWarning: invalid value encountered in double_scalars\n",
      "  return PX+PY+PF-QX-QF\n",
      "/home/cke/miniconda3/envs/BLADE/lib/python3.10/site-packages/Deconvolution/BLADE.py:809: RuntimeWarning: divide by zero encountered in log\n",
      "  return -self.Nsample*np.sum(np.log(Omega))\n",
      "/home/cke/miniconda3/envs/BLADE/lib/python3.10/site-packages/Deconvolution/BLADE.py:863: RuntimeWarning: invalid value encountered in double_scalars\n",
      "  return PX+PY+PF-QX-QF\n",
      "/home/cke/miniconda3/envs/BLADE/lib/python3.10/site-packages/Deconvolution/BLADE.py:809: RuntimeWarning: divide by zero encountered in log\n",
      "  return -self.Nsample*np.sum(np.log(Omega))\n",
      "/home/cke/miniconda3/envs/BLADE/lib/python3.10/site-packages/Deconvolution/BLADE.py:863: RuntimeWarning: invalid value encountered in double_scalars\n",
      "  return PX+PY+PF-QX-QF\n",
      "[Parallel(n_jobs=10)]: Done  30 tasks      | elapsed:   34.8s\n",
      "[Parallel(n_jobs=10)]: Done  93 tasks      | elapsed:  2.1min\n",
      "/home/cke/miniconda3/envs/BLADE/lib/python3.10/site-packages/Deconvolution/BLADE.py:809: RuntimeWarning: divide by zero encountered in log\n",
      "  return -self.Nsample*np.sum(np.log(Omega))\n",
      "/home/cke/miniconda3/envs/BLADE/lib/python3.10/site-packages/Deconvolution/BLADE.py:863: RuntimeWarning: invalid value encountered in double_scalars\n",
      "  return PX+PY+PF-QX-QF\n",
      "[Parallel(n_jobs=10)]: Done 108 tasks      | elapsed:  2.1min\n",
      "/home/cke/miniconda3/envs/BLADE/lib/python3.10/site-packages/Deconvolution/BLADE.py:809: RuntimeWarning: divide by zero encountered in log\n",
      "  return -self.Nsample*np.sum(np.log(Omega))\n",
      "/home/cke/miniconda3/envs/BLADE/lib/python3.10/site-packages/Deconvolution/BLADE.py:863: RuntimeWarning: invalid value encountered in double_scalars\n",
      "  return PX+PY+PF-QX-QF\n",
      "/home/cke/miniconda3/envs/BLADE/lib/python3.10/site-packages/Deconvolution/BLADE.py:809: RuntimeWarning: divide by zero encountered in log\n",
      "  return -self.Nsample*np.sum(np.log(Omega))\n",
      "/home/cke/miniconda3/envs/BLADE/lib/python3.10/site-packages/Deconvolution/BLADE.py:863: RuntimeWarning: invalid value encountered in double_scalars\n",
      "  return PX+PY+PF-QX-QF\n",
      "[Parallel(n_jobs=10)]: Done 108 tasks      | elapsed:  2.2min\n",
      "[Parallel(n_jobs=10)]: Done 125 tasks      | elapsed:  2.2min\n",
      "[Parallel(n_jobs=10)]: Done  41 tasks      | elapsed:   42.0s\n",
      "[Parallel(n_jobs=10)]: Done 142 tasks      | elapsed:  2.2min\n",
      "[Parallel(n_jobs=10)]: Done 125 tasks      | elapsed:  2.3min\n",
      "[Parallel(n_jobs=10)]: Done 160 out of 162 | elapsed:  2.3min remaining:    1.7s\n",
      "[Parallel(n_jobs=10)]: Done 142 tasks      | elapsed:  2.4min\n",
      "[Parallel(n_jobs=10)]: Done 162 out of 162 | elapsed:  2.3min finished\n",
      "[Parallel(n_jobs=10)]: Using backend LokyBackend with 10 concurrent workers.\n",
      "[Parallel(n_jobs=10)]: Done  52 tasks      | elapsed:   52.2s\n",
      "[Parallel(n_jobs=10)]: Done 160 out of 162 | elapsed:  2.4min remaining:    1.8s\n",
      "[Parallel(n_jobs=10)]: Done 162 out of 162 | elapsed:  2.4min finished\n"
     ]
    },
    {
     "name": "stdout",
     "output_type": "stream",
     "text": [
      "No feature filtering is done (fsel = 0)\n",
      "Done optimization, elapsed time (min): 2.4534488836924235\n",
      "export to:  /home/cke/PseudoBulk/Results/BLADE/fullpipeline_pseudobulk_Jul28_LOT_pseudobulk__LOT17_BLADEout_top50markers.pickle\n"
     ]
    },
    {
     "name": "stderr",
     "output_type": "stream",
     "text": [
      "/home/cke/miniconda3/envs/BLADE/lib/python3.10/site-packages/Deconvolution/BLADE.py:809: RuntimeWarning: divide by zero encountered in log\n",
      "  return -self.Nsample*np.sum(np.log(Omega))\n",
      "/home/cke/miniconda3/envs/BLADE/lib/python3.10/site-packages/Deconvolution/BLADE.py:863: RuntimeWarning: invalid value encountered in double_scalars\n",
      "  return PX+PY+PF-QX-QF\n",
      "[Parallel(n_jobs=10)]: Done   1 tasks      | elapsed:    7.9s\n",
      "[Parallel(n_jobs=10)]: Done   1 out of   1 | elapsed:    7.9s finished\n",
      "[Parallel(n_jobs=10)]: Using backend LokyBackend with 10 concurrent workers.\n",
      "/home/cke/miniconda3/envs/BLADE/lib/python3.10/site-packages/Deconvolution/BLADE.py:809: RuntimeWarning: divide by zero encountered in log\n",
      "  return -self.Nsample*np.sum(np.log(Omega))\n",
      "/home/cke/miniconda3/envs/BLADE/lib/python3.10/site-packages/Deconvolution/BLADE.py:863: RuntimeWarning: invalid value encountered in double_scalars\n",
      "  return PX+PY+PF-QX-QF\n",
      "/home/cke/miniconda3/envs/BLADE/lib/python3.10/site-packages/Deconvolution/BLADE.py:809: RuntimeWarning: divide by zero encountered in log\n",
      "  return -self.Nsample*np.sum(np.log(Omega))\n",
      "/home/cke/miniconda3/envs/BLADE/lib/python3.10/site-packages/Deconvolution/BLADE.py:863: RuntimeWarning: invalid value encountered in double_scalars\n",
      "  return PX+PY+PF-QX-QF\n",
      "/home/cke/miniconda3/envs/BLADE/lib/python3.10/site-packages/Deconvolution/BLADE.py:809: RuntimeWarning: divide by zero encountered in log\n",
      "  return -self.Nsample*np.sum(np.log(Omega))\n",
      "/home/cke/miniconda3/envs/BLADE/lib/python3.10/site-packages/Deconvolution/BLADE.py:863: RuntimeWarning: invalid value encountered in double_scalars\n",
      "  return PX+PY+PF-QX-QF\n",
      "/home/cke/miniconda3/envs/BLADE/lib/python3.10/site-packages/Deconvolution/BLADE.py:809: RuntimeWarning: divide by zero encountered in log\n",
      "  return -self.Nsample*np.sum(np.log(Omega))\n",
      "/home/cke/miniconda3/envs/BLADE/lib/python3.10/site-packages/Deconvolution/BLADE.py:863: RuntimeWarning: invalid value encountered in double_scalars\n",
      "  return PX+PY+PF-QX-QF\n",
      "[Parallel(n_jobs=10)]: Done  65 tasks      | elapsed:  1.0min\n",
      "[Parallel(n_jobs=10)]: Done   5 tasks      | elapsed:    3.3s\n",
      "/home/cke/miniconda3/envs/BLADE/lib/python3.10/site-packages/Deconvolution/BLADE.py:809: RuntimeWarning: divide by zero encountered in log\n",
      "  return -self.Nsample*np.sum(np.log(Omega))\n",
      "/home/cke/miniconda3/envs/BLADE/lib/python3.10/site-packages/Deconvolution/BLADE.py:863: RuntimeWarning: invalid value encountered in double_scalars\n",
      "  return PX+PY+PF-QX-QF\n",
      "/home/cke/miniconda3/envs/BLADE/lib/python3.10/site-packages/Deconvolution/BLADE.py:809: RuntimeWarning: divide by zero encountered in log\n",
      "  return -self.Nsample*np.sum(np.log(Omega))\n",
      "/home/cke/miniconda3/envs/BLADE/lib/python3.10/site-packages/Deconvolution/BLADE.py:863: RuntimeWarning: invalid value encountered in double_scalars\n",
      "  return PX+PY+PF-QX-QF\n",
      "/home/cke/miniconda3/envs/BLADE/lib/python3.10/site-packages/Deconvolution/BLADE.py:809: RuntimeWarning: divide by zero encountered in log\n",
      "  return -self.Nsample*np.sum(np.log(Omega))\n",
      "/home/cke/miniconda3/envs/BLADE/lib/python3.10/site-packages/Deconvolution/BLADE.py:863: RuntimeWarning: invalid value encountered in double_scalars\n",
      "  return PX+PY+PF-QX-QF\n",
      "[Parallel(n_jobs=10)]: Done  12 tasks      | elapsed:    7.9s\n",
      "/home/cke/miniconda3/envs/BLADE/lib/python3.10/site-packages/Deconvolution/BLADE.py:809: RuntimeWarning: divide by zero encountered in log\n",
      "  return -self.Nsample*np.sum(np.log(Omega))\n",
      "/home/cke/miniconda3/envs/BLADE/lib/python3.10/site-packages/Deconvolution/BLADE.py:863: RuntimeWarning: invalid value encountered in double_scalars\n",
      "  return PX+PY+PF-QX-QF\n",
      "[Parallel(n_jobs=10)]: Done  21 tasks      | elapsed:   11.3s\n",
      "[Parallel(n_jobs=10)]: Done  41 tasks      | elapsed:  1.7min\n",
      "[Parallel(n_jobs=10)]: Done  78 tasks      | elapsed:  1.2min\n",
      "[Parallel(n_jobs=10)]: Done  30 tasks      | elapsed:   18.2s\n",
      "[Parallel(n_jobs=10)]: Done  41 tasks      | elapsed:   24.8s\n",
      "[Parallel(n_jobs=10)]: Done  52 tasks      | elapsed:   30.1s\n",
      "[Parallel(n_jobs=10)]: Done  93 tasks      | elapsed:  1.5min\n",
      "[Parallel(n_jobs=10)]: Done  65 tasks      | elapsed:   35.9s\n",
      "[Parallel(n_jobs=10)]: Done  78 tasks      | elapsed:   41.9s\n",
      "[Parallel(n_jobs=10)]: Done  93 tasks      | elapsed:   49.6s\n",
      "[Parallel(n_jobs=10)]: Done 108 tasks      | elapsed:  1.8min\n",
      "[Parallel(n_jobs=10)]: Done 108 tasks      | elapsed:   57.2s\n",
      "[Parallel(n_jobs=10)]: Done 125 tasks      | elapsed:  1.1min\n",
      "[Parallel(n_jobs=10)]: Done 125 tasks      | elapsed:  2.1min\n",
      "[Parallel(n_jobs=10)]: Done  52 tasks      | elapsed:  2.7min\n",
      "[Parallel(n_jobs=10)]: Done 142 tasks      | elapsed:  1.3min\n",
      "/home/cke/miniconda3/envs/BLADE/lib/python3.10/site-packages/Deconvolution/BLADE.py:809: RuntimeWarning: divide by zero encountered in log\n",
      "  return -self.Nsample*np.sum(np.log(Omega))\n",
      "/home/cke/miniconda3/envs/BLADE/lib/python3.10/site-packages/Deconvolution/BLADE.py:863: RuntimeWarning: invalid value encountered in double_scalars\n",
      "  return PX+PY+PF-QX-QF\n",
      "/home/cke/miniconda3/envs/BLADE/lib/python3.10/site-packages/Deconvolution/BLADE.py:809: RuntimeWarning: divide by zero encountered in log\n",
      "  return -self.Nsample*np.sum(np.log(Omega))\n",
      "/home/cke/miniconda3/envs/BLADE/lib/python3.10/site-packages/Deconvolution/BLADE.py:863: RuntimeWarning: invalid value encountered in double_scalars\n",
      "  return PX+PY+PF-QX-QF\n",
      "/home/cke/miniconda3/envs/BLADE/lib/python3.10/site-packages/Deconvolution/BLADE.py:809: RuntimeWarning: divide by zero encountered in log\n",
      "  return -self.Nsample*np.sum(np.log(Omega))\n",
      "/home/cke/miniconda3/envs/BLADE/lib/python3.10/site-packages/Deconvolution/BLADE.py:863: RuntimeWarning: invalid value encountered in double_scalars\n",
      "  return PX+PY+PF-QX-QF\n",
      "/home/cke/miniconda3/envs/BLADE/lib/python3.10/site-packages/Deconvolution/BLADE.py:809: RuntimeWarning: divide by zero encountered in log\n",
      "  return -self.Nsample*np.sum(np.log(Omega))\n",
      "/home/cke/miniconda3/envs/BLADE/lib/python3.10/site-packages/Deconvolution/BLADE.py:863: RuntimeWarning: invalid value encountered in double_scalars\n",
      "  return PX+PY+PF-QX-QF\n",
      "/home/cke/miniconda3/envs/BLADE/lib/python3.10/site-packages/Deconvolution/BLADE.py:809: RuntimeWarning: divide by zero encountered in log\n",
      "  return -self.Nsample*np.sum(np.log(Omega))\n",
      "/home/cke/miniconda3/envs/BLADE/lib/python3.10/site-packages/Deconvolution/BLADE.py:863: RuntimeWarning: invalid value encountered in double_scalars\n",
      "  return PX+PY+PF-QX-QF\n",
      "/home/cke/miniconda3/envs/BLADE/lib/python3.10/site-packages/Deconvolution/BLADE.py:809: RuntimeWarning: divide by zero encountered in log\n",
      "  return -self.Nsample*np.sum(np.log(Omega))\n",
      "/home/cke/miniconda3/envs/BLADE/lib/python3.10/site-packages/Deconvolution/BLADE.py:863: RuntimeWarning: invalid value encountered in double_scalars\n",
      "  return PX+PY+PF-QX-QF\n",
      "[Parallel(n_jobs=10)]: Done 160 out of 162 | elapsed:  1.4min remaining:    1.0s\n",
      "/home/cke/miniconda3/envs/BLADE/lib/python3.10/site-packages/Deconvolution/BLADE.py:809: RuntimeWarning: divide by zero encountered in log\n",
      "  return -self.Nsample*np.sum(np.log(Omega))\n",
      "/home/cke/miniconda3/envs/BLADE/lib/python3.10/site-packages/Deconvolution/BLADE.py:863: RuntimeWarning: invalid value encountered in double_scalars\n",
      "  return PX+PY+PF-QX-QF\n",
      "[Parallel(n_jobs=10)]: Done  65 tasks      | elapsed:  2.9min\n",
      "[Parallel(n_jobs=10)]: Done 142 tasks      | elapsed:  2.4min\n",
      "[Parallel(n_jobs=10)]: Done 162 out of 162 | elapsed:  1.4min finished\n",
      "[Parallel(n_jobs=10)]: Using backend LokyBackend with 10 concurrent workers.\n",
      "[Parallel(n_jobs=10)]: Done   1 tasks      | elapsed:    0.8s\n",
      "[Parallel(n_jobs=10)]: Done   1 out of   1 | elapsed:    0.8s finished\n",
      "[Parallel(n_jobs=10)]: Using backend LokyBackend with 10 concurrent workers.\n",
      "/home/cke/miniconda3/envs/BLADE/lib/python3.10/site-packages/Deconvolution/BLADE.py:809: RuntimeWarning: divide by zero encountered in log\n",
      "  return -self.Nsample*np.sum(np.log(Omega))\n",
      "/home/cke/miniconda3/envs/BLADE/lib/python3.10/site-packages/Deconvolution/BLADE.py:863: RuntimeWarning: invalid value encountered in double_scalars\n",
      "  return PX+PY+PF-QX-QF\n",
      "[Parallel(n_jobs=10)]: Done  78 tasks      | elapsed:  3.0min\n",
      "/home/cke/miniconda3/envs/BLADE/lib/python3.10/site-packages/Deconvolution/BLADE.py:809: RuntimeWarning: divide by zero encountered in log\n",
      "  return -self.Nsample*np.sum(np.log(Omega))\n",
      "/home/cke/miniconda3/envs/BLADE/lib/python3.10/site-packages/Deconvolution/BLADE.py:863: RuntimeWarning: invalid value encountered in double_scalars\n",
      "  return PX+PY+PF-QX-QF\n"
     ]
    },
    {
     "name": "stderr",
     "output_type": "stream",
     "text": [
      "[Parallel(n_jobs=10)]: Done   5 tasks      | elapsed:    3.5s\n",
      "[Parallel(n_jobs=10)]: Done  12 tasks      | elapsed:    5.0s\n",
      "[Parallel(n_jobs=10)]: Done  93 tasks      | elapsed:  3.1min\n",
      "[Parallel(n_jobs=10)]: Done  21 tasks      | elapsed:    7.1s\n",
      "[Parallel(n_jobs=10)]: Done  30 tasks      | elapsed:    9.1s\n",
      "[Parallel(n_jobs=10)]: Done 108 tasks      | elapsed:  3.2min\n",
      "[Parallel(n_jobs=10)]: Done 160 out of 162 | elapsed:  2.6min remaining:    2.0s\n",
      "[Parallel(n_jobs=10)]: Done  41 tasks      | elapsed:   11.7s\n",
      "[Parallel(n_jobs=10)]: Done 162 out of 162 | elapsed:  2.6min finished\n",
      "[Parallel(n_jobs=10)]: Using backend LokyBackend with 10 concurrent workers.\n",
      "[Parallel(n_jobs=10)]: Done  52 tasks      | elapsed:   13.5s\n",
      "[Parallel(n_jobs=10)]: Done  65 tasks      | elapsed:   15.0s\n",
      "[Parallel(n_jobs=10)]: Done 125 tasks      | elapsed:  3.2min\n",
      "[Parallel(n_jobs=10)]: Done  78 tasks      | elapsed:   17.5s\n",
      "[Parallel(n_jobs=10)]: Done   1 tasks      | elapsed:    5.4s\n",
      "[Parallel(n_jobs=10)]: Done   1 out of   1 | elapsed:    5.4s finished\n",
      "[Parallel(n_jobs=10)]: Using backend LokyBackend with 10 concurrent workers.\n",
      "/home/cke/miniconda3/envs/BLADE/lib/python3.10/site-packages/Deconvolution/BLADE.py:809: RuntimeWarning: divide by zero encountered in log\n",
      "  return -self.Nsample*np.sum(np.log(Omega))\n",
      "/home/cke/miniconda3/envs/BLADE/lib/python3.10/site-packages/Deconvolution/BLADE.py:863: RuntimeWarning: invalid value encountered in double_scalars\n",
      "  return PX+PY+PF-QX-QF\n",
      "[Parallel(n_jobs=10)]: Done 142 tasks      | elapsed:  3.3min\n",
      "[Parallel(n_jobs=10)]: Done  93 tasks      | elapsed:   20.2s\n",
      "[Parallel(n_jobs=10)]: Done   5 tasks      | elapsed:    2.3s\n",
      "[Parallel(n_jobs=10)]: Done 108 tasks      | elapsed:   22.6s\n",
      "[Parallel(n_jobs=10)]: Done  12 tasks      | elapsed:    4.3s\n",
      "[Parallel(n_jobs=10)]: Done  21 tasks      | elapsed:    7.0s\n",
      "[Parallel(n_jobs=10)]: Done 125 tasks      | elapsed:   27.0s\n",
      "[Parallel(n_jobs=10)]: Done  30 tasks      | elapsed:    9.2s\n",
      "[Parallel(n_jobs=10)]: Done 142 tasks      | elapsed:   29.2s\n",
      "[Parallel(n_jobs=10)]: Done  41 tasks      | elapsed:   12.5s\n",
      "[Parallel(n_jobs=10)]: Done 160 out of 162 | elapsed:   32.4s remaining:    0.4s\n",
      "[Parallel(n_jobs=10)]: Done  52 tasks      | elapsed:   14.5s\n",
      "[Parallel(n_jobs=10)]: Done  65 tasks      | elapsed:   16.7s\n",
      "[Parallel(n_jobs=10)]: Done  78 tasks      | elapsed:   18.9s\n",
      "[Parallel(n_jobs=10)]: Done  93 tasks      | elapsed:   21.9s\n",
      "[Parallel(n_jobs=10)]: Done 108 tasks      | elapsed:   24.1s\n",
      "[Parallel(n_jobs=10)]: Done 125 tasks      | elapsed:   27.2s\n",
      "[Parallel(n_jobs=10)]: Done 142 tasks      | elapsed:   29.8s\n",
      "[Parallel(n_jobs=10)]: Done 160 out of 162 | elapsed:   33.1s remaining:    0.4s\n",
      "[Parallel(n_jobs=10)]: Done 162 out of 162 | elapsed:   33.6s finished\n"
     ]
    },
    {
     "name": "stdout",
     "output_type": "stream",
     "text": [
      "No feature filtering is done (fsel = 0)\n",
      "Done optimization, elapsed time (min): 1.8237806280454\n",
      "export to:  /home/cke/PseudoBulk/Results/BLADE/fullpipeline_pseudobulk_Jul28_LOT_pseudobulk__LOT28_BLADEout_top20markers.pickle\n",
      "now with feature selection setup:  top100DEGs\n",
      "Get mean and std exp!\n",
      "Get common genes!  876\n",
      "cell types:  10\n",
      "bulk samples:  1\n",
      "start BLADE!\n",
      "all of 876 genes are used for optimization.\n",
      "All samples are used during the optimization.\n",
      "Initialization with Support vector regression\n",
      "No feature filtering is done (fsel = 0)\n",
      "Done optimization, elapsed time (min): 2.6677656292915346\n",
      "export to:  /home/cke/PseudoBulk/Results/BLADE/fullpipeline_pseudobulk_Jul28_LOT_pseudobulk__LOT28_BLADEout_top100DEGs.pickle\n",
      "now with feature selection setup:  top50markers\n",
      "Get mean and std exp!\n",
      "Get common genes!  467\n",
      "cell types:  10\n",
      "bulk samples:  1\n",
      "start BLADE!\n",
      "all of 467 genes are used for optimization.\n",
      "All samples are used during the optimization.\n",
      "Initialization with Support vector regression\n",
      "No feature filtering is done (fsel = 0)\n",
      "Done optimization, elapsed time (min): 0.5663028637568156\n",
      "export to:  /home/cke/PseudoBulk/Results/BLADE/fullpipeline_pseudobulk_Jul28_LOT_pseudobulk__LOT28_BLADEout_top50markers.pickle\n"
     ]
    },
    {
     "name": "stderr",
     "output_type": "stream",
     "text": [
      "[Parallel(n_jobs=10)]: Done 160 out of 162 | elapsed:  3.9min remaining:    3.0s\n",
      "[Parallel(n_jobs=10)]: Done 162 out of 162 | elapsed:  6.6min finished\n"
     ]
    },
    {
     "name": "stdout",
     "output_type": "stream",
     "text": [
      "No feature filtering is done (fsel = 0)\n",
      "Done optimization, elapsed time (min): 6.556673912207286\n",
      "export to:  /home/cke/PseudoBulk/Results/BLADE/fullpipeline_pseudobulk_Jul28_LOT_pseudobulk__LOT16_BLADEout_top50markers.pickle\n"
     ]
    },
    {
     "name": "stderr",
     "output_type": "stream",
     "text": [
      "[Parallel(n_jobs=10)]: Done 162 out of 162 | elapsed:  3.6min finished\n"
     ]
    },
    {
     "name": "stdout",
     "output_type": "stream",
     "text": [
      "No feature filtering is done (fsel = 0)\n",
      "Done optimization, elapsed time (min): 2.3176085591316222\n",
      "export to:  /home/cke/PseudoBulk/Results/BLADE/fullpipeline_pseudobulk_Jul28_LOT_pseudobulk__LOT20_BLADEout_top20markers.pickle\n",
      "now with feature selection setup:  top100DEGs\n",
      "Get mean and std exp!\n",
      "Get common genes!  876\n",
      "cell types:  10\n",
      "bulk samples:  1\n",
      "start BLADE!\n",
      "all of 876 genes are used for optimization.\n",
      "All samples are used during the optimization.\n",
      "Initialization with Support vector regression\n",
      "No feature filtering is done (fsel = 0)\n",
      "Done optimization, elapsed time (min): 1.4670257568359375\n",
      "export to:  /home/cke/PseudoBulk/Results/BLADE/fullpipeline_pseudobulk_Jul28_LOT_pseudobulk__LOT20_BLADEout_top100DEGs.pickle\n",
      "now with feature selection setup:  top50markers\n",
      "Get mean and std exp!\n",
      "Get common genes!  467\n",
      "cell types:  10\n",
      "bulk samples:  1\n",
      "start BLADE!\n",
      "all of 467 genes are used for optimization.\n",
      "All samples are used during the optimization.\n",
      "Initialization with Support vector regression\n",
      "No feature filtering is done (fsel = 0)\n",
      "Done optimization, elapsed time (min): 3.6538091778755186\n",
      "export to:  /home/cke/PseudoBulk/Results/BLADE/fullpipeline_pseudobulk_Jul28_LOT_pseudobulk__LOT20_BLADEout_top50markers.pickle\n"
     ]
    }
   ],
   "source": [
    "# python \"/home/cke/runscripts/Pipeline_Deconv_Run.py\" \"/home/cke/Puram/Puram_scanpy.h5ad\" \"pseudobulk\" \"/home/cke/PseudoBulk/InputToWrapper/\" \"/home/cke/PseudoBulk/Results/\" \"/home/cke/Puram/scRNAlabels/\"  --name \"fullpipeline_Jul29_noFS\""
   ]
  },
  {
   "cell_type": "code",
   "execution_count": null,
   "id": "74eae39e",
   "metadata": {},
   "outputs": [],
   "source": [
    "# python \"/home/cke/runscripts/Pipeline_Deconv_Run.py\" \"/home/cke/Puram/Puram_scanpy.h5ad\" \"Real\" \"/home/cke/Real/InputToWrapper/\" \"/home/cke/Real/TCGAResults/\" \"/home/cke/Puram/scRNAlabels/\"  --name \"fullpipeline_Aug1_noFS\""
   ]
  }
 ],
 "metadata": {
  "kernelspec": {
   "display_name": "Python 3 (ipykernel)",
   "language": "python",
   "name": "python3"
  },
  "language_info": {
   "codemirror_mode": {
    "name": "ipython",
    "version": 3
   },
   "file_extension": ".py",
   "mimetype": "text/x-python",
   "name": "python",
   "nbconvert_exporter": "python",
   "pygments_lexer": "ipython3",
   "version": "3.10.4"
  }
 },
 "nbformat": 4,
 "nbformat_minor": 5
}
